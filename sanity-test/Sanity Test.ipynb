{
  "nbformat": 4,
  "nbformat_minor": 0,
  "metadata": {
    "colab": {
      "name": "Sanity Test.ipynb",
      "provenance": []
    },
    "kernelspec": {
      "name": "python3",
      "display_name": "Python 3"
    }
  },
  "cells": [
    {
      "cell_type": "markdown",
      "metadata": {
        "id": "EynlCq2w336-"
      },
      "source": [
        "---\n",
        "#Setup data files, py4cytoscape and Cytoscape connection\n",
        "---\n",
        "**NOTE: To run this notebook, you must manually start Cytoscape first -- don't proceed until you have started Cytoscape.**"
      ]
    },
    {
      "cell_type": "markdown",
      "metadata": {
        "id": "VvaiYm7HwcsN"
      },
      "source": [
        "---\n",
        "##Setup: Import source data files"
      ]
    },
    {
      "cell_type": "code",
      "metadata": {
        "id": "JmmSjrblGhpz"
      },
      "source": [
        "!rm galFiltered.sif Affinity\\ Purification.cys All\\ Predicates.filter\n",
        "!wget -q https://raw.githubusercontent.com/bdemchak/cytoscape-jupyter/main/sanity-test/data/galFiltered.sif\n",
        "!wget -q https://raw.githubusercontent.com/bdemchak/cytoscape-jupyter/main/sanity-test/data/Affinity%20Purification.cys\n",
        "!wget -q https://raw.githubusercontent.com/bdemchak/cytoscape-jupyter/main/sanity-test/data/All%20Predicates.filter\n",
        "!mkdir output\n",
        "!rm output/*\n",
        "!ls -l\n",
        "OUTPUT_DIR='output/'"
      ],
      "execution_count": null,
      "outputs": []
    },
    {
      "cell_type": "markdown",
      "metadata": {
        "id": "wJ9RYWAF4wF6"
      },
      "source": [
        "---\n",
        "##Setup: Fetch latest py4cytoscape\n",
        "\n",
        "\n"
      ]
    },
    {
      "cell_type": "markdown",
      "source": [
        "Note that you can fetch from the latest Github unreleased version by setting _PY4CYTOSCAPE to 'git+https://github.com/cytoscape/py4cytoscape' immediately before the exec() call. To fetch a particular branch, add '@' to the end (e.g., 'git+https://github.com/cytoscape/py4cytoscape@0.0.12').\n",
        "\n",
        "To load the default (PyPI) py4cytoscape version, do not set _PY4CYTOSCAPE at all."
      ],
      "metadata": {
        "id": "MjKFzB2rtY_B"
      }
    },
    {
      "cell_type": "code",
      "metadata": {
        "id": "QPBzaizACq3g"
      },
      "source": [
        "#_PY4CYTOSCAPE = 'git+https://github.com/cytoscape/py4cytoscape@1.6.0' # optional\n",
        "import requests\n",
        "\n",
        "exec(requests.get(\"https://raw.githubusercontent.com/cytoscape/jupyter-bridge/master/client/p4c_init.py\").text)\n",
        "\n",
        "IPython.display.Javascript(_PY4CYTOSCAPE_BROWSER_CLIENT_JS) # Start browser client"
      ],
      "execution_count": null,
      "outputs": []
    },
    {
      "cell_type": "markdown",
      "metadata": {
        "id": "sTJwg_HN3WPH"
      },
      "source": [
        "---\n",
        "#Sanity tests to verify Cytoscape connection\n"
      ]
    },
    {
      "cell_type": "markdown",
      "metadata": {
        "id": "m5Uv0pTHWmvE"
      },
      "source": [
        "---\n",
        "##Sanity test: Cytoscape version\n"
      ]
    },
    {
      "cell_type": "code",
      "metadata": {
        "id": "sP5J_ey7C_t6"
      },
      "source": [
        "p4c.cytoscape_version_info()\n"
      ],
      "execution_count": null,
      "outputs": []
    },
    {
      "cell_type": "markdown",
      "metadata": {
        "id": "MgvPeSXc3iUa"
      },
      "source": [
        "---\n",
        "## Sanity test: Cytoscape's sandbox path"
      ]
    },
    {
      "cell_type": "markdown",
      "metadata": {
        "id": "RlKSyX07FVL-"
      },
      "source": [
        "**Sandboxing is explained in https://py4cytoscape.readthedocs.io/en/latest/concepts.html#sandboxing**"
      ]
    },
    {
      "cell_type": "code",
      "metadata": {
        "id": "9MecXzJuDIwa"
      },
      "source": [
        "p4c.sandbox_get_file_info('.')"
      ],
      "execution_count": null,
      "outputs": []
    },
    {
      "cell_type": "markdown",
      "metadata": {
        "id": "lzAhjmxU1-xd"
      },
      "source": [
        "---\n",
        "#Demonstration of file transfer and general py4cytoscape"
      ]
    },
    {
      "cell_type": "markdown",
      "metadata": {
        "id": "rGXFP0AF2Qne"
      },
      "source": [
        "---\n",
        "##Demo: Load standard Cytoscape sample session\n"
      ]
    },
    {
      "cell_type": "markdown",
      "metadata": {
        "id": "VkURxElvvhMJ"
      },
      "source": [
        "assert() checks verify that function result was plausible"
      ]
    },
    {
      "cell_type": "code",
      "metadata": {
        "id": "K8oTSgCEjPqK"
      },
      "source": [
        "assert(p4c.open_session() == {})\n",
        "assert(p4c.get_network_count() == 1)\n",
        "assert(p4c.get_network_name() == 'galFiltered.sif')\n",
        "print('Successfully opened sample session')"
      ],
      "execution_count": null,
      "outputs": []
    },
    {
      "cell_type": "markdown",
      "metadata": {
        "id": "0d2Bik452Wb4"
      },
      "source": [
        "---\n",
        "##Demo: Download and load my session"
      ]
    },
    {
      "cell_type": "markdown",
      "metadata": {
        "id": "wEPbN8mvvsC7"
      },
      "source": [
        "**This is a big session, so loading it may take a minute to download it to the sandbox and then load it into Cytoscape.**\n",
        "\n",
        "assert() checks verify that function result was plausible"
      ]
    },
    {
      "cell_type": "code",
      "metadata": {
        "id": "AJfe3jMejPaU"
      },
      "source": [
        "p4c.sandbox_send_to('Affinity Purification.cys')\n",
        "print('Successfully downloaded session ... beginning session load ...')\n",
        "assert(p4c.open_session('Affinity Purification.cys') == {})\n",
        "assert(p4c.get_network_count() == 1)\n",
        "assert(p4c.get_network_name() == 'HIV-human PPI')\n",
        "print('Successfully opened Affinity Purification.cys')"
      ],
      "execution_count": null,
      "outputs": []
    },
    {
      "cell_type": "markdown",
      "metadata": {
        "id": "vhY7ViFn2eey"
      },
      "source": [
        "---\n",
        "##Demo: Load standard Cytoscape sample network"
      ]
    },
    {
      "cell_type": "markdown",
      "metadata": {
        "id": "t5h8R0OUyPRu"
      },
      "source": [
        "assert() checks verify that function result was plausible"
      ]
    },
    {
      "cell_type": "code",
      "metadata": {
        "id": "EunbbevVybTG"
      },
      "source": [
        "res = p4c.import_network_from_file()\n",
        "assert(type(res['networks']) is list)\n",
        "assert(len(res['networks']) == 1)\n",
        "assert(type(res['views']) is list)\n",
        "assert(len(res['views']) == 1)\n",
        "print('Successfully loaded sample network')"
      ],
      "execution_count": null,
      "outputs": []
    },
    {
      "cell_type": "markdown",
      "metadata": {
        "id": "5DbcKvRF2inY"
      },
      "source": [
        "---\n",
        "##Demo: Download and load my network"
      ]
    },
    {
      "cell_type": "markdown",
      "metadata": {
        "id": "fU33BgLxx3DC"
      },
      "source": [
        "assert() checks verify that function result was plausible"
      ]
    },
    {
      "cell_type": "code",
      "metadata": {
        "id": "Y6OVe1JMjOtg"
      },
      "source": [
        "p4c.sandbox_send_to('galFiltered.sif')\n",
        "res = p4c.import_network_from_file('galFiltered.sif')\n",
        "assert(type(res['networks']) is list)\n",
        "assert(len(res['networks']) == 1)\n",
        "assert(type(res['views']) is list)\n",
        "assert(len(res['views']) == 1)\n",
        "print('Successfully loaded network galFiltered.sif')"
      ],
      "execution_count": null,
      "outputs": []
    },
    {
      "cell_type": "markdown",
      "metadata": {
        "id": "82Wr5Qds2oJc"
      },
      "source": [
        "---\n",
        "##Demo: Save session and upload to Notebook's file system"
      ]
    },
    {
      "cell_type": "markdown",
      "metadata": {
        "id": "FZjMB5Tpyy_L"
      },
      "source": [
        "**This is a 44MB file, so it may take a while for Cytoscape to save it, and then another while to upload it.**\n",
        "\n",
        "assert() checks verify that function result was plausible"
      ]
    },
    {
      "cell_type": "code",
      "metadata": {
        "id": "cUQb7tMszL4q"
      },
      "source": [
        "p4c.sandbox_remove_file('Three network session.cys')\n",
        "res = p4c.save_session('Three network session')\n",
        "assert(type(res) is dict)\n",
        "assert(res == {})\n",
        "print(\"Successfully saved network ... transferring network to Notebook server now ...\")\n",
        "p4c.sandbox_get_from('Three network session.cys', OUTPUT_DIR + 'Three network session.cys')"
      ],
      "execution_count": null,
      "outputs": []
    },
    {
      "cell_type": "markdown",
      "metadata": {
        "id": "CFFe6QYQ2vDi"
      },
      "source": [
        "---\n",
        "##Demo: Save network and upload to Notebook's file system"
      ]
    },
    {
      "cell_type": "markdown",
      "metadata": {
        "id": "9fsxnSpb2w_z"
      },
      "source": [
        "assert() checks verify that function result was plausible"
      ]
    },
    {
      "cell_type": "code",
      "metadata": {
        "id": "Gw2r73u52yPv"
      },
      "source": [
        "p4c.sandbox_remove_file('HIV-human PPI.sif')\n",
        "res = p4c.export_network(filename='HIV-human PPI.sif', network='HIV-human PPI', type='sif')\n",
        "assert(type(res) is dict)\n",
        "assert('file' in res)\n",
        "print('Successfully saved HIV-human PPI')\n",
        "p4c.sandbox_get_from('HIV-human PPI.sif', OUTPUT_DIR + 'HIV-human PPI.sif')"
      ],
      "execution_count": null,
      "outputs": []
    },
    {
      "cell_type": "markdown",
      "metadata": {
        "id": "0AisTJN320E2"
      },
      "source": [
        "---\n",
        "##Demo: Save visual styles and upload to Notebook's file system"
      ]
    },
    {
      "cell_type": "markdown",
      "metadata": {
        "id": "u5sy5jwG5Yck"
      },
      "source": [
        "assert() checks verify that function result was plausbile"
      ]
    },
    {
      "cell_type": "code",
      "metadata": {
        "id": "bjgRPr3a5ZFj"
      },
      "source": [
        "p4c.sandbox_remove_file('styles.xml')\n",
        "res = p4c.export_visual_styles()\n",
        "assert(type(res) is dict)\n",
        "assert('file' in res)\n",
        "print('Successfully saved default visual styles file')\n",
        "p4c.sandbox_get_from('styles.xml', OUTPUT_DIR + 'styles.xml')"
      ],
      "execution_count": null,
      "outputs": []
    },
    {
      "cell_type": "markdown",
      "metadata": {
        "id": "vFmgwapu230_"
      },
      "source": [
        "---\n",
        "##Demo: Save visual styles and upload to Notebook's file system (alternate)"
      ]
    },
    {
      "cell_type": "markdown",
      "metadata": {
        "id": "xiYtLd6g6g1f"
      },
      "source": [
        "assert() checks verify that function result was plausible"
      ]
    },
    {
      "cell_type": "code",
      "metadata": {
        "id": "49jva__x6hH5"
      },
      "source": [
        "p4c.sandbox_remove_file('mystyles.json')\n",
        "res = p4c.export_visual_styles(filename='mystyles', type='json')\n",
        "assert(type(res) is dict)\n",
        "assert('file' in res)\n",
        "print('Successfully saved mystyles.json styles file')\n",
        "p4c.sandbox_get_from('mystyles.json', OUTPUT_DIR + 'mystyles.json')"
      ],
      "execution_count": null,
      "outputs": []
    },
    {
      "cell_type": "markdown",
      "metadata": {
        "id": "lMZ-avF527-m"
      },
      "source": [
        "---\n",
        "##Demo: Download and load visual styles file"
      ]
    },
    {
      "cell_type": "markdown",
      "metadata": {
        "id": "qL0nwuh48q7T"
      },
      "source": [
        "assert() checks verify that function result was plausible"
      ]
    },
    {
      "cell_type": "code",
      "metadata": {
        "id": "9laPib-V7_4N"
      },
      "source": [
        "p4c.sandbox_send_to(OUTPUT_DIR + 'styles.xml')\n",
        "res = p4c.import_visual_styles()\n",
        "assert(type(res) is list)\n",
        "assert(len(res) == 1)\n",
        "print('Successfully loaded from default styles file: ' + str(res))"
      ],
      "execution_count": null,
      "outputs": []
    },
    {
      "cell_type": "markdown",
      "metadata": {
        "id": "ObsFAUex3Ayq"
      },
      "source": [
        "---\n",
        "##Demo: Download and load visual styles file (alternate)"
      ]
    },
    {
      "cell_type": "markdown",
      "metadata": {
        "id": "XFKIbTWZ85dS"
      },
      "source": [
        "assert() checks verify that function result was plausible"
      ]
    },
    {
      "cell_type": "code",
      "metadata": {
        "id": "9rE8jTrp9FSc"
      },
      "source": [
        "p4c.sandbox_remove_file('custom.xml')\n",
        "p4c.sandbox_send_to(OUTPUT_DIR + 'styles.xml', 'custom.xml')\n",
        "res = p4c.import_visual_styles(filename='custom.xml')\n",
        "assert(type(res) is list)\n",
        "assert(len(res) == 1)\n",
        "print('Successfully loaded from custom styles file: ' + str(res))"
      ],
      "execution_count": null,
      "outputs": []
    },
    {
      "cell_type": "markdown",
      "metadata": {
        "id": "pggo9NzL3E8k"
      },
      "source": [
        "---\n",
        "##Demo: Export network image and upload to Notebook's file system"
      ]
    },
    {
      "cell_type": "markdown",
      "metadata": {
        "id": "vPTXrstZ9EAM"
      },
      "source": [
        "assert() checks verify that function result was plausible\n",
        "\n"
      ]
    },
    {
      "cell_type": "code",
      "metadata": {
        "id": "LSQCrKBC-dwI"
      },
      "source": [
        "from IPython.display import Image\n",
        "\n",
        "p4c.sandbox_remove_file('HIV-human PPI.png')\n",
        "res = p4c.export_image('HIV-human PPI', network='HIV-human PPI')\n",
        "assert(type(res) is dict)\n",
        "assert('file' in res)\n",
        "print('Successfully exported HIV-human PPI network')\n",
        "p4c.sandbox_get_from('HIV-human PPI.png', OUTPUT_DIR + 'HIV-human PPI.png')\n",
        "Image(filename=OUTPUT_DIR + 'HIV-human PPI.png')\n"
      ],
      "execution_count": null,
      "outputs": []
    },
    {
      "cell_type": "markdown",
      "metadata": {
        "id": "p2hzsJVD3K-8"
      },
      "source": [
        "---\n",
        "##Demo: Export filters and upload to Notebook's file system"
      ]
    },
    {
      "cell_type": "markdown",
      "metadata": {
        "id": "KcaX32vj-WoG"
      },
      "source": [
        "assert() checks verify that function result was plausible"
      ]
    },
    {
      "cell_type": "code",
      "metadata": {
        "id": "_CcaIB1aAvaT"
      },
      "source": [
        "p4c.sandbox_remove_file('filters.json')\n",
        "res = p4c.export_filters()\n",
        "assert(type(res) is list)\n",
        "assert(len(res) == 0)\n",
        "print('Successfully exported filters to filters.json')\n",
        "p4c.sandbox_get_from('filters.json', OUTPUT_DIR + 'filters.json')\n"
      ],
      "execution_count": null,
      "outputs": []
    },
    {
      "cell_type": "markdown",
      "metadata": {
        "id": "t7k-PZJs3Oil"
      },
      "source": [
        "---\n",
        "##Demo: Download and load custom filters"
      ]
    },
    {
      "cell_type": "markdown",
      "metadata": {
        "id": "mCxPjdOjB4DE"
      },
      "source": [
        "Note that these custom filters don't match the network they're loaded into. They won't do much.\n",
        "\n",
        "assert() checks verify that function result was plausible"
      ]
    },
    {
      "cell_type": "code",
      "metadata": {
        "id": "LKnXZw1LCC1g"
      },
      "source": [
        "p4c.sandbox_send_to('All Predicates.filter')\n",
        "res = p4c.import_filters(filename='All Predicates.filter')\n",
        "assert(type(res) is list)\n",
        "assert(len(res) == 0)\n",
        "print('Successfully loaded from custom filters file')"
      ],
      "execution_count": null,
      "outputs": []
    },
    {
      "cell_type": "markdown",
      "metadata": {
        "id": "DbpQeKsaPfNM"
      },
      "source": [
        "---\n",
        "##Demo: Install and/or activate MCODE app"
      ]
    },
    {
      "cell_type": "markdown",
      "metadata": {
        "id": "kbeSg9CuPwQ8"
      },
      "source": [
        "The MCODE app could be installed, disabled or not installed at all. If it's not installed or it's disabled, install and enable it. If it's already installed, make sure it's the latest version."
      ]
    },
    {
      "cell_type": "code",
      "metadata": {
        "id": "qFJrQaihPd7h"
      },
      "source": [
        "# Cytoscape is having trouble with app functions, so this section is skipped\n",
        "# PLEASE MANUALLY VERIFY THAT MCODE 2.0 OR GREATER IS INSTALLED\n",
        "\n",
        "# if p4c.get_app_status('MCODE')['status'] == 'Installed':\n",
        "#   p4c.update_app('MCODE') # Update it if it's not at current version\n",
        "# else:\n",
        "#   p4c.install_app('MCODE') # Install it if it wasn't installed\n",
        "#   p4c.enable_app('MCODE') # Re-enable it if it wasn't enabled\n",
        "# print(f\"Success trying to install/update/activate MCODE ... result: {p4c.get_app_status('MCODE')['status']}\")"
      ],
      "execution_count": null,
      "outputs": []
    },
    {
      "cell_type": "markdown",
      "metadata": {
        "id": "rN1tjHjS5iRN"
      },
      "source": [
        "#Application shows creating networks, calculating clusters, and showing subnetworks"
      ]
    },
    {
      "cell_type": "markdown",
      "metadata": {
        "id": "njXnrKqZ128k"
      },
      "source": [
        "---\n",
        "##App Part 1: Load sample session and calculate edges"
      ]
    },
    {
      "cell_type": "markdown",
      "metadata": {
        "id": "j_z9-pM26Akv"
      },
      "source": [
        "**Note that this uses the Cytoscape session already loaded into the Cytoscape sandbox by default.**\n",
        "\n",
        "The output will be a dataframe that shows the network's edges.\n",
        "\n",
        "*Question:* Where did 'sampleData/sessions/Affinity Purification.cys' come from ... there was no explicit sandbox_send_to() call?\n",
        "\n",
        "*Answer:* When a sandbox is created, it is seeded with a copy of the sampleData folder already in the Cytoscape install directory. There are many samples in this folder."
      ]
    },
    {
      "cell_type": "code",
      "metadata": {
        "id": "mnWNVSTvz-a-"
      },
      "source": [
        " import uuid\n",
        " import re\n",
        " import pandas as df\n",
        " import time\n",
        "\n",
        "\n",
        " p4c.open_session('sampleData/sessions/Affinity Purification.cys')\n",
        " edges = p4c.get_all_edges()\n",
        " sources = [re.match('(\\S*) \\(.*\\) (\\S*)', edge).group(1)   for edge in edges]\n",
        " targets = [re.match('(\\S*) \\(.*\\) (\\S*)', edge).group(2)   for edge in edges]\n",
        " edge_data = {'source': sources, 'target': targets}\n",
        "\n",
        " edges_frame = df.DataFrame(data=edge_data, columns=['source', 'target'])\n",
        " edges_frame"
      ],
      "execution_count": null,
      "outputs": []
    },
    {
      "cell_type": "markdown",
      "metadata": {
        "id": "9k876_tV1to5"
      },
      "source": [
        "---\n",
        "##App Part 2: Create a fresh network out of just the edges"
      ]
    },
    {
      "cell_type": "markdown",
      "metadata": {
        "id": "jtDhFseT6KX9"
      },
      "source": [
        "The time reported should be less than 30s."
      ]
    },
    {
      "cell_type": "code",
      "metadata": {
        "id": "1EtRbUlt0BOA"
      },
      "source": [
        "network_name = uuid.uuid4().hex\n",
        "start_create = time.monotonic()\n",
        "network_suid = p4c.networks.create_network_from_data_frames(edges=edges_frame, title=network_name, collection=network_name + '_collection')\n",
        "print(f'create took {(time.monotonic() - start_create):10.2f} seconds')"
      ],
      "execution_count": null,
      "outputs": []
    },
    {
      "cell_type": "markdown",
      "metadata": {
        "id": "YVKHy2Z41mjA"
      },
      "source": [
        "---\n",
        "## App Part 3: Call MCODE to calculate clusters"
      ]
    },
    {
      "cell_type": "markdown",
      "metadata": {
        "id": "xH_fhejK7C-I"
      },
      "source": [
        "**Note that py4cytoscape doesn't have a function that calls MCODE. Instead, we use the commands_post technique documented here: https://py4cytoscape.readthedocs.io/en/latest/concepts.html#calling-cytoscape-apps**\n",
        "\n",
        "The output is a list of clusters that have more than 3 nodes.\n",
        "\n",
        "Note that you must have MCODE app installed in Cytoscape for this to work."
      ]
    },
    {
      "cell_type": "code",
      "metadata": {
        "id": "MftmGjyj3BEL"
      },
      "source": [
        "start_mcode = time.monotonic()\n",
        "mcode = p4c.commands.commands_post('mcode cluster degreeCutoff=2 fluff=false fluffNodeDensityCutoff=0.1 haircut=true includeLoops=false kCore=2 maxDepthFromStart=100 network=current nodeScoreCutoff=0.2 scope=NETWORK')\n",
        "print(f'mcode took {(time.monotonic() - start_mcode):10.2f} seconds')\n",
        "\n",
        "big_clusters = [i for i in range(len(mcode['clusters'])) if len(mcode['clusters'][i]['nodes']) > 3]\n",
        "big_clusters"
      ],
      "execution_count": null,
      "outputs": []
    },
    {
      "cell_type": "code",
      "metadata": {
        "id": "1ftkelDkyQhN"
      },
      "source": [],
      "execution_count": null,
      "outputs": []
    },
    {
      "cell_type": "markdown",
      "metadata": {
        "id": "gZjnLxUh1hJN"
      },
      "source": [
        "---\n",
        "## App Part 4: Image each cluster and upload to Notebook's file system"
      ]
    },
    {
      "cell_type": "markdown",
      "metadata": {
        "id": "90otDWxv9vTL"
      },
      "source": [
        "**At the end of this cell, all .png images are displayed.**\n",
        "\n",
        "Because the .png is created in the Cytoscape sandbox, it must be uploaded to this Notebook's file system before it can be viewed.\n",
        "\n",
        "There is a call to get_table_columns() that is never used, but it sure takes a while. It's here just to show that Cytoscape can be called for a long operation."
      ]
    },
    {
      "cell_type": "code",
      "metadata": {
        "id": "TLUZU9kx0HSp"
      },
      "source": [
        "from IPython.display import Image, display\n",
        "import os\n",
        "\n",
        "if not os.path.exists('data'):  os.mkdir('data') # Prepare for .png files\n",
        "\n",
        "clusters = []\n",
        "list_of_images = []\n",
        "for i in range(len(big_clusters)):\n",
        "    start_view = time.monotonic()\n",
        "    view_id = p4c.commands.commands_post('mcode view id=1 rank=' + str(i+1))\n",
        "    print(f'{i} view took {(time.monotonic() - start_view):10.2f} seconds')\n",
        "\n",
        "    start_append = time.monotonic()\n",
        "    # Just for fun, show how to get a dataframe that is manipulated in Python.\n",
        "    clusters.append( p4c.tables.get_table_columns()\n",
        "                      .drop(columns=['id','name','selected','MCODE::Clusters (1)','SUID'])\n",
        "                      .sort_values(by=['MCODE::Score (1)'], ascending=False)\n",
        "                      .reset_index(drop=True) )\n",
        "    print(f'{i} append took {(time.monotonic() - start_append):10.2f} seconds')\n",
        "\n",
        "    img_name = uuid.uuid4().hex\n",
        "    start_export = time.monotonic()\n",
        "    p4c.export_image(f'{img_name}')\n",
        "    p4c.sandbox_get_from(f'{img_name}.png', f'{OUTPUT_DIR}{img_name}.png')\n",
        "    p4c.sandbox_remove_file(f'{img_name}.png')\n",
        "    print(f'{i} export took {(time.monotonic() - start_export):10.2f} seconds')\n",
        "    list_of_images.append(f'{OUTPUT_DIR}{img_name}.png')\n",
        "\n",
        "# Show all of the clusters\n",
        "for image_name in list_of_images:\n",
        "    display(Image(filename=image_name))"
      ],
      "execution_count": null,
      "outputs": []
    }
  ]
}