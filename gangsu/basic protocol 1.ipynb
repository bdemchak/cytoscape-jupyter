{
  "nbformat": 4,
  "nbformat_minor": 0,
  "metadata": {
    "colab": {
      "name": "basic protocol 1.ipynb",
      "provenance": [],
      "include_colab_link": true
    },
    "kernelspec": {
      "name": "python3",
      "display_name": "Python 3"
    },
    "widgets": {
      "application/vnd.jupyter.widget-state+json": {
        "c091fe1bac9243108f794f0fd2d48bae": {
          "model_module": "@jupyter-widgets/output",
          "model_name": "OutputModel",
          "model_module_version": "1.0.0",
          "state": {
            "_dom_classes": [],
            "_model_module": "@jupyter-widgets/output",
            "_model_module_version": "1.0.0",
            "_model_name": "OutputModel",
            "_view_count": null,
            "_view_module": "@jupyter-widgets/output",
            "_view_module_version": "1.0.0",
            "_view_name": "OutputView",
            "layout": "IPY_MODEL_265130fbb22d4cf8baf46abaa01a1fe8",
            "msg_id": "",
            "outputs": [
              {
                "output_type": "display_data",
                "data": {
                  "text/plain": "     \u001b[38;2;249;38;114m━━━━━━━━━━━━━━━━━━━━━━━━━━━━━━━━━━━━━━━\u001b[0m\u001b[38;5;237m╺\u001b[0m \u001b[32m174.1/176.9 KB\u001b[0m \u001b[31m6.4 MB/s\u001b[0m eta \u001b[36m0:00:01\u001b[0m\n",
                  "text/html": "<pre style=\"white-space:pre;overflow-x:auto;line-height:normal;font-family:Menlo,'DejaVu Sans Mono',consolas,'Courier New',monospace\">     <span style=\"color: #f92672; text-decoration-color: #f92672\">━━━━━━━━━━━━━━━━━━━━━━━━━━━━━━━━━━━━━━━</span><span style=\"color: #3a3a3a; text-decoration-color: #3a3a3a\">╺</span> <span style=\"color: #008000; text-decoration-color: #008000\">174.1/176.9 KB</span> <span style=\"color: #800000; text-decoration-color: #800000\">6.4 MB/s</span> eta <span style=\"color: #008080; text-decoration-color: #008080\">0:00:01</span>\n</pre>\n"
                },
                "metadata": {}
              }
            ]
          }
        },
        "265130fbb22d4cf8baf46abaa01a1fe8": {
          "model_module": "@jupyter-widgets/base",
          "model_name": "LayoutModel",
          "model_module_version": "1.2.0",
          "state": {
            "_model_module": "@jupyter-widgets/base",
            "_model_module_version": "1.2.0",
            "_model_name": "LayoutModel",
            "_view_count": null,
            "_view_module": "@jupyter-widgets/base",
            "_view_module_version": "1.2.0",
            "_view_name": "LayoutView",
            "align_content": null,
            "align_items": null,
            "align_self": null,
            "border": null,
            "bottom": null,
            "display": null,
            "flex": null,
            "flex_flow": null,
            "grid_area": null,
            "grid_auto_columns": null,
            "grid_auto_flow": null,
            "grid_auto_rows": null,
            "grid_column": null,
            "grid_gap": null,
            "grid_row": null,
            "grid_template_areas": null,
            "grid_template_columns": null,
            "grid_template_rows": null,
            "height": null,
            "justify_content": null,
            "justify_items": null,
            "left": null,
            "margin": null,
            "max_height": null,
            "max_width": null,
            "min_height": null,
            "min_width": null,
            "object_fit": null,
            "object_position": null,
            "order": null,
            "overflow": null,
            "overflow_x": null,
            "overflow_y": null,
            "padding": null,
            "right": null,
            "top": null,
            "visibility": null,
            "width": null
          }
        },
        "68d3d81b97544a40949e7b3cc5b82100": {
          "model_module": "@jupyter-widgets/output",
          "model_name": "OutputModel",
          "model_module_version": "1.0.0",
          "state": {
            "_dom_classes": [],
            "_model_module": "@jupyter-widgets/output",
            "_model_module_version": "1.0.0",
            "_model_name": "OutputModel",
            "_view_count": null,
            "_view_module": "@jupyter-widgets/output",
            "_view_module_version": "1.0.0",
            "_view_name": "OutputView",
            "layout": "IPY_MODEL_c698ec1030c14b3a8083c2eb6992dd62",
            "msg_id": "",
            "outputs": [
              {
                "output_type": "display_data",
                "data": {
                  "text/plain": "     \u001b[38;2;249;38;114m━━━━━━━━━━━━━━━━━━━━━━━━━━━━━━━━━━━━━━━\u001b[0m\u001b[38;2;249;38;114m╸\u001b[0m \u001b[32m3.3/3.3 MB\u001b[0m \u001b[31m38.4 MB/s\u001b[0m eta \u001b[36m0:00:01\u001b[0m\n",
                  "text/html": "<pre style=\"white-space:pre;overflow-x:auto;line-height:normal;font-family:Menlo,'DejaVu Sans Mono',consolas,'Courier New',monospace\">     <span style=\"color: #f92672; text-decoration-color: #f92672\">━━━━━━━━━━━━━━━━━━━━━━━━━━━━━━━━━━━━━━━╸</span> <span style=\"color: #008000; text-decoration-color: #008000\">3.3/3.3 MB</span> <span style=\"color: #800000; text-decoration-color: #800000\">38.4 MB/s</span> eta <span style=\"color: #008080; text-decoration-color: #008080\">0:00:01</span>\n</pre>\n"
                },
                "metadata": {}
              }
            ]
          }
        },
        "c698ec1030c14b3a8083c2eb6992dd62": {
          "model_module": "@jupyter-widgets/base",
          "model_name": "LayoutModel",
          "model_module_version": "1.2.0",
          "state": {
            "_model_module": "@jupyter-widgets/base",
            "_model_module_version": "1.2.0",
            "_model_name": "LayoutModel",
            "_view_count": null,
            "_view_module": "@jupyter-widgets/base",
            "_view_module_version": "1.2.0",
            "_view_name": "LayoutView",
            "align_content": null,
            "align_items": null,
            "align_self": null,
            "border": null,
            "bottom": null,
            "display": null,
            "flex": null,
            "flex_flow": null,
            "grid_area": null,
            "grid_auto_columns": null,
            "grid_auto_flow": null,
            "grid_auto_rows": null,
            "grid_column": null,
            "grid_gap": null,
            "grid_row": null,
            "grid_template_areas": null,
            "grid_template_columns": null,
            "grid_template_rows": null,
            "height": null,
            "justify_content": null,
            "justify_items": null,
            "left": null,
            "margin": null,
            "max_height": null,
            "max_width": null,
            "min_height": null,
            "min_width": null,
            "object_fit": null,
            "object_position": null,
            "order": null,
            "overflow": null,
            "overflow_x": null,
            "overflow_y": null,
            "padding": null,
            "right": null,
            "top": null,
            "visibility": null,
            "width": null
          }
        }
      }
    }
  },
  "cells": [
    {
      "cell_type": "markdown",
      "metadata": {
        "id": "view-in-github",
        "colab_type": "text"
      },
      "source": [
        "<a href=\"https://colab.research.google.com/github/bdemchak/cytoscape-jupyter/blob/main/gangsu/basic%20protocol%201.ipynb\" target=\"_parent\"><img src=\"https://colab.research.google.com/assets/colab-badge.svg\" alt=\"Open In Colab\"/></a>"
      ]
    },
    {
      "cell_type": "markdown",
      "metadata": {
        "id": "khjUrLor-5w_"
      },
      "source": [
        "This is a reproduction of the [Biological Network Exploration with Cytoscape 3](https://pubmed.ncbi.nlm.nih.gov/25199793/) Basic Protocol 1, which loads an s. cervesiae network, filters out unneeded nodes, lays out the resulting network, creates clusters of similar nodes and then performs an enrichment calculation on one cluster.\n",
        "\n",
        "Note that this workflow executes in a Jupyter Notebook running on a cloud server (e.g., Google Colab) and communicates with a copy of Cytoscape running on your workstation. For version of this workflow that runs on the same workstation as Cytoscape, see [here](https://github.com/cytoscape/py4cytoscape/tree/master/tests)."
      ]
    },
    {
      "cell_type": "markdown",
      "metadata": {
        "id": "EynlCq2w336-"
      },
      "source": [
        "---\n",
        "# Setup data files, py4cytoscape and Cytoscape connection\n",
        "**NOTE: To run this notebook, you must manually start Cytoscape first -- don't proceed until you have started Cytoscape.**\n",
        "\n",
        "This workflow requires two files that are located in cloud storage:\n",
        "\n",
        "* BIOGRID-ORGANISM-Saccharomyces_cerevisiae-3.2.105.mitab (network file)\n",
        "* GDS112_full.soft (annotation file)\n",
        "\n",
        "Both files reside in a Dropbox folder, and they are downloaded by this workflow as needed."
      ]
    },
    {
      "cell_type": "markdown",
      "metadata": {
        "id": "wJ9RYWAF4wF6"
      },
      "source": [
        "## Setup: Fetch latest py4cytoscape\n",
        "\n",
        "\n"
      ]
    },
    {
      "cell_type": "markdown",
      "metadata": {
        "id": "9RVNEFryzJR3"
      },
      "source": [
        "**Note that you can fetch from the latest Github unreleased version by setting _PY4CYTOSCAPE to 'git+https://github.com/cytoscape/py4cytoscape' immediately before the exec() call. To fetch a particular branch, add '@' to the end (e.g., 'git+https://github.com/cytoscape/py4cytoscape@0.0.12').**\n",
        "\n",
        "To load the default (PyPI) py4cytoscape version, do not set _PY4CYTOSCAPE at all."
      ]
    },
    {
      "cell_type": "code",
      "metadata": {
        "id": "pW3Jhe2PMD9z",
        "outputId": "68b9a532-a9db-41e1-e8ee-0ae0afea2f05",
        "colab": {
          "base_uri": "https://localhost:8080/",
          "height": 787,
          "referenced_widgets": [
            "c091fe1bac9243108f794f0fd2d48bae",
            "265130fbb22d4cf8baf46abaa01a1fe8",
            "68d3d81b97544a40949e7b3cc5b82100",
            "c698ec1030c14b3a8083c2eb6992dd62"
          ]
        }
      },
      "source": [
        "#_PY4CYTOSCAPE = 'git+https://github.com/cytoscape/py4cytoscape@1.6.0' # optional\n",
        "import requests\n",
        "\n",
        "exec(requests.get(\"https://raw.githubusercontent.com/cytoscape/jupyter-bridge/master/client/p4c_init.py\").text)\n",
        "\n",
        "IPython.display.Javascript(_PY4CYTOSCAPE_BROWSER_CLIENT_JS) # Start browser client"
      ],
      "execution_count": 1,
      "outputs": [
        {
          "output_type": "display_data",
          "data": {
            "text/plain": [
              "Looking in indexes: https://pypi.org/simple, https://us-python.pkg.dev/colab-wheels/public/simple/\n"
            ],
            "text/html": [
              "<pre style=\"white-space:pre;overflow-x:auto;line-height:normal;font-family:Menlo,'DejaVu Sans Mono',consolas,'Courier New',monospace\">Looking in indexes: https://pypi.org/simple, https://us-python.pkg.dev/colab-wheels/public/simple/\n",
              "</pre>\n"
            ]
          },
          "metadata": {}
        },
        {
          "output_type": "display_data",
          "data": {
            "text/plain": [
              "Collecting py4cytoscape\n"
            ],
            "text/html": [
              "<pre style=\"white-space:pre;overflow-x:auto;line-height:normal;font-family:Menlo,'DejaVu Sans Mono',consolas,'Courier New',monospace\">Collecting py4cytoscape\n",
              "</pre>\n"
            ]
          },
          "metadata": {}
        },
        {
          "output_type": "display_data",
          "data": {
            "text/plain": [
              "  Downloading py4cytoscape-1.6.0-py3-none-any.whl (176 kB)\n"
            ],
            "text/html": [
              "<pre style=\"white-space:pre;overflow-x:auto;line-height:normal;font-family:Menlo,'DejaVu Sans Mono',consolas,'Courier New',monospace\">  Downloading py4cytoscape-1.6.0-py3-none-any.whl (176 kB)\n",
              "</pre>\n"
            ]
          },
          "metadata": {}
        },
        {
          "output_type": "display_data",
          "data": {
            "text/plain": [
              "Output()"
            ],
            "application/vnd.jupyter.widget-view+json": {
              "version_major": 2,
              "version_minor": 0,
              "model_id": "c091fe1bac9243108f794f0fd2d48bae"
            }
          },
          "metadata": {}
        },
        {
          "output_type": "display_data",
          "data": {
            "text/plain": [],
            "text/html": [
              "<pre style=\"white-space:pre;overflow-x:auto;line-height:normal;font-family:Menlo,'DejaVu Sans Mono',consolas,'Courier New',monospace\"></pre>\n"
            ]
          },
          "metadata": {}
        },
        {
          "output_type": "display_data",
          "data": {
            "text/plain": [
              "\n"
            ],
            "text/html": [
              "<pre style=\"white-space:pre;overflow-x:auto;line-height:normal;font-family:Menlo,'DejaVu Sans Mono',consolas,'Courier New',monospace\">\n",
              "</pre>\n"
            ]
          },
          "metadata": {}
        },
        {
          "output_type": "display_data",
          "data": {
            "text/plain": [
              "Collecting backoff\n"
            ],
            "text/html": [
              "<pre style=\"white-space:pre;overflow-x:auto;line-height:normal;font-family:Menlo,'DejaVu Sans Mono',consolas,'Courier New',monospace\">Collecting backoff\n",
              "</pre>\n"
            ]
          },
          "metadata": {}
        },
        {
          "output_type": "display_data",
          "data": {
            "text/plain": [
              "  Downloading backoff-2.2.1-py3-none-any.whl (15 kB)\n"
            ],
            "text/html": [
              "<pre style=\"white-space:pre;overflow-x:auto;line-height:normal;font-family:Menlo,'DejaVu Sans Mono',consolas,'Courier New',monospace\">  Downloading backoff-2.2.1-py3-none-any.whl (15 kB)\n",
              "</pre>\n"
            ]
          },
          "metadata": {}
        },
        {
          "output_type": "display_data",
          "data": {
            "text/plain": [
              "Collecting python-igraph\n"
            ],
            "text/html": [
              "<pre style=\"white-space:pre;overflow-x:auto;line-height:normal;font-family:Menlo,'DejaVu Sans Mono',consolas,'Courier New',monospace\">Collecting python-igraph\n",
              "</pre>\n"
            ]
          },
          "metadata": {}
        },
        {
          "output_type": "display_data",
          "data": {
            "text/plain": [
              "  Downloading python-igraph-0.10.3.tar.gz (9.5 kB)\n"
            ],
            "text/html": [
              "<pre style=\"white-space:pre;overflow-x:auto;line-height:normal;font-family:Menlo,'DejaVu Sans Mono',consolas,'Courier New',monospace\">  Downloading python-igraph-0.10.3.tar.gz (9.5 kB)\n",
              "</pre>\n"
            ]
          },
          "metadata": {}
        },
        {
          "output_type": "display_data",
          "data": {
            "text/plain": [
              "  Preparing metadata (setup.py): started\n"
            ],
            "text/html": [
              "<pre style=\"white-space:pre;overflow-x:auto;line-height:normal;font-family:Menlo,'DejaVu Sans Mono',consolas,'Courier New',monospace\">  Preparing metadata (setup.py): started\n",
              "</pre>\n"
            ]
          },
          "metadata": {}
        },
        {
          "output_type": "display_data",
          "data": {
            "text/plain": [
              "  Preparing metadata (setup.py): finished with status 'done'\n"
            ],
            "text/html": [
              "<pre style=\"white-space:pre;overflow-x:auto;line-height:normal;font-family:Menlo,'DejaVu Sans Mono',consolas,'Courier New',monospace\">  Preparing metadata (setup.py): finished with status 'done'\n",
              "</pre>\n"
            ]
          },
          "metadata": {}
        },
        {
          "output_type": "display_data",
          "data": {
            "text/plain": [
              "Requirement already satisfied: pandas in /usr/local/lib/python3.8/dist-packages (from py4cytoscape) (1.3.5)\n"
            ],
            "text/html": [
              "<pre style=\"white-space:pre;overflow-x:auto;line-height:normal;font-family:Menlo,'DejaVu Sans Mono',consolas,'Courier New',monospace\">Requirement already satisfied: pandas in /usr/local/lib/python3.8/dist-packages (from py4cytoscape) (1.3.5)\n",
              "</pre>\n"
            ]
          },
          "metadata": {}
        },
        {
          "output_type": "display_data",
          "data": {
            "text/plain": [
              "Collecting colorbrewer\n"
            ],
            "text/html": [
              "<pre style=\"white-space:pre;overflow-x:auto;line-height:normal;font-family:Menlo,'DejaVu Sans Mono',consolas,'Courier New',monospace\">Collecting colorbrewer\n",
              "</pre>\n"
            ]
          },
          "metadata": {}
        },
        {
          "output_type": "display_data",
          "data": {
            "text/plain": [
              "  Downloading colorbrewer-0.2.0-py3-none-any.whl (9.4 kB)\n"
            ],
            "text/html": [
              "<pre style=\"white-space:pre;overflow-x:auto;line-height:normal;font-family:Menlo,'DejaVu Sans Mono',consolas,'Courier New',monospace\">  Downloading colorbrewer-0.2.0-py3-none-any.whl (9.4 kB)\n",
              "</pre>\n"
            ]
          },
          "metadata": {}
        },
        {
          "output_type": "display_data",
          "data": {
            "text/plain": [
              "Requirement already satisfied: networkx in /usr/local/lib/python3.8/dist-packages (from py4cytoscape) (2.8.8)\n"
            ],
            "text/html": [
              "<pre style=\"white-space:pre;overflow-x:auto;line-height:normal;font-family:Menlo,'DejaVu Sans Mono',consolas,'Courier New',monospace\">Requirement already satisfied: networkx in /usr/local/lib/python3.8/dist-packages (from py4cytoscape) (2.8.8)\n",
              "</pre>\n"
            ]
          },
          "metadata": {}
        },
        {
          "output_type": "display_data",
          "data": {
            "text/plain": [
              "Requirement already satisfied: chardet in /usr/local/lib/python3.8/dist-packages (from py4cytoscape) (4.0.0)\n"
            ],
            "text/html": [
              "<pre style=\"white-space:pre;overflow-x:auto;line-height:normal;font-family:Menlo,'DejaVu Sans Mono',consolas,'Courier New',monospace\">Requirement already satisfied: chardet in /usr/local/lib/python3.8/dist-packages (from py4cytoscape) (4.0.0)\n",
              "</pre>\n"
            ]
          },
          "metadata": {}
        },
        {
          "output_type": "display_data",
          "data": {
            "text/plain": [
              "Collecting colour\n"
            ],
            "text/html": [
              "<pre style=\"white-space:pre;overflow-x:auto;line-height:normal;font-family:Menlo,'DejaVu Sans Mono',consolas,'Courier New',monospace\">Collecting colour\n",
              "</pre>\n"
            ]
          },
          "metadata": {}
        },
        {
          "output_type": "display_data",
          "data": {
            "text/plain": [
              "  Downloading colour-0.1.5-py2.py3-none-any.whl (23 kB)\n"
            ],
            "text/html": [
              "<pre style=\"white-space:pre;overflow-x:auto;line-height:normal;font-family:Menlo,'DejaVu Sans Mono',consolas,'Courier New',monospace\">  Downloading colour-0.1.5-py2.py3-none-any.whl (23 kB)\n",
              "</pre>\n"
            ]
          },
          "metadata": {}
        },
        {
          "output_type": "display_data",
          "data": {
            "text/plain": [
              "Requirement already satisfied: requests in /usr/local/lib/python3.8/dist-packages (from py4cytoscape) (2.25.1)\n"
            ],
            "text/html": [
              "<pre style=\"white-space:pre;overflow-x:auto;line-height:normal;font-family:Menlo,'DejaVu Sans Mono',consolas,'Courier New',monospace\">Requirement already satisfied: requests in /usr/local/lib/python3.8/dist-packages (from py4cytoscape) (2.25.1)\n",
              "</pre>\n"
            ]
          },
          "metadata": {}
        },
        {
          "output_type": "display_data",
          "data": {
            "text/plain": [
              "Requirement already satisfied: decorator in /usr/local/lib/python3.8/dist-packages (from py4cytoscape) (4.4.2)\n"
            ],
            "text/html": [
              "<pre style=\"white-space:pre;overflow-x:auto;line-height:normal;font-family:Menlo,'DejaVu Sans Mono',consolas,'Courier New',monospace\">Requirement already satisfied: decorator in /usr/local/lib/python3.8/dist-packages (from py4cytoscape) (4.4.2)\n",
              "</pre>\n"
            ]
          },
          "metadata": {}
        },
        {
          "output_type": "display_data",
          "data": {
            "text/plain": [
              "Requirement already satisfied: six in /usr/local/lib/python3.8/dist-packages (from colorbrewer->py4cytoscape) (1.15.0)\n"
            ],
            "text/html": [
              "<pre style=\"white-space:pre;overflow-x:auto;line-height:normal;font-family:Menlo,'DejaVu Sans Mono',consolas,'Courier New',monospace\">Requirement already satisfied: six in /usr/local/lib/python3.8/dist-packages (from colorbrewer-&gt;py4cytoscape) (1.15.0)\n",
              "</pre>\n"
            ]
          },
          "metadata": {}
        },
        {
          "output_type": "display_data",
          "data": {
            "text/plain": [
              "Requirement already satisfied: pytz>=2017.3 in /usr/local/lib/python3.8/dist-packages (from pandas->py4cytoscape) (2022.7)\n"
            ],
            "text/html": [
              "<pre style=\"white-space:pre;overflow-x:auto;line-height:normal;font-family:Menlo,'DejaVu Sans Mono',consolas,'Courier New',monospace\">Requirement already satisfied: pytz&gt;=2017.3 in /usr/local/lib/python3.8/dist-packages (from pandas-&gt;py4cytoscape) (2022.7)\n",
              "</pre>\n"
            ]
          },
          "metadata": {}
        },
        {
          "output_type": "display_data",
          "data": {
            "text/plain": [
              "Requirement already satisfied: numpy>=1.17.3 in /usr/local/lib/python3.8/dist-packages (from pandas->py4cytoscape) (1.21.6)\n"
            ],
            "text/html": [
              "<pre style=\"white-space:pre;overflow-x:auto;line-height:normal;font-family:Menlo,'DejaVu Sans Mono',consolas,'Courier New',monospace\">Requirement already satisfied: numpy&gt;=1.17.3 in /usr/local/lib/python3.8/dist-packages (from pandas-&gt;py4cytoscape) (1.21.6)\n",
              "</pre>\n"
            ]
          },
          "metadata": {}
        },
        {
          "output_type": "display_data",
          "data": {
            "text/plain": [
              "Requirement already satisfied: python-dateutil>=2.7.3 in /usr/local/lib/python3.8/dist-packages (from pandas->py4cytoscape) (2.8.2)\n"
            ],
            "text/html": [
              "<pre style=\"white-space:pre;overflow-x:auto;line-height:normal;font-family:Menlo,'DejaVu Sans Mono',consolas,'Courier New',monospace\">Requirement already satisfied: python-dateutil&gt;=2.7.3 in /usr/local/lib/python3.8/dist-packages (from pandas-&gt;py4cytoscape) (2.8.2)\n",
              "</pre>\n"
            ]
          },
          "metadata": {}
        },
        {
          "output_type": "display_data",
          "data": {
            "text/plain": [
              "Collecting igraph==0.10.3\n"
            ],
            "text/html": [
              "<pre style=\"white-space:pre;overflow-x:auto;line-height:normal;font-family:Menlo,'DejaVu Sans Mono',consolas,'Courier New',monospace\">Collecting igraph==0.10.3\n",
              "</pre>\n"
            ]
          },
          "metadata": {}
        },
        {
          "output_type": "display_data",
          "data": {
            "text/plain": [
              "  Downloading igraph-0.10.3-cp38-cp38-manylinux_2_17_x86_64.manylinux2014_x86_64.whl (3.3 MB)\n"
            ],
            "text/html": [
              "<pre style=\"white-space:pre;overflow-x:auto;line-height:normal;font-family:Menlo,'DejaVu Sans Mono',consolas,'Courier New',monospace\">  Downloading igraph-0.10.3-cp38-cp38-manylinux_2_17_x86_64.manylinux2014_x86_64.whl (3.3 MB)\n",
              "</pre>\n"
            ]
          },
          "metadata": {}
        },
        {
          "output_type": "display_data",
          "data": {
            "text/plain": [
              "Output()"
            ],
            "application/vnd.jupyter.widget-view+json": {
              "version_major": 2,
              "version_minor": 0,
              "model_id": "68d3d81b97544a40949e7b3cc5b82100"
            }
          },
          "metadata": {}
        },
        {
          "output_type": "display_data",
          "data": {
            "text/plain": [],
            "text/html": [
              "<pre style=\"white-space:pre;overflow-x:auto;line-height:normal;font-family:Menlo,'DejaVu Sans Mono',consolas,'Courier New',monospace\"></pre>\n"
            ]
          },
          "metadata": {}
        },
        {
          "output_type": "display_data",
          "data": {
            "text/plain": [
              "\n"
            ],
            "text/html": [
              "<pre style=\"white-space:pre;overflow-x:auto;line-height:normal;font-family:Menlo,'DejaVu Sans Mono',consolas,'Courier New',monospace\">\n",
              "</pre>\n"
            ]
          },
          "metadata": {}
        },
        {
          "output_type": "display_data",
          "data": {
            "text/plain": [
              "Collecting texttable>=1.6.2\n"
            ],
            "text/html": [
              "<pre style=\"white-space:pre;overflow-x:auto;line-height:normal;font-family:Menlo,'DejaVu Sans Mono',consolas,'Courier New',monospace\">Collecting texttable&gt;=1.6.2\n",
              "</pre>\n"
            ]
          },
          "metadata": {}
        },
        {
          "output_type": "display_data",
          "data": {
            "text/plain": [
              "  Downloading texttable-1.6.7-py2.py3-none-any.whl (10 kB)\n"
            ],
            "text/html": [
              "<pre style=\"white-space:pre;overflow-x:auto;line-height:normal;font-family:Menlo,'DejaVu Sans Mono',consolas,'Courier New',monospace\">  Downloading texttable-1.6.7-py2.py3-none-any.whl (10 kB)\n",
              "</pre>\n"
            ]
          },
          "metadata": {}
        },
        {
          "output_type": "display_data",
          "data": {
            "text/plain": [
              "Requirement already satisfied: idna<3,>=2.5 in /usr/local/lib/python3.8/dist-packages (from requests->py4cytoscape) (2.10)\n"
            ],
            "text/html": [
              "<pre style=\"white-space:pre;overflow-x:auto;line-height:normal;font-family:Menlo,'DejaVu Sans Mono',consolas,'Courier New',monospace\">Requirement already satisfied: idna&lt;3,&gt;=2.5 in /usr/local/lib/python3.8/dist-packages (from requests-&gt;py4cytoscape) (2.10)\n",
              "</pre>\n"
            ]
          },
          "metadata": {}
        },
        {
          "output_type": "display_data",
          "data": {
            "text/plain": [
              "Requirement already satisfied: certifi>=2017.4.17 in /usr/local/lib/python3.8/dist-packages (from requests->py4cytoscape) (2022.12.7)\n"
            ],
            "text/html": [
              "<pre style=\"white-space:pre;overflow-x:auto;line-height:normal;font-family:Menlo,'DejaVu Sans Mono',consolas,'Courier New',monospace\">Requirement already satisfied: certifi&gt;=2017.4.17 in /usr/local/lib/python3.8/dist-packages (from requests-&gt;py4cytoscape) (2022.12.7)\n",
              "</pre>\n"
            ]
          },
          "metadata": {}
        },
        {
          "output_type": "display_data",
          "data": {
            "text/plain": [
              "Requirement already satisfied: urllib3<1.27,>=1.21.1 in /usr/local/lib/python3.8/dist-packages (from requests->py4cytoscape) (1.24.3)\n"
            ],
            "text/html": [
              "<pre style=\"white-space:pre;overflow-x:auto;line-height:normal;font-family:Menlo,'DejaVu Sans Mono',consolas,'Courier New',monospace\">Requirement already satisfied: urllib3&lt;1.27,&gt;=1.21.1 in /usr/local/lib/python3.8/dist-packages (from requests-&gt;py4cytoscape) (1.24.3)\n",
              "</pre>\n"
            ]
          },
          "metadata": {}
        },
        {
          "output_type": "display_data",
          "data": {
            "text/plain": [
              "Building wheels for collected packages: python-igraph\n"
            ],
            "text/html": [
              "<pre style=\"white-space:pre;overflow-x:auto;line-height:normal;font-family:Menlo,'DejaVu Sans Mono',consolas,'Courier New',monospace\">Building wheels for collected packages: python-igraph\n",
              "</pre>\n"
            ]
          },
          "metadata": {}
        },
        {
          "output_type": "display_data",
          "data": {
            "text/plain": [
              "  Building wheel for python-igraph (setup.py): started\n"
            ],
            "text/html": [
              "<pre style=\"white-space:pre;overflow-x:auto;line-height:normal;font-family:Menlo,'DejaVu Sans Mono',consolas,'Courier New',monospace\">  Building wheel for python-igraph (setup.py): started\n",
              "</pre>\n"
            ]
          },
          "metadata": {}
        },
        {
          "output_type": "display_data",
          "data": {
            "text/plain": [
              "  Building wheel for python-igraph (setup.py): finished with status 'done'\n"
            ],
            "text/html": [
              "<pre style=\"white-space:pre;overflow-x:auto;line-height:normal;font-family:Menlo,'DejaVu Sans Mono',consolas,'Courier New',monospace\">  Building wheel for python-igraph (setup.py): finished with status 'done'\n",
              "</pre>\n"
            ]
          },
          "metadata": {}
        },
        {
          "output_type": "display_data",
          "data": {
            "text/plain": [
              "  Created wheel for python-igraph: filename=python_igraph-0.10.3-py3-none-any.whl size=9074 sha256=b96c17bb7bd579fa4acdefb92362316f246286b82840916f3853c1320196bfb8\n"
            ],
            "text/html": [
              "<pre style=\"white-space:pre;overflow-x:auto;line-height:normal;font-family:Menlo,'DejaVu Sans Mono',consolas,'Courier New',monospace\">  Created wheel for python-igraph: filename=python_igraph-0.10.3-py3-none-any.whl size=9074 sha256=b96c17bb7bd579fa4acdefb92362316f246286b82840916f3853c1320196bfb8\n",
              "</pre>\n"
            ]
          },
          "metadata": {}
        },
        {
          "output_type": "display_data",
          "data": {
            "text/plain": [
              "  Stored in directory: /root/.cache/pip/wheels/89/e5/ce/6b6a72dd08502dee685b95fb8733a983bc86575c013371f15a\n"
            ],
            "text/html": [
              "<pre style=\"white-space:pre;overflow-x:auto;line-height:normal;font-family:Menlo,'DejaVu Sans Mono',consolas,'Courier New',monospace\">  Stored in directory: /root/.cache/pip/wheels/89/e5/ce/6b6a72dd08502dee685b95fb8733a983bc86575c013371f15a\n",
              "</pre>\n"
            ]
          },
          "metadata": {}
        },
        {
          "output_type": "display_data",
          "data": {
            "text/plain": [
              "Successfully built python-igraph\n"
            ],
            "text/html": [
              "<pre style=\"white-space:pre;overflow-x:auto;line-height:normal;font-family:Menlo,'DejaVu Sans Mono',consolas,'Courier New',monospace\">Successfully built python-igraph\n",
              "</pre>\n"
            ]
          },
          "metadata": {}
        },
        {
          "output_type": "display_data",
          "data": {
            "text/plain": [
              "Installing collected packages: texttable, colour, igraph, colorbrewer, backoff, python-igraph, py4cytoscape\n"
            ],
            "text/html": [
              "<pre style=\"white-space:pre;overflow-x:auto;line-height:normal;font-family:Menlo,'DejaVu Sans Mono',consolas,'Courier New',monospace\">Installing collected packages: texttable, colour, igraph, colorbrewer, backoff, python-igraph, py4cytoscape\n",
              "</pre>\n"
            ]
          },
          "metadata": {}
        },
        {
          "output_type": "display_data",
          "data": {
            "text/plain": [
              "Successfully installed backoff-2.2.1 colorbrewer-0.2.0 colour-0.1.5 igraph-0.10.3 py4cytoscape-1.6.0 python-igraph-0.10.3 texttable-1.6.7\n"
            ],
            "text/html": [
              "<pre style=\"white-space:pre;overflow-x:auto;line-height:normal;font-family:Menlo,'DejaVu Sans Mono',consolas,'Courier New',monospace\">Successfully installed backoff-2.2.1 colorbrewer-0.2.0 colour-0.1.5 igraph-0.10.3 py4cytoscape-1.6.0 python-igraph-0.10.3 texttable-1.6.7\n",
              "</pre>\n"
            ]
          },
          "metadata": {}
        },
        {
          "output_type": "display_data",
          "data": {
            "text/plain": [
              "NumExpr defaulting to 2 threads.\n"
            ],
            "text/html": [
              "<pre style=\"white-space:pre;overflow-x:auto;line-height:normal;font-family:Menlo,'DejaVu Sans Mono',consolas,'Courier New',monospace\">NumExpr defaulting to 2 threads.\n",
              "</pre>\n"
            ]
          },
          "metadata": {}
        },
        {
          "output_type": "stream",
          "name": "stdout",
          "text": [
            "Loading Javascript client ... 2c2eb1da-6058-4292-8bc2-531f8da8aaf5 on https://jupyter-bridge.cytoscape.org\n",
            "ADVICE: WHEN RUNNING UNDER COLAB, DO NOT RE-RUN THIS CELL WITHOUT MANUALLY EXECUTING Runtime | Factory Reset Runtime FROM THE COLAB MENU FIRST.\n"
          ]
        },
        {
          "output_type": "execute_result",
          "data": {
            "text/plain": [
              "<IPython.core.display.Javascript object>"
            ],
            "application/javascript": [
              "var Channel = \"2c2eb1da-6058-4292-8bc2-531f8da8aaf5\"; \n",
              "\n",
              "var JupyterBridge = \"https://jupyter-bridge.cytoscape.org\"; \n",
              "\n",
              "  /*\n",
              "    These functions serve as a connector between a remote Jupyter server and Cytoscape.\n",
              "    They run in the user's browser, which also shows the Jupyter Notebook.\n",
              "\n",
              "    A remote Jupyter Notebook call to the py4cytoscape package is forwarded to the Jupyter Bridge,\n",
              "    which is a standalone server. The functions in this connector execute in the Jupyter Notebook\n",
              "    browser, which executes on the same PC as Cytoscape. So, that's 4 components: (A) remote\n",
              "    Jupyter Notebook, (B) separate Jupyter Bridge server, (C) this browser-based component, and\n",
              "    (D) Cytoscape. (A) is on a remote server, (B) is on a different remote server, and (C) and (D)\n",
              "    are on the user's PC.\n",
              "\n",
              "    (A) calls its py4cytoscape module, which forwards the request (in a JSON wrapper) to (B).\n",
              "    (C) picks up the request from (B), unpacks the request and forwards it to (D). (C) awaits a\n",
              "    reply from (D), and when it gets it, it forwards the reply (in a JSON wrapper) to (B).\n",
              "    (A)'s py4cytoscape module picks up the reply on (B) when it becomes available, unpacks it,\n",
              "    and returns it to (A).\n",
              "\n",
              "    A Jupyter Notebook can talk to only one Cytoscape (i.e., the one on the machine running the\n",
              "    Jupyter Notebook browser), and Cytoscape should be called by only one Jupyter Notebook. The\n",
              "    Jupyter Bridge differentiates between Notebook-Cytoscape conversations via a channel UUID.\n",
              "    The UUID is prepended to this browser component by py4Cytoscape, and the component is\n",
              "    started by the Jupyter Notebook. (I wish py4Cytoscape could start the component, too, but I\n",
              "    haven't figured out how to do that yet, so startup code *is* required in the Jupyter\n",
              "    Notebook.)\n",
              "\n",
              "    Note that for the case of a Jupyter server running on the same machine as Cytoscape, this\n",
              "    bridge isn't necessary because the Jupyter server's HTTP calls can easily connect to\n",
              "    Cytoscape over a localhost socket. So, the combination of Jupyter Bridge and this browser\n",
              "    component solves the problem of a Jupyter server (e.g., Google's Colab) that can't\n",
              "    connect to Cytoscape that sits behind a firewall.\n",
              "\n",
              "    The request represents an HTTP call that py4cytoscape would normally make via HTTP directly\n",
              "    to Cytoscape via localhost when both py4cytoscape and Cytoscape are running on the same machine.\n",
              " */\n",
              "\n",
              "const VERSION = '0.0.2'\n",
              "\n",
              "var showDebug; // Flag indicating whether to show Jupyter-bridge progress\n",
              "if (typeof showDebug === 'undefined') {\n",
              "    showDebug = false\n",
              "}\n",
              "if (showDebug) {\n",
              "    alert(\"Starting Jupyter-bridge browser component\")\n",
              "}\n",
              "\n",
              "//const JupyterBridge = 'http://127.0.0.1:5000' // for testing against local Jupyter-bridge\n",
              "var JupyterBridge; // URL of Jupyter-bridge server could be defined by assignment pre-pended to this file\n",
              "if (typeof JupyterBridge === 'undefined') {\n",
              "    JupyterBridge = 'https://jupyter-bridge.cytoscape.org' // for production\n",
              "}\n",
              "var Channel; // Unique constant that could be defined by assignment pre-pended to this file\n",
              "if (typeof Channel === 'undefined') { // ... but if not assigned, use a debugging value\n",
              "    Channel = 1\n",
              "}\n",
              "\n",
              "\n",
              "var httpR = new XMLHttpRequest(); // for sending reply to Jupyter-bridge\n",
              "var httpRE = new XMLHttpRequest(); // for sending backup error reply to Jupyter-bridge\n",
              "var httpC = new XMLHttpRequest(); // for sending command to Cytoscape\n",
              "var httpJ = new XMLHttpRequest(); // for fetching request from Jupyter-bridge\n",
              "\n",
              "const HTTP_OK = 200\n",
              "const HTTP_SYS_ERR = 500\n",
              "const HTTP_TIMEOUT = 408\n",
              "const HTTP_TOO_MANY = 429\n",
              "\n",
              "\n",
              " /* This function is useful if we want to rewrite the incoming URL to resolve just to our local one.\n",
              "    Doing this stops the Jupyter component from abusing this client to call out to endpoints other\n",
              "    than local Cytoscape. On the other hand, it makes it hard to detect when the Jupyter component\n",
              "    has specified a genuinely bad URL and really should get an error result. For now, we'll execute\n",
              "    the Jupyter-supplied URL and return the result, whatever it may be.\n",
              "\n",
              "const LocalCytoscape = 'http://127.0.0.1:1234'\n",
              "\n",
              "function parseURL(url) {\n",
              "    var reURLInformation = new RegExp([\n",
              "        '^(https?:)//', // protocol\n",
              "        '(([^:/?#]*)(?::([0-9]+))?)', // host (hostname and port)\n",
              "        '(/{0,1}[^?#]*)', // pathname\n",
              "        '(\\\\?[^#]*|)', // search\n",
              "        '(#.*|)$' // hash\n",
              "    ].join(''));\n",
              "    var match = url.match(reURLInformation);\n",
              "    return match && {\n",
              "        url: url,\n",
              "        protocol: match[1],\n",
              "        host: match[2],\n",
              "        hostname: match[3],\n",
              "        port: match[4],\n",
              "        pathname: match[5],\n",
              "        search: match[6],\n",
              "        hash: match[7]\n",
              "    }\n",
              "}\n",
              "*/\n",
              "\n",
              "function replyCytoscape(replyStatus, replyStatusText, replyText) {\n",
              "\n",
              "    // Clean up after Jupyter bridge accepts reply\n",
              "    httpR.onreadystatechange = function() {\n",
              "        if (httpR.readyState === 4) {\n",
              "            if (showDebug) {\n",
              "                console.log(' status from queue_reply: ' + httpR.status + ', reply: ' + httpR.responseText)\n",
              "            }\n",
              "        }\n",
              "    }\n",
              "\n",
              "    httpR.onerror = function() {\n",
              "        // Clean up after Jupyter bridge accepts backup reply\n",
              "        httpRE.onreadystatechange = function() {\n",
              "            if (httpRE.readyState === 4) {\n",
              "                if (showDebug) {\n",
              "                    console.log(' status from backup queue_reply: ' + httpRE.status + ', reply: ' + httpRE.responseText)\n",
              "                }\n",
              "            }\n",
              "        }\n",
              "\n",
              "        if (showDebug) {\n",
              "            console.log(' error from queue_reply -- could be Jupyter-Bridge server reject')\n",
              "        }\n",
              "        var errReply = {'status': HTTP_SYS_ERR, 'reason': 'Jupyter-Bridge rejected reply', 'text': 'Possibly reply is too long for Jupyter-Bridge server'}\n",
              "        httpRE.open('POST', jupyterBridgeURL, true)\n",
              "        httpRE.setRequestHeader('Content-Type', 'text/plain')\n",
              "        httpRE.send(JSON.stringify(errReply))\n",
              "    }\n",
              "\n",
              "    var reply = {'status': replyStatus, 'reason': replyStatusText, 'text': replyText}\n",
              "\n",
              "    // Send reply to Jupyter bridge\n",
              "    var jupyterBridgeURL = JupyterBridge + '/queue_reply?channel=' + Channel\n",
              "    if (showDebug) {\n",
              "        console.log('Starting queue to Jupyter bridge: ' + jupyterBridgeURL)\n",
              "    }\n",
              "    httpR.open('POST', jupyterBridgeURL, true)\n",
              "    httpR.setRequestHeader('Content-Type', 'text/plain')\n",
              "    httpR.send(JSON.stringify(reply))\n",
              "}\n",
              "\n",
              "function callCytoscape(callSpec) {\n",
              "\n",
              "    // Captures Cytoscape reply and sends it on\n",
              "    httpC.onreadystatechange = function() {\n",
              "        if (httpC.readyState === 4) {\n",
              "            if (showDebug) {\n",
              "                console.log(' status from CyREST: ' + httpC.status + ', statusText: ' + httpC.statusText + ', reply: ' + httpC.responseText)\n",
              "            }\n",
              "            // Note that httpC.status is 0 if the URL can't be reached *OR* there is a CORS violation.\n",
              "            // I wish I could tell the difference because for a CORS violation, I'd return a 404,\n",
              "            // which would roughly match what Python's native request package would return.\n",
              "            // The practical consequence is that the ultimate caller (e.g., py4cytoscape)\n",
              "            // returns different exceptions, depending on wither this module is doing the\n",
              "            // HTTP operation or the native Python requests package is. This is minor, but\n",
              "            // messes up tests that verify the exception type.\n",
              "            replyCytoscape(httpC.status, httpC.statusText, httpC.responseText)\n",
              "            waitOnJupyterBridge()\n",
              "        }\n",
              "    }\n",
              "\n",
              "//  Build up request to Cytoscape, making sure host is local.\n",
              "//    Too heavy handed: localURL = LocalCytoscape + parseURL(callSpec.url).pathname\n",
              "    var localURL = callSpec.url // Try using what was passed in ... is there a security risk??\n",
              "\n",
              "    if (showDebug) {\n",
              "        console.log('Command to CyREST: ' + callSpec.command + ' (' + localURL + ')')\n",
              "        if (callSpec.params) {\n",
              "            console.log(' params: ' + JSON.stringify(callSpec.params))\n",
              "        }\n",
              "        if (callSpec.headers) {\n",
              "            console.log(' header: ' + JSON.stringify(callSpec.headers))\n",
              "        }\n",
              "        if (callSpec.data) {\n",
              "            console.log('   data: ' + JSON.stringify(callSpec.data))\n",
              "        }\n",
              "    }\n",
              "\n",
              "    if (callSpec.command === 'webbrowser') {\n",
              "        if (window.open(callSpec.url)) {\n",
              "            replyCytoscape(HTTP_OK, 'OK', '')\n",
              "        } else {\n",
              "            replyCytoscape(HTTP_SYS_ERR, 'BAD BROWSER OPEN', '')\n",
              "        }\n",
              "        waitOnJupyterBridge()\n",
              "    } else if (callSpec.command === 'version') {\n",
              "        replyCytoscape(HTTP_OK, 'OK',\n",
              "            JSON.stringify({\"jupyterBridgeVersion\": VERSION}))\n",
              "        waitOnJupyterBridge()\n",
              "    } else {\n",
              "        var joiner = '?'\n",
              "        for (let param in callSpec.params) {\n",
              "            localURL = localURL + joiner + param + '=' + encodeURIComponent(callSpec.params[param])\n",
              "            joiner = '&'\n",
              "        }\n",
              "\n",
              "        httpC.open(callSpec.command, localURL, true)\n",
              "        for (let header in callSpec.headers) {\n",
              "            httpC.setRequestHeader(header, callSpec.headers[header])\n",
              "        }\n",
              "\n",
              "        // Send request to Cytoscape ... reply goes to onreadystatechange handler\n",
              "        httpC.send(JSON.stringify(callSpec.data))\n",
              "    }\n",
              "}\n",
              "\n",
              "function waitOnJupyterBridge() {\n",
              "\n",
              "    // Captures request from Jupyter bridge\n",
              "    httpJ.onreadystatechange = function() {\n",
              "        if (httpJ.readyState === 4) {\n",
              "            if (showDebug) {\n",
              "                console.log(' status from dequeue_request: ' + httpJ.status + ', reply: ' + httpJ.responseText)\n",
              "            }\n",
              "            try {\n",
              "                if (httpJ.status == HTTP_TOO_MANY) {\n",
              "                    // Nothing more to do ... the browser has created too many listeners,\n",
              "                    // and it's time to stop listening because the server saw a listener\n",
              "                    // listening on this channel before we got there.\n",
              "                    console.log('  shutting down because of redundant reader on channel: ' + Channel)\n",
              "                } else {\n",
              "                    if (httpJ.status === HTTP_TIMEOUT) {\n",
              "                        waitOnJupyterBridge()\n",
              "                    } else {\n",
              "                        callCytoscape(JSON.parse(httpJ.responseText))\n",
              "                    }\n",
              "                }\n",
              "            } catch(err) {\n",
              "                if (showDebug) {\n",
              "                    console.log(' exception calling Cytoscape: ' + err)\n",
              "                }\n",
              "                // Bad responseText means something bad happened that we don't understand.\n",
              "                // Go wait on another request, as there's nothing to call Cytoscape with.\n",
              "                waitOnJupyterBridge()\n",
              "            }\n",
              "        }\n",
              "    }\n",
              "\n",
              "    // Wait for request from Jupyter bridge\n",
              "    var jupyterBridgeURL = JupyterBridge + '/dequeue_request?channel=' + Channel\n",
              "    if (showDebug) {\n",
              "        console.log('Starting dequeue on Jupyter bridge: ' + jupyterBridgeURL)\n",
              "    }\n",
              "    httpJ.open('GET', jupyterBridgeURL, true)\n",
              "    httpJ.send()\n",
              "}\n",
              "\n",
              "// This kicks off a loop that ends by calling waitOnJupyterBridge again. This first call\n",
              "// ejects any dead readers before we start a read\n",
              "waitOnJupyterBridge() // Wait for message from Jupyter bridge, execute it, and return reply\n",
              "\n",
              "if (showDebug) {\n",
              "    alert(\"Jupyter-bridge browser component is started on \" + JupyterBridge + ', channel ' + Channel)\n",
              "}\n"
            ]
          },
          "metadata": {},
          "execution_count": 1
        }
      ]
    },
    {
      "cell_type": "markdown",
      "metadata": {
        "id": "sTJwg_HN3WPH"
      },
      "source": [
        "## Setup: Sanity test to verify Cytoscape connection"
      ]
    },
    {
      "cell_type": "markdown",
      "metadata": {
        "id": "vwHsK9OTIhv1"
      },
      "source": [
        "By now, the connection to Cytoscape should be up and available. To verify this, try a simple operation that doesn't alter the state of Cytoscape."
      ]
    },
    {
      "cell_type": "code",
      "metadata": {
        "id": "sP5J_ey7C_t6",
        "outputId": "57d8adc0-8d73-4e3c-fec8-2dc711b93af6",
        "colab": {
          "base_uri": "https://localhost:8080/"
        }
      },
      "source": [
        "p4c.cytoscape_version_info()\n"
      ],
      "execution_count": 2,
      "outputs": [
        {
          "output_type": "execute_result",
          "data": {
            "text/plain": [
              "{'apiVersion': 'v1',\n",
              " 'cytoscapeVersion': '3.10.0-SNAPSHOT',\n",
              " 'automationAPIVersion': '1.6.0',\n",
              " 'py4cytoscapeVersion': '1.6.0',\n",
              " 'jupyterBridgeVersion': '0.0.2'}"
            ]
          },
          "metadata": {},
          "execution_count": 2
        }
      ]
    },
    {
      "cell_type": "markdown",
      "metadata": {
        "id": "VvaiYm7HwcsN"
      },
      "source": [
        "## Setup: Notebook data files\n",
        "Create the 'output' directory, which will be used to store files uploaded from Cytoscape.\n",
        "\n",
        "This is a good place to prepare any other system resources that might be needed by downstream Notebook cells.\n",
        "\n",
        "\n",
        "\n"
      ]
    },
    {
      "cell_type": "code",
      "metadata": {
        "id": "sTP9Tf7hb9g0",
        "outputId": "f943c690-a7d2-4c48-f3e2-cdf42b971b3b",
        "colab": {
          "base_uri": "https://localhost:8080/"
        }
      },
      "source": [
        "!rm -r output/\n",
        "!ls -l \n",
        "OUTPUT_DIR = 'output/'"
      ],
      "execution_count": 3,
      "outputs": [
        {
          "output_type": "stream",
          "name": "stdout",
          "text": [
            "rm: cannot remove 'output/': No such file or directory\n",
            "total 8\n",
            "drwxr-xr-x 2 root root 4096 Jan 14 20:50 logs\n",
            "drwxr-xr-x 1 root root 4096 Jan  9 14:36 sample_data\n"
          ]
        }
      ]
    },
    {
      "cell_type": "markdown",
      "metadata": {
        "id": "Bwq52ljZHCqR"
      },
      "source": [
        "## Setup: Import source data files\n",
        "The network and annotation files are in a Dropbox folder, and this cell downloads them into the default Sandbox from where Cytoscape will access them.\n",
        "\n",
        "The files could just as well have been on any cloud resource, including Google Drive, Github, Microsoft OneDrive or a private web site. Note that in this case, the network file was so large that it could not be saved on GitHub, so Dropbox was a handy alternative.\n",
        "\n",
        "*An alternative would be to load the files into this Notebook's file system (or create them there) and then download those files to the Sandbox. Loading them into the Notebook file system would require the use of Notebook \"!\" commands (e.g., !wget).*\n"
      ]
    },
    {
      "cell_type": "markdown",
      "metadata": {
        "id": "RlKSyX07FVL-"
      },
      "source": [
        "**Sandboxing is explained in https://py4cytoscape.readthedocs.io/en/latest/concepts.html#sandboxing**"
      ]
    },
    {
      "cell_type": "code",
      "metadata": {
        "id": "fCbMNMsO9rU8",
        "outputId": "afaf0004-f580-4d3d-f53e-d9a3372bc118",
        "colab": {
          "base_uri": "https://localhost:8080/"
        }
      },
      "source": [
        "p4c.sandbox_set(None) # Revert to default sandbox in case some other workflow selected a different one\n",
        "\n",
        "res_mitab = p4c.sandbox_url_to(\"https://www.dropbox.com/s/8wc8o897tsxewt1/BIOGRID-ORGANISM-Saccharomyces_cerevisiae-3.2.105.mitab?dl=0\", \"BIOGRID-ORGANISM-Saccharomyces_cerevisiae-3.2.105.mitab\")\n",
        "print(f'Network file BIOGRID-ORGANISM-Saccharomyces_cerevisiae-3.2.105.mitab has {res_mitab[\"fileByteCount\"]} bytes')"
      ],
      "execution_count": 4,
      "outputs": [
        {
          "output_type": "stream",
          "name": "stdout",
          "text": [
            "Network file BIOGRID-ORGANISM-Saccharomyces_cerevisiae-3.2.105.mitab has 166981992 bytes\n"
          ]
        }
      ]
    },
    {
      "cell_type": "markdown",
      "metadata": {
        "id": "RTGAUyauDr6K"
      },
      "source": [
        "---\n",
        "# Load the Protein-protein Interaction Network into Cytoscape\n",
        "The network is contained in the s. cerevisiae MITAB file."
      ]
    },
    {
      "cell_type": "markdown",
      "metadata": {
        "id": "jmanb3qDD7E2"
      },
      "source": [
        "Note that in this cell, the `import_network_from_file()` function (incorrectly) throws an exception in pre-3.10.0 Cytoscape. To ignore the exception, we enclose it in a try/except block.\n",
        "\n",
        "**Note:** Once the CYTOSCAPE-12772 issue is solved, we can remove the try/except block.\n"
      ]
    },
    {
      "cell_type": "code",
      "metadata": {
        "id": "nQ4lD6C_ghFA",
        "outputId": "a178788c-3711-4b13-aed7-8cb7477ba918",
        "colab": {
          "base_uri": "https://localhost:8080/"
        }
      },
      "source": [
        "from requests import HTTPError\n",
        "p4c.close_session(False)\n",
        "\n",
        "try:\n",
        "  p4c.import_network_from_file('BIOGRID-ORGANISM-Saccharomyces_cerevisiae-3.2.105.mitab')\n",
        "except:  \n",
        "  pass\n",
        "if p4c.get_network_count() != 1:\n",
        "  raise Exception('Failed to load network')\n",
        "net_suid = p4c.get_network_suid()\n",
        "print(f'Network identifier: {net_suid}')\n",
        "\n"
      ],
      "execution_count": 5,
      "outputs": [
        {
          "output_type": "stream",
          "name": "stdout",
          "text": [
            "Network identifier: 501\n"
          ]
        }
      ]
    },
    {
      "cell_type": "markdown",
      "metadata": {
        "id": "fyhlv8yyESep"
      },
      "source": [
        "---\n",
        "# Import the gene expression data\n",
        "The expression data is downloaded and merged into the network's node attribute table. \n",
        "\n",
        "The `Gene ID` column in the expression data is used as the key matched to the node attribute's `shared name` column, and the first 82 lines in the expression data is skipped because it doesn't contain data."
      ]
    },
    {
      "cell_type": "markdown",
      "metadata": {
        "id": "fX1fQqyFuvIp"
      },
      "source": [
        "---\n",
        "*Tip:* This cell shows how to create code that works around changes in Cytoscape capabilities. \n",
        "\n",
        "In this case, starting with Cytoscape 3.9.0, the `load_table_data_from_file()` function works as expected, so the gene expression data is merged into the node attribute table. \n",
        "\n",
        "Prior to 3.9.0, `load_table_data_from_file()` didn't work. As a workaround, we do most of the work in Pandas and then import the dataframe into the node attribute table. After Pandas reads the CSV, we will try to match dataframe Gene ID column to the `name` column in the Cytoscape node attribute table. To do this, we must explicitly set the Gene ID as a string (even though it's originally parsed as a number) because Cytoscape's `name` column is already a string. \n",
        "\n"
      ]
    },
    {
      "cell_type": "code",
      "metadata": {
        "id": "jMnno2stwRIC",
        "outputId": "866ea926-f10b-45a5-824c-2f338bdf375a",
        "colab": {
          "base_uri": "https://localhost:8080/"
        }
      },
      "source": [
        "if p4c.check_supported_versions(cytoscape='3.9') is None:\n",
        "  # Load file directly into Sandbox so Cytoscape can import it\n",
        "  res_soft = p4c.sandbox_url_to(\"https://www.dropbox.com/s/r15azh0xb53smu1/GDS112_full.soft?dl=0\", \"GDS112_full.soft\")\n",
        "  print(f'Annotation file GDS112_full.soft has {res_soft[\"fileByteCount\"]} bytes')\n",
        "\n",
        "  res = p4c.load_table_data_from_file('GDS112_full.soft', start_load_row=83, data_key_column_index=10, delimiters='\\t')\n",
        "  print(f'Load result contains table identifiers: {res[\"mappedTables\"]}')\n",
        "else:\n",
        "  # Load file into Notebook file system so Python can import it, tweak it, and download to Cytoscape\n",
        "  !wget -q --no-check-certificate https://www.dropbox.com/s/r15azh0xb53smu1/GDS112_full.soft?dl=0\n",
        "  !mv GDS112_full.soft?dl=0 GDS112_full.soft\n",
        "\n",
        "  import pandas as df\n",
        "  GDS112_full = df.read_csv('GDS112_full.soft', skiprows=82, sep='\\t')\n",
        "  GDS112_full.dropna(subset=['Gene ID'], inplace=True)\n",
        "  GDS112_full['Gene ID'] = df.to_numeric(GDS112_full['Gene ID'], downcast='integer')\n",
        "  GDS112_full = GDS112_full.astype({'Gene ID': 'string'})\n",
        "  print(GDS112_full.dtypes)\n",
        "  print(GDS112_full)\n",
        "  p4c.load_table_data(GDS112_full, data_key_column='Gene ID')\n",
        "\n",
        "  import os\n",
        "  os.remove('GDS112_full.soft')\n"
      ],
      "execution_count": 6,
      "outputs": [
        {
          "output_type": "stream",
          "name": "stdout",
          "text": [
            "Annotation file GDS112_full.soft has 5536880 bytes\n",
            "Load result contains table identifiers: [472, 510]\n"
          ]
        }
      ]
    },
    {
      "cell_type": "markdown",
      "metadata": {
        "id": "UgaRJXpPFPlL"
      },
      "source": [
        "---\n",
        "# Filter the Network with the Genes that have Expression Data\n",
        "For this, we assume that if a node has no *Gene symbol*, it also has no expression data. \n",
        "\n",
        "The filter compares each node's *Gene symbol* attribute to a regular expression. If there is a match, the gene is selected; for no match, the gene isn't selected."
      ]
    },
    {
      "cell_type": "code",
      "metadata": {
        "id": "FDtlIeqGCjrw",
        "outputId": "94f989f5-855e-4f2c-8ec2-e65592d71739",
        "colab": {
          "base_uri": "https://localhost:8080/"
        }
      },
      "source": [
        "res = p4c.create_column_filter('SymbolOK', 'Gene symbol', '[A-Z0-9]*', 'REGEX')\n",
        "print(f'Nodes selected: {len(res[\"nodes\"])}')"
      ],
      "execution_count": 7,
      "outputs": [
        {
          "output_type": "stream",
          "name": "stdout",
          "text": [
            "No edges selected.\n",
            "Nodes selected: 5501\n"
          ]
        }
      ]
    },
    {
      "cell_type": "markdown",
      "metadata": {
        "id": "gNzJz9QkFtxe"
      },
      "source": [
        "---\n",
        "# Create a New Network with the Selected Subset\n",
        "Create a subnetwork containing only nodes selected by the filter (i.e., having a *Gene symbol* value, which implies that expression data is present for that node)."
      ]
    },
    {
      "cell_type": "markdown",
      "metadata": {
        "id": "LlM9YkdHFygQ"
      },
      "source": [
        "This could take several minutes.\n",
        "\n",
        "At the end, you should see a view containing all nodes laid out. "
      ]
    },
    {
      "cell_type": "markdown",
      "metadata": {
        "id": "phx6pYM1ZiI4"
      },
      "source": [
        "If you see only a single rectangle, it could be that your Cytoscape is set to operate with a small stack size. To increase the stack:\n",
        "\n",
        "1. terminate Cytoscape\n",
        "\n",
        "2. a) upgrade Cytoscape to 3.9.0 or later \n",
        "\n",
        "  ... or b) use a text editor to add -Xss5M to the cytoscape.vmoptions file in your Cytoscape program directory\n",
        "\n",
        "3. restart Cytoscape\n",
        "\n",
        "4. re-run this workflow"
      ]
    },
    {
      "cell_type": "code",
      "metadata": {
        "id": "39sA48cLEurX",
        "outputId": "05578339-c452-47b7-ca2c-52886283b35e",
        "colab": {
          "base_uri": "https://localhost:8080/"
        }
      },
      "source": [
        "new_suid = p4c.create_subnetwork()\n",
        "print(f'New network identifier: {new_suid}')"
      ],
      "execution_count": 8,
      "outputs": [
        {
          "output_type": "stream",
          "name": "stdout",
          "text": [
            "New network identifier: 1388406\n"
          ]
        }
      ]
    },
    {
      "cell_type": "markdown",
      "metadata": {
        "id": "nfWTpsjOF3Op"
      },
      "source": [
        "## Get rid of the original network, which isn't needed anymore"
      ]
    },
    {
      "cell_type": "code",
      "metadata": {
        "id": "iYuud6SgG-sE"
      },
      "source": [
        "p4c.delete_network(net_suid)\n",
        "net_suid = new_suid"
      ],
      "execution_count": 9,
      "outputs": []
    },
    {
      "cell_type": "markdown",
      "source": [
        "---\n",
        "# Identify Network Modules\n",
        "The overall strategy is to find clusters of nodes that share some common attribute. In this case, we use expression data values. Specifically:\n",
        "\n",
        "* Load Cytoscape's clusterMaker2 app\n",
        "* Use clusterMaker2 to create a dendogram showing a hierarchy of similar network modules\n"
      ],
      "metadata": {
        "id": "dCS2f8w40Sen"
      }
    },
    {
      "cell_type": "markdown",
      "metadata": {
        "id": "FuDfuscFGCWI"
      },
      "source": [
        "## Install clusterMaker2 if it hasn't already been installed"
      ]
    },
    {
      "cell_type": "code",
      "metadata": {
        "id": "elMOuRa2IEb4",
        "outputId": "acf8f915-ed29-4ea5-a06c-cffff9b999cb",
        "colab": {
          "base_uri": "https://localhost:8080/"
        }
      },
      "source": [
        "p4c.install_app('clusterMaker2')"
      ],
      "execution_count": 10,
      "outputs": [
        {
          "output_type": "stream",
          "name": "stdout",
          "text": [
            "{}\n"
          ]
        },
        {
          "output_type": "execute_result",
          "data": {
            "text/plain": [
              "{}"
            ]
          },
          "metadata": {},
          "execution_count": 10
        }
      ]
    },
    {
      "cell_type": "markdown",
      "metadata": {
        "id": "2XmpalLLGINl"
      },
      "source": [
        "## Identify network modules\n",
        "Create a hierarchic clustering of similar nodes based on the expression data columns. Cytoscape renders the hierarchy as a dendogram.\n",
        "\n",
        "*Tip:* Cytoscape's dendogram window can be used to manually explore module similarity. "
      ]
    },
    {
      "cell_type": "code",
      "metadata": {
        "id": "qU59dHs3KONj"
      },
      "source": [
        "dendo_clustering = p4c.commands_post('cluster hierarchical showUI=true clusterAttributes=false nodeAttributeList=\"GSM1029,GSM1030,GSM1032,GSM1033,GSM1034\"')\n",
        "\n",
        "# dendo_clustering is a dictionary [{nodeOrder: [{nodeName: xxx, suid: sss}, ...]}\n",
        "#                                   {nodeTree: [{name: ggg, left: lll, right: rrr}]}]\n",
        "# where nodeOrder is a mapping between a leaf node name xxx and the suid sss of a network node,\n",
        "# and nodeTree is a tree where the left node lll and right node rrr can be leaf nodes xxx or\n",
        "# internal nodes ggg. "
      ],
      "execution_count": 11,
      "outputs": []
    },
    {
      "cell_type": "markdown",
      "metadata": {
        "id": "cLNIAjWa99pq"
      },
      "source": [
        "---\n",
        "# Perform an enrichment analysis using the gprofiler package"
      ]
    },
    {
      "cell_type": "markdown",
      "source": [
        "Use a package commonly available in PyPI to calculate functional enrichment for nodes similar to a node in which we may be interested. It's an example of how Cytoscape can work together with Python-based libraries to achieve a useful result.\n",
        "\n",
        "In this case, we choose HBT1 (entrez-gene ID 851303).\n",
        "\n",
        "1. Find SUID of network's HBT1 node\n",
        "\n",
        "1. Find a set of nodes similar to HBT1 by collecting nodes nearby in the tree\n",
        "\n",
        "1. Use each node's SUID to look up its entrez-gene ID\n",
        "\n",
        "1. Pass the set of entrez-gene IDs to gprofiler as an enrichment query\n",
        "\n",
        "\n"
      ],
      "metadata": {
        "id": "0KkaJdVA0sP9"
      }
    },
    {
      "cell_type": "markdown",
      "source": [
        "## Find HBD1 in the similarity tree"
      ],
      "metadata": {
        "id": "QY6PpCG906ox"
      }
    },
    {
      "cell_type": "code",
      "source": [
        "node_suid = p4c.node_name_to_node_suid('851303')[0] # Use entrez-gene ID to get SUID for HBT1"
      ],
      "metadata": {
        "id": "GasplzL409pP"
      },
      "execution_count": 12,
      "outputs": []
    },
    {
      "cell_type": "markdown",
      "source": [
        "## Collect set of SUIDs representing 85 similar nodes\n",
        "Note that we use custom functions to parse and traverse the dendogram's similarity tree.\n",
        "\n",
        "We use *wget* to copy the functions into a local directory so we can them import them and then call them."
      ],
      "metadata": {
        "id": "UOeXM9Er1AN_"
      }
    },
    {
      "cell_type": "code",
      "source": [
        "!wget -c https://raw.githubusercontent.com/cytoscape/py4cytoscape/master/tests/Notebooks/parse_dendogram.py\n",
        "import parse_dendogram as pde # Use custom functions to decode dendogram tree\n",
        "\n",
        "node_order = dendo_clustering[0]['nodeOrder']\n",
        "node_tree = dendo_clustering[0]['nodeTree']\n",
        "\n",
        "node_bag = pde.create_node_bag(node_order, node_tree)\n",
        "similar_nodes = list(pde.find_node_set(node_suid, 85, node_order, node_bag))"
      ],
      "metadata": {
        "colab": {
          "base_uri": "https://localhost:8080/"
        },
        "id": "M_Oy2h-a1FcH",
        "outputId": "645fe2b3-28ab-4070-cbaf-cff4ed1d50f0"
      },
      "execution_count": 13,
      "outputs": [
        {
          "output_type": "stream",
          "name": "stdout",
          "text": [
            "--2023-01-14 21:01:56--  https://raw.githubusercontent.com/cytoscape/py4cytoscape/master/tests/Notebooks/parse_dendogram.py\n",
            "Resolving raw.githubusercontent.com (raw.githubusercontent.com)... 185.199.108.133, 185.199.109.133, 185.199.110.133, ...\n",
            "Connecting to raw.githubusercontent.com (raw.githubusercontent.com)|185.199.108.133|:443... connected.\n",
            "HTTP request sent, awaiting response... 200 OK\n",
            "Length: 1852 (1.8K) [text/plain]\n",
            "Saving to: ‘parse_dendogram.py’\n",
            "\n",
            "parse_dendogram.py  100%[===================>]   1.81K  --.-KB/s    in 0s      \n",
            "\n",
            "2023-01-14 21:01:56 (26.1 MB/s) - ‘parse_dendogram.py’ saved [1852/1852]\n",
            "\n"
          ]
        }
      ]
    },
    {
      "cell_type": "markdown",
      "source": [
        "## Using SUIDs, query Cytoscape for each node's entrez-gene ID"
      ],
      "metadata": {
        "id": "CkqKoYeB1I7V"
      }
    },
    {
      "cell_type": "code",
      "source": [
        "suid_to_entrez_gene = p4c.get_table_columns(columns='name')['name']\n",
        "entrez_gene_query = [int(suid_to_entrez_gene[suid])  for suid in similar_nodes]\n",
        "\n",
        "print(entrez_gene_query)"
      ],
      "metadata": {
        "colab": {
          "base_uri": "https://localhost:8080/"
        },
        "id": "Oa0ad5Af1LTb",
        "outputId": "8833c57d-7c76-415a-8d60-096e784a1002"
      },
      "execution_count": 14,
      "outputs": [
        {
          "output_type": "stream",
          "name": "stdout",
          "text": [
            "[851596, 854170, 851747, 852389, 856016, 855144, 852088, 851934, 856749, 853159, 856866, 851380, 851474, 853102, 852032, 856671, 853338, 852664, 852763, 855308, 855749, 854357, 853758, 856541, 856925, 851468, 855562, 851013, 851625, 852592, 851419, 850711, 856913, 854337, 855757, 851084, 856360, 855259, 852771, 850840, 853238, 854114, 851582, 851980, 850928, 852064, 854263, 855126, 850495, 856417, 853920, 853536, 856492, 856536, 854856, 853100, 854109, 855887, 850295, 855363, 853614, 854123, 853766, 854152, 855878, 851303, 854738, 856313, 854125, 854000, 851541, 854085, 850354, 856616, 853693, 854261, 854206, 850598, 853405, 856543, 851141, 851100, 851649, 853613, 853281]\n"
          ]
        }
      ]
    },
    {
      "cell_type": "markdown",
      "source": [
        "## Install gprofiler package if it's not already installed"
      ],
      "metadata": {
        "id": "mI7Th8Wp1PBc"
      }
    },
    {
      "cell_type": "code",
      "source": [
        "!pip install gprofiler-official\n",
        "from gprofiler import GProfiler"
      ],
      "metadata": {
        "colab": {
          "base_uri": "https://localhost:8080/"
        },
        "id": "ZTuo_RU01RGh",
        "outputId": "fcbc6135-9537-4ee5-d99d-9f8985e95102"
      },
      "execution_count": 15,
      "outputs": [
        {
          "output_type": "stream",
          "name": "stdout",
          "text": [
            "Looking in indexes: https://pypi.org/simple, https://us-python.pkg.dev/colab-wheels/public/simple/\n",
            "Collecting gprofiler-official\n",
            "  Downloading gprofiler_official-1.0.0-py3-none-any.whl (9.3 kB)\n",
            "Requirement already satisfied: requests in /usr/local/lib/python3.8/dist-packages (from gprofiler-official) (2.25.1)\n",
            "Requirement already satisfied: chardet<5,>=3.0.2 in /usr/local/lib/python3.8/dist-packages (from requests->gprofiler-official) (4.0.0)\n",
            "Requirement already satisfied: urllib3<1.27,>=1.21.1 in /usr/local/lib/python3.8/dist-packages (from requests->gprofiler-official) (1.24.3)\n",
            "Requirement already satisfied: certifi>=2017.4.17 in /usr/local/lib/python3.8/dist-packages (from requests->gprofiler-official) (2022.12.7)\n",
            "Requirement already satisfied: idna<3,>=2.5 in /usr/local/lib/python3.8/dist-packages (from requests->gprofiler-official) (2.10)\n",
            "Installing collected packages: gprofiler-official\n",
            "Successfully installed gprofiler-official-1.0.0\n"
          ]
        }
      ]
    },
    {
      "cell_type": "markdown",
      "source": [
        "## Use entrez-gene IDs to query gprofiler for GO functional enrichment"
      ],
      "metadata": {
        "id": "qSqydaCm1V18"
      }
    },
    {
      "cell_type": "code",
      "source": [
        "gp = GProfiler(user_agent='py4cytoscape', return_dataframe=True)\n",
        "gp.profile(organism='scerevisiae', query=entrez_gene_query)"
      ],
      "metadata": {
        "colab": {
          "base_uri": "https://localhost:8080/",
          "height": 1000
        },
        "id": "URjS9i-k1YCh",
        "outputId": "225eede2-b486-4afa-ce1b-90338f0b117c"
      },
      "execution_count": 16,
      "outputs": [
        {
          "output_type": "execute_result",
          "data": {
            "text/plain": [
              "   source       native                                               name  \\\n",
              "0   GO:MF   GO:0004679              AMP-activated protein kinase activity   \n",
              "1   GO:CC   GO:0031588        nucleotide-activated protein kinase complex   \n",
              "2   GO:CC   GO:0016514                                    SWI/SNF complex   \n",
              "3   GO:BP   GO:0070784  regulation of growth of unicellular organism a...   \n",
              "4   GO:BP   GO:1900428  regulation of filamentous growth of a populati...   \n",
              "5   GO:CC   GO:0005576                               extracellular region   \n",
              "6   GO:BP   GO:0010570                   regulation of filamentous growth   \n",
              "7   GO:CC   GO:0009277                              fungal-type cell wall   \n",
              "8   GO:BP   GO:0070786  positive regulation of growth of unicellular o...   \n",
              "9   GO:CC   GO:0005618                                          cell wall   \n",
              "10  GO:CC   GO:0030312                   external encapsulating structure   \n",
              "11  GO:CC   GO:0005641                             nuclear envelope lumen   \n",
              "12  GO:BP   GO:0070783  growth of unicellular organism as a thread of ...   \n",
              "13  GO:MF   GO:0003824                                 catalytic activity   \n",
              "14  GO:BP   GO:0044182  filamentous growth of a population of unicellu...   \n",
              "15  GO:BP   GO:1900430  positive regulation of filamentous growth of a...   \n",
              "16  GO:BP   GO:0090033          positive regulation of filamentous growth   \n",
              "17  GO:BP   GO:2000222         positive regulation of pseudohyphal growth   \n",
              "18  GO:BP   GO:0040008                               regulation of growth   \n",
              "19  GO:BP   GO:1905168  positive regulation of double-strand break rep...   \n",
              "20  GO:BP   GO:2000220                  regulation of pseudohyphal growth   \n",
              "21  GO:BP   GO:0010569  regulation of double-strand break repair via h...   \n",
              "22  GO:BP   GO:0045927                      positive regulation of growth   \n",
              "23  GO:BP   GO:0030447                                 filamentous growth   \n",
              "24  GO:BP   GO:2000217  regulation of invasive growth in response to g...   \n",
              "25  GO:CC   GO:0070603                   SWI/SNF superfamily-type complex   \n",
              "26     TF  TF:M00125_1  Factor: Mcm1p; motif: WTTCCYAAWNNGGTAA; match ...   \n",
              "27  GO:BP   GO:1904547  regulation of cellular response to glucose sta...   \n",
              "28     TF    TF:M01891                      Factor: YAP1; motif: TKACTAAT   \n",
              "29  GO:BP   GO:2000781  positive regulation of double-strand break repair   \n",
              "30  GO:BP   GO:0030307                 positive regulation of cell growth   \n",
              "31  GO:CC   GO:0110165                         cellular anatomical entity   \n",
              "32   KEGG   KEGG:00020                          Citrate cycle (TCA cycle)   \n",
              "33  GO:CC   GO:1904949                                     ATPase complex   \n",
              "\n",
              "     p_value  significant                                        description  \\\n",
              "0   0.000005         True  \"Catalysis of the reaction: ATP + a protein = ...   \n",
              "1   0.000007         True  \"A protein complex that possesses nucleotide-d...   \n",
              "2   0.000161         True  \"A SWI/SNF-type complex that contains 8 to 14 ...   \n",
              "3   0.000293         True  \"Any process that modulates the frequency, rat...   \n",
              "4   0.000601         True  \"Any process that modulates the frequency, rat...   \n",
              "5   0.000822         True  \"The space external to the outermost structure...   \n",
              "6   0.000836         True  \"Any process that modulates the frequency, rat...   \n",
              "7   0.002098         True  \"A rigid yet dynamic structure surrounding the...   \n",
              "8   0.002237         True  \"Any process that activates or increases the f...   \n",
              "9   0.003032         True  \"The rigid or semi-rigid envelope lying outsid...   \n",
              "10  0.003218         True  \"A structure that lies outside the plasma memb...   \n",
              "11  0.003859         True  \"The region between the two lipid bilayers of ...   \n",
              "12  0.004489         True  \"A filamentous growth process in which cells r...   \n",
              "13  0.004966         True  \"Catalysis of a biochemical reaction at physio...   \n",
              "14  0.005678         True  \"The process in which a group of unicellular o...   \n",
              "15  0.006218         True  \"Any process that activates or increases the f...   \n",
              "16  0.006218         True  \"Any process that increases the frequency, rat...   \n",
              "17  0.008286         True  \"Any process that activates or increases the f...   \n",
              "18  0.011015         True  \"Any process that modulates the frequency, rat...   \n",
              "19  0.011851         True  \"Any process that activates or increases the f...   \n",
              "20  0.014328         True  \"Any process that modulates the frequency, rat...   \n",
              "21  0.016430         True  \"Any process that modulates the frequency, rat...   \n",
              "22  0.017267         True  \"Any process that activates or increases the r...   \n",
              "23  0.020074         True  \"The process in which a multicellular organism...   \n",
              "24  0.022185         True  \"Any process that modulates the frequency, rat...   \n",
              "25  0.024705         True  \"A protein complex that contains an ortholog o...   \n",
              "26  0.026507         True  Factor: Mcm1p; motif: WTTCCYAAWNNGGTAA; match ...   \n",
              "27  0.028417         True  \"Any process that modulates the frequency, rat...   \n",
              "28  0.028986         True                      Factor: YAP1; motif: TKACTAAT   \n",
              "29  0.029292         True  \"Any process that activates or increases the f...   \n",
              "30  0.037931         True  \"Any process that activates or increases the f...   \n",
              "31  0.043311         True  \"A part of a cellular organism that is either ...   \n",
              "32  0.043969         True                          Citrate cycle (TCA cycle)   \n",
              "33  0.044860         True  \"A protein complex which is capable of ATPase ...   \n",
              "\n",
              "    term_size  query_size  intersection_size  effective_domain_size  \\\n",
              "0           8          84                  5                   6549   \n",
              "1           9          84                  5                   6566   \n",
              "2          15          84                  5                   6566   \n",
              "3          38          84                  7                   6539   \n",
              "4          42          84                  7                   6539   \n",
              "5         127          84                 10                   6566   \n",
              "6          44          84                  7                   6539   \n",
              "7         141          84                 10                   6566   \n",
              "8          19          84                  5                   6539   \n",
              "9         147          84                 10                   6566   \n",
              "10        148          84                 10                   6566   \n",
              "11          5          84                  3                   6566   \n",
              "12        104          84                  9                   6539   \n",
              "13       2332          84                 49                   6549   \n",
              "14        107          84                  9                   6539   \n",
              "15         23          84                  5                   6539   \n",
              "16         23          84                  5                   6539   \n",
              "17         12          84                  4                   6539   \n",
              "18         64          84                  7                   6539   \n",
              "19         13          84                  4                   6539   \n",
              "20         27          84                  5                   6539   \n",
              "21         14          84                  4                   6539   \n",
              "22         28          84                  5                   6539   \n",
              "23        125          84                  9                   6539   \n",
              "24         15          84                  4                   6539   \n",
              "25         62          84                  6                   6566   \n",
              "26        138          84                  8                   6599   \n",
              "27          6          84                  3                   6539   \n",
              "28        440          84                 15                   6599   \n",
              "29         16          84                  4                   6539   \n",
              "30         17          84                  4                   6539   \n",
              "31       5768          84                 83                   6566   \n",
              "32         31          35                  4                   2094   \n",
              "33         69          84                  6                   6566   \n",
              "\n",
              "    precision    recall    query  \\\n",
              "0    0.059524  0.625000  query_1   \n",
              "1    0.059524  0.555556  query_1   \n",
              "2    0.059524  0.333333  query_1   \n",
              "3    0.083333  0.184211  query_1   \n",
              "4    0.083333  0.166667  query_1   \n",
              "5    0.119048  0.078740  query_1   \n",
              "6    0.083333  0.159091  query_1   \n",
              "7    0.119048  0.070922  query_1   \n",
              "8    0.059524  0.263158  query_1   \n",
              "9    0.119048  0.068027  query_1   \n",
              "10   0.119048  0.067568  query_1   \n",
              "11   0.035714  0.600000  query_1   \n",
              "12   0.107143  0.086538  query_1   \n",
              "13   0.583333  0.021012  query_1   \n",
              "14   0.107143  0.084112  query_1   \n",
              "15   0.059524  0.217391  query_1   \n",
              "16   0.059524  0.217391  query_1   \n",
              "17   0.047619  0.333333  query_1   \n",
              "18   0.083333  0.109375  query_1   \n",
              "19   0.047619  0.307692  query_1   \n",
              "20   0.059524  0.185185  query_1   \n",
              "21   0.047619  0.285714  query_1   \n",
              "22   0.059524  0.178571  query_1   \n",
              "23   0.107143  0.072000  query_1   \n",
              "24   0.047619  0.266667  query_1   \n",
              "25   0.071429  0.096774  query_1   \n",
              "26   0.095238  0.057971  query_1   \n",
              "27   0.035714  0.500000  query_1   \n",
              "28   0.178571  0.034091  query_1   \n",
              "29   0.047619  0.250000  query_1   \n",
              "30   0.047619  0.235294  query_1   \n",
              "31   0.988095  0.014390  query_1   \n",
              "32   0.114286  0.129032  query_1   \n",
              "33   0.071429  0.086957  query_1   \n",
              "\n",
              "                                             parents  \n",
              "0                                       [GO:0004674]  \n",
              "1                           [GO:0140535, GO:1902911]  \n",
              "2                                       [GO:0070603]  \n",
              "3                           [GO:0070783, GO:1900428]  \n",
              "4                           [GO:0010570, GO:0044182]  \n",
              "5                                       [GO:0110165]  \n",
              "6                           [GO:0030447, GO:0040008]  \n",
              "7                                       [GO:0005618]  \n",
              "8               [GO:0070783, GO:0070784, GO:1900430]  \n",
              "9                                       [GO:0030312]  \n",
              "10                          [GO:0071944, GO:0110165]  \n",
              "11                          [GO:0005635, GO:0031970]  \n",
              "12                                      [GO:0044182]  \n",
              "13                                      [GO:0003674]  \n",
              "14                                      [GO:0030447]  \n",
              "15              [GO:0044182, GO:0090033, GO:1900428]  \n",
              "16              [GO:0010570, GO:0030447, GO:0045927]  \n",
              "17  [GO:0007124, GO:0030307, GO:0070786, GO:2000220]  \n",
              "18                          [GO:0040007, GO:0050789]  \n",
              "19  [GO:0000724, GO:0010569, GO:0045911, GO:2000781]  \n",
              "20              [GO:0001558, GO:0007124, GO:0070784]  \n",
              "21              [GO:0000018, GO:0000724, GO:2000779]  \n",
              "22              [GO:0040007, GO:0040008, GO:0048518]  \n",
              "23                                      [GO:0040007]  \n",
              "24                          [GO:0001403, GO:0070784]  \n",
              "25              [GO:0000785, GO:0140513, GO:1904949]  \n",
              "26                                       [TF:M00125]  \n",
              "27  [GO:0010646, GO:0032107, GO:0042149, GO:0080135]  \n",
              "28                                       [TF:M00000]  \n",
              "29              [GO:0006302, GO:0045739, GO:2000779]  \n",
              "30  [GO:0001558, GO:0016049, GO:0045927, GO:0048522]  \n",
              "31                                      [GO:0005575]  \n",
              "32                                      [KEGG:00000]  \n",
              "33                                      [GO:1902494]  "
            ],
            "text/html": [
              "\n",
              "  <div id=\"df-21dda41d-3bc8-4afa-98a0-e1cd9041d59d\">\n",
              "    <div class=\"colab-df-container\">\n",
              "      <div>\n",
              "<style scoped>\n",
              "    .dataframe tbody tr th:only-of-type {\n",
              "        vertical-align: middle;\n",
              "    }\n",
              "\n",
              "    .dataframe tbody tr th {\n",
              "        vertical-align: top;\n",
              "    }\n",
              "\n",
              "    .dataframe thead th {\n",
              "        text-align: right;\n",
              "    }\n",
              "</style>\n",
              "<table border=\"1\" class=\"dataframe\">\n",
              "  <thead>\n",
              "    <tr style=\"text-align: right;\">\n",
              "      <th></th>\n",
              "      <th>source</th>\n",
              "      <th>native</th>\n",
              "      <th>name</th>\n",
              "      <th>p_value</th>\n",
              "      <th>significant</th>\n",
              "      <th>description</th>\n",
              "      <th>term_size</th>\n",
              "      <th>query_size</th>\n",
              "      <th>intersection_size</th>\n",
              "      <th>effective_domain_size</th>\n",
              "      <th>precision</th>\n",
              "      <th>recall</th>\n",
              "      <th>query</th>\n",
              "      <th>parents</th>\n",
              "    </tr>\n",
              "  </thead>\n",
              "  <tbody>\n",
              "    <tr>\n",
              "      <th>0</th>\n",
              "      <td>GO:MF</td>\n",
              "      <td>GO:0004679</td>\n",
              "      <td>AMP-activated protein kinase activity</td>\n",
              "      <td>0.000005</td>\n",
              "      <td>True</td>\n",
              "      <td>\"Catalysis of the reaction: ATP + a protein = ...</td>\n",
              "      <td>8</td>\n",
              "      <td>84</td>\n",
              "      <td>5</td>\n",
              "      <td>6549</td>\n",
              "      <td>0.059524</td>\n",
              "      <td>0.625000</td>\n",
              "      <td>query_1</td>\n",
              "      <td>[GO:0004674]</td>\n",
              "    </tr>\n",
              "    <tr>\n",
              "      <th>1</th>\n",
              "      <td>GO:CC</td>\n",
              "      <td>GO:0031588</td>\n",
              "      <td>nucleotide-activated protein kinase complex</td>\n",
              "      <td>0.000007</td>\n",
              "      <td>True</td>\n",
              "      <td>\"A protein complex that possesses nucleotide-d...</td>\n",
              "      <td>9</td>\n",
              "      <td>84</td>\n",
              "      <td>5</td>\n",
              "      <td>6566</td>\n",
              "      <td>0.059524</td>\n",
              "      <td>0.555556</td>\n",
              "      <td>query_1</td>\n",
              "      <td>[GO:0140535, GO:1902911]</td>\n",
              "    </tr>\n",
              "    <tr>\n",
              "      <th>2</th>\n",
              "      <td>GO:CC</td>\n",
              "      <td>GO:0016514</td>\n",
              "      <td>SWI/SNF complex</td>\n",
              "      <td>0.000161</td>\n",
              "      <td>True</td>\n",
              "      <td>\"A SWI/SNF-type complex that contains 8 to 14 ...</td>\n",
              "      <td>15</td>\n",
              "      <td>84</td>\n",
              "      <td>5</td>\n",
              "      <td>6566</td>\n",
              "      <td>0.059524</td>\n",
              "      <td>0.333333</td>\n",
              "      <td>query_1</td>\n",
              "      <td>[GO:0070603]</td>\n",
              "    </tr>\n",
              "    <tr>\n",
              "      <th>3</th>\n",
              "      <td>GO:BP</td>\n",
              "      <td>GO:0070784</td>\n",
              "      <td>regulation of growth of unicellular organism a...</td>\n",
              "      <td>0.000293</td>\n",
              "      <td>True</td>\n",
              "      <td>\"Any process that modulates the frequency, rat...</td>\n",
              "      <td>38</td>\n",
              "      <td>84</td>\n",
              "      <td>7</td>\n",
              "      <td>6539</td>\n",
              "      <td>0.083333</td>\n",
              "      <td>0.184211</td>\n",
              "      <td>query_1</td>\n",
              "      <td>[GO:0070783, GO:1900428]</td>\n",
              "    </tr>\n",
              "    <tr>\n",
              "      <th>4</th>\n",
              "      <td>GO:BP</td>\n",
              "      <td>GO:1900428</td>\n",
              "      <td>regulation of filamentous growth of a populati...</td>\n",
              "      <td>0.000601</td>\n",
              "      <td>True</td>\n",
              "      <td>\"Any process that modulates the frequency, rat...</td>\n",
              "      <td>42</td>\n",
              "      <td>84</td>\n",
              "      <td>7</td>\n",
              "      <td>6539</td>\n",
              "      <td>0.083333</td>\n",
              "      <td>0.166667</td>\n",
              "      <td>query_1</td>\n",
              "      <td>[GO:0010570, GO:0044182]</td>\n",
              "    </tr>\n",
              "    <tr>\n",
              "      <th>5</th>\n",
              "      <td>GO:CC</td>\n",
              "      <td>GO:0005576</td>\n",
              "      <td>extracellular region</td>\n",
              "      <td>0.000822</td>\n",
              "      <td>True</td>\n",
              "      <td>\"The space external to the outermost structure...</td>\n",
              "      <td>127</td>\n",
              "      <td>84</td>\n",
              "      <td>10</td>\n",
              "      <td>6566</td>\n",
              "      <td>0.119048</td>\n",
              "      <td>0.078740</td>\n",
              "      <td>query_1</td>\n",
              "      <td>[GO:0110165]</td>\n",
              "    </tr>\n",
              "    <tr>\n",
              "      <th>6</th>\n",
              "      <td>GO:BP</td>\n",
              "      <td>GO:0010570</td>\n",
              "      <td>regulation of filamentous growth</td>\n",
              "      <td>0.000836</td>\n",
              "      <td>True</td>\n",
              "      <td>\"Any process that modulates the frequency, rat...</td>\n",
              "      <td>44</td>\n",
              "      <td>84</td>\n",
              "      <td>7</td>\n",
              "      <td>6539</td>\n",
              "      <td>0.083333</td>\n",
              "      <td>0.159091</td>\n",
              "      <td>query_1</td>\n",
              "      <td>[GO:0030447, GO:0040008]</td>\n",
              "    </tr>\n",
              "    <tr>\n",
              "      <th>7</th>\n",
              "      <td>GO:CC</td>\n",
              "      <td>GO:0009277</td>\n",
              "      <td>fungal-type cell wall</td>\n",
              "      <td>0.002098</td>\n",
              "      <td>True</td>\n",
              "      <td>\"A rigid yet dynamic structure surrounding the...</td>\n",
              "      <td>141</td>\n",
              "      <td>84</td>\n",
              "      <td>10</td>\n",
              "      <td>6566</td>\n",
              "      <td>0.119048</td>\n",
              "      <td>0.070922</td>\n",
              "      <td>query_1</td>\n",
              "      <td>[GO:0005618]</td>\n",
              "    </tr>\n",
              "    <tr>\n",
              "      <th>8</th>\n",
              "      <td>GO:BP</td>\n",
              "      <td>GO:0070786</td>\n",
              "      <td>positive regulation of growth of unicellular o...</td>\n",
              "      <td>0.002237</td>\n",
              "      <td>True</td>\n",
              "      <td>\"Any process that activates or increases the f...</td>\n",
              "      <td>19</td>\n",
              "      <td>84</td>\n",
              "      <td>5</td>\n",
              "      <td>6539</td>\n",
              "      <td>0.059524</td>\n",
              "      <td>0.263158</td>\n",
              "      <td>query_1</td>\n",
              "      <td>[GO:0070783, GO:0070784, GO:1900430]</td>\n",
              "    </tr>\n",
              "    <tr>\n",
              "      <th>9</th>\n",
              "      <td>GO:CC</td>\n",
              "      <td>GO:0005618</td>\n",
              "      <td>cell wall</td>\n",
              "      <td>0.003032</td>\n",
              "      <td>True</td>\n",
              "      <td>\"The rigid or semi-rigid envelope lying outsid...</td>\n",
              "      <td>147</td>\n",
              "      <td>84</td>\n",
              "      <td>10</td>\n",
              "      <td>6566</td>\n",
              "      <td>0.119048</td>\n",
              "      <td>0.068027</td>\n",
              "      <td>query_1</td>\n",
              "      <td>[GO:0030312]</td>\n",
              "    </tr>\n",
              "    <tr>\n",
              "      <th>10</th>\n",
              "      <td>GO:CC</td>\n",
              "      <td>GO:0030312</td>\n",
              "      <td>external encapsulating structure</td>\n",
              "      <td>0.003218</td>\n",
              "      <td>True</td>\n",
              "      <td>\"A structure that lies outside the plasma memb...</td>\n",
              "      <td>148</td>\n",
              "      <td>84</td>\n",
              "      <td>10</td>\n",
              "      <td>6566</td>\n",
              "      <td>0.119048</td>\n",
              "      <td>0.067568</td>\n",
              "      <td>query_1</td>\n",
              "      <td>[GO:0071944, GO:0110165]</td>\n",
              "    </tr>\n",
              "    <tr>\n",
              "      <th>11</th>\n",
              "      <td>GO:CC</td>\n",
              "      <td>GO:0005641</td>\n",
              "      <td>nuclear envelope lumen</td>\n",
              "      <td>0.003859</td>\n",
              "      <td>True</td>\n",
              "      <td>\"The region between the two lipid bilayers of ...</td>\n",
              "      <td>5</td>\n",
              "      <td>84</td>\n",
              "      <td>3</td>\n",
              "      <td>6566</td>\n",
              "      <td>0.035714</td>\n",
              "      <td>0.600000</td>\n",
              "      <td>query_1</td>\n",
              "      <td>[GO:0005635, GO:0031970]</td>\n",
              "    </tr>\n",
              "    <tr>\n",
              "      <th>12</th>\n",
              "      <td>GO:BP</td>\n",
              "      <td>GO:0070783</td>\n",
              "      <td>growth of unicellular organism as a thread of ...</td>\n",
              "      <td>0.004489</td>\n",
              "      <td>True</td>\n",
              "      <td>\"A filamentous growth process in which cells r...</td>\n",
              "      <td>104</td>\n",
              "      <td>84</td>\n",
              "      <td>9</td>\n",
              "      <td>6539</td>\n",
              "      <td>0.107143</td>\n",
              "      <td>0.086538</td>\n",
              "      <td>query_1</td>\n",
              "      <td>[GO:0044182]</td>\n",
              "    </tr>\n",
              "    <tr>\n",
              "      <th>13</th>\n",
              "      <td>GO:MF</td>\n",
              "      <td>GO:0003824</td>\n",
              "      <td>catalytic activity</td>\n",
              "      <td>0.004966</td>\n",
              "      <td>True</td>\n",
              "      <td>\"Catalysis of a biochemical reaction at physio...</td>\n",
              "      <td>2332</td>\n",
              "      <td>84</td>\n",
              "      <td>49</td>\n",
              "      <td>6549</td>\n",
              "      <td>0.583333</td>\n",
              "      <td>0.021012</td>\n",
              "      <td>query_1</td>\n",
              "      <td>[GO:0003674]</td>\n",
              "    </tr>\n",
              "    <tr>\n",
              "      <th>14</th>\n",
              "      <td>GO:BP</td>\n",
              "      <td>GO:0044182</td>\n",
              "      <td>filamentous growth of a population of unicellu...</td>\n",
              "      <td>0.005678</td>\n",
              "      <td>True</td>\n",
              "      <td>\"The process in which a group of unicellular o...</td>\n",
              "      <td>107</td>\n",
              "      <td>84</td>\n",
              "      <td>9</td>\n",
              "      <td>6539</td>\n",
              "      <td>0.107143</td>\n",
              "      <td>0.084112</td>\n",
              "      <td>query_1</td>\n",
              "      <td>[GO:0030447]</td>\n",
              "    </tr>\n",
              "    <tr>\n",
              "      <th>15</th>\n",
              "      <td>GO:BP</td>\n",
              "      <td>GO:1900430</td>\n",
              "      <td>positive regulation of filamentous growth of a...</td>\n",
              "      <td>0.006218</td>\n",
              "      <td>True</td>\n",
              "      <td>\"Any process that activates or increases the f...</td>\n",
              "      <td>23</td>\n",
              "      <td>84</td>\n",
              "      <td>5</td>\n",
              "      <td>6539</td>\n",
              "      <td>0.059524</td>\n",
              "      <td>0.217391</td>\n",
              "      <td>query_1</td>\n",
              "      <td>[GO:0044182, GO:0090033, GO:1900428]</td>\n",
              "    </tr>\n",
              "    <tr>\n",
              "      <th>16</th>\n",
              "      <td>GO:BP</td>\n",
              "      <td>GO:0090033</td>\n",
              "      <td>positive regulation of filamentous growth</td>\n",
              "      <td>0.006218</td>\n",
              "      <td>True</td>\n",
              "      <td>\"Any process that increases the frequency, rat...</td>\n",
              "      <td>23</td>\n",
              "      <td>84</td>\n",
              "      <td>5</td>\n",
              "      <td>6539</td>\n",
              "      <td>0.059524</td>\n",
              "      <td>0.217391</td>\n",
              "      <td>query_1</td>\n",
              "      <td>[GO:0010570, GO:0030447, GO:0045927]</td>\n",
              "    </tr>\n",
              "    <tr>\n",
              "      <th>17</th>\n",
              "      <td>GO:BP</td>\n",
              "      <td>GO:2000222</td>\n",
              "      <td>positive regulation of pseudohyphal growth</td>\n",
              "      <td>0.008286</td>\n",
              "      <td>True</td>\n",
              "      <td>\"Any process that activates or increases the f...</td>\n",
              "      <td>12</td>\n",
              "      <td>84</td>\n",
              "      <td>4</td>\n",
              "      <td>6539</td>\n",
              "      <td>0.047619</td>\n",
              "      <td>0.333333</td>\n",
              "      <td>query_1</td>\n",
              "      <td>[GO:0007124, GO:0030307, GO:0070786, GO:2000220]</td>\n",
              "    </tr>\n",
              "    <tr>\n",
              "      <th>18</th>\n",
              "      <td>GO:BP</td>\n",
              "      <td>GO:0040008</td>\n",
              "      <td>regulation of growth</td>\n",
              "      <td>0.011015</td>\n",
              "      <td>True</td>\n",
              "      <td>\"Any process that modulates the frequency, rat...</td>\n",
              "      <td>64</td>\n",
              "      <td>84</td>\n",
              "      <td>7</td>\n",
              "      <td>6539</td>\n",
              "      <td>0.083333</td>\n",
              "      <td>0.109375</td>\n",
              "      <td>query_1</td>\n",
              "      <td>[GO:0040007, GO:0050789]</td>\n",
              "    </tr>\n",
              "    <tr>\n",
              "      <th>19</th>\n",
              "      <td>GO:BP</td>\n",
              "      <td>GO:1905168</td>\n",
              "      <td>positive regulation of double-strand break rep...</td>\n",
              "      <td>0.011851</td>\n",
              "      <td>True</td>\n",
              "      <td>\"Any process that activates or increases the f...</td>\n",
              "      <td>13</td>\n",
              "      <td>84</td>\n",
              "      <td>4</td>\n",
              "      <td>6539</td>\n",
              "      <td>0.047619</td>\n",
              "      <td>0.307692</td>\n",
              "      <td>query_1</td>\n",
              "      <td>[GO:0000724, GO:0010569, GO:0045911, GO:2000781]</td>\n",
              "    </tr>\n",
              "    <tr>\n",
              "      <th>20</th>\n",
              "      <td>GO:BP</td>\n",
              "      <td>GO:2000220</td>\n",
              "      <td>regulation of pseudohyphal growth</td>\n",
              "      <td>0.014328</td>\n",
              "      <td>True</td>\n",
              "      <td>\"Any process that modulates the frequency, rat...</td>\n",
              "      <td>27</td>\n",
              "      <td>84</td>\n",
              "      <td>5</td>\n",
              "      <td>6539</td>\n",
              "      <td>0.059524</td>\n",
              "      <td>0.185185</td>\n",
              "      <td>query_1</td>\n",
              "      <td>[GO:0001558, GO:0007124, GO:0070784]</td>\n",
              "    </tr>\n",
              "    <tr>\n",
              "      <th>21</th>\n",
              "      <td>GO:BP</td>\n",
              "      <td>GO:0010569</td>\n",
              "      <td>regulation of double-strand break repair via h...</td>\n",
              "      <td>0.016430</td>\n",
              "      <td>True</td>\n",
              "      <td>\"Any process that modulates the frequency, rat...</td>\n",
              "      <td>14</td>\n",
              "      <td>84</td>\n",
              "      <td>4</td>\n",
              "      <td>6539</td>\n",
              "      <td>0.047619</td>\n",
              "      <td>0.285714</td>\n",
              "      <td>query_1</td>\n",
              "      <td>[GO:0000018, GO:0000724, GO:2000779]</td>\n",
              "    </tr>\n",
              "    <tr>\n",
              "      <th>22</th>\n",
              "      <td>GO:BP</td>\n",
              "      <td>GO:0045927</td>\n",
              "      <td>positive regulation of growth</td>\n",
              "      <td>0.017267</td>\n",
              "      <td>True</td>\n",
              "      <td>\"Any process that activates or increases the r...</td>\n",
              "      <td>28</td>\n",
              "      <td>84</td>\n",
              "      <td>5</td>\n",
              "      <td>6539</td>\n",
              "      <td>0.059524</td>\n",
              "      <td>0.178571</td>\n",
              "      <td>query_1</td>\n",
              "      <td>[GO:0040007, GO:0040008, GO:0048518]</td>\n",
              "    </tr>\n",
              "    <tr>\n",
              "      <th>23</th>\n",
              "      <td>GO:BP</td>\n",
              "      <td>GO:0030447</td>\n",
              "      <td>filamentous growth</td>\n",
              "      <td>0.020074</td>\n",
              "      <td>True</td>\n",
              "      <td>\"The process in which a multicellular organism...</td>\n",
              "      <td>125</td>\n",
              "      <td>84</td>\n",
              "      <td>9</td>\n",
              "      <td>6539</td>\n",
              "      <td>0.107143</td>\n",
              "      <td>0.072000</td>\n",
              "      <td>query_1</td>\n",
              "      <td>[GO:0040007]</td>\n",
              "    </tr>\n",
              "    <tr>\n",
              "      <th>24</th>\n",
              "      <td>GO:BP</td>\n",
              "      <td>GO:2000217</td>\n",
              "      <td>regulation of invasive growth in response to g...</td>\n",
              "      <td>0.022185</td>\n",
              "      <td>True</td>\n",
              "      <td>\"Any process that modulates the frequency, rat...</td>\n",
              "      <td>15</td>\n",
              "      <td>84</td>\n",
              "      <td>4</td>\n",
              "      <td>6539</td>\n",
              "      <td>0.047619</td>\n",
              "      <td>0.266667</td>\n",
              "      <td>query_1</td>\n",
              "      <td>[GO:0001403, GO:0070784]</td>\n",
              "    </tr>\n",
              "    <tr>\n",
              "      <th>25</th>\n",
              "      <td>GO:CC</td>\n",
              "      <td>GO:0070603</td>\n",
              "      <td>SWI/SNF superfamily-type complex</td>\n",
              "      <td>0.024705</td>\n",
              "      <td>True</td>\n",
              "      <td>\"A protein complex that contains an ortholog o...</td>\n",
              "      <td>62</td>\n",
              "      <td>84</td>\n",
              "      <td>6</td>\n",
              "      <td>6566</td>\n",
              "      <td>0.071429</td>\n",
              "      <td>0.096774</td>\n",
              "      <td>query_1</td>\n",
              "      <td>[GO:0000785, GO:0140513, GO:1904949]</td>\n",
              "    </tr>\n",
              "    <tr>\n",
              "      <th>26</th>\n",
              "      <td>TF</td>\n",
              "      <td>TF:M00125_1</td>\n",
              "      <td>Factor: Mcm1p; motif: WTTCCYAAWNNGGTAA; match ...</td>\n",
              "      <td>0.026507</td>\n",
              "      <td>True</td>\n",
              "      <td>Factor: Mcm1p; motif: WTTCCYAAWNNGGTAA; match ...</td>\n",
              "      <td>138</td>\n",
              "      <td>84</td>\n",
              "      <td>8</td>\n",
              "      <td>6599</td>\n",
              "      <td>0.095238</td>\n",
              "      <td>0.057971</td>\n",
              "      <td>query_1</td>\n",
              "      <td>[TF:M00125]</td>\n",
              "    </tr>\n",
              "    <tr>\n",
              "      <th>27</th>\n",
              "      <td>GO:BP</td>\n",
              "      <td>GO:1904547</td>\n",
              "      <td>regulation of cellular response to glucose sta...</td>\n",
              "      <td>0.028417</td>\n",
              "      <td>True</td>\n",
              "      <td>\"Any process that modulates the frequency, rat...</td>\n",
              "      <td>6</td>\n",
              "      <td>84</td>\n",
              "      <td>3</td>\n",
              "      <td>6539</td>\n",
              "      <td>0.035714</td>\n",
              "      <td>0.500000</td>\n",
              "      <td>query_1</td>\n",
              "      <td>[GO:0010646, GO:0032107, GO:0042149, GO:0080135]</td>\n",
              "    </tr>\n",
              "    <tr>\n",
              "      <th>28</th>\n",
              "      <td>TF</td>\n",
              "      <td>TF:M01891</td>\n",
              "      <td>Factor: YAP1; motif: TKACTAAT</td>\n",
              "      <td>0.028986</td>\n",
              "      <td>True</td>\n",
              "      <td>Factor: YAP1; motif: TKACTAAT</td>\n",
              "      <td>440</td>\n",
              "      <td>84</td>\n",
              "      <td>15</td>\n",
              "      <td>6599</td>\n",
              "      <td>0.178571</td>\n",
              "      <td>0.034091</td>\n",
              "      <td>query_1</td>\n",
              "      <td>[TF:M00000]</td>\n",
              "    </tr>\n",
              "    <tr>\n",
              "      <th>29</th>\n",
              "      <td>GO:BP</td>\n",
              "      <td>GO:2000781</td>\n",
              "      <td>positive regulation of double-strand break repair</td>\n",
              "      <td>0.029292</td>\n",
              "      <td>True</td>\n",
              "      <td>\"Any process that activates or increases the f...</td>\n",
              "      <td>16</td>\n",
              "      <td>84</td>\n",
              "      <td>4</td>\n",
              "      <td>6539</td>\n",
              "      <td>0.047619</td>\n",
              "      <td>0.250000</td>\n",
              "      <td>query_1</td>\n",
              "      <td>[GO:0006302, GO:0045739, GO:2000779]</td>\n",
              "    </tr>\n",
              "    <tr>\n",
              "      <th>30</th>\n",
              "      <td>GO:BP</td>\n",
              "      <td>GO:0030307</td>\n",
              "      <td>positive regulation of cell growth</td>\n",
              "      <td>0.037931</td>\n",
              "      <td>True</td>\n",
              "      <td>\"Any process that activates or increases the f...</td>\n",
              "      <td>17</td>\n",
              "      <td>84</td>\n",
              "      <td>4</td>\n",
              "      <td>6539</td>\n",
              "      <td>0.047619</td>\n",
              "      <td>0.235294</td>\n",
              "      <td>query_1</td>\n",
              "      <td>[GO:0001558, GO:0016049, GO:0045927, GO:0048522]</td>\n",
              "    </tr>\n",
              "    <tr>\n",
              "      <th>31</th>\n",
              "      <td>GO:CC</td>\n",
              "      <td>GO:0110165</td>\n",
              "      <td>cellular anatomical entity</td>\n",
              "      <td>0.043311</td>\n",
              "      <td>True</td>\n",
              "      <td>\"A part of a cellular organism that is either ...</td>\n",
              "      <td>5768</td>\n",
              "      <td>84</td>\n",
              "      <td>83</td>\n",
              "      <td>6566</td>\n",
              "      <td>0.988095</td>\n",
              "      <td>0.014390</td>\n",
              "      <td>query_1</td>\n",
              "      <td>[GO:0005575]</td>\n",
              "    </tr>\n",
              "    <tr>\n",
              "      <th>32</th>\n",
              "      <td>KEGG</td>\n",
              "      <td>KEGG:00020</td>\n",
              "      <td>Citrate cycle (TCA cycle)</td>\n",
              "      <td>0.043969</td>\n",
              "      <td>True</td>\n",
              "      <td>Citrate cycle (TCA cycle)</td>\n",
              "      <td>31</td>\n",
              "      <td>35</td>\n",
              "      <td>4</td>\n",
              "      <td>2094</td>\n",
              "      <td>0.114286</td>\n",
              "      <td>0.129032</td>\n",
              "      <td>query_1</td>\n",
              "      <td>[KEGG:00000]</td>\n",
              "    </tr>\n",
              "    <tr>\n",
              "      <th>33</th>\n",
              "      <td>GO:CC</td>\n",
              "      <td>GO:1904949</td>\n",
              "      <td>ATPase complex</td>\n",
              "      <td>0.044860</td>\n",
              "      <td>True</td>\n",
              "      <td>\"A protein complex which is capable of ATPase ...</td>\n",
              "      <td>69</td>\n",
              "      <td>84</td>\n",
              "      <td>6</td>\n",
              "      <td>6566</td>\n",
              "      <td>0.071429</td>\n",
              "      <td>0.086957</td>\n",
              "      <td>query_1</td>\n",
              "      <td>[GO:1902494]</td>\n",
              "    </tr>\n",
              "  </tbody>\n",
              "</table>\n",
              "</div>\n",
              "      <button class=\"colab-df-convert\" onclick=\"convertToInteractive('df-21dda41d-3bc8-4afa-98a0-e1cd9041d59d')\"\n",
              "              title=\"Convert this dataframe to an interactive table.\"\n",
              "              style=\"display:none;\">\n",
              "        \n",
              "  <svg xmlns=\"http://www.w3.org/2000/svg\" height=\"24px\"viewBox=\"0 0 24 24\"\n",
              "       width=\"24px\">\n",
              "    <path d=\"M0 0h24v24H0V0z\" fill=\"none\"/>\n",
              "    <path d=\"M18.56 5.44l.94 2.06.94-2.06 2.06-.94-2.06-.94-.94-2.06-.94 2.06-2.06.94zm-11 1L8.5 8.5l.94-2.06 2.06-.94-2.06-.94L8.5 2.5l-.94 2.06-2.06.94zm10 10l.94 2.06.94-2.06 2.06-.94-2.06-.94-.94-2.06-.94 2.06-2.06.94z\"/><path d=\"M17.41 7.96l-1.37-1.37c-.4-.4-.92-.59-1.43-.59-.52 0-1.04.2-1.43.59L10.3 9.45l-7.72 7.72c-.78.78-.78 2.05 0 2.83L4 21.41c.39.39.9.59 1.41.59.51 0 1.02-.2 1.41-.59l7.78-7.78 2.81-2.81c.8-.78.8-2.07 0-2.86zM5.41 20L4 18.59l7.72-7.72 1.47 1.35L5.41 20z\"/>\n",
              "  </svg>\n",
              "      </button>\n",
              "      \n",
              "  <style>\n",
              "    .colab-df-container {\n",
              "      display:flex;\n",
              "      flex-wrap:wrap;\n",
              "      gap: 12px;\n",
              "    }\n",
              "\n",
              "    .colab-df-convert {\n",
              "      background-color: #E8F0FE;\n",
              "      border: none;\n",
              "      border-radius: 50%;\n",
              "      cursor: pointer;\n",
              "      display: none;\n",
              "      fill: #1967D2;\n",
              "      height: 32px;\n",
              "      padding: 0 0 0 0;\n",
              "      width: 32px;\n",
              "    }\n",
              "\n",
              "    .colab-df-convert:hover {\n",
              "      background-color: #E2EBFA;\n",
              "      box-shadow: 0px 1px 2px rgba(60, 64, 67, 0.3), 0px 1px 3px 1px rgba(60, 64, 67, 0.15);\n",
              "      fill: #174EA6;\n",
              "    }\n",
              "\n",
              "    [theme=dark] .colab-df-convert {\n",
              "      background-color: #3B4455;\n",
              "      fill: #D2E3FC;\n",
              "    }\n",
              "\n",
              "    [theme=dark] .colab-df-convert:hover {\n",
              "      background-color: #434B5C;\n",
              "      box-shadow: 0px 1px 3px 1px rgba(0, 0, 0, 0.15);\n",
              "      filter: drop-shadow(0px 1px 2px rgba(0, 0, 0, 0.3));\n",
              "      fill: #FFFFFF;\n",
              "    }\n",
              "  </style>\n",
              "\n",
              "      <script>\n",
              "        const buttonEl =\n",
              "          document.querySelector('#df-21dda41d-3bc8-4afa-98a0-e1cd9041d59d button.colab-df-convert');\n",
              "        buttonEl.style.display =\n",
              "          google.colab.kernel.accessAllowed ? 'block' : 'none';\n",
              "\n",
              "        async function convertToInteractive(key) {\n",
              "          const element = document.querySelector('#df-21dda41d-3bc8-4afa-98a0-e1cd9041d59d');\n",
              "          const dataTable =\n",
              "            await google.colab.kernel.invokeFunction('convertToInteractive',\n",
              "                                                     [key], {});\n",
              "          if (!dataTable) return;\n",
              "\n",
              "          const docLinkHtml = 'Like what you see? Visit the ' +\n",
              "            '<a target=\"_blank\" href=https://colab.research.google.com/notebooks/data_table.ipynb>data table notebook</a>'\n",
              "            + ' to learn more about interactive tables.';\n",
              "          element.innerHTML = '';\n",
              "          dataTable['output_type'] = 'display_data';\n",
              "          await google.colab.output.renderOutput(dataTable, element);\n",
              "          const docLink = document.createElement('div');\n",
              "          docLink.innerHTML = docLinkHtml;\n",
              "          element.appendChild(docLink);\n",
              "        }\n",
              "      </script>\n",
              "    </div>\n",
              "  </div>\n",
              "  "
            ]
          },
          "metadata": {},
          "execution_count": 16
        }
      ]
    }
  ]
}