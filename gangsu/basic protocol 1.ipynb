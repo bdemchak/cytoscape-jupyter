{
  "nbformat": 4,
  "nbformat_minor": 0,
  "metadata": {
    "colab": {
      "name": "basic protocol 1.ipynb",
      "provenance": [],
      "collapsed_sections": [],
      "include_colab_link": true
    },
    "kernelspec": {
      "name": "python3",
      "display_name": "Python 3"
    }
  },
  "cells": [
    {
      "cell_type": "markdown",
      "metadata": {
        "id": "view-in-github",
        "colab_type": "text"
      },
      "source": [
        "<a href=\"https://colab.research.google.com/github/bdemchak/cytoscape-jupyter/blob/main/gangsu/basic%20protocol%201.ipynb\" target=\"_parent\"><img src=\"https://colab.research.google.com/assets/colab-badge.svg\" alt=\"Open In Colab\"/></a>"
      ]
    },
    {
      "cell_type": "markdown",
      "metadata": {
        "id": "khjUrLor-5w_"
      },
      "source": [
        "This is a reproduction of the [Biological Network Exploration with Cytoscape 3](https://pubmed.ncbi.nlm.nih.gov/25199793/) Basic Protocol 1, which loads an s. cervesiae network, filters out unneeded nodes, lays out the resulting network, creates clusters of similar nodes and then performs an enrichment calculation on one cluster.\n",
        "\n",
        "Note that this workflow executes in a Jupyter Notebook running on a cloud server (e.g., Google Colab) and communicates with a copy of Cytoscape running on your workstation. For version of this workflow that runs on the same workstation as Cytoscape, see [here](https://github.com/cytoscape/py4cytoscape/tree/master/tests)."
      ]
    },
    {
      "cell_type": "markdown",
      "metadata": {
        "id": "EynlCq2w336-"
      },
      "source": [
        "---\n",
        "# Setup data files, py4cytoscape and Cytoscape connection\n",
        "**NOTE: To run this notebook, you must manually start Cytoscape first -- don't proceed until you have started Cytoscape.**\n",
        "\n",
        "This workflow requires two files that are located in cloud storage:\n",
        "\n",
        "* BIOGRID-ORGANISM-Saccharomyces_cerevisiae-3.2.105.mitab (network file)\n",
        "* GDS112_full.soft (annotation file)\n",
        "\n",
        "Both files reside in a Dropbox folder, and they are downloaded by this workflow as needed."
      ]
    },
    {
      "cell_type": "markdown",
      "metadata": {
        "id": "wJ9RYWAF4wF6"
      },
      "source": [
        "## Setup: Fetch latest py4cytoscape\n",
        "\n",
        "\n"
      ]
    },
    {
      "cell_type": "markdown",
      "metadata": {
        "id": "9RVNEFryzJR3"
      },
      "source": [
        "**Note that you can fetch from the latest Github unreleased version by setting _PY4CYTOSCAPE to 'git+https://github.com/cytoscape/py4cytoscape' immediately before the exec() call. To fetch a particular branch, add '@' to the end (e.g., 'git+https://github.com/cytoscape/py4cytoscape@0.0.12').**\n",
        "\n",
        "To load the default (PyPI) py4cytoscape version, do not set _PY4CYTOSCAPE at all."
      ]
    },
    {
      "cell_type": "code",
      "metadata": {
        "id": "pW3Jhe2PMD9z",
        "outputId": "c9b62228-a151-4fe1-c068-08ebaebeedd6",
        "colab": {
          "base_uri": "https://localhost:8080/",
          "height": 537
        }
      },
      "source": [
        "#_PY4CYTOSCAPE = 'git+https://github.com/cytoscape/py4cytoscape@1.3.0' # optional\n",
        "import requests\n",
        "\n",
        "exec(requests.get(\"https://raw.githubusercontent.com/cytoscape/jupyter-bridge/master/client/p4c_init.py\").text)\n",
        "\n",
        "IPython.display.Javascript(_PY4CYTOSCAPE_BROWSER_CLIENT_JS) # Start browser client"
      ],
      "execution_count": 1,
      "outputs": [
        {
          "output_type": "stream",
          "name": "stdout",
          "text": [
            "Looking in indexes: https://pypi.org/simple, https://us-python.pkg.dev/colab-wheels/public/simple/\n",
            "Collecting py4cytoscape\n",
            "  Downloading py4cytoscape-1.3.0-py3-none-any.whl (168 kB)\n",
            "Requirement already satisfied: pandas in /usr/local/lib/python3.7/dist-packages (from py4cytoscape) (1.3.5)\n",
            "Requirement already satisfied: decorator in /usr/local/lib/python3.7/dist-packages (from py4cytoscape) (4.4.2)\n",
            "Collecting colorbrewer\n",
            "  Downloading colorbrewer-0.2.0-py3-none-any.whl (9.4 kB)\n",
            "Collecting python-igraph\n",
            "  Downloading python_igraph-0.9.10-py3-none-any.whl (9.1 kB)\n",
            "Requirement already satisfied: requests in /usr/local/lib/python3.7/dist-packages (from py4cytoscape) (2.23.0)\n",
            "Requirement already satisfied: chardet in /usr/local/lib/python3.7/dist-packages (from py4cytoscape) (3.0.4)\n",
            "Requirement already satisfied: networkx in /usr/local/lib/python3.7/dist-packages (from py4cytoscape) (2.6.3)\n",
            "Requirement already satisfied: six in /usr/local/lib/python3.7/dist-packages (from colorbrewer->py4cytoscape) (1.15.0)\n",
            "Requirement already satisfied: pytz>=2017.3 in /usr/local/lib/python3.7/dist-packages (from pandas->py4cytoscape) (2022.1)\n",
            "Requirement already satisfied: python-dateutil>=2.7.3 in /usr/local/lib/python3.7/dist-packages (from pandas->py4cytoscape) (2.8.2)\n",
            "Requirement already satisfied: numpy>=1.17.3 in /usr/local/lib/python3.7/dist-packages (from pandas->py4cytoscape) (1.21.6)\n",
            "Collecting igraph==0.9.10\n",
            "  Downloading igraph-0.9.10-cp37-cp37m-manylinux_2_17_x86_64.manylinux2014_x86_64.whl (3.1 MB)\n",
            "Collecting texttable>=1.6.2\n",
            "  Downloading texttable-1.6.4-py2.py3-none-any.whl (10 kB)\n",
            "Requirement already satisfied: idna<3,>=2.5 in /usr/local/lib/python3.7/dist-packages (from requests->py4cytoscape) (2.10)\n",
            "Requirement already satisfied: urllib3!=1.25.0,!=1.25.1,<1.26,>=1.21.1 in /usr/local/lib/python3.7/dist-packages (from requests->py4cytoscape) (1.24.3)\n",
            "Requirement already satisfied: certifi>=2017.4.17 in /usr/local/lib/python3.7/dist-packages (from requests->py4cytoscape) (2022.5.18.1)\n",
            "Installing collected packages: texttable, igraph, python-igraph, colorbrewer, py4cytoscape\n",
            "Successfully installed colorbrewer-0.2.0 igraph-0.9.10 py4cytoscape-1.3.0 python-igraph-0.9.10 texttable-1.6.4\n",
            "NumExpr defaulting to 2 threads.\n",
            "Loading Javascript client ... 47e8cac4-3ab3-404d-9424-628bbd4f70e8 on https://jupyter-bridge.cytoscape.org\n",
            "ADVICE: WHEN RUNNING UNDER COLAB, DO NOT RE-RUN THIS CELL WITHOUT MANUALLY EXECUTING Runtime | Factory Reset Runtime FROM THE COLAB MENU FIRST.\n"
          ]
        },
        {
          "output_type": "execute_result",
          "data": {
            "text/plain": [
              "<IPython.core.display.Javascript object>"
            ],
            "application/javascript": [
              "var Channel = \"47e8cac4-3ab3-404d-9424-628bbd4f70e8\"; \n",
              "\n",
              "var JupyterBridge = \"https://jupyter-bridge.cytoscape.org\"; \n",
              "\n",
              "  /*\n",
              "    These functions serve as a connector between a remote Jupyter server and Cytoscape.\n",
              "    They run in the user's browser, which also shows the Jupyter Notebook.\n",
              "\n",
              "    A remote Jupyter Notebook call to the py4cytoscape package is forwarded to the Jupyter Bridge,\n",
              "    which is a standalone server. The functions in this connector execute in the Jupyter Notebook\n",
              "    browser, which executes on the same PC as Cytoscape. So, that's 4 components: (A) remote\n",
              "    Jupyter Notebook, (B) separate Jupyter Bridge server, (C) this browser-based component, and\n",
              "    (D) Cytoscape. (A) is on a remote server, (B) is on a different remote server, and (C) and (D)\n",
              "    are on the user's PC.\n",
              "\n",
              "    (A) calls its py4cytoscape module, which forwards the request (in a JSON wrapper) to (B).\n",
              "    (C) picks up the request from (B), unpacks the request and forwards it to (D). (C) awaits a\n",
              "    reply from (D), and when it gets it, it forwards the reply (in a JSON wrapper) to (B).\n",
              "    (A)'s py4cytoscape module picks up the reply on (B) when it becomes available, unpacks it,\n",
              "    and returns it to (A).\n",
              "\n",
              "    A Jupyter Notebook can talk to only one Cytoscape (i.e., the one on the machine running the\n",
              "    Jupyter Notebook browser), and Cytoscape should be called by only one Jupyter Notebook. The\n",
              "    Jupyter Bridge differentiates between Notebook-Cytoscape conversations via a channel UUID.\n",
              "    The UUID is prepended to this browser component by py4Cytoscape, and the component is\n",
              "    started by the Jupyter Notebook. (I wish py4Cytoscape could start the component, too, but I\n",
              "    haven't figured out how to do that yet, so startup code *is* required in the Jupyter\n",
              "    Notebook.)\n",
              "\n",
              "    Note that for the case of a Jupyter server running on the same machine as Cytoscape, this\n",
              "    bridge isn't necessary because the Jupyter server's HTTP calls can easily connect to\n",
              "    Cytoscape over a localhost socket. So, the combination of Jupyter Bridge and this browser\n",
              "    component solves the problem of a Jupyter server (e.g., Google's Colab) that can't\n",
              "    connect to Cytoscape that sits behind a firewall.\n",
              "\n",
              "    The request represents an HTTP call that py4cytoscape would normally make via HTTP directly\n",
              "    to Cytoscape via localhost when both py4cytoscape and Cytoscape are running on the same machine.\n",
              " */\n",
              "\n",
              "const VERSION = '0.0.2'\n",
              "\n",
              "var showDebug; // Flag indicating whether to show Jupyter-bridge progress\n",
              "if (typeof showDebug === 'undefined') {\n",
              "    showDebug = false\n",
              "}\n",
              "if (showDebug) {\n",
              "    alert(\"Starting Jupyter-bridge browser component\")\n",
              "}\n",
              "\n",
              "//const JupyterBridge = 'http://127.0.0.1:5000' // for testing against local Jupyter-bridge\n",
              "var JupyterBridge; // URL of Jupyter-bridge server could be defined by assignment pre-pended to this file\n",
              "if (typeof JupyterBridge === 'undefined') {\n",
              "    JupyterBridge = 'https://jupyter-bridge.cytoscape.org' // for production\n",
              "}\n",
              "var Channel; // Unique constant that could be defined by assignment pre-pended to this file\n",
              "if (typeof Channel === 'undefined') { // ... but if not assigned, use a debugging value\n",
              "    Channel = 1\n",
              "}\n",
              "\n",
              "\n",
              "var httpR = new XMLHttpRequest(); // for sending reply to Jupyter-bridge\n",
              "var httpRE = new XMLHttpRequest(); // for sending backup error reply to Jupyter-bridge\n",
              "var httpC = new XMLHttpRequest(); // for sending command to Cytoscape\n",
              "var httpJ = new XMLHttpRequest(); // for fetching request from Jupyter-bridge\n",
              "\n",
              "const HTTP_OK = 200\n",
              "const HTTP_SYS_ERR = 500\n",
              "const HTTP_TIMEOUT = 408\n",
              "const HTTP_TOO_MANY = 429\n",
              "\n",
              "\n",
              " /* This function is useful if we want to rewrite the incoming URL to resolve just to our local one.\n",
              "    Doing this stops the Jupyter component from abusing this client to call out to endpoints other\n",
              "    than local Cytoscape. On the other hand, it makes it hard to detect when the Jupyter component\n",
              "    has specified a genuinely bad URL and really should get an error result. For now, we'll execute\n",
              "    the Jupyter-supplied URL and return the result, whatever it may be.\n",
              "\n",
              "const LocalCytoscape = 'http://127.0.0.1:1234'\n",
              "\n",
              "function parseURL(url) {\n",
              "    var reURLInformation = new RegExp([\n",
              "        '^(https?:)//', // protocol\n",
              "        '(([^:/?#]*)(?::([0-9]+))?)', // host (hostname and port)\n",
              "        '(/{0,1}[^?#]*)', // pathname\n",
              "        '(\\\\?[^#]*|)', // search\n",
              "        '(#.*|)$' // hash\n",
              "    ].join(''));\n",
              "    var match = url.match(reURLInformation);\n",
              "    return match && {\n",
              "        url: url,\n",
              "        protocol: match[1],\n",
              "        host: match[2],\n",
              "        hostname: match[3],\n",
              "        port: match[4],\n",
              "        pathname: match[5],\n",
              "        search: match[6],\n",
              "        hash: match[7]\n",
              "    }\n",
              "}\n",
              "*/\n",
              "\n",
              "function replyCytoscape(replyStatus, replyStatusText, replyText) {\n",
              "\n",
              "    // Clean up after Jupyter bridge accepts reply\n",
              "    httpR.onreadystatechange = function() {\n",
              "        if (httpR.readyState === 4) {\n",
              "            if (showDebug) {\n",
              "                console.log(' status from queue_reply: ' + httpR.status + ', reply: ' + httpR.responseText)\n",
              "            }\n",
              "        }\n",
              "    }\n",
              "\n",
              "    httpR.onerror = function() {\n",
              "        // Clean up after Jupyter bridge accepts backup reply\n",
              "        httpRE.onreadystatechange = function() {\n",
              "            if (httpRE.readyState === 4) {\n",
              "                if (showDebug) {\n",
              "                    console.log(' status from backup queue_reply: ' + httpRE.status + ', reply: ' + httpRE.responseText)\n",
              "                }\n",
              "            }\n",
              "        }\n",
              "\n",
              "        if (showDebug) {\n",
              "            console.log(' error from queue_reply -- could be Jupyter-Bridge server reject')\n",
              "        }\n",
              "        var errReply = {'status': HTTP_SYS_ERR, 'reason': 'Jupyter-Bridge rejected reply', 'text': 'Possibly reply is too long for Jupyter-Bridge server'}\n",
              "        httpRE.open('POST', jupyterBridgeURL, true)\n",
              "        httpRE.setRequestHeader('Content-Type', 'text/plain')\n",
              "        httpRE.send(JSON.stringify(errReply))\n",
              "    }\n",
              "\n",
              "    var reply = {'status': replyStatus, 'reason': replyStatusText, 'text': replyText}\n",
              "\n",
              "    // Send reply to Jupyter bridge\n",
              "    var jupyterBridgeURL = JupyterBridge + '/queue_reply?channel=' + Channel\n",
              "    if (showDebug) {\n",
              "        console.log('Starting queue to Jupyter bridge: ' + jupyterBridgeURL)\n",
              "    }\n",
              "    httpR.open('POST', jupyterBridgeURL, true)\n",
              "    httpR.setRequestHeader('Content-Type', 'text/plain')\n",
              "    httpR.send(JSON.stringify(reply))\n",
              "}\n",
              "\n",
              "function callCytoscape(callSpec) {\n",
              "\n",
              "    // Captures Cytoscape reply and sends it on\n",
              "    httpC.onreadystatechange = function() {\n",
              "        if (httpC.readyState === 4) {\n",
              "            if (showDebug) {\n",
              "                console.log(' status from CyREST: ' + httpC.status + ', statusText: ' + httpC.statusText + ', reply: ' + httpC.responseText)\n",
              "            }\n",
              "            // Note that httpC.status is 0 if the URL can't be reached *OR* there is a CORS violation.\n",
              "            // I wish I could tell the difference because for a CORS violation, I'd return a 404,\n",
              "            // which would roughly match what Python's native request package would return.\n",
              "            // The practical consequence is that the ultimate caller (e.g., py4cytoscape)\n",
              "            // returns different exceptions, depending on wither this module is doing the\n",
              "            // HTTP operation or the native Python requests package is. This is minor, but\n",
              "            // messes up tests that verify the exception type.\n",
              "            replyCytoscape(httpC.status, httpC.statusText, httpC.responseText)\n",
              "            waitOnJupyterBridge()\n",
              "        }\n",
              "    }\n",
              "\n",
              "//  Build up request to Cytoscape, making sure host is local.\n",
              "//    Too heavy handed: localURL = LocalCytoscape + parseURL(callSpec.url).pathname\n",
              "    var localURL = callSpec.url // Try using what was passed in ... is there a security risk??\n",
              "\n",
              "    if (showDebug) {\n",
              "        console.log('Command to CyREST: ' + callSpec.command + ' (' + localURL + ')')\n",
              "        if (callSpec.params) {\n",
              "            console.log(' params: ' + JSON.stringify(callSpec.params))\n",
              "        }\n",
              "        if (callSpec.headers) {\n",
              "            console.log(' header: ' + JSON.stringify(callSpec.headers))\n",
              "        }\n",
              "        if (callSpec.data) {\n",
              "            console.log('   data: ' + JSON.stringify(callSpec.data))\n",
              "        }\n",
              "    }\n",
              "\n",
              "    if (callSpec.command === 'webbrowser') {\n",
              "        if (window.open(callSpec.url)) {\n",
              "            replyCytoscape(HTTP_OK, 'OK', '')\n",
              "        } else {\n",
              "            replyCytoscape(HTTP_SYS_ERR, 'BAD BROWSER OPEN', '')\n",
              "        }\n",
              "        waitOnJupyterBridge()\n",
              "    } else if (callSpec.command === 'version') {\n",
              "        replyCytoscape(HTTP_OK, 'OK',\n",
              "            JSON.stringify({\"jupyterBridgeVersion\": VERSION}))\n",
              "        waitOnJupyterBridge()\n",
              "    } else {\n",
              "        var joiner = '?'\n",
              "        for (let param in callSpec.params) {\n",
              "            localURL = localURL + joiner + param + '=' + encodeURIComponent(callSpec.params[param])\n",
              "            joiner = '&'\n",
              "        }\n",
              "\n",
              "        httpC.open(callSpec.command, localURL, true)\n",
              "        for (let header in callSpec.headers) {\n",
              "            httpC.setRequestHeader(header, callSpec.headers[header])\n",
              "        }\n",
              "\n",
              "        // Send request to Cytoscape ... reply goes to onreadystatechange handler\n",
              "        httpC.send(JSON.stringify(callSpec.data))\n",
              "    }\n",
              "}\n",
              "\n",
              "function waitOnJupyterBridge() {\n",
              "\n",
              "    // Captures request from Jupyter bridge\n",
              "    httpJ.onreadystatechange = function() {\n",
              "        if (httpJ.readyState === 4) {\n",
              "            if (showDebug) {\n",
              "                console.log(' status from dequeue_request: ' + httpJ.status + ', reply: ' + httpJ.responseText)\n",
              "            }\n",
              "            try {\n",
              "                if (httpJ.status == HTTP_TOO_MANY) {\n",
              "                    // Nothing more to do ... the browser has created too many listeners,\n",
              "                    // and it's time to stop listening because the server saw a listener\n",
              "                    // listening on this channel before we got there.\n",
              "                    console.log('  shutting down because of redundant reader on channel: ' + Channel)\n",
              "                } else {\n",
              "                    if (httpJ.status === HTTP_TIMEOUT) {\n",
              "                        waitOnJupyterBridge()\n",
              "                    } else {\n",
              "                        callCytoscape(JSON.parse(httpJ.responseText))\n",
              "                    }\n",
              "                }\n",
              "            } catch(err) {\n",
              "                if (showDebug) {\n",
              "                    console.log(' exception calling Cytoscape: ' + err)\n",
              "                }\n",
              "                // Bad responseText means something bad happened that we don't understand.\n",
              "                // Go wait on another request, as there's nothing to call Cytoscape with.\n",
              "                waitOnJupyterBridge()\n",
              "            }\n",
              "        }\n",
              "    }\n",
              "\n",
              "    // Wait for request from Jupyter bridge\n",
              "    var jupyterBridgeURL = JupyterBridge + '/dequeue_request?channel=' + Channel\n",
              "    if (showDebug) {\n",
              "        console.log('Starting dequeue on Jupyter bridge: ' + jupyterBridgeURL)\n",
              "    }\n",
              "    httpJ.open('GET', jupyterBridgeURL, true)\n",
              "    httpJ.send()\n",
              "}\n",
              "\n",
              "// This kicks off a loop that ends by calling waitOnJupyterBridge again. This first call\n",
              "// ejects any dead readers before we start a read\n",
              "waitOnJupyterBridge() // Wait for message from Jupyter bridge, execute it, and return reply\n",
              "\n",
              "if (showDebug) {\n",
              "    alert(\"Jupyter-bridge browser component is started on \" + JupyterBridge + ', channel ' + Channel)\n",
              "}\n"
            ]
          },
          "metadata": {},
          "execution_count": 1
        }
      ]
    },
    {
      "cell_type": "markdown",
      "metadata": {
        "id": "sTJwg_HN3WPH"
      },
      "source": [
        "## Setup: Sanity test to verify Cytoscape connection"
      ]
    },
    {
      "cell_type": "markdown",
      "metadata": {
        "id": "vwHsK9OTIhv1"
      },
      "source": [
        "By now, the connection to Cytoscape should be up and available. To verify this, try a simple operation that doesn't alter the state of Cytoscape."
      ]
    },
    {
      "cell_type": "code",
      "metadata": {
        "id": "sP5J_ey7C_t6",
        "outputId": "d360642e-4906-4942-d484-6e458c422881",
        "colab": {
          "base_uri": "https://localhost:8080/"
        }
      },
      "source": [
        "p4c.cytoscape_version_info()\n"
      ],
      "execution_count": 2,
      "outputs": [
        {
          "output_type": "execute_result",
          "data": {
            "text/plain": [
              "{'apiVersion': 'v1',\n",
              " 'automationAPIVersion': '1.5.0',\n",
              " 'cytoscapeVersion': '3.9.1',\n",
              " 'jupyterBridgeVersion': '0.0.2',\n",
              " 'py4cytoscapeVersion': '1.3.0'}"
            ]
          },
          "metadata": {},
          "execution_count": 2
        }
      ]
    },
    {
      "cell_type": "markdown",
      "metadata": {
        "id": "VvaiYm7HwcsN"
      },
      "source": [
        "## Setup: Notebook data files\n",
        "Create the 'output' directory, which will be used to store files uploaded from Cytoscape.\n",
        "\n",
        "This is a good place to prepare any other system resources that might be needed by downstream Notebook cells.\n",
        "\n",
        "\n",
        "\n"
      ]
    },
    {
      "cell_type": "code",
      "metadata": {
        "id": "sTP9Tf7hb9g0",
        "outputId": "a7000ba6-d40a-426d-c89b-65ce4683777b",
        "colab": {
          "base_uri": "https://localhost:8080/"
        }
      },
      "source": [
        "!rm -r output/\n",
        "!ls -l \n",
        "OUTPUT_DIR = 'output/'"
      ],
      "execution_count": 3,
      "outputs": [
        {
          "output_type": "stream",
          "name": "stdout",
          "text": [
            "rm: cannot remove 'output/': No such file or directory\n",
            "total 8\n",
            "drwxr-xr-x 2 root root 4096 May 26 21:25 logs\n",
            "drwxr-xr-x 1 root root 4096 May 17 13:39 sample_data\n"
          ]
        }
      ]
    },
    {
      "cell_type": "markdown",
      "metadata": {
        "id": "Bwq52ljZHCqR"
      },
      "source": [
        "## Setup: Import source data files\n",
        "The network and annotation files are in a Dropbox folder, and this cell downloads them into the default Sandbox from where Cytoscape will access them.\n",
        "\n",
        "The files could just as well have been on any cloud resource, including Google Drive, Github, Microsoft OneDrive or a private web site. Note that in this case, the network file was so large that it could not be saved on GitHub, so Dropbox was a handy alternative.\n",
        "\n",
        "*An alternative would be to load the files into this Notebook's file system (or create them there) and then download those files to the Sandbox. Loading them into the Notebook file system would require the use of Notebook \"!\" commands (e.g., !wget).*\n"
      ]
    },
    {
      "cell_type": "markdown",
      "metadata": {
        "id": "RlKSyX07FVL-"
      },
      "source": [
        "**Sandboxing is explained in https://py4cytoscape.readthedocs.io/en/latest/concepts.html#sandboxing**"
      ]
    },
    {
      "cell_type": "code",
      "metadata": {
        "id": "fCbMNMsO9rU8",
        "outputId": "b5d88ba9-5a56-44e7-9ec1-5bb529ec9f2e",
        "colab": {
          "base_uri": "https://localhost:8080/"
        }
      },
      "source": [
        "p4c.sandbox_set(None) # Revert to default sandbox in case some other workflow selected a different one\n",
        "\n",
        "res_mitab = p4c.sandbox_url_to(\"https://www.dropbox.com/s/8wc8o897tsxewt1/BIOGRID-ORGANISM-Saccharomyces_cerevisiae-3.2.105.mitab?dl=0\", \"BIOGRID-ORGANISM-Saccharomyces_cerevisiae-3.2.105.mitab\")\n",
        "print(f'Network file BIOGRID-ORGANISM-Saccharomyces_cerevisiae-3.2.105.mitab has {res_mitab[\"fileByteCount\"]} bytes')"
      ],
      "execution_count": 4,
      "outputs": [
        {
          "output_type": "stream",
          "name": "stdout",
          "text": [
            "Network file BIOGRID-ORGANISM-Saccharomyces_cerevisiae-3.2.105.mitab has 166981992 bytes\n"
          ]
        }
      ]
    },
    {
      "cell_type": "markdown",
      "metadata": {
        "id": "RTGAUyauDr6K"
      },
      "source": [
        "---\n",
        "# Load the Protein-protein Interaction Network into Cytoscape\n",
        "The network is contained in the s. cerevisiae MITAB file."
      ]
    },
    {
      "cell_type": "markdown",
      "metadata": {
        "id": "jmanb3qDD7E2"
      },
      "source": [
        "Note that in this cell, the `import_network_from_file()` function (incorrectly) throws an exception in pre-3.10.0 Cytoscape. To ignore the exception, we enclose it in a try/except block.\n",
        "\n",
        "**Note:** Once the CYTOSCAPE-12772 issue is solved, we can remove the try/except block.\n"
      ]
    },
    {
      "cell_type": "code",
      "metadata": {
        "id": "nQ4lD6C_ghFA",
        "outputId": "0f92aade-1adc-4b2a-83e1-84338394e817",
        "colab": {
          "base_uri": "https://localhost:8080/"
        }
      },
      "source": [
        "from requests import HTTPError\n",
        "p4c.close_session(False)\n",
        "\n",
        "try:\n",
        "  p4c.import_network_from_file('BIOGRID-ORGANISM-Saccharomyces_cerevisiae-3.2.105.mitab')\n",
        "except:  \n",
        "  pass\n",
        "if p4c.get_network_count() != 1:\n",
        "  raise Exception('Failed to load network')\n",
        "net_suid = p4c.get_network_suid()\n",
        "print(f'Network identifier: {net_suid}')\n",
        "\n"
      ],
      "execution_count": 5,
      "outputs": [
        {
          "output_type": "stream",
          "name": "stderr",
          "text": [
            "In commands_post(): {'status': 500, 'type': 'urn:cytoscape:ci:cyrest-core:v1:handle-json-command:errors:3', 'message': 'Task returned invalid json.', 'link': 'file:/C:/Users/CyDeveloper/CytoscapeConfiguration/3/framework-cytoscape.log'}\n"
          ]
        },
        {
          "output_type": "stream",
          "name": "stdout",
          "text": [
            "Network identifier: 12208111\n"
          ]
        }
      ]
    },
    {
      "cell_type": "markdown",
      "metadata": {
        "id": "fyhlv8yyESep"
      },
      "source": [
        "---\n",
        "# Import the gene expression data\n",
        "The expression data is downloaded and merged into the network's node attribute table."
      ]
    },
    {
      "cell_type": "markdown",
      "metadata": {
        "id": "fX1fQqyFuvIp"
      },
      "source": [
        "---\n",
        "*Tip:* This cell shows how to create code that works around changes in Cytoscape capabilities. \n",
        "\n",
        "In this case, starting with Cytoscape 3.9.0, the `load_table_data_from_file()` function works as expected, so the gene expression data is merged into the node attribute table. \n",
        "\n",
        "Prior to 3.9.0, `load_table_data_from_file()` didn't work. As a workaround, we do most of the work in Pandas and then import the dataframe into the node attribute table. After Pandas reads the CSV, we will try to match dataframe Gene ID column to the `name` column in the Cytoscape node attribute table. To do this, we must explicitly set the Gene ID as a string (even though it's originally parsed as a number) because Cytoscape's `name` column is already a string. \n",
        "\n"
      ]
    },
    {
      "cell_type": "code",
      "metadata": {
        "id": "jMnno2stwRIC",
        "outputId": "e8bc234a-9c56-4207-ff00-18bcc07ff1c8",
        "colab": {
          "base_uri": "https://localhost:8080/"
        }
      },
      "source": [
        "if p4c.check_supported_versions(cytoscape='3.9') is None:\n",
        "  # Load file directly into Sandbox so Cytoscape can import it\n",
        "  res_soft = p4c.sandbox_url_to(\"https://www.dropbox.com/s/r15azh0xb53smu1/GDS112_full.soft?dl=0\", \"GDS112_full.soft\")\n",
        "  print(f'Annotation file GDS112_full.soft has {res_soft[\"fileByteCount\"]} bytes')\n",
        "\n",
        "  res = p4c.load_table_data_from_file('GDS112_full.soft', start_load_row=83, data_key_column_index=10, delimiters='\\t')\n",
        "  print(f'Load result contains table identifiers: {res[\"mappedTables\"]}')\n",
        "else:\n",
        "  # Load file into Notebook file system so Python can import it, tweak it, and download to Cytoscape\n",
        "  !wget -q --no-check-certificate https://www.dropbox.com/s/r15azh0xb53smu1/GDS112_full.soft?dl=0\n",
        "  !mv GDS112_full.soft?dl=0 GDS112_full.soft\n",
        "\n",
        "  import pandas as df\n",
        "  GDS112_full = df.read_csv('GDS112_full.soft', skiprows=82, sep='\\t')\n",
        "  GDS112_full.dropna(subset=['Gene ID'], inplace=True)\n",
        "  GDS112_full['Gene ID'] = df.to_numeric(GDS112_full['Gene ID'], downcast='integer')\n",
        "  GDS112_full = GDS112_full.astype({'Gene ID': 'string'})\n",
        "  print(GDS112_full.dtypes)\n",
        "  print(GDS112_full)\n",
        "  p4c.load_table_data(GDS112_full, data_key_column='Gene ID')\n",
        "\n",
        "  import os\n",
        "  os.remove('GDS112_full.soft')\n"
      ],
      "execution_count": 6,
      "outputs": [
        {
          "output_type": "stream",
          "name": "stdout",
          "text": [
            "Annotation file GDS112_full.soft has 5536880 bytes\n",
            "Load result contains table identifiers: [12208082, 12208120]\n"
          ]
        }
      ]
    },
    {
      "cell_type": "markdown",
      "metadata": {
        "id": "UgaRJXpPFPlL"
      },
      "source": [
        "---\n",
        "# Filter the Network with the Genes that have Expression Data\n",
        "For this, we assume that if a node has no *Gene symbol*, it also has no expression data. \n",
        "\n",
        "The filter compares each node's *Gene symbol* attribute to a regular expression. If there is a match, the gene is selected; for no match, the gene isn't selected."
      ]
    },
    {
      "cell_type": "code",
      "metadata": {
        "id": "FDtlIeqGCjrw",
        "outputId": "872db8de-ca78-482d-b4f8-ad08fe26b544",
        "colab": {
          "base_uri": "https://localhost:8080/"
        }
      },
      "source": [
        "res = p4c.create_column_filter('SymbolOK', 'Gene symbol', '[A-Z0-9]*', 'REGEX')\n",
        "print(f'Nodes selected: {len(res[\"nodes\"])}')"
      ],
      "execution_count": 7,
      "outputs": [
        {
          "output_type": "stream",
          "name": "stdout",
          "text": [
            "No edges selected.\n",
            "Nodes selected: 5477\n"
          ]
        }
      ]
    },
    {
      "cell_type": "markdown",
      "metadata": {
        "id": "gNzJz9QkFtxe"
      },
      "source": [
        "---\n",
        "# Create a New Network with the Selected Subset\n",
        "Create a subnetwork containing only nodes selected by the filter (i.e., having a *Gene symbol* value, which implies that expression data is present for that node)."
      ]
    },
    {
      "cell_type": "markdown",
      "metadata": {
        "id": "LlM9YkdHFygQ"
      },
      "source": [
        "This could take several minutes.\n",
        "\n",
        "At the end, you should see a view containing all nodes laid out. "
      ]
    },
    {
      "cell_type": "markdown",
      "metadata": {
        "id": "phx6pYM1ZiI4"
      },
      "source": [
        "If you see only a single rectangle, it could be that your Cytoscape is set to operate with a small stack size. To increase the stack:\n",
        "\n",
        "1. terminate Cytoscape\n",
        "\n",
        "2. a) upgrade Cytoscape to 3.9.0 or later \n",
        "\n",
        "  ... or b) use a text editor to add -Xss5M to the cytoscape.vmoptions file in your Cytoscape program directory\n",
        "\n",
        "3. restart Cytoscape\n",
        "\n",
        "4. re-run this workflow"
      ]
    },
    {
      "cell_type": "code",
      "metadata": {
        "id": "39sA48cLEurX",
        "outputId": "8868558f-cfb9-4b31-ba79-180be49cef0f",
        "colab": {
          "base_uri": "https://localhost:8080/"
        }
      },
      "source": [
        "new_suid = p4c.create_subnetwork()\n",
        "print(f'New network identifier: {new_suid}')"
      ],
      "execution_count": 8,
      "outputs": [
        {
          "output_type": "stream",
          "name": "stdout",
          "text": [
            "New network identifier: 13596009\n"
          ]
        }
      ]
    },
    {
      "cell_type": "markdown",
      "metadata": {
        "id": "nfWTpsjOF3Op"
      },
      "source": [
        "## Get rid of the original network, which isn't needed anymore"
      ]
    },
    {
      "cell_type": "code",
      "metadata": {
        "id": "iYuud6SgG-sE"
      },
      "source": [
        "p4c.delete_network(net_suid)\n",
        "net_suid = new_suid"
      ],
      "execution_count": 9,
      "outputs": []
    },
    {
      "cell_type": "markdown",
      "source": [
        "---\n",
        "# Identify Network Modules\n",
        "The overall strategy is to find clusters of nodes that share some common attribute. In this case, we use expression data values. Specifically:\n",
        "\n",
        "* Load Cytoscape's clusterMaker2 app\n",
        "* Use clusterMaker2 to create a dendogram showing a hierarchy of similar network modules\n"
      ],
      "metadata": {
        "id": "dCS2f8w40Sen"
      }
    },
    {
      "cell_type": "markdown",
      "metadata": {
        "id": "FuDfuscFGCWI"
      },
      "source": [
        "## Install clusterMaker2 if it hasn't already been installed"
      ]
    },
    {
      "cell_type": "code",
      "metadata": {
        "id": "elMOuRa2IEb4",
        "outputId": "b82c2a58-9e74-4502-b012-96e59ee7624e",
        "colab": {
          "base_uri": "https://localhost:8080/"
        }
      },
      "source": [
        "p4c.install_app('clusterMaker2')"
      ],
      "execution_count": 10,
      "outputs": [
        {
          "output_type": "stream",
          "name": "stdout",
          "text": [
            "{}\n"
          ]
        },
        {
          "output_type": "execute_result",
          "data": {
            "text/plain": [
              "{}"
            ]
          },
          "metadata": {},
          "execution_count": 10
        }
      ]
    },
    {
      "cell_type": "markdown",
      "metadata": {
        "id": "2XmpalLLGINl"
      },
      "source": [
        "## Identify network modules\n",
        "Create a hierarchic clustering of similar nodes based on the expression data columns. Cytoscape renders the hierarchy as a dendogram.\n",
        "\n",
        "*Tip:* Cytoscape's dendogram window can be used to manually explore module similarity. "
      ]
    },
    {
      "cell_type": "code",
      "metadata": {
        "id": "qU59dHs3KONj"
      },
      "source": [
        "dendo_clustering = p4c.commands_post('cluster hierarchical showUI=true clusterAttributes=false nodeAttributeList=\"GSM1029,GSM1030,GSM1032,GSM1033,GSM1034\"')\n",
        "\n",
        "# dendo_clustering is a dictionary [{nodeOrder: [{nodeName: xxx, suid: sss}, ...]}\n",
        "#                                   {nodeTree: [{name: ggg, left: lll, right: rrr}]}]\n",
        "# where nodeOrder is a mapping between a leaf node name xxx and the suid sss of a network node,\n",
        "# and nodeTree is a tree where the left node lll and right node rrr can be leaf nodes xxx or\n",
        "# internal nodes ggg. "
      ],
      "execution_count": 11,
      "outputs": []
    },
    {
      "cell_type": "markdown",
      "metadata": {
        "id": "cLNIAjWa99pq"
      },
      "source": [
        "---\n",
        "# Perform an enrichment analysis using the gprofiler package"
      ]
    },
    {
      "cell_type": "markdown",
      "source": [
        "Use a package commonly available in PyPI to calculate functional enrichment for nodes similar to a node in which we may be interested. It's an example of how Cytoscape can work together with Python-based libraries to achieve a useful result.\n",
        "\n",
        "In this case, we choose HBT1 (entrez-gene ID 851303).\n",
        "\n",
        "1. Find SUID of network's HBT1 node\n",
        "\n",
        "1. Find a set of nodes similar to HBT1 by collecting nodes nearby in the tree\n",
        "\n",
        "1. Use each node's SUID to look up its entrez-gene ID\n",
        "\n",
        "1. Pass the set of entrez-gene IDs to gprofiler as an enrichment query\n",
        "\n",
        "\n"
      ],
      "metadata": {
        "id": "0KkaJdVA0sP9"
      }
    },
    {
      "cell_type": "markdown",
      "source": [
        "## Find HBD1 in the similarity tree"
      ],
      "metadata": {
        "id": "QY6PpCG906ox"
      }
    },
    {
      "cell_type": "code",
      "source": [
        "node_suid = p4c.node_name_to_node_suid('851303')[0] # Use entrez-gene ID to get SUID for HBT1"
      ],
      "metadata": {
        "id": "GasplzL409pP"
      },
      "execution_count": 12,
      "outputs": []
    },
    {
      "cell_type": "markdown",
      "source": [
        "## Collect set of SUIDs representing 85 similar nodes\n",
        "Note that we use custom functions to parse and traverse the dendogram's similarity tree.\n",
        "\n",
        "We use *wget* to copy the functions into a local directory so we can them import them and then call them."
      ],
      "metadata": {
        "id": "UOeXM9Er1AN_"
      }
    },
    {
      "cell_type": "code",
      "source": [
        "!wget -c https://raw.githubusercontent.com/cytoscape/py4cytoscape/master/tests/Notebooks/parse_dendogram.py\n",
        "import parse_dendogram as pde # Use custom functions to decode dendogram tree\n",
        "\n",
        "node_order = dendo_clustering[0]['nodeOrder']\n",
        "node_tree = dendo_clustering[0]['nodeTree']\n",
        "\n",
        "node_bag = pde.create_node_bag(node_order, node_tree)\n",
        "similar_nodes = list(pde.find_node_set(node_suid, 85, node_order, node_bag))"
      ],
      "metadata": {
        "colab": {
          "base_uri": "https://localhost:8080/"
        },
        "id": "M_Oy2h-a1FcH",
        "outputId": "6aa1c750-eb05-4703-c04a-fec32fd738f8"
      },
      "execution_count": 13,
      "outputs": [
        {
          "output_type": "stream",
          "name": "stdout",
          "text": [
            "--2022-05-26 21:34:52--  https://raw.githubusercontent.com/cytoscape/py4cytoscape/master/tests/Notebooks/parse_dendogram.py\n",
            "Resolving raw.githubusercontent.com (raw.githubusercontent.com)... 185.199.108.133, 185.199.109.133, 185.199.110.133, ...\n",
            "Connecting to raw.githubusercontent.com (raw.githubusercontent.com)|185.199.108.133|:443... connected.\n",
            "HTTP request sent, awaiting response... 200 OK\n",
            "Length: 1852 (1.8K) [text/plain]\n",
            "Saving to: ‘parse_dendogram.py’\n",
            "\n",
            "\rparse_dendogram.py    0%[                    ]       0  --.-KB/s               \rparse_dendogram.py  100%[===================>]   1.81K  --.-KB/s    in 0s      \n",
            "\n",
            "2022-05-26 21:34:52 (22.6 MB/s) - ‘parse_dendogram.py’ saved [1852/1852]\n",
            "\n"
          ]
        }
      ]
    },
    {
      "cell_type": "markdown",
      "source": [
        "## Using SUIDs, query Cytoscape for each node's entrez-gene ID"
      ],
      "metadata": {
        "id": "CkqKoYeB1I7V"
      }
    },
    {
      "cell_type": "code",
      "source": [
        "suid_to_entrez_gene = p4c.get_table_columns(columns='name')['name']\n",
        "entrez_gene_query = [int(suid_to_entrez_gene[suid])  for suid in similar_nodes]\n",
        "\n",
        "print(entrez_gene_query)"
      ],
      "metadata": {
        "colab": {
          "base_uri": "https://localhost:8080/"
        },
        "id": "Oa0ad5Af1LTb",
        "outputId": "a343868d-519a-450c-8fde-06007d5b7ba4"
      },
      "execution_count": 14,
      "outputs": [
        {
          "output_type": "stream",
          "name": "stdout",
          "text": [
            "[853573, 855738, 851070, 852389, 851934, 855669, 854898, 853159, 855020, 851380, 855513, 853267, 851433, 852748, 853167, 851474, 853326, 851239, 850963, 854302, 850687, 851581, 852691, 853758, 854357, 852146, 856925, 854459, 855562, 853115, 851013, 851625, 851051, 856390, 856855, 850500, 852342, 855788, 852543, 852934, 855149, 852343, 855836, 852291, 853238, 855009, 851582, 851980, 856745, 855691, 854699, 852064, 856910, 852746, 856417, 853920, 856018, 853536, 853169, 854201, 851347, 856492, 854108, 854856, 856694, 852721, 852818, 850597, 854047, 856536, 855949, 851296, 854109, 854402, 850295, 855363, 854742, 853614, 853377, 853766, 851303, 854857, 855206, 853172, 852874]\n"
          ]
        }
      ]
    },
    {
      "cell_type": "markdown",
      "source": [
        "## Install gprofiler package if it's not already installed"
      ],
      "metadata": {
        "id": "mI7Th8Wp1PBc"
      }
    },
    {
      "cell_type": "code",
      "source": [
        "!pip install gprofiler-official\n",
        "from gprofiler import GProfiler"
      ],
      "metadata": {
        "colab": {
          "base_uri": "https://localhost:8080/"
        },
        "id": "ZTuo_RU01RGh",
        "outputId": "bf7a2b0d-7a9b-4dce-f5ac-5ee184d09f7c"
      },
      "execution_count": 15,
      "outputs": [
        {
          "output_type": "stream",
          "name": "stdout",
          "text": [
            "Looking in indexes: https://pypi.org/simple, https://us-python.pkg.dev/colab-wheels/public/simple/\n",
            "Collecting gprofiler-official\n",
            "  Downloading gprofiler_official-1.0.0-py3-none-any.whl (9.3 kB)\n",
            "Requirement already satisfied: requests in /usr/local/lib/python3.7/dist-packages (from gprofiler-official) (2.23.0)\n",
            "Requirement already satisfied: idna<3,>=2.5 in /usr/local/lib/python3.7/dist-packages (from requests->gprofiler-official) (2.10)\n",
            "Requirement already satisfied: chardet<4,>=3.0.2 in /usr/local/lib/python3.7/dist-packages (from requests->gprofiler-official) (3.0.4)\n",
            "Requirement already satisfied: urllib3!=1.25.0,!=1.25.1,<1.26,>=1.21.1 in /usr/local/lib/python3.7/dist-packages (from requests->gprofiler-official) (1.24.3)\n",
            "Requirement already satisfied: certifi>=2017.4.17 in /usr/local/lib/python3.7/dist-packages (from requests->gprofiler-official) (2022.5.18.1)\n",
            "Installing collected packages: gprofiler-official\n",
            "Successfully installed gprofiler-official-1.0.0\n"
          ]
        }
      ]
    },
    {
      "cell_type": "markdown",
      "source": [
        "## Use entrez-gene IDs to query gprofiler for GO functional enrichment"
      ],
      "metadata": {
        "id": "qSqydaCm1V18"
      }
    },
    {
      "cell_type": "code",
      "source": [
        "gp = GProfiler(user_agent='py4cytoscape', return_dataframe=True)\n",
        "gp.profile(organism='scerevisiae', query=entrez_gene_query)"
      ],
      "metadata": {
        "colab": {
          "base_uri": "https://localhost:8080/",
          "height": 1000
        },
        "id": "URjS9i-k1YCh",
        "outputId": "560736f5-b16b-48da-d6ba-374b1850e494"
      },
      "execution_count": 16,
      "outputs": [
        {
          "output_type": "execute_result",
          "data": {
            "text/plain": [
              "   source       native                                               name  \\\n",
              "0   GO:MF   GO:0003824                                 catalytic activity   \n",
              "1   GO:BP   GO:0044281                   small molecule metabolic process   \n",
              "2   GO:BP   GO:0019752                  carboxylic acid metabolic process   \n",
              "3    KEGG   KEGG:01200                                  Carbon metabolism   \n",
              "4   GO:BP   GO:1901575                organic substance catabolic process   \n",
              "5   GO:BP   GO:0009056                                  catabolic process   \n",
              "6   GO:BP   GO:0043436                          oxoacid metabolic process   \n",
              "7   GO:BP   GO:0006082                     organic acid metabolic process   \n",
              "8   GO:CC   GO:0005737                                          cytoplasm   \n",
              "9   GO:BP   GO:0044282                   small molecule catabolic process   \n",
              "10  GO:BP   GO:0032787              monocarboxylic acid metabolic process   \n",
              "11  GO:MF   GO:0016491                            oxidoreductase activity   \n",
              "12   KEGG   KEGG:01100                                 Metabolic pathways   \n",
              "13  GO:CC   GO:0042645                             mitochondrial nucleoid   \n",
              "14  GO:CC   GO:0009295                                           nucleoid   \n",
              "15  GO:CC   GO:0005576                               extracellular region   \n",
              "16     WP     WP:WP490                                          TCA cycle   \n",
              "17   KEGG   KEGG:00020                          Citrate cycle (TCA cycle)   \n",
              "18  GO:BP   GO:0006749                      glutathione metabolic process   \n",
              "19  GO:BP   GO:0044248                         cellular catabolic process   \n",
              "20   KEGG   KEGG:00620                                Pyruvate metabolism   \n",
              "21     WP     WP:WP112            Principal pathways of carbon metabolism   \n",
              "22     WP     WP:WP296                               TCA cycle - detailed   \n",
              "23  GO:BP   GO:0006575     cellular modified amino acid metabolic process   \n",
              "24     TF    TF:M01524          Factor: TBP; motif: NNNNAGNWATATATATNNNNN   \n",
              "25  GO:CC   GO:0005622                 intracellular anatomical structure   \n",
              "26  GO:MF   GO:0016829                                     lyase activity   \n",
              "27   KEGG   KEGG:00480                             Glutathione metabolism   \n",
              "28     TF  TF:M02472_1      Factor: PDR3; motif: TCCGCGGA; match class: 1   \n",
              "29  GO:BP   GO:0046395                  carboxylic acid catabolic process   \n",
              "30  GO:CC   GO:0110165                         cellular anatomical entity   \n",
              "31     TF  TF:M01531_1  Factor: Rds1p; motif: YNNNNNTCGGCCGANNKNNN; ma...   \n",
              "32  GO:BP   GO:0016054                     organic acid catabolic process   \n",
              "33  GO:BP   GO:0006091     generation of precursor metabolites and energy   \n",
              "\n",
              "         p_value  significant  \\\n",
              "0   6.395153e-07         True   \n",
              "1   5.438261e-05         True   \n",
              "2   1.346536e-04         True   \n",
              "3   1.813323e-04         True   \n",
              "4   2.285052e-04         True   \n",
              "5   2.655655e-04         True   \n",
              "6   2.692468e-04         True   \n",
              "7   3.124642e-04         True   \n",
              "8   3.143619e-04         True   \n",
              "9   7.637855e-04         True   \n",
              "10  8.694613e-04         True   \n",
              "11  2.662081e-03         True   \n",
              "12  3.448108e-03         True   \n",
              "13  4.002689e-03         True   \n",
              "14  4.002689e-03         True   \n",
              "15  5.411676e-03         True   \n",
              "16  7.034891e-03         True   \n",
              "17  7.895307e-03         True   \n",
              "18  7.959467e-03         True   \n",
              "19  9.832664e-03         True   \n",
              "20  1.245294e-02         True   \n",
              "21  1.379259e-02         True   \n",
              "22  1.406595e-02         True   \n",
              "23  1.409376e-02         True   \n",
              "24  2.097599e-02         True   \n",
              "25  2.231001e-02         True   \n",
              "26  2.396295e-02         True   \n",
              "27  2.513139e-02         True   \n",
              "28  2.587658e-02         True   \n",
              "29  3.042449e-02         True   \n",
              "30  3.042808e-02         True   \n",
              "31  3.355886e-02         True   \n",
              "32  3.504926e-02         True   \n",
              "33  3.944768e-02         True   \n",
              "\n",
              "                                          description  term_size  query_size  \\\n",
              "0   \"Catalysis of a biochemical reaction at physio...       2317          85   \n",
              "1   \"The chemical reactions and pathways involving...        789          85   \n",
              "2   \"The chemical reactions and pathways involving...        413          85   \n",
              "3                                   Carbon metabolism        112          42   \n",
              "4   \"The chemical reactions and pathways resulting...        792          85   \n",
              "5   \"The chemical reactions and pathways resulting...       1006          85   \n",
              "6   \"The chemical reactions and pathways involving...        431          85   \n",
              "7   \"The chemical reactions and pathways involving...        435          85   \n",
              "8   \"The contents of a cell excluding the plasma m...       4431          85   \n",
              "9   \"The chemical reactions and pathways resulting...        164          85   \n",
              "10  \"The chemical reactions and pathways involving...        166          85   \n",
              "11  \"Catalysis of an oxidation-reduction (redox) r...        352          85   \n",
              "12                                 Metabolic pathways        791          42   \n",
              "13  \"The region of a mitochondrion to which the DN...         28          85   \n",
              "14  \"The region of a virus, bacterial cell, mitoch...         28          85   \n",
              "15  \"The space external to the outermost structure...        127          85   \n",
              "16                                          TCA cycle         32          18   \n",
              "17                          Citrate cycle (TCA cycle)         31          42   \n",
              "18  \"The chemical reactions and pathways involving...         24          85   \n",
              "19  \"The chemical reactions and pathways resulting...        900          85   \n",
              "20                                Pyruvate metabolism         52          42   \n",
              "21            Principal pathways of carbon metabolism         79          18   \n",
              "22                               TCA cycle - detailed         21          18   \n",
              "23  \"The chemical reactions and pathways involving...         66          85   \n",
              "24          Factor: TBP; motif: NNNNAGNWATATATATNNNNN        726          85   \n",
              "25  \"A component of a cell contained within (but n...       5215          85   \n",
              "26  \"Catalysis of the cleavage of C-C, C-O, C-N an...        110          85   \n",
              "27                             Glutathione metabolism         23          42   \n",
              "28      Factor: PDR3; motif: TCCGCGGA; match class: 1       4200          85   \n",
              "29  \"The chemical reactions and pathways resulting...        101          85   \n",
              "30  \"A part of a cellular organism that is either ...       5768          85   \n",
              "31  Factor: Rds1p; motif: YNNNNNTCGGCCGANNKNNN; ma...       3449          85   \n",
              "32  \"The chemical reactions and pathways resulting...        103          85   \n",
              "33  \"The chemical reactions and pathways resulting...        241          85   \n",
              "\n",
              "    intersection_size  effective_domain_size  precision    recall    query  \\\n",
              "0                  57                   6557   0.670588  0.024601  query_1   \n",
              "1                  29                   6548   0.341176  0.036755  query_1   \n",
              "2                  20                   6548   0.235294  0.048426  query_1   \n",
              "3                  11                   2085   0.261905  0.098214  query_1   \n",
              "4                  28                   6548   0.329412  0.035354  query_1   \n",
              "5                  32                   6548   0.376471  0.031809  query_1   \n",
              "6                  20                   6548   0.235294  0.046404  query_1   \n",
              "7                  20                   6548   0.235294  0.045977  query_1   \n",
              "8                  76                   6569   0.894118  0.017152  query_1   \n",
              "9                  12                   6548   0.141176  0.073171  query_1   \n",
              "10                 12                   6548   0.141176  0.072289  query_1   \n",
              "11                 16                   6557   0.188235  0.045455  query_1   \n",
              "12                 28                   2085   0.666667  0.035398  query_1   \n",
              "13                  5                   6569   0.058824  0.178571  query_1   \n",
              "14                  5                   6569   0.058824  0.178571  query_1   \n",
              "15                  9                   6569   0.105882  0.070866  query_1   \n",
              "16                  5                    834   0.277778  0.156250  query_1   \n",
              "17                  5                   2085   0.119048  0.161290  query_1   \n",
              "18                  5                   6548   0.058824  0.208333  query_1   \n",
              "19                 27                   6548   0.317647  0.030000  query_1   \n",
              "20                  6                   2085   0.142857  0.115385  query_1   \n",
              "21                  7                    834   0.388889  0.088608  query_1   \n",
              "22                  4                    834   0.222222  0.190476  query_1   \n",
              "23                  7                   6548   0.082353  0.106061  query_1   \n",
              "24                 21                   6599   0.247059  0.028926  query_1   \n",
              "25                 80                   6569   0.941176  0.015340  query_1   \n",
              "26                  8                   6557   0.094118  0.072727  query_1   \n",
              "27                  4                   2085   0.095238  0.173913  query_1   \n",
              "28                 69                   6599   0.811765  0.016429  query_1   \n",
              "29                  8                   6548   0.094118  0.079208  query_1   \n",
              "30                 84                   6569   0.988235  0.014563  query_1   \n",
              "31                 60                   6599   0.705882  0.017396  query_1   \n",
              "32                  8                   6548   0.094118  0.077670  query_1   \n",
              "33                 12                   6548   0.141176  0.049793  query_1   \n",
              "\n",
              "                                             parents  \n",
              "0                                       [GO:0003674]  \n",
              "1                                       [GO:0008152]  \n",
              "2                                       [GO:0043436]  \n",
              "3                                       [KEGG:00000]  \n",
              "4                           [GO:0009056, GO:0071704]  \n",
              "5                                       [GO:0008152]  \n",
              "6                                       [GO:0006082]  \n",
              "7               [GO:0044237, GO:0044281, GO:0071704]  \n",
              "8                           [GO:0005622, GO:0110165]  \n",
              "9                           [GO:0009056, GO:0044281]  \n",
              "10                                      [GO:0019752]  \n",
              "11                                      [GO:0003824]  \n",
              "12                                      [KEGG:00000]  \n",
              "13              [GO:0005759, GO:0009295, GO:0043232]  \n",
              "14                                      [GO:0110165]  \n",
              "15                                      [GO:0110165]  \n",
              "16                                       [WP:000000]  \n",
              "17                                      [KEGG:00000]  \n",
              "18              [GO:0006518, GO:0006575, GO:0006790]  \n",
              "19                          [GO:0009056, GO:0044237]  \n",
              "20                                      [KEGG:00000]  \n",
              "21                                       [WP:000000]  \n",
              "22                                       [WP:000000]  \n",
              "23                          [GO:0044237, GO:1901564]  \n",
              "24                                       [TF:M00000]  \n",
              "25                                      [GO:0110165]  \n",
              "26                                      [GO:0003824]  \n",
              "27                                      [KEGG:00000]  \n",
              "28                                       [TF:M02472]  \n",
              "29                          [GO:0016054, GO:0019752]  \n",
              "30                                      [GO:0005575]  \n",
              "31                                       [TF:M01531]  \n",
              "32  [GO:0006082, GO:0044248, GO:0044282, GO:1901575]  \n",
              "33                                      [GO:0044237]  "
            ],
            "text/html": [
              "\n",
              "  <div id=\"df-c6f48df6-acc6-4193-843d-74b9a2c5b8bd\">\n",
              "    <div class=\"colab-df-container\">\n",
              "      <div>\n",
              "<style scoped>\n",
              "    .dataframe tbody tr th:only-of-type {\n",
              "        vertical-align: middle;\n",
              "    }\n",
              "\n",
              "    .dataframe tbody tr th {\n",
              "        vertical-align: top;\n",
              "    }\n",
              "\n",
              "    .dataframe thead th {\n",
              "        text-align: right;\n",
              "    }\n",
              "</style>\n",
              "<table border=\"1\" class=\"dataframe\">\n",
              "  <thead>\n",
              "    <tr style=\"text-align: right;\">\n",
              "      <th></th>\n",
              "      <th>source</th>\n",
              "      <th>native</th>\n",
              "      <th>name</th>\n",
              "      <th>p_value</th>\n",
              "      <th>significant</th>\n",
              "      <th>description</th>\n",
              "      <th>term_size</th>\n",
              "      <th>query_size</th>\n",
              "      <th>intersection_size</th>\n",
              "      <th>effective_domain_size</th>\n",
              "      <th>precision</th>\n",
              "      <th>recall</th>\n",
              "      <th>query</th>\n",
              "      <th>parents</th>\n",
              "    </tr>\n",
              "  </thead>\n",
              "  <tbody>\n",
              "    <tr>\n",
              "      <th>0</th>\n",
              "      <td>GO:MF</td>\n",
              "      <td>GO:0003824</td>\n",
              "      <td>catalytic activity</td>\n",
              "      <td>6.395153e-07</td>\n",
              "      <td>True</td>\n",
              "      <td>\"Catalysis of a biochemical reaction at physio...</td>\n",
              "      <td>2317</td>\n",
              "      <td>85</td>\n",
              "      <td>57</td>\n",
              "      <td>6557</td>\n",
              "      <td>0.670588</td>\n",
              "      <td>0.024601</td>\n",
              "      <td>query_1</td>\n",
              "      <td>[GO:0003674]</td>\n",
              "    </tr>\n",
              "    <tr>\n",
              "      <th>1</th>\n",
              "      <td>GO:BP</td>\n",
              "      <td>GO:0044281</td>\n",
              "      <td>small molecule metabolic process</td>\n",
              "      <td>5.438261e-05</td>\n",
              "      <td>True</td>\n",
              "      <td>\"The chemical reactions and pathways involving...</td>\n",
              "      <td>789</td>\n",
              "      <td>85</td>\n",
              "      <td>29</td>\n",
              "      <td>6548</td>\n",
              "      <td>0.341176</td>\n",
              "      <td>0.036755</td>\n",
              "      <td>query_1</td>\n",
              "      <td>[GO:0008152]</td>\n",
              "    </tr>\n",
              "    <tr>\n",
              "      <th>2</th>\n",
              "      <td>GO:BP</td>\n",
              "      <td>GO:0019752</td>\n",
              "      <td>carboxylic acid metabolic process</td>\n",
              "      <td>1.346536e-04</td>\n",
              "      <td>True</td>\n",
              "      <td>\"The chemical reactions and pathways involving...</td>\n",
              "      <td>413</td>\n",
              "      <td>85</td>\n",
              "      <td>20</td>\n",
              "      <td>6548</td>\n",
              "      <td>0.235294</td>\n",
              "      <td>0.048426</td>\n",
              "      <td>query_1</td>\n",
              "      <td>[GO:0043436]</td>\n",
              "    </tr>\n",
              "    <tr>\n",
              "      <th>3</th>\n",
              "      <td>KEGG</td>\n",
              "      <td>KEGG:01200</td>\n",
              "      <td>Carbon metabolism</td>\n",
              "      <td>1.813323e-04</td>\n",
              "      <td>True</td>\n",
              "      <td>Carbon metabolism</td>\n",
              "      <td>112</td>\n",
              "      <td>42</td>\n",
              "      <td>11</td>\n",
              "      <td>2085</td>\n",
              "      <td>0.261905</td>\n",
              "      <td>0.098214</td>\n",
              "      <td>query_1</td>\n",
              "      <td>[KEGG:00000]</td>\n",
              "    </tr>\n",
              "    <tr>\n",
              "      <th>4</th>\n",
              "      <td>GO:BP</td>\n",
              "      <td>GO:1901575</td>\n",
              "      <td>organic substance catabolic process</td>\n",
              "      <td>2.285052e-04</td>\n",
              "      <td>True</td>\n",
              "      <td>\"The chemical reactions and pathways resulting...</td>\n",
              "      <td>792</td>\n",
              "      <td>85</td>\n",
              "      <td>28</td>\n",
              "      <td>6548</td>\n",
              "      <td>0.329412</td>\n",
              "      <td>0.035354</td>\n",
              "      <td>query_1</td>\n",
              "      <td>[GO:0009056, GO:0071704]</td>\n",
              "    </tr>\n",
              "    <tr>\n",
              "      <th>5</th>\n",
              "      <td>GO:BP</td>\n",
              "      <td>GO:0009056</td>\n",
              "      <td>catabolic process</td>\n",
              "      <td>2.655655e-04</td>\n",
              "      <td>True</td>\n",
              "      <td>\"The chemical reactions and pathways resulting...</td>\n",
              "      <td>1006</td>\n",
              "      <td>85</td>\n",
              "      <td>32</td>\n",
              "      <td>6548</td>\n",
              "      <td>0.376471</td>\n",
              "      <td>0.031809</td>\n",
              "      <td>query_1</td>\n",
              "      <td>[GO:0008152]</td>\n",
              "    </tr>\n",
              "    <tr>\n",
              "      <th>6</th>\n",
              "      <td>GO:BP</td>\n",
              "      <td>GO:0043436</td>\n",
              "      <td>oxoacid metabolic process</td>\n",
              "      <td>2.692468e-04</td>\n",
              "      <td>True</td>\n",
              "      <td>\"The chemical reactions and pathways involving...</td>\n",
              "      <td>431</td>\n",
              "      <td>85</td>\n",
              "      <td>20</td>\n",
              "      <td>6548</td>\n",
              "      <td>0.235294</td>\n",
              "      <td>0.046404</td>\n",
              "      <td>query_1</td>\n",
              "      <td>[GO:0006082]</td>\n",
              "    </tr>\n",
              "    <tr>\n",
              "      <th>7</th>\n",
              "      <td>GO:BP</td>\n",
              "      <td>GO:0006082</td>\n",
              "      <td>organic acid metabolic process</td>\n",
              "      <td>3.124642e-04</td>\n",
              "      <td>True</td>\n",
              "      <td>\"The chemical reactions and pathways involving...</td>\n",
              "      <td>435</td>\n",
              "      <td>85</td>\n",
              "      <td>20</td>\n",
              "      <td>6548</td>\n",
              "      <td>0.235294</td>\n",
              "      <td>0.045977</td>\n",
              "      <td>query_1</td>\n",
              "      <td>[GO:0044237, GO:0044281, GO:0071704]</td>\n",
              "    </tr>\n",
              "    <tr>\n",
              "      <th>8</th>\n",
              "      <td>GO:CC</td>\n",
              "      <td>GO:0005737</td>\n",
              "      <td>cytoplasm</td>\n",
              "      <td>3.143619e-04</td>\n",
              "      <td>True</td>\n",
              "      <td>\"The contents of a cell excluding the plasma m...</td>\n",
              "      <td>4431</td>\n",
              "      <td>85</td>\n",
              "      <td>76</td>\n",
              "      <td>6569</td>\n",
              "      <td>0.894118</td>\n",
              "      <td>0.017152</td>\n",
              "      <td>query_1</td>\n",
              "      <td>[GO:0005622, GO:0110165]</td>\n",
              "    </tr>\n",
              "    <tr>\n",
              "      <th>9</th>\n",
              "      <td>GO:BP</td>\n",
              "      <td>GO:0044282</td>\n",
              "      <td>small molecule catabolic process</td>\n",
              "      <td>7.637855e-04</td>\n",
              "      <td>True</td>\n",
              "      <td>\"The chemical reactions and pathways resulting...</td>\n",
              "      <td>164</td>\n",
              "      <td>85</td>\n",
              "      <td>12</td>\n",
              "      <td>6548</td>\n",
              "      <td>0.141176</td>\n",
              "      <td>0.073171</td>\n",
              "      <td>query_1</td>\n",
              "      <td>[GO:0009056, GO:0044281]</td>\n",
              "    </tr>\n",
              "    <tr>\n",
              "      <th>10</th>\n",
              "      <td>GO:BP</td>\n",
              "      <td>GO:0032787</td>\n",
              "      <td>monocarboxylic acid metabolic process</td>\n",
              "      <td>8.694613e-04</td>\n",
              "      <td>True</td>\n",
              "      <td>\"The chemical reactions and pathways involving...</td>\n",
              "      <td>166</td>\n",
              "      <td>85</td>\n",
              "      <td>12</td>\n",
              "      <td>6548</td>\n",
              "      <td>0.141176</td>\n",
              "      <td>0.072289</td>\n",
              "      <td>query_1</td>\n",
              "      <td>[GO:0019752]</td>\n",
              "    </tr>\n",
              "    <tr>\n",
              "      <th>11</th>\n",
              "      <td>GO:MF</td>\n",
              "      <td>GO:0016491</td>\n",
              "      <td>oxidoreductase activity</td>\n",
              "      <td>2.662081e-03</td>\n",
              "      <td>True</td>\n",
              "      <td>\"Catalysis of an oxidation-reduction (redox) r...</td>\n",
              "      <td>352</td>\n",
              "      <td>85</td>\n",
              "      <td>16</td>\n",
              "      <td>6557</td>\n",
              "      <td>0.188235</td>\n",
              "      <td>0.045455</td>\n",
              "      <td>query_1</td>\n",
              "      <td>[GO:0003824]</td>\n",
              "    </tr>\n",
              "    <tr>\n",
              "      <th>12</th>\n",
              "      <td>KEGG</td>\n",
              "      <td>KEGG:01100</td>\n",
              "      <td>Metabolic pathways</td>\n",
              "      <td>3.448108e-03</td>\n",
              "      <td>True</td>\n",
              "      <td>Metabolic pathways</td>\n",
              "      <td>791</td>\n",
              "      <td>42</td>\n",
              "      <td>28</td>\n",
              "      <td>2085</td>\n",
              "      <td>0.666667</td>\n",
              "      <td>0.035398</td>\n",
              "      <td>query_1</td>\n",
              "      <td>[KEGG:00000]</td>\n",
              "    </tr>\n",
              "    <tr>\n",
              "      <th>13</th>\n",
              "      <td>GO:CC</td>\n",
              "      <td>GO:0042645</td>\n",
              "      <td>mitochondrial nucleoid</td>\n",
              "      <td>4.002689e-03</td>\n",
              "      <td>True</td>\n",
              "      <td>\"The region of a mitochondrion to which the DN...</td>\n",
              "      <td>28</td>\n",
              "      <td>85</td>\n",
              "      <td>5</td>\n",
              "      <td>6569</td>\n",
              "      <td>0.058824</td>\n",
              "      <td>0.178571</td>\n",
              "      <td>query_1</td>\n",
              "      <td>[GO:0005759, GO:0009295, GO:0043232]</td>\n",
              "    </tr>\n",
              "    <tr>\n",
              "      <th>14</th>\n",
              "      <td>GO:CC</td>\n",
              "      <td>GO:0009295</td>\n",
              "      <td>nucleoid</td>\n",
              "      <td>4.002689e-03</td>\n",
              "      <td>True</td>\n",
              "      <td>\"The region of a virus, bacterial cell, mitoch...</td>\n",
              "      <td>28</td>\n",
              "      <td>85</td>\n",
              "      <td>5</td>\n",
              "      <td>6569</td>\n",
              "      <td>0.058824</td>\n",
              "      <td>0.178571</td>\n",
              "      <td>query_1</td>\n",
              "      <td>[GO:0110165]</td>\n",
              "    </tr>\n",
              "    <tr>\n",
              "      <th>15</th>\n",
              "      <td>GO:CC</td>\n",
              "      <td>GO:0005576</td>\n",
              "      <td>extracellular region</td>\n",
              "      <td>5.411676e-03</td>\n",
              "      <td>True</td>\n",
              "      <td>\"The space external to the outermost structure...</td>\n",
              "      <td>127</td>\n",
              "      <td>85</td>\n",
              "      <td>9</td>\n",
              "      <td>6569</td>\n",
              "      <td>0.105882</td>\n",
              "      <td>0.070866</td>\n",
              "      <td>query_1</td>\n",
              "      <td>[GO:0110165]</td>\n",
              "    </tr>\n",
              "    <tr>\n",
              "      <th>16</th>\n",
              "      <td>WP</td>\n",
              "      <td>WP:WP490</td>\n",
              "      <td>TCA cycle</td>\n",
              "      <td>7.034891e-03</td>\n",
              "      <td>True</td>\n",
              "      <td>TCA cycle</td>\n",
              "      <td>32</td>\n",
              "      <td>18</td>\n",
              "      <td>5</td>\n",
              "      <td>834</td>\n",
              "      <td>0.277778</td>\n",
              "      <td>0.156250</td>\n",
              "      <td>query_1</td>\n",
              "      <td>[WP:000000]</td>\n",
              "    </tr>\n",
              "    <tr>\n",
              "      <th>17</th>\n",
              "      <td>KEGG</td>\n",
              "      <td>KEGG:00020</td>\n",
              "      <td>Citrate cycle (TCA cycle)</td>\n",
              "      <td>7.895307e-03</td>\n",
              "      <td>True</td>\n",
              "      <td>Citrate cycle (TCA cycle)</td>\n",
              "      <td>31</td>\n",
              "      <td>42</td>\n",
              "      <td>5</td>\n",
              "      <td>2085</td>\n",
              "      <td>0.119048</td>\n",
              "      <td>0.161290</td>\n",
              "      <td>query_1</td>\n",
              "      <td>[KEGG:00000]</td>\n",
              "    </tr>\n",
              "    <tr>\n",
              "      <th>18</th>\n",
              "      <td>GO:BP</td>\n",
              "      <td>GO:0006749</td>\n",
              "      <td>glutathione metabolic process</td>\n",
              "      <td>7.959467e-03</td>\n",
              "      <td>True</td>\n",
              "      <td>\"The chemical reactions and pathways involving...</td>\n",
              "      <td>24</td>\n",
              "      <td>85</td>\n",
              "      <td>5</td>\n",
              "      <td>6548</td>\n",
              "      <td>0.058824</td>\n",
              "      <td>0.208333</td>\n",
              "      <td>query_1</td>\n",
              "      <td>[GO:0006518, GO:0006575, GO:0006790]</td>\n",
              "    </tr>\n",
              "    <tr>\n",
              "      <th>19</th>\n",
              "      <td>GO:BP</td>\n",
              "      <td>GO:0044248</td>\n",
              "      <td>cellular catabolic process</td>\n",
              "      <td>9.832664e-03</td>\n",
              "      <td>True</td>\n",
              "      <td>\"The chemical reactions and pathways resulting...</td>\n",
              "      <td>900</td>\n",
              "      <td>85</td>\n",
              "      <td>27</td>\n",
              "      <td>6548</td>\n",
              "      <td>0.317647</td>\n",
              "      <td>0.030000</td>\n",
              "      <td>query_1</td>\n",
              "      <td>[GO:0009056, GO:0044237]</td>\n",
              "    </tr>\n",
              "    <tr>\n",
              "      <th>20</th>\n",
              "      <td>KEGG</td>\n",
              "      <td>KEGG:00620</td>\n",
              "      <td>Pyruvate metabolism</td>\n",
              "      <td>1.245294e-02</td>\n",
              "      <td>True</td>\n",
              "      <td>Pyruvate metabolism</td>\n",
              "      <td>52</td>\n",
              "      <td>42</td>\n",
              "      <td>6</td>\n",
              "      <td>2085</td>\n",
              "      <td>0.142857</td>\n",
              "      <td>0.115385</td>\n",
              "      <td>query_1</td>\n",
              "      <td>[KEGG:00000]</td>\n",
              "    </tr>\n",
              "    <tr>\n",
              "      <th>21</th>\n",
              "      <td>WP</td>\n",
              "      <td>WP:WP112</td>\n",
              "      <td>Principal pathways of carbon metabolism</td>\n",
              "      <td>1.379259e-02</td>\n",
              "      <td>True</td>\n",
              "      <td>Principal pathways of carbon metabolism</td>\n",
              "      <td>79</td>\n",
              "      <td>18</td>\n",
              "      <td>7</td>\n",
              "      <td>834</td>\n",
              "      <td>0.388889</td>\n",
              "      <td>0.088608</td>\n",
              "      <td>query_1</td>\n",
              "      <td>[WP:000000]</td>\n",
              "    </tr>\n",
              "    <tr>\n",
              "      <th>22</th>\n",
              "      <td>WP</td>\n",
              "      <td>WP:WP296</td>\n",
              "      <td>TCA cycle - detailed</td>\n",
              "      <td>1.406595e-02</td>\n",
              "      <td>True</td>\n",
              "      <td>TCA cycle - detailed</td>\n",
              "      <td>21</td>\n",
              "      <td>18</td>\n",
              "      <td>4</td>\n",
              "      <td>834</td>\n",
              "      <td>0.222222</td>\n",
              "      <td>0.190476</td>\n",
              "      <td>query_1</td>\n",
              "      <td>[WP:000000]</td>\n",
              "    </tr>\n",
              "    <tr>\n",
              "      <th>23</th>\n",
              "      <td>GO:BP</td>\n",
              "      <td>GO:0006575</td>\n",
              "      <td>cellular modified amino acid metabolic process</td>\n",
              "      <td>1.409376e-02</td>\n",
              "      <td>True</td>\n",
              "      <td>\"The chemical reactions and pathways involving...</td>\n",
              "      <td>66</td>\n",
              "      <td>85</td>\n",
              "      <td>7</td>\n",
              "      <td>6548</td>\n",
              "      <td>0.082353</td>\n",
              "      <td>0.106061</td>\n",
              "      <td>query_1</td>\n",
              "      <td>[GO:0044237, GO:1901564]</td>\n",
              "    </tr>\n",
              "    <tr>\n",
              "      <th>24</th>\n",
              "      <td>TF</td>\n",
              "      <td>TF:M01524</td>\n",
              "      <td>Factor: TBP; motif: NNNNAGNWATATATATNNNNN</td>\n",
              "      <td>2.097599e-02</td>\n",
              "      <td>True</td>\n",
              "      <td>Factor: TBP; motif: NNNNAGNWATATATATNNNNN</td>\n",
              "      <td>726</td>\n",
              "      <td>85</td>\n",
              "      <td>21</td>\n",
              "      <td>6599</td>\n",
              "      <td>0.247059</td>\n",
              "      <td>0.028926</td>\n",
              "      <td>query_1</td>\n",
              "      <td>[TF:M00000]</td>\n",
              "    </tr>\n",
              "    <tr>\n",
              "      <th>25</th>\n",
              "      <td>GO:CC</td>\n",
              "      <td>GO:0005622</td>\n",
              "      <td>intracellular anatomical structure</td>\n",
              "      <td>2.231001e-02</td>\n",
              "      <td>True</td>\n",
              "      <td>\"A component of a cell contained within (but n...</td>\n",
              "      <td>5215</td>\n",
              "      <td>85</td>\n",
              "      <td>80</td>\n",
              "      <td>6569</td>\n",
              "      <td>0.941176</td>\n",
              "      <td>0.015340</td>\n",
              "      <td>query_1</td>\n",
              "      <td>[GO:0110165]</td>\n",
              "    </tr>\n",
              "    <tr>\n",
              "      <th>26</th>\n",
              "      <td>GO:MF</td>\n",
              "      <td>GO:0016829</td>\n",
              "      <td>lyase activity</td>\n",
              "      <td>2.396295e-02</td>\n",
              "      <td>True</td>\n",
              "      <td>\"Catalysis of the cleavage of C-C, C-O, C-N an...</td>\n",
              "      <td>110</td>\n",
              "      <td>85</td>\n",
              "      <td>8</td>\n",
              "      <td>6557</td>\n",
              "      <td>0.094118</td>\n",
              "      <td>0.072727</td>\n",
              "      <td>query_1</td>\n",
              "      <td>[GO:0003824]</td>\n",
              "    </tr>\n",
              "    <tr>\n",
              "      <th>27</th>\n",
              "      <td>KEGG</td>\n",
              "      <td>KEGG:00480</td>\n",
              "      <td>Glutathione metabolism</td>\n",
              "      <td>2.513139e-02</td>\n",
              "      <td>True</td>\n",
              "      <td>Glutathione metabolism</td>\n",
              "      <td>23</td>\n",
              "      <td>42</td>\n",
              "      <td>4</td>\n",
              "      <td>2085</td>\n",
              "      <td>0.095238</td>\n",
              "      <td>0.173913</td>\n",
              "      <td>query_1</td>\n",
              "      <td>[KEGG:00000]</td>\n",
              "    </tr>\n",
              "    <tr>\n",
              "      <th>28</th>\n",
              "      <td>TF</td>\n",
              "      <td>TF:M02472_1</td>\n",
              "      <td>Factor: PDR3; motif: TCCGCGGA; match class: 1</td>\n",
              "      <td>2.587658e-02</td>\n",
              "      <td>True</td>\n",
              "      <td>Factor: PDR3; motif: TCCGCGGA; match class: 1</td>\n",
              "      <td>4200</td>\n",
              "      <td>85</td>\n",
              "      <td>69</td>\n",
              "      <td>6599</td>\n",
              "      <td>0.811765</td>\n",
              "      <td>0.016429</td>\n",
              "      <td>query_1</td>\n",
              "      <td>[TF:M02472]</td>\n",
              "    </tr>\n",
              "    <tr>\n",
              "      <th>29</th>\n",
              "      <td>GO:BP</td>\n",
              "      <td>GO:0046395</td>\n",
              "      <td>carboxylic acid catabolic process</td>\n",
              "      <td>3.042449e-02</td>\n",
              "      <td>True</td>\n",
              "      <td>\"The chemical reactions and pathways resulting...</td>\n",
              "      <td>101</td>\n",
              "      <td>85</td>\n",
              "      <td>8</td>\n",
              "      <td>6548</td>\n",
              "      <td>0.094118</td>\n",
              "      <td>0.079208</td>\n",
              "      <td>query_1</td>\n",
              "      <td>[GO:0016054, GO:0019752]</td>\n",
              "    </tr>\n",
              "    <tr>\n",
              "      <th>30</th>\n",
              "      <td>GO:CC</td>\n",
              "      <td>GO:0110165</td>\n",
              "      <td>cellular anatomical entity</td>\n",
              "      <td>3.042808e-02</td>\n",
              "      <td>True</td>\n",
              "      <td>\"A part of a cellular organism that is either ...</td>\n",
              "      <td>5768</td>\n",
              "      <td>85</td>\n",
              "      <td>84</td>\n",
              "      <td>6569</td>\n",
              "      <td>0.988235</td>\n",
              "      <td>0.014563</td>\n",
              "      <td>query_1</td>\n",
              "      <td>[GO:0005575]</td>\n",
              "    </tr>\n",
              "    <tr>\n",
              "      <th>31</th>\n",
              "      <td>TF</td>\n",
              "      <td>TF:M01531_1</td>\n",
              "      <td>Factor: Rds1p; motif: YNNNNNTCGGCCGANNKNNN; ma...</td>\n",
              "      <td>3.355886e-02</td>\n",
              "      <td>True</td>\n",
              "      <td>Factor: Rds1p; motif: YNNNNNTCGGCCGANNKNNN; ma...</td>\n",
              "      <td>3449</td>\n",
              "      <td>85</td>\n",
              "      <td>60</td>\n",
              "      <td>6599</td>\n",
              "      <td>0.705882</td>\n",
              "      <td>0.017396</td>\n",
              "      <td>query_1</td>\n",
              "      <td>[TF:M01531]</td>\n",
              "    </tr>\n",
              "    <tr>\n",
              "      <th>32</th>\n",
              "      <td>GO:BP</td>\n",
              "      <td>GO:0016054</td>\n",
              "      <td>organic acid catabolic process</td>\n",
              "      <td>3.504926e-02</td>\n",
              "      <td>True</td>\n",
              "      <td>\"The chemical reactions and pathways resulting...</td>\n",
              "      <td>103</td>\n",
              "      <td>85</td>\n",
              "      <td>8</td>\n",
              "      <td>6548</td>\n",
              "      <td>0.094118</td>\n",
              "      <td>0.077670</td>\n",
              "      <td>query_1</td>\n",
              "      <td>[GO:0006082, GO:0044248, GO:0044282, GO:1901575]</td>\n",
              "    </tr>\n",
              "    <tr>\n",
              "      <th>33</th>\n",
              "      <td>GO:BP</td>\n",
              "      <td>GO:0006091</td>\n",
              "      <td>generation of precursor metabolites and energy</td>\n",
              "      <td>3.944768e-02</td>\n",
              "      <td>True</td>\n",
              "      <td>\"The chemical reactions and pathways resulting...</td>\n",
              "      <td>241</td>\n",
              "      <td>85</td>\n",
              "      <td>12</td>\n",
              "      <td>6548</td>\n",
              "      <td>0.141176</td>\n",
              "      <td>0.049793</td>\n",
              "      <td>query_1</td>\n",
              "      <td>[GO:0044237]</td>\n",
              "    </tr>\n",
              "  </tbody>\n",
              "</table>\n",
              "</div>\n",
              "      <button class=\"colab-df-convert\" onclick=\"convertToInteractive('df-c6f48df6-acc6-4193-843d-74b9a2c5b8bd')\"\n",
              "              title=\"Convert this dataframe to an interactive table.\"\n",
              "              style=\"display:none;\">\n",
              "        \n",
              "  <svg xmlns=\"http://www.w3.org/2000/svg\" height=\"24px\"viewBox=\"0 0 24 24\"\n",
              "       width=\"24px\">\n",
              "    <path d=\"M0 0h24v24H0V0z\" fill=\"none\"/>\n",
              "    <path d=\"M18.56 5.44l.94 2.06.94-2.06 2.06-.94-2.06-.94-.94-2.06-.94 2.06-2.06.94zm-11 1L8.5 8.5l.94-2.06 2.06-.94-2.06-.94L8.5 2.5l-.94 2.06-2.06.94zm10 10l.94 2.06.94-2.06 2.06-.94-2.06-.94-.94-2.06-.94 2.06-2.06.94z\"/><path d=\"M17.41 7.96l-1.37-1.37c-.4-.4-.92-.59-1.43-.59-.52 0-1.04.2-1.43.59L10.3 9.45l-7.72 7.72c-.78.78-.78 2.05 0 2.83L4 21.41c.39.39.9.59 1.41.59.51 0 1.02-.2 1.41-.59l7.78-7.78 2.81-2.81c.8-.78.8-2.07 0-2.86zM5.41 20L4 18.59l7.72-7.72 1.47 1.35L5.41 20z\"/>\n",
              "  </svg>\n",
              "      </button>\n",
              "      \n",
              "  <style>\n",
              "    .colab-df-container {\n",
              "      display:flex;\n",
              "      flex-wrap:wrap;\n",
              "      gap: 12px;\n",
              "    }\n",
              "\n",
              "    .colab-df-convert {\n",
              "      background-color: #E8F0FE;\n",
              "      border: none;\n",
              "      border-radius: 50%;\n",
              "      cursor: pointer;\n",
              "      display: none;\n",
              "      fill: #1967D2;\n",
              "      height: 32px;\n",
              "      padding: 0 0 0 0;\n",
              "      width: 32px;\n",
              "    }\n",
              "\n",
              "    .colab-df-convert:hover {\n",
              "      background-color: #E2EBFA;\n",
              "      box-shadow: 0px 1px 2px rgba(60, 64, 67, 0.3), 0px 1px 3px 1px rgba(60, 64, 67, 0.15);\n",
              "      fill: #174EA6;\n",
              "    }\n",
              "\n",
              "    [theme=dark] .colab-df-convert {\n",
              "      background-color: #3B4455;\n",
              "      fill: #D2E3FC;\n",
              "    }\n",
              "\n",
              "    [theme=dark] .colab-df-convert:hover {\n",
              "      background-color: #434B5C;\n",
              "      box-shadow: 0px 1px 3px 1px rgba(0, 0, 0, 0.15);\n",
              "      filter: drop-shadow(0px 1px 2px rgba(0, 0, 0, 0.3));\n",
              "      fill: #FFFFFF;\n",
              "    }\n",
              "  </style>\n",
              "\n",
              "      <script>\n",
              "        const buttonEl =\n",
              "          document.querySelector('#df-c6f48df6-acc6-4193-843d-74b9a2c5b8bd button.colab-df-convert');\n",
              "        buttonEl.style.display =\n",
              "          google.colab.kernel.accessAllowed ? 'block' : 'none';\n",
              "\n",
              "        async function convertToInteractive(key) {\n",
              "          const element = document.querySelector('#df-c6f48df6-acc6-4193-843d-74b9a2c5b8bd');\n",
              "          const dataTable =\n",
              "            await google.colab.kernel.invokeFunction('convertToInteractive',\n",
              "                                                     [key], {});\n",
              "          if (!dataTable) return;\n",
              "\n",
              "          const docLinkHtml = 'Like what you see? Visit the ' +\n",
              "            '<a target=\"_blank\" href=https://colab.research.google.com/notebooks/data_table.ipynb>data table notebook</a>'\n",
              "            + ' to learn more about interactive tables.';\n",
              "          element.innerHTML = '';\n",
              "          dataTable['output_type'] = 'display_data';\n",
              "          await google.colab.output.renderOutput(dataTable, element);\n",
              "          const docLink = document.createElement('div');\n",
              "          docLink.innerHTML = docLinkHtml;\n",
              "          element.appendChild(docLink);\n",
              "        }\n",
              "      </script>\n",
              "    </div>\n",
              "  </div>\n",
              "  "
            ]
          },
          "metadata": {},
          "execution_count": 16
        }
      ]
    }
  ]
}