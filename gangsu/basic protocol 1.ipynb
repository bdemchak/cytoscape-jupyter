{
  "nbformat": 4,
  "nbformat_minor": 0,
  "metadata": {
    "colab": {
      "name": "basic protocol 1.ipynb",
      "provenance": [],
      "collapsed_sections": [],
      "include_colab_link": true
    },
    "kernelspec": {
      "name": "python3",
      "display_name": "Python 3"
    }
  },
  "cells": [
    {
      "cell_type": "markdown",
      "metadata": {
        "id": "view-in-github",
        "colab_type": "text"
      },
      "source": [
        "<a href=\"https://colab.research.google.com/github/bdemchak/cytoscape-jupyter/blob/main/gangsu/basic%20protocol%201.ipynb\" target=\"_parent\"><img src=\"https://colab.research.google.com/assets/colab-badge.svg\" alt=\"Open In Colab\"/></a>"
      ]
    },
    {
      "cell_type": "markdown",
      "metadata": {
        "id": "khjUrLor-5w_"
      },
      "source": [
        "This is a reproduction of the [Biological Network Exploration with Cytoscape 3](https://pubmed.ncbi.nlm.nih.gov/25199793/) Basic Protocol 1, which loads an s. cervesiae network, filters out unneeded nodes, lays out the resulting network, creates clusters of similar nodes and then performs an enrichment calculation on one cluster.\n",
        "\n",
        "Note that this workflow executes in a Jupyter Notebook running on a cloud server (e.g., Google Colab) and communicates with a copy of Cytoscape running on your workstation. For version of this workflow that runs on the same workstation as Cytoscape, see [here](https://github.com/cytoscape/py4cytoscape/tree/master/tests)."
      ]
    },
    {
      "cell_type": "markdown",
      "metadata": {
        "id": "EynlCq2w336-"
      },
      "source": [
        "---\n",
        "# Setup data files, py4cytoscape and Cytoscape connection\n",
        "**NOTE: To run this notebook, you must manually start Cytoscape first -- don't proceed until you have started Cytoscape.**\n",
        "\n",
        "This workflow requires two files that are located in cloud storage:\n",
        "\n",
        "* BIOGRID-ORGANISM-Saccharomyces_cerevisiae-3.2.105.mitab (network file)\n",
        "* GDS112_full.soft (annotation file)\n",
        "\n",
        "Both files reside in a Dropbox folder, and they are downloaded by this workflow as needed."
      ]
    },
    {
      "cell_type": "markdown",
      "metadata": {
        "id": "wJ9RYWAF4wF6"
      },
      "source": [
        "## Setup: Fetch latest py4cytoscape\n",
        "\n",
        "\n"
      ]
    },
    {
      "cell_type": "markdown",
      "metadata": {
        "id": "9RVNEFryzJR3"
      },
      "source": [
        "**Note that you can fetch from the latest Github unreleased version by setting _PY4CYTOSCAPE to 'git+https://github.com/cytoscape/py4cytoscape' immediately before the exec() call. To fetch a particular branch, add '@' to the end (e.g., 'git+https://github.com/cytoscape/py4cytoscape@0.0.12').**\n",
        "\n",
        "To load the default (PyPI) py4cytoscape version, do not set _PY4CYTOSCAPE at all."
      ]
    },
    {
      "cell_type": "code",
      "metadata": {
        "id": "pW3Jhe2PMD9z",
        "outputId": "add8fc65-a4c4-4845-d926-9423f8e6edbd",
        "colab": {
          "base_uri": "https://localhost:8080/",
          "height": 766
        }
      },
      "source": [
        "_PY4CYTOSCAPE = 'git+https://github.com/cytoscape/py4cytoscape@1.4.0' # optional\n",
        "import requests\n",
        "\n",
        "exec(requests.get(\"https://raw.githubusercontent.com/cytoscape/jupyter-bridge/master/client/p4c_init.py\").text)\n",
        "\n",
        "IPython.display.Javascript(_PY4CYTOSCAPE_BROWSER_CLIENT_JS) # Start browser client"
      ],
      "execution_count": 1,
      "outputs": [
        {
          "output_type": "stream",
          "name": "stdout",
          "text": [
            "Looking in indexes: https://pypi.org/simple, https://us-python.pkg.dev/colab-wheels/public/simple/\n",
            "Collecting git+https://github.com/cytoscape/py4cytoscape@1.4.0\n",
            "  Cloning https://github.com/cytoscape/py4cytoscape (to revision 1.4.0) to /tmp/pip-req-build-zwot55qx\n"
          ]
        },
        {
          "output_type": "stream",
          "name": "stderr",
          "text": [
            "  Running command git clone -q https://github.com/cytoscape/py4cytoscape /tmp/pip-req-build-zwot55qx\n",
            "  Running command git checkout -b 1.4.0 --track origin/1.4.0\n",
            "  Switched to a new branch '1.4.0'\n",
            "  Branch '1.4.0' set up to track remote branch '1.4.0' from 'origin'.\n"
          ]
        },
        {
          "output_type": "stream",
          "name": "stdout",
          "text": [
            "Requirement already satisfied: pandas in /usr/local/lib/python3.7/dist-packages (from py4cytoscape==1.4.0) (1.3.5)\n",
            "Requirement already satisfied: networkx in /usr/local/lib/python3.7/dist-packages (from py4cytoscape==1.4.0) (2.6.3)\n",
            "Requirement already satisfied: requests in /usr/local/lib/python3.7/dist-packages (from py4cytoscape==1.4.0) (2.23.0)\n",
            "Collecting python-igraph\n",
            "  Downloading python-igraph-0.9.11.tar.gz (9.5 kB)\n",
            "Collecting colorbrewer\n",
            "  Downloading colorbrewer-0.2.0-py3-none-any.whl (9.4 kB)\n",
            "Requirement already satisfied: chardet in /usr/local/lib/python3.7/dist-packages (from py4cytoscape==1.4.0) (3.0.4)\n",
            "Requirement already satisfied: decorator in /usr/local/lib/python3.7/dist-packages (from py4cytoscape==1.4.0) (4.4.2)\n",
            "Requirement already satisfied: six in /usr/local/lib/python3.7/dist-packages (from colorbrewer->py4cytoscape==1.4.0) (1.15.0)\n",
            "Requirement already satisfied: numpy>=1.17.3 in /usr/local/lib/python3.7/dist-packages (from pandas->py4cytoscape==1.4.0) (1.21.6)\n",
            "Requirement already satisfied: python-dateutil>=2.7.3 in /usr/local/lib/python3.7/dist-packages (from pandas->py4cytoscape==1.4.0) (2.8.2)\n",
            "Requirement already satisfied: pytz>=2017.3 in /usr/local/lib/python3.7/dist-packages (from pandas->py4cytoscape==1.4.0) (2022.1)\n",
            "Collecting igraph==0.9.11\n",
            "  Downloading igraph-0.9.11-cp37-cp37m-manylinux_2_17_x86_64.manylinux2014_x86_64.whl (3.1 MB)\n",
            "Collecting texttable>=1.6.2\n",
            "  Downloading texttable-1.6.4-py2.py3-none-any.whl (10 kB)\n",
            "Requirement already satisfied: urllib3!=1.25.0,!=1.25.1,<1.26,>=1.21.1 in /usr/local/lib/python3.7/dist-packages (from requests->py4cytoscape==1.4.0) (1.24.3)\n",
            "Requirement already satisfied: idna<3,>=2.5 in /usr/local/lib/python3.7/dist-packages (from requests->py4cytoscape==1.4.0) (2.10)\n",
            "Requirement already satisfied: certifi>=2017.4.17 in /usr/local/lib/python3.7/dist-packages (from requests->py4cytoscape==1.4.0) (2022.5.18.1)\n",
            "Building wheels for collected packages: py4cytoscape, python-igraph\n",
            "  Building wheel for py4cytoscape (setup.py): started\n",
            "  Building wheel for py4cytoscape (setup.py): finished with status 'done'\n",
            "  Created wheel for py4cytoscape: filename=py4cytoscape-1.4.0-py3-none-any.whl size=168071 sha256=be600b5f6a67dd41b95f359fecd170d5dbfbece2690101a3ed0f2e5081b3c64d\n",
            "  Stored in directory: /tmp/pip-ephem-wheel-cache-odvxhgkx/wheels/52/d9/84/a2c7632ccc1801285f9c2a7ff92d7b99a0adcdac3a9c8a8c3a\n",
            "  Building wheel for python-igraph (setup.py): started\n",
            "  Building wheel for python-igraph (setup.py): finished with status 'done'\n",
            "  Created wheel for python-igraph: filename=python_igraph-0.9.11-py3-none-any.whl size=9074 sha256=3bad89f093589d815b20fa336cfd7266f9f0b221ae577c37b64eada53c1f89c3\n",
            "  Stored in directory: /root/.cache/pip/wheels/7d/e4/0c/0c83f70bd0b99ce8aea47a21f8e52502169e7dd17808d12f30\n",
            "Successfully built py4cytoscape python-igraph\n",
            "Installing collected packages: texttable, igraph, python-igraph, colorbrewer, py4cytoscape\n",
            "Successfully installed colorbrewer-0.2.0 igraph-0.9.11 py4cytoscape-1.4.0 python-igraph-0.9.11 texttable-1.6.4\n",
            "NumExpr defaulting to 2 threads.\n",
            "Loading Javascript client ... 06370b12-1c7a-402a-ba7a-4c1164ac64da on https://jupyter-bridge.cytoscape.org\n",
            "ADVICE: WHEN RUNNING UNDER COLAB, DO NOT RE-RUN THIS CELL WITHOUT MANUALLY EXECUTING Runtime | Factory Reset Runtime FROM THE COLAB MENU FIRST.\n"
          ]
        },
        {
          "output_type": "execute_result",
          "data": {
            "text/plain": [
              "<IPython.core.display.Javascript object>"
            ],
            "application/javascript": [
              "var Channel = \"06370b12-1c7a-402a-ba7a-4c1164ac64da\"; \n",
              "\n",
              "var JupyterBridge = \"https://jupyter-bridge.cytoscape.org\"; \n",
              "\n",
              "  /*\n",
              "    These functions serve as a connector between a remote Jupyter server and Cytoscape.\n",
              "    They run in the user's browser, which also shows the Jupyter Notebook.\n",
              "\n",
              "    A remote Jupyter Notebook call to the py4cytoscape package is forwarded to the Jupyter Bridge,\n",
              "    which is a standalone server. The functions in this connector execute in the Jupyter Notebook\n",
              "    browser, which executes on the same PC as Cytoscape. So, that's 4 components: (A) remote\n",
              "    Jupyter Notebook, (B) separate Jupyter Bridge server, (C) this browser-based component, and\n",
              "    (D) Cytoscape. (A) is on a remote server, (B) is on a different remote server, and (C) and (D)\n",
              "    are on the user's PC.\n",
              "\n",
              "    (A) calls its py4cytoscape module, which forwards the request (in a JSON wrapper) to (B).\n",
              "    (C) picks up the request from (B), unpacks the request and forwards it to (D). (C) awaits a\n",
              "    reply from (D), and when it gets it, it forwards the reply (in a JSON wrapper) to (B).\n",
              "    (A)'s py4cytoscape module picks up the reply on (B) when it becomes available, unpacks it,\n",
              "    and returns it to (A).\n",
              "\n",
              "    A Jupyter Notebook can talk to only one Cytoscape (i.e., the one on the machine running the\n",
              "    Jupyter Notebook browser), and Cytoscape should be called by only one Jupyter Notebook. The\n",
              "    Jupyter Bridge differentiates between Notebook-Cytoscape conversations via a channel UUID.\n",
              "    The UUID is prepended to this browser component by py4Cytoscape, and the component is\n",
              "    started by the Jupyter Notebook. (I wish py4Cytoscape could start the component, too, but I\n",
              "    haven't figured out how to do that yet, so startup code *is* required in the Jupyter\n",
              "    Notebook.)\n",
              "\n",
              "    Note that for the case of a Jupyter server running on the same machine as Cytoscape, this\n",
              "    bridge isn't necessary because the Jupyter server's HTTP calls can easily connect to\n",
              "    Cytoscape over a localhost socket. So, the combination of Jupyter Bridge and this browser\n",
              "    component solves the problem of a Jupyter server (e.g., Google's Colab) that can't\n",
              "    connect to Cytoscape that sits behind a firewall.\n",
              "\n",
              "    The request represents an HTTP call that py4cytoscape would normally make via HTTP directly\n",
              "    to Cytoscape via localhost when both py4cytoscape and Cytoscape are running on the same machine.\n",
              " */\n",
              "\n",
              "const VERSION = '0.0.2'\n",
              "\n",
              "var showDebug; // Flag indicating whether to show Jupyter-bridge progress\n",
              "if (typeof showDebug === 'undefined') {\n",
              "    showDebug = false\n",
              "}\n",
              "if (showDebug) {\n",
              "    alert(\"Starting Jupyter-bridge browser component\")\n",
              "}\n",
              "\n",
              "//const JupyterBridge = 'http://127.0.0.1:5000' // for testing against local Jupyter-bridge\n",
              "var JupyterBridge; // URL of Jupyter-bridge server could be defined by assignment pre-pended to this file\n",
              "if (typeof JupyterBridge === 'undefined') {\n",
              "    JupyterBridge = 'https://jupyter-bridge.cytoscape.org' // for production\n",
              "}\n",
              "var Channel; // Unique constant that could be defined by assignment pre-pended to this file\n",
              "if (typeof Channel === 'undefined') { // ... but if not assigned, use a debugging value\n",
              "    Channel = 1\n",
              "}\n",
              "\n",
              "\n",
              "var httpR = new XMLHttpRequest(); // for sending reply to Jupyter-bridge\n",
              "var httpRE = new XMLHttpRequest(); // for sending backup error reply to Jupyter-bridge\n",
              "var httpC = new XMLHttpRequest(); // for sending command to Cytoscape\n",
              "var httpJ = new XMLHttpRequest(); // for fetching request from Jupyter-bridge\n",
              "\n",
              "const HTTP_OK = 200\n",
              "const HTTP_SYS_ERR = 500\n",
              "const HTTP_TIMEOUT = 408\n",
              "const HTTP_TOO_MANY = 429\n",
              "\n",
              "\n",
              " /* This function is useful if we want to rewrite the incoming URL to resolve just to our local one.\n",
              "    Doing this stops the Jupyter component from abusing this client to call out to endpoints other\n",
              "    than local Cytoscape. On the other hand, it makes it hard to detect when the Jupyter component\n",
              "    has specified a genuinely bad URL and really should get an error result. For now, we'll execute\n",
              "    the Jupyter-supplied URL and return the result, whatever it may be.\n",
              "\n",
              "const LocalCytoscape = 'http://127.0.0.1:1234'\n",
              "\n",
              "function parseURL(url) {\n",
              "    var reURLInformation = new RegExp([\n",
              "        '^(https?:)//', // protocol\n",
              "        '(([^:/?#]*)(?::([0-9]+))?)', // host (hostname and port)\n",
              "        '(/{0,1}[^?#]*)', // pathname\n",
              "        '(\\\\?[^#]*|)', // search\n",
              "        '(#.*|)$' // hash\n",
              "    ].join(''));\n",
              "    var match = url.match(reURLInformation);\n",
              "    return match && {\n",
              "        url: url,\n",
              "        protocol: match[1],\n",
              "        host: match[2],\n",
              "        hostname: match[3],\n",
              "        port: match[4],\n",
              "        pathname: match[5],\n",
              "        search: match[6],\n",
              "        hash: match[7]\n",
              "    }\n",
              "}\n",
              "*/\n",
              "\n",
              "function replyCytoscape(replyStatus, replyStatusText, replyText) {\n",
              "\n",
              "    // Clean up after Jupyter bridge accepts reply\n",
              "    httpR.onreadystatechange = function() {\n",
              "        if (httpR.readyState === 4) {\n",
              "            if (showDebug) {\n",
              "                console.log(' status from queue_reply: ' + httpR.status + ', reply: ' + httpR.responseText)\n",
              "            }\n",
              "        }\n",
              "    }\n",
              "\n",
              "    httpR.onerror = function() {\n",
              "        // Clean up after Jupyter bridge accepts backup reply\n",
              "        httpRE.onreadystatechange = function() {\n",
              "            if (httpRE.readyState === 4) {\n",
              "                if (showDebug) {\n",
              "                    console.log(' status from backup queue_reply: ' + httpRE.status + ', reply: ' + httpRE.responseText)\n",
              "                }\n",
              "            }\n",
              "        }\n",
              "\n",
              "        if (showDebug) {\n",
              "            console.log(' error from queue_reply -- could be Jupyter-Bridge server reject')\n",
              "        }\n",
              "        var errReply = {'status': HTTP_SYS_ERR, 'reason': 'Jupyter-Bridge rejected reply', 'text': 'Possibly reply is too long for Jupyter-Bridge server'}\n",
              "        httpRE.open('POST', jupyterBridgeURL, true)\n",
              "        httpRE.setRequestHeader('Content-Type', 'text/plain')\n",
              "        httpRE.send(JSON.stringify(errReply))\n",
              "    }\n",
              "\n",
              "    var reply = {'status': replyStatus, 'reason': replyStatusText, 'text': replyText}\n",
              "\n",
              "    // Send reply to Jupyter bridge\n",
              "    var jupyterBridgeURL = JupyterBridge + '/queue_reply?channel=' + Channel\n",
              "    if (showDebug) {\n",
              "        console.log('Starting queue to Jupyter bridge: ' + jupyterBridgeURL)\n",
              "    }\n",
              "    httpR.open('POST', jupyterBridgeURL, true)\n",
              "    httpR.setRequestHeader('Content-Type', 'text/plain')\n",
              "    httpR.send(JSON.stringify(reply))\n",
              "}\n",
              "\n",
              "function callCytoscape(callSpec) {\n",
              "\n",
              "    // Captures Cytoscape reply and sends it on\n",
              "    httpC.onreadystatechange = function() {\n",
              "        if (httpC.readyState === 4) {\n",
              "            if (showDebug) {\n",
              "                console.log(' status from CyREST: ' + httpC.status + ', statusText: ' + httpC.statusText + ', reply: ' + httpC.responseText)\n",
              "            }\n",
              "            // Note that httpC.status is 0 if the URL can't be reached *OR* there is a CORS violation.\n",
              "            // I wish I could tell the difference because for a CORS violation, I'd return a 404,\n",
              "            // which would roughly match what Python's native request package would return.\n",
              "            // The practical consequence is that the ultimate caller (e.g., py4cytoscape)\n",
              "            // returns different exceptions, depending on wither this module is doing the\n",
              "            // HTTP operation or the native Python requests package is. This is minor, but\n",
              "            // messes up tests that verify the exception type.\n",
              "            replyCytoscape(httpC.status, httpC.statusText, httpC.responseText)\n",
              "            waitOnJupyterBridge()\n",
              "        }\n",
              "    }\n",
              "\n",
              "//  Build up request to Cytoscape, making sure host is local.\n",
              "//    Too heavy handed: localURL = LocalCytoscape + parseURL(callSpec.url).pathname\n",
              "    var localURL = callSpec.url // Try using what was passed in ... is there a security risk??\n",
              "\n",
              "    if (showDebug) {\n",
              "        console.log('Command to CyREST: ' + callSpec.command + ' (' + localURL + ')')\n",
              "        if (callSpec.params) {\n",
              "            console.log(' params: ' + JSON.stringify(callSpec.params))\n",
              "        }\n",
              "        if (callSpec.headers) {\n",
              "            console.log(' header: ' + JSON.stringify(callSpec.headers))\n",
              "        }\n",
              "        if (callSpec.data) {\n",
              "            console.log('   data: ' + JSON.stringify(callSpec.data))\n",
              "        }\n",
              "    }\n",
              "\n",
              "    if (callSpec.command === 'webbrowser') {\n",
              "        if (window.open(callSpec.url)) {\n",
              "            replyCytoscape(HTTP_OK, 'OK', '')\n",
              "        } else {\n",
              "            replyCytoscape(HTTP_SYS_ERR, 'BAD BROWSER OPEN', '')\n",
              "        }\n",
              "        waitOnJupyterBridge()\n",
              "    } else if (callSpec.command === 'version') {\n",
              "        replyCytoscape(HTTP_OK, 'OK',\n",
              "            JSON.stringify({\"jupyterBridgeVersion\": VERSION}))\n",
              "        waitOnJupyterBridge()\n",
              "    } else {\n",
              "        var joiner = '?'\n",
              "        for (let param in callSpec.params) {\n",
              "            localURL = localURL + joiner + param + '=' + encodeURIComponent(callSpec.params[param])\n",
              "            joiner = '&'\n",
              "        }\n",
              "\n",
              "        httpC.open(callSpec.command, localURL, true)\n",
              "        for (let header in callSpec.headers) {\n",
              "            httpC.setRequestHeader(header, callSpec.headers[header])\n",
              "        }\n",
              "\n",
              "        // Send request to Cytoscape ... reply goes to onreadystatechange handler\n",
              "        httpC.send(JSON.stringify(callSpec.data))\n",
              "    }\n",
              "}\n",
              "\n",
              "function waitOnJupyterBridge() {\n",
              "\n",
              "    // Captures request from Jupyter bridge\n",
              "    httpJ.onreadystatechange = function() {\n",
              "        if (httpJ.readyState === 4) {\n",
              "            if (showDebug) {\n",
              "                console.log(' status from dequeue_request: ' + httpJ.status + ', reply: ' + httpJ.responseText)\n",
              "            }\n",
              "            try {\n",
              "                if (httpJ.status == HTTP_TOO_MANY) {\n",
              "                    // Nothing more to do ... the browser has created too many listeners,\n",
              "                    // and it's time to stop listening because the server saw a listener\n",
              "                    // listening on this channel before we got there.\n",
              "                    console.log('  shutting down because of redundant reader on channel: ' + Channel)\n",
              "                } else {\n",
              "                    if (httpJ.status === HTTP_TIMEOUT) {\n",
              "                        waitOnJupyterBridge()\n",
              "                    } else {\n",
              "                        callCytoscape(JSON.parse(httpJ.responseText))\n",
              "                    }\n",
              "                }\n",
              "            } catch(err) {\n",
              "                if (showDebug) {\n",
              "                    console.log(' exception calling Cytoscape: ' + err)\n",
              "                }\n",
              "                // Bad responseText means something bad happened that we don't understand.\n",
              "                // Go wait on another request, as there's nothing to call Cytoscape with.\n",
              "                waitOnJupyterBridge()\n",
              "            }\n",
              "        }\n",
              "    }\n",
              "\n",
              "    // Wait for request from Jupyter bridge\n",
              "    var jupyterBridgeURL = JupyterBridge + '/dequeue_request?channel=' + Channel\n",
              "    if (showDebug) {\n",
              "        console.log('Starting dequeue on Jupyter bridge: ' + jupyterBridgeURL)\n",
              "    }\n",
              "    httpJ.open('GET', jupyterBridgeURL, true)\n",
              "    httpJ.send()\n",
              "}\n",
              "\n",
              "// This kicks off a loop that ends by calling waitOnJupyterBridge again. This first call\n",
              "// ejects any dead readers before we start a read\n",
              "waitOnJupyterBridge() // Wait for message from Jupyter bridge, execute it, and return reply\n",
              "\n",
              "if (showDebug) {\n",
              "    alert(\"Jupyter-bridge browser component is started on \" + JupyterBridge + ', channel ' + Channel)\n",
              "}\n"
            ]
          },
          "metadata": {},
          "execution_count": 1
        }
      ]
    },
    {
      "cell_type": "markdown",
      "metadata": {
        "id": "sTJwg_HN3WPH"
      },
      "source": [
        "## Setup: Sanity test to verify Cytoscape connection"
      ]
    },
    {
      "cell_type": "markdown",
      "metadata": {
        "id": "vwHsK9OTIhv1"
      },
      "source": [
        "By now, the connection to Cytoscape should be up and available. To verify this, try a simple operation that doesn't alter the state of Cytoscape."
      ]
    },
    {
      "cell_type": "code",
      "metadata": {
        "id": "sP5J_ey7C_t6",
        "outputId": "89d702a7-a178-45b0-e69a-d32c6817a552",
        "colab": {
          "base_uri": "https://localhost:8080/"
        }
      },
      "source": [
        "p4c.cytoscape_version_info()\n"
      ],
      "execution_count": 2,
      "outputs": [
        {
          "output_type": "execute_result",
          "data": {
            "text/plain": [
              "{'apiVersion': 'v1',\n",
              " 'automationAPIVersion': '1.5.0',\n",
              " 'cytoscapeVersion': '3.9.1',\n",
              " 'jupyterBridgeVersion': '0.0.2',\n",
              " 'py4cytoscapeVersion': '1.4.0'}"
            ]
          },
          "metadata": {},
          "execution_count": 2
        }
      ]
    },
    {
      "cell_type": "markdown",
      "metadata": {
        "id": "VvaiYm7HwcsN"
      },
      "source": [
        "## Setup: Notebook data files\n",
        "Create the 'output' directory, which will be used to store files uploaded from Cytoscape.\n",
        "\n",
        "This is a good place to prepare any other system resources that might be needed by downstream Notebook cells.\n",
        "\n",
        "\n",
        "\n"
      ]
    },
    {
      "cell_type": "code",
      "metadata": {
        "id": "sTP9Tf7hb9g0",
        "outputId": "71871a26-b55a-4ad1-ca90-b71bb819a77f",
        "colab": {
          "base_uri": "https://localhost:8080/"
        }
      },
      "source": [
        "!rm -r output/\n",
        "!ls -l \n",
        "OUTPUT_DIR = 'output/'"
      ],
      "execution_count": 3,
      "outputs": [
        {
          "output_type": "stream",
          "name": "stdout",
          "text": [
            "rm: cannot remove 'output/': No such file or directory\n",
            "total 8\n",
            "drwxr-xr-x 2 root root 4096 Jun 15 00:51 logs\n",
            "drwxr-xr-x 1 root root 4096 Jun  1 13:50 sample_data\n"
          ]
        }
      ]
    },
    {
      "cell_type": "markdown",
      "metadata": {
        "id": "Bwq52ljZHCqR"
      },
      "source": [
        "## Setup: Import source data files\n",
        "The network and annotation files are in a Dropbox folder, and this cell downloads them into the default Sandbox from where Cytoscape will access them.\n",
        "\n",
        "The files could just as well have been on any cloud resource, including Google Drive, Github, Microsoft OneDrive or a private web site. Note that in this case, the network file was so large that it could not be saved on GitHub, so Dropbox was a handy alternative.\n",
        "\n",
        "*An alternative would be to load the files into this Notebook's file system (or create them there) and then download those files to the Sandbox. Loading them into the Notebook file system would require the use of Notebook \"!\" commands (e.g., !wget).*\n"
      ]
    },
    {
      "cell_type": "markdown",
      "metadata": {
        "id": "RlKSyX07FVL-"
      },
      "source": [
        "**Sandboxing is explained in https://py4cytoscape.readthedocs.io/en/latest/concepts.html#sandboxing**"
      ]
    },
    {
      "cell_type": "code",
      "metadata": {
        "id": "fCbMNMsO9rU8",
        "outputId": "b3eb01f4-840b-49e6-8d63-2561f34aa484",
        "colab": {
          "base_uri": "https://localhost:8080/"
        }
      },
      "source": [
        "p4c.sandbox_set(None) # Revert to default sandbox in case some other workflow selected a different one\n",
        "\n",
        "res_mitab = p4c.sandbox_url_to(\"https://www.dropbox.com/s/8wc8o897tsxewt1/BIOGRID-ORGANISM-Saccharomyces_cerevisiae-3.2.105.mitab?dl=0\", \"BIOGRID-ORGANISM-Saccharomyces_cerevisiae-3.2.105.mitab\")\n",
        "print(f'Network file BIOGRID-ORGANISM-Saccharomyces_cerevisiae-3.2.105.mitab has {res_mitab[\"fileByteCount\"]} bytes')"
      ],
      "execution_count": 4,
      "outputs": [
        {
          "output_type": "stream",
          "name": "stdout",
          "text": [
            "Network file BIOGRID-ORGANISM-Saccharomyces_cerevisiae-3.2.105.mitab has 166981992 bytes\n"
          ]
        }
      ]
    },
    {
      "cell_type": "markdown",
      "metadata": {
        "id": "RTGAUyauDr6K"
      },
      "source": [
        "---\n",
        "# Load the Protein-protein Interaction Network into Cytoscape\n",
        "The network is contained in the s. cerevisiae MITAB file."
      ]
    },
    {
      "cell_type": "markdown",
      "metadata": {
        "id": "jmanb3qDD7E2"
      },
      "source": [
        "Note that in this cell, the `import_network_from_file()` function (incorrectly) throws an exception in pre-3.10.0 Cytoscape. To ignore the exception, we enclose it in a try/except block.\n",
        "\n",
        "**Note:** Once the CYTOSCAPE-12772 issue is solved, we can remove the try/except block.\n"
      ]
    },
    {
      "cell_type": "code",
      "metadata": {
        "id": "nQ4lD6C_ghFA",
        "outputId": "7b0a6f0b-7ae5-4322-ae8b-7239b33d4033",
        "colab": {
          "base_uri": "https://localhost:8080/"
        }
      },
      "source": [
        "from requests import HTTPError\n",
        "p4c.close_session(False)\n",
        "\n",
        "try:\n",
        "  p4c.import_network_from_file('BIOGRID-ORGANISM-Saccharomyces_cerevisiae-3.2.105.mitab')\n",
        "except:  \n",
        "  pass\n",
        "if p4c.get_network_count() != 1:\n",
        "  raise Exception('Failed to load network')\n",
        "net_suid = p4c.get_network_suid()\n",
        "print(f'Network identifier: {net_suid}')\n",
        "\n"
      ],
      "execution_count": 5,
      "outputs": [
        {
          "output_type": "stream",
          "name": "stderr",
          "text": [
            "In commands_post(): {'status': 500, 'type': 'urn:cytoscape:ci:cyrest-core:v1:handle-json-command:errors:3', 'message': 'Task returned invalid json.', 'link': 'file:/C:/Users/CyDeveloper/CytoscapeConfiguration/3/framework-cytoscape.log'}\n"
          ]
        },
        {
          "output_type": "stream",
          "name": "stdout",
          "text": [
            "Network identifier: 63327\n"
          ]
        }
      ]
    },
    {
      "cell_type": "markdown",
      "metadata": {
        "id": "fyhlv8yyESep"
      },
      "source": [
        "---\n",
        "# Import the gene expression data\n",
        "The expression data is downloaded and merged into the network's node attribute table."
      ]
    },
    {
      "cell_type": "markdown",
      "metadata": {
        "id": "fX1fQqyFuvIp"
      },
      "source": [
        "---\n",
        "*Tip:* This cell shows how to create code that works around changes in Cytoscape capabilities. \n",
        "\n",
        "In this case, starting with Cytoscape 3.9.0, the `load_table_data_from_file()` function works as expected, so the gene expression data is merged into the node attribute table. \n",
        "\n",
        "Prior to 3.9.0, `load_table_data_from_file()` didn't work. As a workaround, we do most of the work in Pandas and then import the dataframe into the node attribute table. After Pandas reads the CSV, we will try to match dataframe Gene ID column to the `name` column in the Cytoscape node attribute table. To do this, we must explicitly set the Gene ID as a string (even though it's originally parsed as a number) because Cytoscape's `name` column is already a string. \n",
        "\n"
      ]
    },
    {
      "cell_type": "code",
      "metadata": {
        "id": "jMnno2stwRIC",
        "outputId": "e1c42979-81eb-4948-9439-4a65a7a7d47e",
        "colab": {
          "base_uri": "https://localhost:8080/"
        }
      },
      "source": [
        "if p4c.check_supported_versions(cytoscape='3.9') is None:\n",
        "  # Load file directly into Sandbox so Cytoscape can import it\n",
        "  res_soft = p4c.sandbox_url_to(\"https://www.dropbox.com/s/r15azh0xb53smu1/GDS112_full.soft?dl=0\", \"GDS112_full.soft\")\n",
        "  print(f'Annotation file GDS112_full.soft has {res_soft[\"fileByteCount\"]} bytes')\n",
        "\n",
        "  res = p4c.load_table_data_from_file('GDS112_full.soft', start_load_row=83, data_key_column_index=10, delimiters='\\t')\n",
        "  print(f'Load result contains table identifiers: {res[\"mappedTables\"]}')\n",
        "else:\n",
        "  # Load file into Notebook file system so Python can import it, tweak it, and download to Cytoscape\n",
        "  !wget -q --no-check-certificate https://www.dropbox.com/s/r15azh0xb53smu1/GDS112_full.soft?dl=0\n",
        "  !mv GDS112_full.soft?dl=0 GDS112_full.soft\n",
        "\n",
        "  import pandas as df\n",
        "  GDS112_full = df.read_csv('GDS112_full.soft', skiprows=82, sep='\\t')\n",
        "  GDS112_full.dropna(subset=['Gene ID'], inplace=True)\n",
        "  GDS112_full['Gene ID'] = df.to_numeric(GDS112_full['Gene ID'], downcast='integer')\n",
        "  GDS112_full = GDS112_full.astype({'Gene ID': 'string'})\n",
        "  print(GDS112_full.dtypes)\n",
        "  print(GDS112_full)\n",
        "  p4c.load_table_data(GDS112_full, data_key_column='Gene ID')\n",
        "\n",
        "  import os\n",
        "  os.remove('GDS112_full.soft')\n"
      ],
      "execution_count": 6,
      "outputs": [
        {
          "output_type": "stream",
          "name": "stdout",
          "text": [
            "Annotation file GDS112_full.soft has 5536880 bytes\n",
            "Load result contains table identifiers: [63298, 63336]\n"
          ]
        }
      ]
    },
    {
      "cell_type": "markdown",
      "metadata": {
        "id": "UgaRJXpPFPlL"
      },
      "source": [
        "---\n",
        "# Filter the Network with the Genes that have Expression Data\n",
        "For this, we assume that if a node has no *Gene symbol*, it also has no expression data. \n",
        "\n",
        "The filter compares each node's *Gene symbol* attribute to a regular expression. If there is a match, the gene is selected; for no match, the gene isn't selected."
      ]
    },
    {
      "cell_type": "code",
      "metadata": {
        "id": "FDtlIeqGCjrw",
        "outputId": "5cac71c2-a4d9-4cd7-c100-36b7174dfe37",
        "colab": {
          "base_uri": "https://localhost:8080/"
        }
      },
      "source": [
        "res = p4c.create_column_filter('SymbolOK', 'Gene symbol', '[A-Z0-9]*', 'REGEX')\n",
        "print(f'Nodes selected: {len(res[\"nodes\"])}')"
      ],
      "execution_count": 7,
      "outputs": [
        {
          "output_type": "stream",
          "name": "stdout",
          "text": [
            "No edges selected.\n",
            "Nodes selected: 5514\n"
          ]
        }
      ]
    },
    {
      "cell_type": "markdown",
      "metadata": {
        "id": "gNzJz9QkFtxe"
      },
      "source": [
        "---\n",
        "# Create a New Network with the Selected Subset\n",
        "Create a subnetwork containing only nodes selected by the filter (i.e., having a *Gene symbol* value, which implies that expression data is present for that node)."
      ]
    },
    {
      "cell_type": "markdown",
      "metadata": {
        "id": "LlM9YkdHFygQ"
      },
      "source": [
        "This could take several minutes.\n",
        "\n",
        "At the end, you should see a view containing all nodes laid out. "
      ]
    },
    {
      "cell_type": "markdown",
      "metadata": {
        "id": "phx6pYM1ZiI4"
      },
      "source": [
        "If you see only a single rectangle, it could be that your Cytoscape is set to operate with a small stack size. To increase the stack:\n",
        "\n",
        "1. terminate Cytoscape\n",
        "\n",
        "2. a) upgrade Cytoscape to 3.9.0 or later \n",
        "\n",
        "  ... or b) use a text editor to add -Xss5M to the cytoscape.vmoptions file in your Cytoscape program directory\n",
        "\n",
        "3. restart Cytoscape\n",
        "\n",
        "4. re-run this workflow"
      ]
    },
    {
      "cell_type": "code",
      "metadata": {
        "id": "39sA48cLEurX",
        "outputId": "93235ecf-279f-436a-c2df-98914b20b1d4",
        "colab": {
          "base_uri": "https://localhost:8080/"
        }
      },
      "source": [
        "new_suid = p4c.create_subnetwork()\n",
        "print(f'New network identifier: {new_suid}')"
      ],
      "execution_count": 8,
      "outputs": [
        {
          "output_type": "stream",
          "name": "stdout",
          "text": [
            "New network identifier: 1451225\n"
          ]
        }
      ]
    },
    {
      "cell_type": "markdown",
      "metadata": {
        "id": "nfWTpsjOF3Op"
      },
      "source": [
        "## Get rid of the original network, which isn't needed anymore"
      ]
    },
    {
      "cell_type": "code",
      "metadata": {
        "id": "iYuud6SgG-sE"
      },
      "source": [
        "p4c.delete_network(net_suid)\n",
        "net_suid = new_suid"
      ],
      "execution_count": 9,
      "outputs": []
    },
    {
      "cell_type": "markdown",
      "source": [
        "---\n",
        "# Identify Network Modules\n",
        "The overall strategy is to find clusters of nodes that share some common attribute. In this case, we use expression data values. Specifically:\n",
        "\n",
        "* Load Cytoscape's clusterMaker2 app\n",
        "* Use clusterMaker2 to create a dendogram showing a hierarchy of similar network modules\n"
      ],
      "metadata": {
        "id": "dCS2f8w40Sen"
      }
    },
    {
      "cell_type": "markdown",
      "metadata": {
        "id": "FuDfuscFGCWI"
      },
      "source": [
        "## Install clusterMaker2 if it hasn't already been installed"
      ]
    },
    {
      "cell_type": "code",
      "metadata": {
        "id": "elMOuRa2IEb4",
        "outputId": "7d83da0e-3746-4a62-af53-068da5190a91",
        "colab": {
          "base_uri": "https://localhost:8080/"
        }
      },
      "source": [
        "p4c.install_app('clusterMaker2')"
      ],
      "execution_count": 10,
      "outputs": [
        {
          "output_type": "stream",
          "name": "stdout",
          "text": [
            "{}\n"
          ]
        },
        {
          "output_type": "execute_result",
          "data": {
            "text/plain": [
              "{}"
            ]
          },
          "metadata": {},
          "execution_count": 10
        }
      ]
    },
    {
      "cell_type": "markdown",
      "metadata": {
        "id": "2XmpalLLGINl"
      },
      "source": [
        "## Identify network modules\n",
        "Create a hierarchic clustering of similar nodes based on the expression data columns. Cytoscape renders the hierarchy as a dendogram.\n",
        "\n",
        "*Tip:* Cytoscape's dendogram window can be used to manually explore module similarity. "
      ]
    },
    {
      "cell_type": "code",
      "metadata": {
        "id": "qU59dHs3KONj"
      },
      "source": [
        "dendo_clustering = p4c.commands_post('cluster hierarchical showUI=true clusterAttributes=false nodeAttributeList=\"GSM1029,GSM1030,GSM1032,GSM1033,GSM1034\"')\n",
        "\n",
        "# dendo_clustering is a dictionary [{nodeOrder: [{nodeName: xxx, suid: sss}, ...]}\n",
        "#                                   {nodeTree: [{name: ggg, left: lll, right: rrr}]}]\n",
        "# where nodeOrder is a mapping between a leaf node name xxx and the suid sss of a network node,\n",
        "# and nodeTree is a tree where the left node lll and right node rrr can be leaf nodes xxx or\n",
        "# internal nodes ggg. "
      ],
      "execution_count": 11,
      "outputs": []
    },
    {
      "cell_type": "markdown",
      "metadata": {
        "id": "cLNIAjWa99pq"
      },
      "source": [
        "---\n",
        "# Perform an enrichment analysis using the gprofiler package"
      ]
    },
    {
      "cell_type": "markdown",
      "source": [
        "Use a package commonly available in PyPI to calculate functional enrichment for nodes similar to a node in which we may be interested. It's an example of how Cytoscape can work together with Python-based libraries to achieve a useful result.\n",
        "\n",
        "In this case, we choose HBT1 (entrez-gene ID 851303).\n",
        "\n",
        "1. Find SUID of network's HBT1 node\n",
        "\n",
        "1. Find a set of nodes similar to HBT1 by collecting nodes nearby in the tree\n",
        "\n",
        "1. Use each node's SUID to look up its entrez-gene ID\n",
        "\n",
        "1. Pass the set of entrez-gene IDs to gprofiler as an enrichment query\n",
        "\n",
        "\n"
      ],
      "metadata": {
        "id": "0KkaJdVA0sP9"
      }
    },
    {
      "cell_type": "markdown",
      "source": [
        "## Find HBD1 in the similarity tree"
      ],
      "metadata": {
        "id": "QY6PpCG906ox"
      }
    },
    {
      "cell_type": "code",
      "source": [
        "node_suid = p4c.node_name_to_node_suid('851303')[0] # Use entrez-gene ID to get SUID for HBT1"
      ],
      "metadata": {
        "id": "GasplzL409pP"
      },
      "execution_count": 12,
      "outputs": []
    },
    {
      "cell_type": "markdown",
      "source": [
        "## Collect set of SUIDs representing 85 similar nodes\n",
        "Note that we use custom functions to parse and traverse the dendogram's similarity tree.\n",
        "\n",
        "We use *wget* to copy the functions into a local directory so we can them import them and then call them."
      ],
      "metadata": {
        "id": "UOeXM9Er1AN_"
      }
    },
    {
      "cell_type": "code",
      "source": [
        "!wget -c https://raw.githubusercontent.com/cytoscape/py4cytoscape/master/tests/Notebooks/parse_dendogram.py\n",
        "import parse_dendogram as pde # Use custom functions to decode dendogram tree\n",
        "\n",
        "node_order = dendo_clustering[0]['nodeOrder']\n",
        "node_tree = dendo_clustering[0]['nodeTree']\n",
        "\n",
        "node_bag = pde.create_node_bag(node_order, node_tree)\n",
        "similar_nodes = list(pde.find_node_set(node_suid, 85, node_order, node_bag))"
      ],
      "metadata": {
        "colab": {
          "base_uri": "https://localhost:8080/"
        },
        "id": "M_Oy2h-a1FcH",
        "outputId": "439155ce-da03-4589-94a9-b8ef2c692cff"
      },
      "execution_count": 13,
      "outputs": [
        {
          "output_type": "stream",
          "name": "stdout",
          "text": [
            "--2022-06-15 01:05:34--  https://raw.githubusercontent.com/cytoscape/py4cytoscape/master/tests/Notebooks/parse_dendogram.py\n",
            "Resolving raw.githubusercontent.com (raw.githubusercontent.com)... 185.199.108.133, 185.199.111.133, 185.199.110.133, ...\n",
            "Connecting to raw.githubusercontent.com (raw.githubusercontent.com)|185.199.108.133|:443... connected.\n",
            "HTTP request sent, awaiting response... 200 OK\n",
            "Length: 1852 (1.8K) [text/plain]\n",
            "Saving to: ‘parse_dendogram.py’\n",
            "\n",
            "\rparse_dendogram.py    0%[                    ]       0  --.-KB/s               \rparse_dendogram.py  100%[===================>]   1.81K  --.-KB/s    in 0s      \n",
            "\n",
            "2022-06-15 01:05:34 (21.7 MB/s) - ‘parse_dendogram.py’ saved [1852/1852]\n",
            "\n"
          ]
        }
      ]
    },
    {
      "cell_type": "markdown",
      "source": [
        "## Using SUIDs, query Cytoscape for each node's entrez-gene ID"
      ],
      "metadata": {
        "id": "CkqKoYeB1I7V"
      }
    },
    {
      "cell_type": "code",
      "source": [
        "suid_to_entrez_gene = p4c.get_table_columns(columns='name')['name']\n",
        "entrez_gene_query = [int(suid_to_entrez_gene[suid])  for suid in similar_nodes]\n",
        "\n",
        "print(entrez_gene_query)"
      ],
      "metadata": {
        "colab": {
          "base_uri": "https://localhost:8080/"
        },
        "id": "Oa0ad5Af1LTb",
        "outputId": "fe0f74cf-4a5b-40ff-9830-35d11b8f2041"
      },
      "execution_count": 14,
      "outputs": [
        {
          "output_type": "stream",
          "name": "stdout",
          "text": [
            "[850295, 855363, 854742, 853614, 854197, 854212, 853766, 851321, 855878, 851303, 851295, 854244, 850627, 854125, 854214, 852902, 854000, 851541, 850425, 856616, 853693, 855789, 855737, 855227, 854206, 854098, 850412, 853405, 856543, 854297, 854247, 851649, 852695, 853613, 852436, 853217, 851596, 854240, 855738, 851934, 855669, 854898, 853159, 855020, 851380, 854188, 851433, 851239, 851474, 850963, 855774, 854302, 854357, 851581, 853758, 852146, 854062, 855562, 850318, 851013, 851625, 856855, 852342, 855788, 852543, 855836, 852343, 852291, 853238, 851582, 852064, 853920, 856417, 856018, 853536, 853169, 851347, 854108, 854856, 852721, 852818, 850597, 853309, 854204, 851445]\n"
          ]
        }
      ]
    },
    {
      "cell_type": "markdown",
      "source": [
        "## Install gprofiler package if it's not already installed"
      ],
      "metadata": {
        "id": "mI7Th8Wp1PBc"
      }
    },
    {
      "cell_type": "code",
      "source": [
        "!pip install gprofiler-official\n",
        "from gprofiler import GProfiler"
      ],
      "metadata": {
        "colab": {
          "base_uri": "https://localhost:8080/"
        },
        "id": "ZTuo_RU01RGh",
        "outputId": "41c46579-6345-4229-c22f-dc4d16c2ba0e"
      },
      "execution_count": 15,
      "outputs": [
        {
          "output_type": "stream",
          "name": "stdout",
          "text": [
            "Looking in indexes: https://pypi.org/simple, https://us-python.pkg.dev/colab-wheels/public/simple/\n",
            "Collecting gprofiler-official\n",
            "  Downloading gprofiler_official-1.0.0-py3-none-any.whl (9.3 kB)\n",
            "Requirement already satisfied: requests in /usr/local/lib/python3.7/dist-packages (from gprofiler-official) (2.23.0)\n",
            "Requirement already satisfied: idna<3,>=2.5 in /usr/local/lib/python3.7/dist-packages (from requests->gprofiler-official) (2.10)\n",
            "Requirement already satisfied: urllib3!=1.25.0,!=1.25.1,<1.26,>=1.21.1 in /usr/local/lib/python3.7/dist-packages (from requests->gprofiler-official) (1.24.3)\n",
            "Requirement already satisfied: chardet<4,>=3.0.2 in /usr/local/lib/python3.7/dist-packages (from requests->gprofiler-official) (3.0.4)\n",
            "Requirement already satisfied: certifi>=2017.4.17 in /usr/local/lib/python3.7/dist-packages (from requests->gprofiler-official) (2022.5.18.1)\n",
            "Installing collected packages: gprofiler-official\n",
            "Successfully installed gprofiler-official-1.0.0\n"
          ]
        }
      ]
    },
    {
      "cell_type": "markdown",
      "source": [
        "## Use entrez-gene IDs to query gprofiler for GO functional enrichment"
      ],
      "metadata": {
        "id": "qSqydaCm1V18"
      }
    },
    {
      "cell_type": "code",
      "source": [
        "gp = GProfiler(user_agent='py4cytoscape', return_dataframe=True)\n",
        "gp.profile(organism='scerevisiae', query=entrez_gene_query)"
      ],
      "metadata": {
        "colab": {
          "base_uri": "https://localhost:8080/",
          "height": 1000
        },
        "id": "URjS9i-k1YCh",
        "outputId": "588aa484-cdfe-449e-f451-37b3f99ec057"
      },
      "execution_count": 16,
      "outputs": [
        {
          "output_type": "execute_result",
          "data": {
            "text/plain": [
              "   source      native                                      name   p_value  \\\n",
              "0   GO:CC  GO:0005576                      extracellular region  0.000072   \n",
              "1    KEGG  KEGG:01200                         Carbon metabolism  0.000225   \n",
              "2   GO:MF  GO:0003824                        catalytic activity  0.000407   \n",
              "3    KEGG  KEGG:00260  Glycine, serine and threonine metabolism  0.003018   \n",
              "4   GO:BP  GO:0009063     cellular amino acid catabolic process  0.008424   \n",
              "5    KEGG  KEGG:00650                      Butanoate metabolism  0.009858   \n",
              "6   GO:CC  GO:0005622        intracellular anatomical structure  0.010007   \n",
              "7   GO:CC  GO:0005737                                 cytoplasm  0.010971   \n",
              "8   GO:BP  GO:0043436                 oxoacid metabolic process  0.014193   \n",
              "9   GO:BP  GO:0006082            organic acid metabolic process  0.016001   \n",
              "10  GO:BP  GO:0044281          small molecule metabolic process  0.019174   \n",
              "11     WP    WP:WP556                   Glutamate degradation I  0.019267   \n",
              "12  GO:BP  GO:0044282          small molecule catabolic process  0.027408   \n",
              "13  GO:BP  GO:0046395         carboxylic acid catabolic process  0.028170   \n",
              "14  GO:BP  GO:0019752         carboxylic acid metabolic process  0.032183   \n",
              "15  GO:BP  GO:0016054            organic acid catabolic process  0.032364   \n",
              "16     WP    WP:WP390           Serine-isocitrate lyase pathway  0.038571   \n",
              "17   KEGG  KEGG:00020                 Citrate cycle (TCA cycle)  0.043943   \n",
              "18  GO:CC  GO:0110165                cellular anatomical entity  0.049971   \n",
              "\n",
              "    significant                                        description  term_size  \\\n",
              "0          True  \"The space external to the outermost structure...        127   \n",
              "1          True                                  Carbon metabolism        112   \n",
              "2          True  \"Catalysis of a biochemical reaction at physio...       2333   \n",
              "3          True           Glycine, serine and threonine metabolism         30   \n",
              "4          True  \"The chemical reactions and pathways resulting...         63   \n",
              "5          True                               Butanoate metabolism          9   \n",
              "6          True  \"A component of a cell contained within (but n...       5216   \n",
              "7          True  \"The contents of a cell excluding the plasma m...       4435   \n",
              "8          True  \"The chemical reactions and pathways involving...        431   \n",
              "9          True  \"The chemical reactions and pathways involving...        435   \n",
              "10         True  \"The chemical reactions and pathways involving...        793   \n",
              "11         True                            Glutamate degradation I          3   \n",
              "12         True  \"The chemical reactions and pathways resulting...        166   \n",
              "13         True  \"The chemical reactions and pathways resulting...        103   \n",
              "14         True  \"The chemical reactions and pathways involving...        413   \n",
              "15         True  \"The chemical reactions and pathways resulting...        105   \n",
              "16         True                    Serine-isocitrate lyase pathway         15   \n",
              "17         True                          Citrate cycle (TCA cycle)         31   \n",
              "18         True  \"A part of a cellular organism that is either ...       5768   \n",
              "\n",
              "    query_size  intersection_size  effective_domain_size  precision    recall  \\\n",
              "0           82                 11                   6567   0.134146  0.086614   \n",
              "1           35                 10                   2091   0.285714  0.089286   \n",
              "2           83                 51                   6549   0.614458  0.021860   \n",
              "3           35                  5                   2091   0.142857  0.166667   \n",
              "4           83                  7                   6540   0.084337  0.111111   \n",
              "5           35                  3                   2091   0.085714  0.333333   \n",
              "6           82                 78                   6567   0.951220  0.014954   \n",
              "7           82                 71                   6567   0.865854  0.016009   \n",
              "8           83                 17                   6540   0.204819  0.039443   \n",
              "9           83                 17                   6540   0.204819  0.039080   \n",
              "10          83                 24                   6540   0.289157  0.030265   \n",
              "11          14                  2                    814   0.142857  0.666667   \n",
              "12          83                 10                   6540   0.120482  0.060241   \n",
              "13          83                  8                   6540   0.096386  0.077670   \n",
              "14          83                 16                   6540   0.192771  0.038741   \n",
              "15          83                  8                   6540   0.096386  0.076190   \n",
              "16          14                  3                    814   0.214286  0.200000   \n",
              "17          35                  4                   2091   0.114286  0.129032   \n",
              "18          82                 81                   6567   0.987805  0.014043   \n",
              "\n",
              "      query                                           parents  \n",
              "0   query_1                                      [GO:0110165]  \n",
              "1   query_1                                      [KEGG:00000]  \n",
              "2   query_1                                      [GO:0003674]  \n",
              "3   query_1                                      [KEGG:00000]  \n",
              "4   query_1              [GO:0006520, GO:0046395, GO:1901565]  \n",
              "5   query_1                                      [KEGG:00000]  \n",
              "6   query_1                                      [GO:0110165]  \n",
              "7   query_1                          [GO:0005622, GO:0110165]  \n",
              "8   query_1                                      [GO:0006082]  \n",
              "9   query_1              [GO:0044237, GO:0044281, GO:0071704]  \n",
              "10  query_1                                      [GO:0008152]  \n",
              "11  query_1                                       [WP:000000]  \n",
              "12  query_1                          [GO:0009056, GO:0044281]  \n",
              "13  query_1                          [GO:0016054, GO:0019752]  \n",
              "14  query_1                                      [GO:0043436]  \n",
              "15  query_1  [GO:0006082, GO:0044248, GO:0044282, GO:1901575]  \n",
              "16  query_1                                       [WP:000000]  \n",
              "17  query_1                                      [KEGG:00000]  \n",
              "18  query_1                                      [GO:0005575]  "
            ],
            "text/html": [
              "\n",
              "  <div id=\"df-4ffb3942-036e-4169-9b90-68e1495a1f35\">\n",
              "    <div class=\"colab-df-container\">\n",
              "      <div>\n",
              "<style scoped>\n",
              "    .dataframe tbody tr th:only-of-type {\n",
              "        vertical-align: middle;\n",
              "    }\n",
              "\n",
              "    .dataframe tbody tr th {\n",
              "        vertical-align: top;\n",
              "    }\n",
              "\n",
              "    .dataframe thead th {\n",
              "        text-align: right;\n",
              "    }\n",
              "</style>\n",
              "<table border=\"1\" class=\"dataframe\">\n",
              "  <thead>\n",
              "    <tr style=\"text-align: right;\">\n",
              "      <th></th>\n",
              "      <th>source</th>\n",
              "      <th>native</th>\n",
              "      <th>name</th>\n",
              "      <th>p_value</th>\n",
              "      <th>significant</th>\n",
              "      <th>description</th>\n",
              "      <th>term_size</th>\n",
              "      <th>query_size</th>\n",
              "      <th>intersection_size</th>\n",
              "      <th>effective_domain_size</th>\n",
              "      <th>precision</th>\n",
              "      <th>recall</th>\n",
              "      <th>query</th>\n",
              "      <th>parents</th>\n",
              "    </tr>\n",
              "  </thead>\n",
              "  <tbody>\n",
              "    <tr>\n",
              "      <th>0</th>\n",
              "      <td>GO:CC</td>\n",
              "      <td>GO:0005576</td>\n",
              "      <td>extracellular region</td>\n",
              "      <td>0.000072</td>\n",
              "      <td>True</td>\n",
              "      <td>\"The space external to the outermost structure...</td>\n",
              "      <td>127</td>\n",
              "      <td>82</td>\n",
              "      <td>11</td>\n",
              "      <td>6567</td>\n",
              "      <td>0.134146</td>\n",
              "      <td>0.086614</td>\n",
              "      <td>query_1</td>\n",
              "      <td>[GO:0110165]</td>\n",
              "    </tr>\n",
              "    <tr>\n",
              "      <th>1</th>\n",
              "      <td>KEGG</td>\n",
              "      <td>KEGG:01200</td>\n",
              "      <td>Carbon metabolism</td>\n",
              "      <td>0.000225</td>\n",
              "      <td>True</td>\n",
              "      <td>Carbon metabolism</td>\n",
              "      <td>112</td>\n",
              "      <td>35</td>\n",
              "      <td>10</td>\n",
              "      <td>2091</td>\n",
              "      <td>0.285714</td>\n",
              "      <td>0.089286</td>\n",
              "      <td>query_1</td>\n",
              "      <td>[KEGG:00000]</td>\n",
              "    </tr>\n",
              "    <tr>\n",
              "      <th>2</th>\n",
              "      <td>GO:MF</td>\n",
              "      <td>GO:0003824</td>\n",
              "      <td>catalytic activity</td>\n",
              "      <td>0.000407</td>\n",
              "      <td>True</td>\n",
              "      <td>\"Catalysis of a biochemical reaction at physio...</td>\n",
              "      <td>2333</td>\n",
              "      <td>83</td>\n",
              "      <td>51</td>\n",
              "      <td>6549</td>\n",
              "      <td>0.614458</td>\n",
              "      <td>0.021860</td>\n",
              "      <td>query_1</td>\n",
              "      <td>[GO:0003674]</td>\n",
              "    </tr>\n",
              "    <tr>\n",
              "      <th>3</th>\n",
              "      <td>KEGG</td>\n",
              "      <td>KEGG:00260</td>\n",
              "      <td>Glycine, serine and threonine metabolism</td>\n",
              "      <td>0.003018</td>\n",
              "      <td>True</td>\n",
              "      <td>Glycine, serine and threonine metabolism</td>\n",
              "      <td>30</td>\n",
              "      <td>35</td>\n",
              "      <td>5</td>\n",
              "      <td>2091</td>\n",
              "      <td>0.142857</td>\n",
              "      <td>0.166667</td>\n",
              "      <td>query_1</td>\n",
              "      <td>[KEGG:00000]</td>\n",
              "    </tr>\n",
              "    <tr>\n",
              "      <th>4</th>\n",
              "      <td>GO:BP</td>\n",
              "      <td>GO:0009063</td>\n",
              "      <td>cellular amino acid catabolic process</td>\n",
              "      <td>0.008424</td>\n",
              "      <td>True</td>\n",
              "      <td>\"The chemical reactions and pathways resulting...</td>\n",
              "      <td>63</td>\n",
              "      <td>83</td>\n",
              "      <td>7</td>\n",
              "      <td>6540</td>\n",
              "      <td>0.084337</td>\n",
              "      <td>0.111111</td>\n",
              "      <td>query_1</td>\n",
              "      <td>[GO:0006520, GO:0046395, GO:1901565]</td>\n",
              "    </tr>\n",
              "    <tr>\n",
              "      <th>5</th>\n",
              "      <td>KEGG</td>\n",
              "      <td>KEGG:00650</td>\n",
              "      <td>Butanoate metabolism</td>\n",
              "      <td>0.009858</td>\n",
              "      <td>True</td>\n",
              "      <td>Butanoate metabolism</td>\n",
              "      <td>9</td>\n",
              "      <td>35</td>\n",
              "      <td>3</td>\n",
              "      <td>2091</td>\n",
              "      <td>0.085714</td>\n",
              "      <td>0.333333</td>\n",
              "      <td>query_1</td>\n",
              "      <td>[KEGG:00000]</td>\n",
              "    </tr>\n",
              "    <tr>\n",
              "      <th>6</th>\n",
              "      <td>GO:CC</td>\n",
              "      <td>GO:0005622</td>\n",
              "      <td>intracellular anatomical structure</td>\n",
              "      <td>0.010007</td>\n",
              "      <td>True</td>\n",
              "      <td>\"A component of a cell contained within (but n...</td>\n",
              "      <td>5216</td>\n",
              "      <td>82</td>\n",
              "      <td>78</td>\n",
              "      <td>6567</td>\n",
              "      <td>0.951220</td>\n",
              "      <td>0.014954</td>\n",
              "      <td>query_1</td>\n",
              "      <td>[GO:0110165]</td>\n",
              "    </tr>\n",
              "    <tr>\n",
              "      <th>7</th>\n",
              "      <td>GO:CC</td>\n",
              "      <td>GO:0005737</td>\n",
              "      <td>cytoplasm</td>\n",
              "      <td>0.010971</td>\n",
              "      <td>True</td>\n",
              "      <td>\"The contents of a cell excluding the plasma m...</td>\n",
              "      <td>4435</td>\n",
              "      <td>82</td>\n",
              "      <td>71</td>\n",
              "      <td>6567</td>\n",
              "      <td>0.865854</td>\n",
              "      <td>0.016009</td>\n",
              "      <td>query_1</td>\n",
              "      <td>[GO:0005622, GO:0110165]</td>\n",
              "    </tr>\n",
              "    <tr>\n",
              "      <th>8</th>\n",
              "      <td>GO:BP</td>\n",
              "      <td>GO:0043436</td>\n",
              "      <td>oxoacid metabolic process</td>\n",
              "      <td>0.014193</td>\n",
              "      <td>True</td>\n",
              "      <td>\"The chemical reactions and pathways involving...</td>\n",
              "      <td>431</td>\n",
              "      <td>83</td>\n",
              "      <td>17</td>\n",
              "      <td>6540</td>\n",
              "      <td>0.204819</td>\n",
              "      <td>0.039443</td>\n",
              "      <td>query_1</td>\n",
              "      <td>[GO:0006082]</td>\n",
              "    </tr>\n",
              "    <tr>\n",
              "      <th>9</th>\n",
              "      <td>GO:BP</td>\n",
              "      <td>GO:0006082</td>\n",
              "      <td>organic acid metabolic process</td>\n",
              "      <td>0.016001</td>\n",
              "      <td>True</td>\n",
              "      <td>\"The chemical reactions and pathways involving...</td>\n",
              "      <td>435</td>\n",
              "      <td>83</td>\n",
              "      <td>17</td>\n",
              "      <td>6540</td>\n",
              "      <td>0.204819</td>\n",
              "      <td>0.039080</td>\n",
              "      <td>query_1</td>\n",
              "      <td>[GO:0044237, GO:0044281, GO:0071704]</td>\n",
              "    </tr>\n",
              "    <tr>\n",
              "      <th>10</th>\n",
              "      <td>GO:BP</td>\n",
              "      <td>GO:0044281</td>\n",
              "      <td>small molecule metabolic process</td>\n",
              "      <td>0.019174</td>\n",
              "      <td>True</td>\n",
              "      <td>\"The chemical reactions and pathways involving...</td>\n",
              "      <td>793</td>\n",
              "      <td>83</td>\n",
              "      <td>24</td>\n",
              "      <td>6540</td>\n",
              "      <td>0.289157</td>\n",
              "      <td>0.030265</td>\n",
              "      <td>query_1</td>\n",
              "      <td>[GO:0008152]</td>\n",
              "    </tr>\n",
              "    <tr>\n",
              "      <th>11</th>\n",
              "      <td>WP</td>\n",
              "      <td>WP:WP556</td>\n",
              "      <td>Glutamate degradation I</td>\n",
              "      <td>0.019267</td>\n",
              "      <td>True</td>\n",
              "      <td>Glutamate degradation I</td>\n",
              "      <td>3</td>\n",
              "      <td>14</td>\n",
              "      <td>2</td>\n",
              "      <td>814</td>\n",
              "      <td>0.142857</td>\n",
              "      <td>0.666667</td>\n",
              "      <td>query_1</td>\n",
              "      <td>[WP:000000]</td>\n",
              "    </tr>\n",
              "    <tr>\n",
              "      <th>12</th>\n",
              "      <td>GO:BP</td>\n",
              "      <td>GO:0044282</td>\n",
              "      <td>small molecule catabolic process</td>\n",
              "      <td>0.027408</td>\n",
              "      <td>True</td>\n",
              "      <td>\"The chemical reactions and pathways resulting...</td>\n",
              "      <td>166</td>\n",
              "      <td>83</td>\n",
              "      <td>10</td>\n",
              "      <td>6540</td>\n",
              "      <td>0.120482</td>\n",
              "      <td>0.060241</td>\n",
              "      <td>query_1</td>\n",
              "      <td>[GO:0009056, GO:0044281]</td>\n",
              "    </tr>\n",
              "    <tr>\n",
              "      <th>13</th>\n",
              "      <td>GO:BP</td>\n",
              "      <td>GO:0046395</td>\n",
              "      <td>carboxylic acid catabolic process</td>\n",
              "      <td>0.028170</td>\n",
              "      <td>True</td>\n",
              "      <td>\"The chemical reactions and pathways resulting...</td>\n",
              "      <td>103</td>\n",
              "      <td>83</td>\n",
              "      <td>8</td>\n",
              "      <td>6540</td>\n",
              "      <td>0.096386</td>\n",
              "      <td>0.077670</td>\n",
              "      <td>query_1</td>\n",
              "      <td>[GO:0016054, GO:0019752]</td>\n",
              "    </tr>\n",
              "    <tr>\n",
              "      <th>14</th>\n",
              "      <td>GO:BP</td>\n",
              "      <td>GO:0019752</td>\n",
              "      <td>carboxylic acid metabolic process</td>\n",
              "      <td>0.032183</td>\n",
              "      <td>True</td>\n",
              "      <td>\"The chemical reactions and pathways involving...</td>\n",
              "      <td>413</td>\n",
              "      <td>83</td>\n",
              "      <td>16</td>\n",
              "      <td>6540</td>\n",
              "      <td>0.192771</td>\n",
              "      <td>0.038741</td>\n",
              "      <td>query_1</td>\n",
              "      <td>[GO:0043436]</td>\n",
              "    </tr>\n",
              "    <tr>\n",
              "      <th>15</th>\n",
              "      <td>GO:BP</td>\n",
              "      <td>GO:0016054</td>\n",
              "      <td>organic acid catabolic process</td>\n",
              "      <td>0.032364</td>\n",
              "      <td>True</td>\n",
              "      <td>\"The chemical reactions and pathways resulting...</td>\n",
              "      <td>105</td>\n",
              "      <td>83</td>\n",
              "      <td>8</td>\n",
              "      <td>6540</td>\n",
              "      <td>0.096386</td>\n",
              "      <td>0.076190</td>\n",
              "      <td>query_1</td>\n",
              "      <td>[GO:0006082, GO:0044248, GO:0044282, GO:1901575]</td>\n",
              "    </tr>\n",
              "    <tr>\n",
              "      <th>16</th>\n",
              "      <td>WP</td>\n",
              "      <td>WP:WP390</td>\n",
              "      <td>Serine-isocitrate lyase pathway</td>\n",
              "      <td>0.038571</td>\n",
              "      <td>True</td>\n",
              "      <td>Serine-isocitrate lyase pathway</td>\n",
              "      <td>15</td>\n",
              "      <td>14</td>\n",
              "      <td>3</td>\n",
              "      <td>814</td>\n",
              "      <td>0.214286</td>\n",
              "      <td>0.200000</td>\n",
              "      <td>query_1</td>\n",
              "      <td>[WP:000000]</td>\n",
              "    </tr>\n",
              "    <tr>\n",
              "      <th>17</th>\n",
              "      <td>KEGG</td>\n",
              "      <td>KEGG:00020</td>\n",
              "      <td>Citrate cycle (TCA cycle)</td>\n",
              "      <td>0.043943</td>\n",
              "      <td>True</td>\n",
              "      <td>Citrate cycle (TCA cycle)</td>\n",
              "      <td>31</td>\n",
              "      <td>35</td>\n",
              "      <td>4</td>\n",
              "      <td>2091</td>\n",
              "      <td>0.114286</td>\n",
              "      <td>0.129032</td>\n",
              "      <td>query_1</td>\n",
              "      <td>[KEGG:00000]</td>\n",
              "    </tr>\n",
              "    <tr>\n",
              "      <th>18</th>\n",
              "      <td>GO:CC</td>\n",
              "      <td>GO:0110165</td>\n",
              "      <td>cellular anatomical entity</td>\n",
              "      <td>0.049971</td>\n",
              "      <td>True</td>\n",
              "      <td>\"A part of a cellular organism that is either ...</td>\n",
              "      <td>5768</td>\n",
              "      <td>82</td>\n",
              "      <td>81</td>\n",
              "      <td>6567</td>\n",
              "      <td>0.987805</td>\n",
              "      <td>0.014043</td>\n",
              "      <td>query_1</td>\n",
              "      <td>[GO:0005575]</td>\n",
              "    </tr>\n",
              "  </tbody>\n",
              "</table>\n",
              "</div>\n",
              "      <button class=\"colab-df-convert\" onclick=\"convertToInteractive('df-4ffb3942-036e-4169-9b90-68e1495a1f35')\"\n",
              "              title=\"Convert this dataframe to an interactive table.\"\n",
              "              style=\"display:none;\">\n",
              "        \n",
              "  <svg xmlns=\"http://www.w3.org/2000/svg\" height=\"24px\"viewBox=\"0 0 24 24\"\n",
              "       width=\"24px\">\n",
              "    <path d=\"M0 0h24v24H0V0z\" fill=\"none\"/>\n",
              "    <path d=\"M18.56 5.44l.94 2.06.94-2.06 2.06-.94-2.06-.94-.94-2.06-.94 2.06-2.06.94zm-11 1L8.5 8.5l.94-2.06 2.06-.94-2.06-.94L8.5 2.5l-.94 2.06-2.06.94zm10 10l.94 2.06.94-2.06 2.06-.94-2.06-.94-.94-2.06-.94 2.06-2.06.94z\"/><path d=\"M17.41 7.96l-1.37-1.37c-.4-.4-.92-.59-1.43-.59-.52 0-1.04.2-1.43.59L10.3 9.45l-7.72 7.72c-.78.78-.78 2.05 0 2.83L4 21.41c.39.39.9.59 1.41.59.51 0 1.02-.2 1.41-.59l7.78-7.78 2.81-2.81c.8-.78.8-2.07 0-2.86zM5.41 20L4 18.59l7.72-7.72 1.47 1.35L5.41 20z\"/>\n",
              "  </svg>\n",
              "      </button>\n",
              "      \n",
              "  <style>\n",
              "    .colab-df-container {\n",
              "      display:flex;\n",
              "      flex-wrap:wrap;\n",
              "      gap: 12px;\n",
              "    }\n",
              "\n",
              "    .colab-df-convert {\n",
              "      background-color: #E8F0FE;\n",
              "      border: none;\n",
              "      border-radius: 50%;\n",
              "      cursor: pointer;\n",
              "      display: none;\n",
              "      fill: #1967D2;\n",
              "      height: 32px;\n",
              "      padding: 0 0 0 0;\n",
              "      width: 32px;\n",
              "    }\n",
              "\n",
              "    .colab-df-convert:hover {\n",
              "      background-color: #E2EBFA;\n",
              "      box-shadow: 0px 1px 2px rgba(60, 64, 67, 0.3), 0px 1px 3px 1px rgba(60, 64, 67, 0.15);\n",
              "      fill: #174EA6;\n",
              "    }\n",
              "\n",
              "    [theme=dark] .colab-df-convert {\n",
              "      background-color: #3B4455;\n",
              "      fill: #D2E3FC;\n",
              "    }\n",
              "\n",
              "    [theme=dark] .colab-df-convert:hover {\n",
              "      background-color: #434B5C;\n",
              "      box-shadow: 0px 1px 3px 1px rgba(0, 0, 0, 0.15);\n",
              "      filter: drop-shadow(0px 1px 2px rgba(0, 0, 0, 0.3));\n",
              "      fill: #FFFFFF;\n",
              "    }\n",
              "  </style>\n",
              "\n",
              "      <script>\n",
              "        const buttonEl =\n",
              "          document.querySelector('#df-4ffb3942-036e-4169-9b90-68e1495a1f35 button.colab-df-convert');\n",
              "        buttonEl.style.display =\n",
              "          google.colab.kernel.accessAllowed ? 'block' : 'none';\n",
              "\n",
              "        async function convertToInteractive(key) {\n",
              "          const element = document.querySelector('#df-4ffb3942-036e-4169-9b90-68e1495a1f35');\n",
              "          const dataTable =\n",
              "            await google.colab.kernel.invokeFunction('convertToInteractive',\n",
              "                                                     [key], {});\n",
              "          if (!dataTable) return;\n",
              "\n",
              "          const docLinkHtml = 'Like what you see? Visit the ' +\n",
              "            '<a target=\"_blank\" href=https://colab.research.google.com/notebooks/data_table.ipynb>data table notebook</a>'\n",
              "            + ' to learn more about interactive tables.';\n",
              "          element.innerHTML = '';\n",
              "          dataTable['output_type'] = 'display_data';\n",
              "          await google.colab.output.renderOutput(dataTable, element);\n",
              "          const docLink = document.createElement('div');\n",
              "          docLink.innerHTML = docLinkHtml;\n",
              "          element.appendChild(docLink);\n",
              "        }\n",
              "      </script>\n",
              "    </div>\n",
              "  </div>\n",
              "  "
            ]
          },
          "metadata": {},
          "execution_count": 16
        }
      ]
    }
  ]
}