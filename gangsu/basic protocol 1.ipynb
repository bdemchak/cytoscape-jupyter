{
  "nbformat": 4,
  "nbformat_minor": 0,
  "metadata": {
    "colab": {
      "name": "basic protocol 1.ipynb",
      "provenance": [],
      "collapsed_sections": [],
      "include_colab_link": true
    },
    "kernelspec": {
      "name": "python3",
      "display_name": "Python 3"
    }
  },
  "cells": [
    {
      "cell_type": "markdown",
      "metadata": {
        "id": "view-in-github",
        "colab_type": "text"
      },
      "source": [
        "<a href=\"https://colab.research.google.com/github/bdemchak/cytoscape-jupyter/blob/main/gangsu/basic%20protocol%201.ipynb\" target=\"_parent\"><img src=\"https://colab.research.google.com/assets/colab-badge.svg\" alt=\"Open In Colab\"/></a>"
      ]
    },
    {
      "cell_type": "markdown",
      "metadata": {
        "id": "khjUrLor-5w_"
      },
      "source": [
        "This is a reproduction of the [Biological Network Exploration with Cytoscape 3](https://pubmed.ncbi.nlm.nih.gov/25199793/) Basic Protocol 1, which loads an s. cervesiae network, filters out unneeded nodes, lays out the resulting network, creates clusters of similar nodes and then performs an enrichment calculation on one cluster.\n",
        "\n",
        "Note that this workflow executes in a Jupyter Notebook running on a cloud server (e.g., Google Colab) and communicates with a copy of Cytoscape running on your workstation. For version of this workflow that runs on the same workstation as Cytoscape, see [here](https://github.com/cytoscape/py4cytoscape/tree/master/tests)."
      ]
    },
    {
      "cell_type": "markdown",
      "metadata": {
        "id": "EynlCq2w336-"
      },
      "source": [
        "---\n",
        "# Setup data files, py4cytoscape and Cytoscape connection\n",
        "**NOTE: To run this notebook, you must manually start Cytoscape first -- don't proceed until you have started Cytoscape.**\n",
        "\n",
        "This workflow requires two files that are located in cloud storage:\n",
        "\n",
        "* BIOGRID-ORGANISM-Saccharomyces_cerevisiae-3.2.105.mitab (network file)\n",
        "* GDS112_full.soft (annotation file)\n",
        "\n",
        "Both files reside in a Dropbox folder, and they are downloaded by this workflow as needed."
      ]
    },
    {
      "cell_type": "markdown",
      "metadata": {
        "id": "wJ9RYWAF4wF6"
      },
      "source": [
        "## Setup: Fetch latest py4cytoscape\n",
        "\n",
        "\n"
      ]
    },
    {
      "cell_type": "markdown",
      "metadata": {
        "id": "9RVNEFryzJR3"
      },
      "source": [
        "**Note that you can fetch from the latest Github unreleased version by setting _PY4CYTOSCAPE to 'git+https://github.com/cytoscape/py4cytoscape' immediately before the exec() call. To fetch a particular branch, add '@' to the end (e.g., 'git+https://github.com/cytoscape/py4cytoscape@0.0.12').**\n",
        "\n",
        "To load the default (PyPI) py4cytoscape version, do not set _PY4CYTOSCAPE at all."
      ]
    },
    {
      "cell_type": "code",
      "metadata": {
        "id": "pW3Jhe2PMD9z",
        "outputId": "51aad763-821d-440f-f610-3e52517369cf",
        "colab": {
          "base_uri": "https://localhost:8080/",
          "height": 1000
        }
      },
      "source": [
        "#_PY4CYTOSCAPE = 'git+https://github.com/cytoscape/py4cytoscape@1.4.0' # optional\n",
        "import requests\n",
        "\n",
        "exec(requests.get(\"https://raw.githubusercontent.com/cytoscape/jupyter-bridge/master/client/p4c_init.py\").text)\n",
        "\n",
        "IPython.display.Javascript(_PY4CYTOSCAPE_BROWSER_CLIENT_JS) # Start browser client"
      ],
      "execution_count": 1,
      "outputs": [
        {
          "output_type": "stream",
          "name": "stdout",
          "text": [
            "Looking in indexes: https://pypi.org/simple, https://us-python.pkg.dev/colab-wheels/public/simple/\n",
            "Collecting py4cytoscape\n",
            "  Downloading py4cytoscape-1.4.0-py3-none-any.whl (170 kB)\n",
            "Requirement already satisfied: pandas in /usr/local/lib/python3.7/dist-packages (from py4cytoscape) (1.3.5)\n",
            "Collecting colorbrewer\n",
            "  Downloading colorbrewer-0.2.0-py3-none-any.whl (9.4 kB)\n",
            "Requirement already satisfied: decorator in /usr/local/lib/python3.7/dist-packages (from py4cytoscape) (4.4.2)\n",
            "Requirement already satisfied: chardet in /usr/local/lib/python3.7/dist-packages (from py4cytoscape) (3.0.4)\n",
            "Collecting python-igraph\n",
            "  Downloading python-igraph-0.9.11.tar.gz (9.5 kB)\n",
            "Collecting enum\n",
            "  Downloading enum-0.4.7.tar.gz (20 kB)\n"
          ]
        },
        {
          "output_type": "stream",
          "name": "stderr",
          "text": [
            "WARNING: Discarding https://files.pythonhosted.org/packages/02/a0/32e1d5a21b703f600183e205aafc6773577e16429af5ad3c3f9b956b07ca/enum-0.4.7.tar.gz#sha256=8c7cf3587eda51008bcc1eed99ea2c331ccd265c231dbaa95ec5258d3dc03100 (from https://pypi.org/simple/enum/). Command errored out with exit status 1: python setup.py egg_info Check the logs for full command output.\n"
          ]
        },
        {
          "output_type": "stream",
          "name": "stdout",
          "text": [
            "  Downloading enum-0.4.6.tar.gz (20 kB)\n"
          ]
        },
        {
          "output_type": "stream",
          "name": "stderr",
          "text": [
            "WARNING: Discarding https://files.pythonhosted.org/packages/0c/4e/1ea357e7783c756bb579333c1e4a026fb331371ee771f616ffedc781e531/enum-0.4.6.tar.gz#sha256=54e78526b166982b36884613f35a76d9a6711c49810d3ec1a05b10c9b31f938e (from https://pypi.org/simple/enum/). Command errored out with exit status 1: python setup.py egg_info Check the logs for full command output.\n"
          ]
        },
        {
          "output_type": "stream",
          "name": "stdout",
          "text": [
            "  Downloading enum-0.4.5.tar.gz (20 kB)\n"
          ]
        },
        {
          "output_type": "stream",
          "name": "stderr",
          "text": [
            "WARNING: Discarding https://files.pythonhosted.org/packages/8b/e8/9ab0fa69b64b96d6af51c9a148047afdadad80e76a4aa364adc800537a12/enum-0.4.5.tar.gz#sha256=3f6fa69eda5ff2b6242414ea6a6770f2a01cab3417cdceaeac1e51af8dfbab80 (from https://pypi.org/simple/enum/). Command errored out with exit status 1: python setup.py egg_info Check the logs for full command output.\n"
          ]
        },
        {
          "output_type": "stream",
          "name": "stdout",
          "text": [
            "  Downloading enum-0.4.4.tar.gz (18 kB)\n"
          ]
        },
        {
          "output_type": "stream",
          "name": "stderr",
          "text": [
            "WARNING: Discarding https://files.pythonhosted.org/packages/80/8e/5e00e5378d5ad8ef08a5092be5b44887fb12f463d663c6d0901e38b0ef88/enum-0.4.4.tar.gz#sha256=9bdfacf543baf2350df7613eb37f598a802f346985ca0dc1548be6494140fdff (from https://pypi.org/simple/enum/). Command errored out with exit status 1: python setup.py egg_info Check the logs for full command output.\n"
          ]
        },
        {
          "output_type": "stream",
          "name": "stdout",
          "text": [
            "  Downloading enum-0.4.3.tar.gz (20 kB)\n"
          ]
        },
        {
          "output_type": "stream",
          "name": "stderr",
          "text": [
            "WARNING: Discarding https://files.pythonhosted.org/packages/b1/d2/683c57f678721b90971fcf464241acd50067ea1e5f1eae2efac0c0bc9aab/enum-0.4.3.tar.gz#sha256=04349209897f2efd009ba8a66586c510b5195f69397284f2b2d99cb95a9e411b (from https://pypi.org/simple/enum/). Command errored out with exit status 1: python setup.py egg_info Check the logs for full command output.\n"
          ]
        },
        {
          "output_type": "stream",
          "name": "stdout",
          "text": [
            "  Downloading enum-0.4.2.tar.gz (20 kB)\n"
          ]
        },
        {
          "output_type": "stream",
          "name": "stderr",
          "text": [
            "WARNING: Discarding https://files.pythonhosted.org/packages/fd/4c/bcd8d97668916d1514c6b9c7a4abda12254da43e278838b635feeefed6bb/enum-0.4.2.tar.gz#sha256=2e0ee95a88774b9a74f92875149c6e57573fe9da412b27750df3ca81987f4f12 (from https://pypi.org/simple/enum/). Command errored out with exit status 1: python setup.py egg_info Check the logs for full command output.\n"
          ]
        },
        {
          "output_type": "stream",
          "name": "stdout",
          "text": [
            "  Downloading enum-0.4.1.tar.gz (19 kB)\n"
          ]
        },
        {
          "output_type": "stream",
          "name": "stderr",
          "text": [
            "WARNING: Discarding https://files.pythonhosted.org/packages/6e/f4/7bf1dcb67fba9356da534820fb7e1a5d5a0b0ba7751dc13cbf0719ccb690/enum-0.4.1.tar.gz#sha256=679d9eead5cb3c5e59163375c58eadc85b33ad3cf90caae7ac596d039338ba3b (from https://pypi.org/simple/enum/). Command errored out with exit status 1: python setup.py egg_info Check the logs for full command output.\n"
          ]
        },
        {
          "output_type": "stream",
          "name": "stdout",
          "text": [
            "  Downloading enum-0.4.tar.gz (19 kB)\n"
          ]
        },
        {
          "output_type": "stream",
          "name": "stderr",
          "text": [
            "WARNING: Discarding https://files.pythonhosted.org/packages/3a/92/de9217b21961433d49cce0e2ef076e4ca29636a57313847670cb4a3fb779/enum-0.4.tar.gz#sha256=0c4bff0403b9cd95ec88399e1ef439bc49c123d9650124aaa02e250a9b7d12c4 (from https://pypi.org/simple/enum/). Command errored out with exit status 1: python setup.py egg_info Check the logs for full command output.\n"
          ]
        },
        {
          "output_type": "stream",
          "name": "stdout",
          "text": [
            "  Downloading enum-0.3.1.tar.gz (19 kB)\n"
          ]
        },
        {
          "output_type": "stream",
          "name": "stderr",
          "text": [
            "WARNING: Discarding https://files.pythonhosted.org/packages/08/40/cc51c52ade9e5f191342ab0e825d768dc7ea81bbf90ffbcf3571335133e4/enum-0.3.1.tar.gz#sha256=df02acb036cf12320ae3d8ead195f0ce64449ee5fcab85c314a8634cac573969 (from https://pypi.org/simple/enum/). Command errored out with exit status 1: python setup.py egg_info Check the logs for full command output.\n"
          ]
        },
        {
          "output_type": "stream",
          "name": "stdout",
          "text": [
            "  Downloading enum-0.3.tar.gz (5.3 kB)\n"
          ]
        },
        {
          "output_type": "stream",
          "name": "stderr",
          "text": [
            "WARNING: Discarding https://files.pythonhosted.org/packages/53/10/9798036cb407d1365a2bac6e5f3b516c14b9cedcad766aa7c4042212dbce/enum-0.3.tar.gz#sha256=5030e1725e8bec16450cd657aa508e430f2cd4dabb1ca57191ee0578d0f62e96 (from https://pypi.org/simple/enum/). Command errored out with exit status 1: python setup.py egg_info Check the logs for full command output.\n"
          ]
        },
        {
          "output_type": "stream",
          "name": "stdout",
          "text": [
            "  Downloading enum-0.2.tar.gz (4.9 kB)\n"
          ]
        },
        {
          "output_type": "stream",
          "name": "stderr",
          "text": [
            "WARNING: Discarding https://files.pythonhosted.org/packages/38/44/8fa67f83724931ca76906b3db62df82cd1afcf9a873a85619da4ac2c96f7/enum-0.2.tar.gz#sha256=cbb768b8af610491af1e2bcd261298dc32c70aa8ab7ab7506cd21b0f187fb882 (from https://pypi.org/simple/enum/). Command errored out with exit status 1: python setup.py egg_info Check the logs for full command output.\n"
          ]
        },
        {
          "output_type": "stream",
          "name": "stdout",
          "text": [
            "  Downloading enum-0.1.1.tar.gz (4.9 kB)\n"
          ]
        },
        {
          "output_type": "stream",
          "name": "stderr",
          "text": [
            "WARNING: Discarding https://files.pythonhosted.org/packages/5c/e2/630fc2ce1ce462260aaf5c6e3da496c00c2585bf57bf3852f753a9821ee7/enum-0.1.1.tar.gz#sha256=e6469b807ba4ba68d1823cc85faa5703cea0ffb18220ff5df7e4f4395b3a6a29 (from https://pypi.org/simple/enum/). Command errored out with exit status 1: python setup.py egg_info Check the logs for full command output.\n"
          ]
        },
        {
          "output_type": "stream",
          "name": "stdout",
          "text": [
            "  Downloading enum-0.1.tar.gz (3.9 kB)\n"
          ]
        },
        {
          "output_type": "stream",
          "name": "stderr",
          "text": [
            "WARNING: Discarding https://files.pythonhosted.org/packages/bb/65/0e9de2344b8285d62fe5853b159110cd349bc16333c5dfc0bc3c1dc047d5/enum-0.1.tar.gz#sha256=08089f638c278e8bd29bc68d87708da719bffd4bb176aa78b08b31dd029bf751 (from https://pypi.org/simple/enum/). Command errored out with exit status 1: python setup.py egg_info Check the logs for full command output.\n"
          ]
        },
        {
          "output_type": "stream",
          "name": "stdout",
          "text": [
            "Collecting py4cytoscape\n",
            "  Downloading py4cytoscape-1.3.0-py3-none-any.whl (168 kB)\n",
            "Requirement already satisfied: requests in /usr/local/lib/python3.7/dist-packages (from py4cytoscape) (2.23.0)\n",
            "Requirement already satisfied: networkx in /usr/local/lib/python3.7/dist-packages (from py4cytoscape) (2.6.3)\n",
            "Requirement already satisfied: six in /usr/local/lib/python3.7/dist-packages (from colorbrewer->py4cytoscape) (1.15.0)\n",
            "Requirement already satisfied: python-dateutil>=2.7.3 in /usr/local/lib/python3.7/dist-packages (from pandas->py4cytoscape) (2.8.2)\n",
            "Requirement already satisfied: pytz>=2017.3 in /usr/local/lib/python3.7/dist-packages (from pandas->py4cytoscape) (2022.1)\n",
            "Requirement already satisfied: numpy>=1.17.3 in /usr/local/lib/python3.7/dist-packages (from pandas->py4cytoscape) (1.21.6)\n",
            "Collecting igraph==0.9.11\n",
            "  Downloading igraph-0.9.11-cp37-cp37m-manylinux_2_17_x86_64.manylinux2014_x86_64.whl (3.1 MB)\n",
            "Collecting texttable>=1.6.2\n",
            "  Downloading texttable-1.6.4-py2.py3-none-any.whl (10 kB)\n",
            "Requirement already satisfied: urllib3!=1.25.0,!=1.25.1,<1.26,>=1.21.1 in /usr/local/lib/python3.7/dist-packages (from requests->py4cytoscape) (1.24.3)\n",
            "Requirement already satisfied: certifi>=2017.4.17 in /usr/local/lib/python3.7/dist-packages (from requests->py4cytoscape) (2022.6.15)\n",
            "Requirement already satisfied: idna<3,>=2.5 in /usr/local/lib/python3.7/dist-packages (from requests->py4cytoscape) (2.10)\n",
            "Building wheels for collected packages: python-igraph\n",
            "  Building wheel for python-igraph (setup.py): started\n",
            "  Building wheel for python-igraph (setup.py): finished with status 'done'\n",
            "  Created wheel for python-igraph: filename=python_igraph-0.9.11-py3-none-any.whl size=9074 sha256=616063ea1ebde861b4ac2fdb240f7a58473ac85449152fe6b3140a8fe80929ef\n",
            "  Stored in directory: /root/.cache/pip/wheels/7d/e4/0c/0c83f70bd0b99ce8aea47a21f8e52502169e7dd17808d12f30\n",
            "Successfully built python-igraph\n",
            "Installing collected packages: texttable, igraph, python-igraph, colorbrewer, py4cytoscape\n",
            "Successfully installed colorbrewer-0.2.0 igraph-0.9.11 py4cytoscape-1.3.0 python-igraph-0.9.11 texttable-1.6.4\n",
            "NumExpr defaulting to 2 threads.\n",
            "Loading Javascript client ... 6873edeb-7ad8-478f-a92d-da30e10c344d on https://jupyter-bridge.cytoscape.org\n",
            "ADVICE: WHEN RUNNING UNDER COLAB, DO NOT RE-RUN THIS CELL WITHOUT MANUALLY EXECUTING Runtime | Factory Reset Runtime FROM THE COLAB MENU FIRST.\n"
          ]
        },
        {
          "output_type": "execute_result",
          "data": {
            "text/plain": [
              "<IPython.core.display.Javascript object>"
            ],
            "application/javascript": [
              "var Channel = \"6873edeb-7ad8-478f-a92d-da30e10c344d\"; \n",
              "\n",
              "var JupyterBridge = \"https://jupyter-bridge.cytoscape.org\"; \n",
              "\n",
              "  /*\n",
              "    These functions serve as a connector between a remote Jupyter server and Cytoscape.\n",
              "    They run in the user's browser, which also shows the Jupyter Notebook.\n",
              "\n",
              "    A remote Jupyter Notebook call to the py4cytoscape package is forwarded to the Jupyter Bridge,\n",
              "    which is a standalone server. The functions in this connector execute in the Jupyter Notebook\n",
              "    browser, which executes on the same PC as Cytoscape. So, that's 4 components: (A) remote\n",
              "    Jupyter Notebook, (B) separate Jupyter Bridge server, (C) this browser-based component, and\n",
              "    (D) Cytoscape. (A) is on a remote server, (B) is on a different remote server, and (C) and (D)\n",
              "    are on the user's PC.\n",
              "\n",
              "    (A) calls its py4cytoscape module, which forwards the request (in a JSON wrapper) to (B).\n",
              "    (C) picks up the request from (B), unpacks the request and forwards it to (D). (C) awaits a\n",
              "    reply from (D), and when it gets it, it forwards the reply (in a JSON wrapper) to (B).\n",
              "    (A)'s py4cytoscape module picks up the reply on (B) when it becomes available, unpacks it,\n",
              "    and returns it to (A).\n",
              "\n",
              "    A Jupyter Notebook can talk to only one Cytoscape (i.e., the one on the machine running the\n",
              "    Jupyter Notebook browser), and Cytoscape should be called by only one Jupyter Notebook. The\n",
              "    Jupyter Bridge differentiates between Notebook-Cytoscape conversations via a channel UUID.\n",
              "    The UUID is prepended to this browser component by py4Cytoscape, and the component is\n",
              "    started by the Jupyter Notebook. (I wish py4Cytoscape could start the component, too, but I\n",
              "    haven't figured out how to do that yet, so startup code *is* required in the Jupyter\n",
              "    Notebook.)\n",
              "\n",
              "    Note that for the case of a Jupyter server running on the same machine as Cytoscape, this\n",
              "    bridge isn't necessary because the Jupyter server's HTTP calls can easily connect to\n",
              "    Cytoscape over a localhost socket. So, the combination of Jupyter Bridge and this browser\n",
              "    component solves the problem of a Jupyter server (e.g., Google's Colab) that can't\n",
              "    connect to Cytoscape that sits behind a firewall.\n",
              "\n",
              "    The request represents an HTTP call that py4cytoscape would normally make via HTTP directly\n",
              "    to Cytoscape via localhost when both py4cytoscape and Cytoscape are running on the same machine.\n",
              " */\n",
              "\n",
              "const VERSION = '0.0.2'\n",
              "\n",
              "var showDebug; // Flag indicating whether to show Jupyter-bridge progress\n",
              "if (typeof showDebug === 'undefined') {\n",
              "    showDebug = false\n",
              "}\n",
              "if (showDebug) {\n",
              "    alert(\"Starting Jupyter-bridge browser component\")\n",
              "}\n",
              "\n",
              "//const JupyterBridge = 'http://127.0.0.1:5000' // for testing against local Jupyter-bridge\n",
              "var JupyterBridge; // URL of Jupyter-bridge server could be defined by assignment pre-pended to this file\n",
              "if (typeof JupyterBridge === 'undefined') {\n",
              "    JupyterBridge = 'https://jupyter-bridge.cytoscape.org' // for production\n",
              "}\n",
              "var Channel; // Unique constant that could be defined by assignment pre-pended to this file\n",
              "if (typeof Channel === 'undefined') { // ... but if not assigned, use a debugging value\n",
              "    Channel = 1\n",
              "}\n",
              "\n",
              "\n",
              "var httpR = new XMLHttpRequest(); // for sending reply to Jupyter-bridge\n",
              "var httpRE = new XMLHttpRequest(); // for sending backup error reply to Jupyter-bridge\n",
              "var httpC = new XMLHttpRequest(); // for sending command to Cytoscape\n",
              "var httpJ = new XMLHttpRequest(); // for fetching request from Jupyter-bridge\n",
              "\n",
              "const HTTP_OK = 200\n",
              "const HTTP_SYS_ERR = 500\n",
              "const HTTP_TIMEOUT = 408\n",
              "const HTTP_TOO_MANY = 429\n",
              "\n",
              "\n",
              " /* This function is useful if we want to rewrite the incoming URL to resolve just to our local one.\n",
              "    Doing this stops the Jupyter component from abusing this client to call out to endpoints other\n",
              "    than local Cytoscape. On the other hand, it makes it hard to detect when the Jupyter component\n",
              "    has specified a genuinely bad URL and really should get an error result. For now, we'll execute\n",
              "    the Jupyter-supplied URL and return the result, whatever it may be.\n",
              "\n",
              "const LocalCytoscape = 'http://127.0.0.1:1234'\n",
              "\n",
              "function parseURL(url) {\n",
              "    var reURLInformation = new RegExp([\n",
              "        '^(https?:)//', // protocol\n",
              "        '(([^:/?#]*)(?::([0-9]+))?)', // host (hostname and port)\n",
              "        '(/{0,1}[^?#]*)', // pathname\n",
              "        '(\\\\?[^#]*|)', // search\n",
              "        '(#.*|)$' // hash\n",
              "    ].join(''));\n",
              "    var match = url.match(reURLInformation);\n",
              "    return match && {\n",
              "        url: url,\n",
              "        protocol: match[1],\n",
              "        host: match[2],\n",
              "        hostname: match[3],\n",
              "        port: match[4],\n",
              "        pathname: match[5],\n",
              "        search: match[6],\n",
              "        hash: match[7]\n",
              "    }\n",
              "}\n",
              "*/\n",
              "\n",
              "function replyCytoscape(replyStatus, replyStatusText, replyText) {\n",
              "\n",
              "    // Clean up after Jupyter bridge accepts reply\n",
              "    httpR.onreadystatechange = function() {\n",
              "        if (httpR.readyState === 4) {\n",
              "            if (showDebug) {\n",
              "                console.log(' status from queue_reply: ' + httpR.status + ', reply: ' + httpR.responseText)\n",
              "            }\n",
              "        }\n",
              "    }\n",
              "\n",
              "    httpR.onerror = function() {\n",
              "        // Clean up after Jupyter bridge accepts backup reply\n",
              "        httpRE.onreadystatechange = function() {\n",
              "            if (httpRE.readyState === 4) {\n",
              "                if (showDebug) {\n",
              "                    console.log(' status from backup queue_reply: ' + httpRE.status + ', reply: ' + httpRE.responseText)\n",
              "                }\n",
              "            }\n",
              "        }\n",
              "\n",
              "        if (showDebug) {\n",
              "            console.log(' error from queue_reply -- could be Jupyter-Bridge server reject')\n",
              "        }\n",
              "        var errReply = {'status': HTTP_SYS_ERR, 'reason': 'Jupyter-Bridge rejected reply', 'text': 'Possibly reply is too long for Jupyter-Bridge server'}\n",
              "        httpRE.open('POST', jupyterBridgeURL, true)\n",
              "        httpRE.setRequestHeader('Content-Type', 'text/plain')\n",
              "        httpRE.send(JSON.stringify(errReply))\n",
              "    }\n",
              "\n",
              "    var reply = {'status': replyStatus, 'reason': replyStatusText, 'text': replyText}\n",
              "\n",
              "    // Send reply to Jupyter bridge\n",
              "    var jupyterBridgeURL = JupyterBridge + '/queue_reply?channel=' + Channel\n",
              "    if (showDebug) {\n",
              "        console.log('Starting queue to Jupyter bridge: ' + jupyterBridgeURL)\n",
              "    }\n",
              "    httpR.open('POST', jupyterBridgeURL, true)\n",
              "    httpR.setRequestHeader('Content-Type', 'text/plain')\n",
              "    httpR.send(JSON.stringify(reply))\n",
              "}\n",
              "\n",
              "function callCytoscape(callSpec) {\n",
              "\n",
              "    // Captures Cytoscape reply and sends it on\n",
              "    httpC.onreadystatechange = function() {\n",
              "        if (httpC.readyState === 4) {\n",
              "            if (showDebug) {\n",
              "                console.log(' status from CyREST: ' + httpC.status + ', statusText: ' + httpC.statusText + ', reply: ' + httpC.responseText)\n",
              "            }\n",
              "            // Note that httpC.status is 0 if the URL can't be reached *OR* there is a CORS violation.\n",
              "            // I wish I could tell the difference because for a CORS violation, I'd return a 404,\n",
              "            // which would roughly match what Python's native request package would return.\n",
              "            // The practical consequence is that the ultimate caller (e.g., py4cytoscape)\n",
              "            // returns different exceptions, depending on wither this module is doing the\n",
              "            // HTTP operation or the native Python requests package is. This is minor, but\n",
              "            // messes up tests that verify the exception type.\n",
              "            replyCytoscape(httpC.status, httpC.statusText, httpC.responseText)\n",
              "            waitOnJupyterBridge()\n",
              "        }\n",
              "    }\n",
              "\n",
              "//  Build up request to Cytoscape, making sure host is local.\n",
              "//    Too heavy handed: localURL = LocalCytoscape + parseURL(callSpec.url).pathname\n",
              "    var localURL = callSpec.url // Try using what was passed in ... is there a security risk??\n",
              "\n",
              "    if (showDebug) {\n",
              "        console.log('Command to CyREST: ' + callSpec.command + ' (' + localURL + ')')\n",
              "        if (callSpec.params) {\n",
              "            console.log(' params: ' + JSON.stringify(callSpec.params))\n",
              "        }\n",
              "        if (callSpec.headers) {\n",
              "            console.log(' header: ' + JSON.stringify(callSpec.headers))\n",
              "        }\n",
              "        if (callSpec.data) {\n",
              "            console.log('   data: ' + JSON.stringify(callSpec.data))\n",
              "        }\n",
              "    }\n",
              "\n",
              "    if (callSpec.command === 'webbrowser') {\n",
              "        if (window.open(callSpec.url)) {\n",
              "            replyCytoscape(HTTP_OK, 'OK', '')\n",
              "        } else {\n",
              "            replyCytoscape(HTTP_SYS_ERR, 'BAD BROWSER OPEN', '')\n",
              "        }\n",
              "        waitOnJupyterBridge()\n",
              "    } else if (callSpec.command === 'version') {\n",
              "        replyCytoscape(HTTP_OK, 'OK',\n",
              "            JSON.stringify({\"jupyterBridgeVersion\": VERSION}))\n",
              "        waitOnJupyterBridge()\n",
              "    } else {\n",
              "        var joiner = '?'\n",
              "        for (let param in callSpec.params) {\n",
              "            localURL = localURL + joiner + param + '=' + encodeURIComponent(callSpec.params[param])\n",
              "            joiner = '&'\n",
              "        }\n",
              "\n",
              "        httpC.open(callSpec.command, localURL, true)\n",
              "        for (let header in callSpec.headers) {\n",
              "            httpC.setRequestHeader(header, callSpec.headers[header])\n",
              "        }\n",
              "\n",
              "        // Send request to Cytoscape ... reply goes to onreadystatechange handler\n",
              "        httpC.send(JSON.stringify(callSpec.data))\n",
              "    }\n",
              "}\n",
              "\n",
              "function waitOnJupyterBridge() {\n",
              "\n",
              "    // Captures request from Jupyter bridge\n",
              "    httpJ.onreadystatechange = function() {\n",
              "        if (httpJ.readyState === 4) {\n",
              "            if (showDebug) {\n",
              "                console.log(' status from dequeue_request: ' + httpJ.status + ', reply: ' + httpJ.responseText)\n",
              "            }\n",
              "            try {\n",
              "                if (httpJ.status == HTTP_TOO_MANY) {\n",
              "                    // Nothing more to do ... the browser has created too many listeners,\n",
              "                    // and it's time to stop listening because the server saw a listener\n",
              "                    // listening on this channel before we got there.\n",
              "                    console.log('  shutting down because of redundant reader on channel: ' + Channel)\n",
              "                } else {\n",
              "                    if (httpJ.status === HTTP_TIMEOUT) {\n",
              "                        waitOnJupyterBridge()\n",
              "                    } else {\n",
              "                        callCytoscape(JSON.parse(httpJ.responseText))\n",
              "                    }\n",
              "                }\n",
              "            } catch(err) {\n",
              "                if (showDebug) {\n",
              "                    console.log(' exception calling Cytoscape: ' + err)\n",
              "                }\n",
              "                // Bad responseText means something bad happened that we don't understand.\n",
              "                // Go wait on another request, as there's nothing to call Cytoscape with.\n",
              "                waitOnJupyterBridge()\n",
              "            }\n",
              "        }\n",
              "    }\n",
              "\n",
              "    // Wait for request from Jupyter bridge\n",
              "    var jupyterBridgeURL = JupyterBridge + '/dequeue_request?channel=' + Channel\n",
              "    if (showDebug) {\n",
              "        console.log('Starting dequeue on Jupyter bridge: ' + jupyterBridgeURL)\n",
              "    }\n",
              "    httpJ.open('GET', jupyterBridgeURL, true)\n",
              "    httpJ.send()\n",
              "}\n",
              "\n",
              "// This kicks off a loop that ends by calling waitOnJupyterBridge again. This first call\n",
              "// ejects any dead readers before we start a read\n",
              "waitOnJupyterBridge() // Wait for message from Jupyter bridge, execute it, and return reply\n",
              "\n",
              "if (showDebug) {\n",
              "    alert(\"Jupyter-bridge browser component is started on \" + JupyterBridge + ', channel ' + Channel)\n",
              "}\n"
            ]
          },
          "metadata": {},
          "execution_count": 1
        }
      ]
    },
    {
      "cell_type": "markdown",
      "metadata": {
        "id": "sTJwg_HN3WPH"
      },
      "source": [
        "## Setup: Sanity test to verify Cytoscape connection"
      ]
    },
    {
      "cell_type": "markdown",
      "metadata": {
        "id": "vwHsK9OTIhv1"
      },
      "source": [
        "By now, the connection to Cytoscape should be up and available. To verify this, try a simple operation that doesn't alter the state of Cytoscape."
      ]
    },
    {
      "cell_type": "code",
      "metadata": {
        "id": "sP5J_ey7C_t6",
        "outputId": "390f8cd3-7731-45a3-fbba-3ae090ea681f",
        "colab": {
          "base_uri": "https://localhost:8080/"
        }
      },
      "source": [
        "p4c.cytoscape_version_info()\n"
      ],
      "execution_count": 2,
      "outputs": [
        {
          "output_type": "execute_result",
          "data": {
            "text/plain": [
              "{'apiVersion': 'v1',\n",
              " 'automationAPIVersion': '1.5.0',\n",
              " 'cytoscapeVersion': '3.9.1',\n",
              " 'jupyterBridgeVersion': '0.0.2',\n",
              " 'py4cytoscapeVersion': '1.3.0'}"
            ]
          },
          "metadata": {},
          "execution_count": 2
        }
      ]
    },
    {
      "cell_type": "markdown",
      "metadata": {
        "id": "VvaiYm7HwcsN"
      },
      "source": [
        "## Setup: Notebook data files\n",
        "Create the 'output' directory, which will be used to store files uploaded from Cytoscape.\n",
        "\n",
        "This is a good place to prepare any other system resources that might be needed by downstream Notebook cells.\n",
        "\n",
        "\n",
        "\n"
      ]
    },
    {
      "cell_type": "code",
      "metadata": {
        "id": "sTP9Tf7hb9g0",
        "outputId": "661ee89d-619b-4e85-ccac-f220e2eb4114",
        "colab": {
          "base_uri": "https://localhost:8080/"
        }
      },
      "source": [
        "!rm -r output/\n",
        "!ls -l \n",
        "OUTPUT_DIR = 'output/'"
      ],
      "execution_count": 3,
      "outputs": [
        {
          "output_type": "stream",
          "name": "stdout",
          "text": [
            "rm: cannot remove 'output/': No such file or directory\n",
            "total 8\n",
            "drwxr-xr-x 2 root root 4096 Jun 28 22:23 logs\n",
            "drwxr-xr-x 1 root root 4096 Jun 15 13:42 sample_data\n"
          ]
        }
      ]
    },
    {
      "cell_type": "markdown",
      "metadata": {
        "id": "Bwq52ljZHCqR"
      },
      "source": [
        "## Setup: Import source data files\n",
        "The network and annotation files are in a Dropbox folder, and this cell downloads them into the default Sandbox from where Cytoscape will access them.\n",
        "\n",
        "The files could just as well have been on any cloud resource, including Google Drive, Github, Microsoft OneDrive or a private web site. Note that in this case, the network file was so large that it could not be saved on GitHub, so Dropbox was a handy alternative.\n",
        "\n",
        "*An alternative would be to load the files into this Notebook's file system (or create them there) and then download those files to the Sandbox. Loading them into the Notebook file system would require the use of Notebook \"!\" commands (e.g., !wget).*\n"
      ]
    },
    {
      "cell_type": "markdown",
      "metadata": {
        "id": "RlKSyX07FVL-"
      },
      "source": [
        "**Sandboxing is explained in https://py4cytoscape.readthedocs.io/en/latest/concepts.html#sandboxing**"
      ]
    },
    {
      "cell_type": "code",
      "metadata": {
        "id": "fCbMNMsO9rU8",
        "outputId": "40595bbf-f397-4278-b12c-e8ddcbc6765b",
        "colab": {
          "base_uri": "https://localhost:8080/"
        }
      },
      "source": [
        "p4c.sandbox_set(None) # Revert to default sandbox in case some other workflow selected a different one\n",
        "\n",
        "res_mitab = p4c.sandbox_url_to(\"https://www.dropbox.com/s/8wc8o897tsxewt1/BIOGRID-ORGANISM-Saccharomyces_cerevisiae-3.2.105.mitab?dl=0\", \"BIOGRID-ORGANISM-Saccharomyces_cerevisiae-3.2.105.mitab\")\n",
        "print(f'Network file BIOGRID-ORGANISM-Saccharomyces_cerevisiae-3.2.105.mitab has {res_mitab[\"fileByteCount\"]} bytes')"
      ],
      "execution_count": 4,
      "outputs": [
        {
          "output_type": "stream",
          "name": "stdout",
          "text": [
            "Network file BIOGRID-ORGANISM-Saccharomyces_cerevisiae-3.2.105.mitab has 166981992 bytes\n"
          ]
        }
      ]
    },
    {
      "cell_type": "markdown",
      "metadata": {
        "id": "RTGAUyauDr6K"
      },
      "source": [
        "---\n",
        "# Load the Protein-protein Interaction Network into Cytoscape\n",
        "The network is contained in the s. cerevisiae MITAB file."
      ]
    },
    {
      "cell_type": "markdown",
      "metadata": {
        "id": "jmanb3qDD7E2"
      },
      "source": [
        "Note that in this cell, the `import_network_from_file()` function (incorrectly) throws an exception in pre-3.10.0 Cytoscape. To ignore the exception, we enclose it in a try/except block.\n",
        "\n",
        "**Note:** Once the CYTOSCAPE-12772 issue is solved, we can remove the try/except block.\n"
      ]
    },
    {
      "cell_type": "code",
      "metadata": {
        "id": "nQ4lD6C_ghFA",
        "outputId": "b235d27e-a5bc-4db8-ac2e-28b8fa5fc25d",
        "colab": {
          "base_uri": "https://localhost:8080/"
        }
      },
      "source": [
        "from requests import HTTPError\n",
        "p4c.close_session(False)\n",
        "\n",
        "try:\n",
        "  p4c.import_network_from_file('BIOGRID-ORGANISM-Saccharomyces_cerevisiae-3.2.105.mitab')\n",
        "except:  \n",
        "  pass\n",
        "if p4c.get_network_count() != 1:\n",
        "  raise Exception('Failed to load network')\n",
        "net_suid = p4c.get_network_suid()\n",
        "print(f'Network identifier: {net_suid}')\n",
        "\n"
      ],
      "execution_count": 5,
      "outputs": [
        {
          "output_type": "stream",
          "name": "stderr",
          "text": [
            "In commands_post(): {'status': 500, 'type': 'urn:cytoscape:ci:cyrest-core:v1:handle-json-command:errors:3', 'message': 'Task returned invalid json.', 'link': 'file:/C:/Users/CyDeveloper/CytoscapeConfiguration/3/framework-cytoscape.log'}\n"
          ]
        },
        {
          "output_type": "stream",
          "name": "stdout",
          "text": [
            "Network identifier: 5357643\n"
          ]
        }
      ]
    },
    {
      "cell_type": "markdown",
      "metadata": {
        "id": "fyhlv8yyESep"
      },
      "source": [
        "---\n",
        "# Import the gene expression data\n",
        "The expression data is downloaded and merged into the network's node attribute table."
      ]
    },
    {
      "cell_type": "markdown",
      "metadata": {
        "id": "fX1fQqyFuvIp"
      },
      "source": [
        "---\n",
        "*Tip:* This cell shows how to create code that works around changes in Cytoscape capabilities. \n",
        "\n",
        "In this case, starting with Cytoscape 3.9.0, the `load_table_data_from_file()` function works as expected, so the gene expression data is merged into the node attribute table. \n",
        "\n",
        "Prior to 3.9.0, `load_table_data_from_file()` didn't work. As a workaround, we do most of the work in Pandas and then import the dataframe into the node attribute table. After Pandas reads the CSV, we will try to match dataframe Gene ID column to the `name` column in the Cytoscape node attribute table. To do this, we must explicitly set the Gene ID as a string (even though it's originally parsed as a number) because Cytoscape's `name` column is already a string. \n",
        "\n"
      ]
    },
    {
      "cell_type": "code",
      "metadata": {
        "id": "jMnno2stwRIC",
        "outputId": "784cb570-5dc2-4599-efd4-f97697d11495",
        "colab": {
          "base_uri": "https://localhost:8080/"
        }
      },
      "source": [
        "if p4c.check_supported_versions(cytoscape='3.9') is None:\n",
        "  # Load file directly into Sandbox so Cytoscape can import it\n",
        "  res_soft = p4c.sandbox_url_to(\"https://www.dropbox.com/s/r15azh0xb53smu1/GDS112_full.soft?dl=0\", \"GDS112_full.soft\")\n",
        "  print(f'Annotation file GDS112_full.soft has {res_soft[\"fileByteCount\"]} bytes')\n",
        "\n",
        "  res = p4c.load_table_data_from_file('GDS112_full.soft', start_load_row=83, data_key_column_index=10, delimiters='\\t')\n",
        "  print(f'Load result contains table identifiers: {res[\"mappedTables\"]}')\n",
        "else:\n",
        "  # Load file into Notebook file system so Python can import it, tweak it, and download to Cytoscape\n",
        "  !wget -q --no-check-certificate https://www.dropbox.com/s/r15azh0xb53smu1/GDS112_full.soft?dl=0\n",
        "  !mv GDS112_full.soft?dl=0 GDS112_full.soft\n",
        "\n",
        "  import pandas as df\n",
        "  GDS112_full = df.read_csv('GDS112_full.soft', skiprows=82, sep='\\t')\n",
        "  GDS112_full.dropna(subset=['Gene ID'], inplace=True)\n",
        "  GDS112_full['Gene ID'] = df.to_numeric(GDS112_full['Gene ID'], downcast='integer')\n",
        "  GDS112_full = GDS112_full.astype({'Gene ID': 'string'})\n",
        "  print(GDS112_full.dtypes)\n",
        "  print(GDS112_full)\n",
        "  p4c.load_table_data(GDS112_full, data_key_column='Gene ID')\n",
        "\n",
        "  import os\n",
        "  os.remove('GDS112_full.soft')\n"
      ],
      "execution_count": 6,
      "outputs": [
        {
          "output_type": "stream",
          "name": "stdout",
          "text": [
            "Annotation file GDS112_full.soft has 5536880 bytes\n",
            "Load result contains table identifiers: [5357614, 5357652]\n"
          ]
        }
      ]
    },
    {
      "cell_type": "markdown",
      "metadata": {
        "id": "UgaRJXpPFPlL"
      },
      "source": [
        "---\n",
        "# Filter the Network with the Genes that have Expression Data\n",
        "For this, we assume that if a node has no *Gene symbol*, it also has no expression data. \n",
        "\n",
        "The filter compares each node's *Gene symbol* attribute to a regular expression. If there is a match, the gene is selected; for no match, the gene isn't selected."
      ]
    },
    {
      "cell_type": "code",
      "metadata": {
        "id": "FDtlIeqGCjrw",
        "outputId": "767a4b92-ab89-4f3a-b917-8f886abde6ce",
        "colab": {
          "base_uri": "https://localhost:8080/"
        }
      },
      "source": [
        "res = p4c.create_column_filter('SymbolOK', 'Gene symbol', '[A-Z0-9]*', 'REGEX')\n",
        "print(f'Nodes selected: {len(res[\"nodes\"])}')"
      ],
      "execution_count": 7,
      "outputs": [
        {
          "output_type": "stream",
          "name": "stdout",
          "text": [
            "No edges selected.\n",
            "Nodes selected: 5509\n"
          ]
        }
      ]
    },
    {
      "cell_type": "markdown",
      "metadata": {
        "id": "gNzJz9QkFtxe"
      },
      "source": [
        "---\n",
        "# Create a New Network with the Selected Subset\n",
        "Create a subnetwork containing only nodes selected by the filter (i.e., having a *Gene symbol* value, which implies that expression data is present for that node)."
      ]
    },
    {
      "cell_type": "markdown",
      "metadata": {
        "id": "LlM9YkdHFygQ"
      },
      "source": [
        "This could take several minutes.\n",
        "\n",
        "At the end, you should see a view containing all nodes laid out. "
      ]
    },
    {
      "cell_type": "markdown",
      "metadata": {
        "id": "phx6pYM1ZiI4"
      },
      "source": [
        "If you see only a single rectangle, it could be that your Cytoscape is set to operate with a small stack size. To increase the stack:\n",
        "\n",
        "1. terminate Cytoscape\n",
        "\n",
        "2. a) upgrade Cytoscape to 3.9.0 or later \n",
        "\n",
        "  ... or b) use a text editor to add -Xss5M to the cytoscape.vmoptions file in your Cytoscape program directory\n",
        "\n",
        "3. restart Cytoscape\n",
        "\n",
        "4. re-run this workflow"
      ]
    },
    {
      "cell_type": "code",
      "metadata": {
        "id": "39sA48cLEurX",
        "outputId": "1bc5867b-b351-4c08-d1cd-7281bd8f7c5f",
        "colab": {
          "base_uri": "https://localhost:8080/"
        }
      },
      "source": [
        "new_suid = p4c.create_subnetwork()\n",
        "print(f'New network identifier: {new_suid}')"
      ],
      "execution_count": 8,
      "outputs": [
        {
          "output_type": "stream",
          "name": "stdout",
          "text": [
            "New network identifier: 6745541\n"
          ]
        }
      ]
    },
    {
      "cell_type": "markdown",
      "metadata": {
        "id": "nfWTpsjOF3Op"
      },
      "source": [
        "## Get rid of the original network, which isn't needed anymore"
      ]
    },
    {
      "cell_type": "code",
      "metadata": {
        "id": "iYuud6SgG-sE"
      },
      "source": [
        "p4c.delete_network(net_suid)\n",
        "net_suid = new_suid"
      ],
      "execution_count": 9,
      "outputs": []
    },
    {
      "cell_type": "markdown",
      "source": [
        "---\n",
        "# Identify Network Modules\n",
        "The overall strategy is to find clusters of nodes that share some common attribute. In this case, we use expression data values. Specifically:\n",
        "\n",
        "* Load Cytoscape's clusterMaker2 app\n",
        "* Use clusterMaker2 to create a dendogram showing a hierarchy of similar network modules\n"
      ],
      "metadata": {
        "id": "dCS2f8w40Sen"
      }
    },
    {
      "cell_type": "markdown",
      "metadata": {
        "id": "FuDfuscFGCWI"
      },
      "source": [
        "## Install clusterMaker2 if it hasn't already been installed"
      ]
    },
    {
      "cell_type": "code",
      "metadata": {
        "id": "elMOuRa2IEb4",
        "outputId": "ba1b8660-ea31-4014-f9c3-b78cf6bc312d",
        "colab": {
          "base_uri": "https://localhost:8080/"
        }
      },
      "source": [
        "p4c.install_app('clusterMaker2')"
      ],
      "execution_count": 10,
      "outputs": [
        {
          "output_type": "stream",
          "name": "stdout",
          "text": [
            "{}\n"
          ]
        },
        {
          "output_type": "execute_result",
          "data": {
            "text/plain": [
              "{}"
            ]
          },
          "metadata": {},
          "execution_count": 10
        }
      ]
    },
    {
      "cell_type": "markdown",
      "metadata": {
        "id": "2XmpalLLGINl"
      },
      "source": [
        "## Identify network modules\n",
        "Create a hierarchic clustering of similar nodes based on the expression data columns. Cytoscape renders the hierarchy as a dendogram.\n",
        "\n",
        "*Tip:* Cytoscape's dendogram window can be used to manually explore module similarity. "
      ]
    },
    {
      "cell_type": "code",
      "metadata": {
        "id": "qU59dHs3KONj"
      },
      "source": [
        "dendo_clustering = p4c.commands_post('cluster hierarchical showUI=true clusterAttributes=false nodeAttributeList=\"GSM1029,GSM1030,GSM1032,GSM1033,GSM1034\"')\n",
        "\n",
        "# dendo_clustering is a dictionary [{nodeOrder: [{nodeName: xxx, suid: sss}, ...]}\n",
        "#                                   {nodeTree: [{name: ggg, left: lll, right: rrr}]}]\n",
        "# where nodeOrder is a mapping between a leaf node name xxx and the suid sss of a network node,\n",
        "# and nodeTree is a tree where the left node lll and right node rrr can be leaf nodes xxx or\n",
        "# internal nodes ggg. "
      ],
      "execution_count": 11,
      "outputs": []
    },
    {
      "cell_type": "markdown",
      "metadata": {
        "id": "cLNIAjWa99pq"
      },
      "source": [
        "---\n",
        "# Perform an enrichment analysis using the gprofiler package"
      ]
    },
    {
      "cell_type": "markdown",
      "source": [
        "Use a package commonly available in PyPI to calculate functional enrichment for nodes similar to a node in which we may be interested. It's an example of how Cytoscape can work together with Python-based libraries to achieve a useful result.\n",
        "\n",
        "In this case, we choose HBT1 (entrez-gene ID 851303).\n",
        "\n",
        "1. Find SUID of network's HBT1 node\n",
        "\n",
        "1. Find a set of nodes similar to HBT1 by collecting nodes nearby in the tree\n",
        "\n",
        "1. Use each node's SUID to look up its entrez-gene ID\n",
        "\n",
        "1. Pass the set of entrez-gene IDs to gprofiler as an enrichment query\n",
        "\n",
        "\n"
      ],
      "metadata": {
        "id": "0KkaJdVA0sP9"
      }
    },
    {
      "cell_type": "markdown",
      "source": [
        "## Find HBD1 in the similarity tree"
      ],
      "metadata": {
        "id": "QY6PpCG906ox"
      }
    },
    {
      "cell_type": "code",
      "source": [
        "node_suid = p4c.node_name_to_node_suid('851303')[0] # Use entrez-gene ID to get SUID for HBT1"
      ],
      "metadata": {
        "id": "GasplzL409pP"
      },
      "execution_count": 12,
      "outputs": []
    },
    {
      "cell_type": "markdown",
      "source": [
        "## Collect set of SUIDs representing 85 similar nodes\n",
        "Note that we use custom functions to parse and traverse the dendogram's similarity tree.\n",
        "\n",
        "We use *wget* to copy the functions into a local directory so we can them import them and then call them."
      ],
      "metadata": {
        "id": "UOeXM9Er1AN_"
      }
    },
    {
      "cell_type": "code",
      "source": [
        "!wget -c https://raw.githubusercontent.com/cytoscape/py4cytoscape/master/tests/Notebooks/parse_dendogram.py\n",
        "import parse_dendogram as pde # Use custom functions to decode dendogram tree\n",
        "\n",
        "node_order = dendo_clustering[0]['nodeOrder']\n",
        "node_tree = dendo_clustering[0]['nodeTree']\n",
        "\n",
        "node_bag = pde.create_node_bag(node_order, node_tree)\n",
        "similar_nodes = list(pde.find_node_set(node_suid, 85, node_order, node_bag))"
      ],
      "metadata": {
        "colab": {
          "base_uri": "https://localhost:8080/"
        },
        "id": "M_Oy2h-a1FcH",
        "outputId": "09ca0935-488c-458b-ef59-be71c932e185"
      },
      "execution_count": 13,
      "outputs": [
        {
          "output_type": "stream",
          "name": "stdout",
          "text": [
            "--2022-06-28 22:33:09--  https://raw.githubusercontent.com/cytoscape/py4cytoscape/master/tests/Notebooks/parse_dendogram.py\n",
            "Resolving raw.githubusercontent.com (raw.githubusercontent.com)... 185.199.108.133, 185.199.109.133, 185.199.110.133, ...\n",
            "Connecting to raw.githubusercontent.com (raw.githubusercontent.com)|185.199.108.133|:443... connected.\n",
            "HTTP request sent, awaiting response... 200 OK\n",
            "Length: 1852 (1.8K) [text/plain]\n",
            "Saving to: ‘parse_dendogram.py’\n",
            "\n",
            "parse_dendogram.py  100%[===================>]   1.81K  --.-KB/s    in 0s      \n",
            "\n",
            "2022-06-28 22:33:09 (35.6 MB/s) - ‘parse_dendogram.py’ saved [1852/1852]\n",
            "\n"
          ]
        }
      ]
    },
    {
      "cell_type": "markdown",
      "source": [
        "## Using SUIDs, query Cytoscape for each node's entrez-gene ID"
      ],
      "metadata": {
        "id": "CkqKoYeB1I7V"
      }
    },
    {
      "cell_type": "code",
      "source": [
        "suid_to_entrez_gene = p4c.get_table_columns(columns='name')['name']\n",
        "entrez_gene_query = [int(suid_to_entrez_gene[suid])  for suid in similar_nodes]\n",
        "\n",
        "print(entrez_gene_query)"
      ],
      "metadata": {
        "colab": {
          "base_uri": "https://localhost:8080/"
        },
        "id": "Oa0ad5Af1LTb",
        "outputId": "954e4f9a-8888-469c-f4ab-49ea9f1c171f"
      },
      "execution_count": 14,
      "outputs": [
        {
          "output_type": "stream",
          "name": "stdout",
          "text": [
            "[850544, 851303, 856887, 856568, 856201, 855706, 854244, 852552, 853766, 850521, 852382, 850627, 850418, 855463, 854214, 856203, 852732, 852715, 854866, 851968, 850747, 853737, 853016, 853939, 854809, 855227, 855339, 851259, 854267, 856530, 854327, 855998, 853304, 854980, 852564, 855688, 853566, 856105, 854932, 853868, 856858, 853861, 855344, 851017, 852168, 853997, 851474, 855488, 856765, 853758, 854062, 851136, 855562, 850318, 851625, 854223, 852582, 850923, 854933, 851230, 850545, 852607, 851582, 850364, 856417, 852665, 856911, 854776, 854108, 851150, 852721, 852818, 856290, 854227, 850324, 856825, 852865, 854204, 851445, 851213, 854197, 854212, 852126, 851321, 853666]\n"
          ]
        }
      ]
    },
    {
      "cell_type": "markdown",
      "source": [
        "## Install gprofiler package if it's not already installed"
      ],
      "metadata": {
        "id": "mI7Th8Wp1PBc"
      }
    },
    {
      "cell_type": "code",
      "source": [
        "!pip install gprofiler-official\n",
        "from gprofiler import GProfiler"
      ],
      "metadata": {
        "colab": {
          "base_uri": "https://localhost:8080/"
        },
        "id": "ZTuo_RU01RGh",
        "outputId": "adc50e66-36fa-4fc3-9103-581017f1b812"
      },
      "execution_count": 15,
      "outputs": [
        {
          "output_type": "stream",
          "name": "stdout",
          "text": [
            "Looking in indexes: https://pypi.org/simple, https://us-python.pkg.dev/colab-wheels/public/simple/\n",
            "Collecting gprofiler-official\n",
            "  Downloading gprofiler_official-1.0.0-py3-none-any.whl (9.3 kB)\n",
            "Requirement already satisfied: requests in /usr/local/lib/python3.7/dist-packages (from gprofiler-official) (2.23.0)\n",
            "Requirement already satisfied: idna<3,>=2.5 in /usr/local/lib/python3.7/dist-packages (from requests->gprofiler-official) (2.10)\n",
            "Requirement already satisfied: urllib3!=1.25.0,!=1.25.1,<1.26,>=1.21.1 in /usr/local/lib/python3.7/dist-packages (from requests->gprofiler-official) (1.24.3)\n",
            "Requirement already satisfied: certifi>=2017.4.17 in /usr/local/lib/python3.7/dist-packages (from requests->gprofiler-official) (2022.6.15)\n",
            "Requirement already satisfied: chardet<4,>=3.0.2 in /usr/local/lib/python3.7/dist-packages (from requests->gprofiler-official) (3.0.4)\n",
            "Installing collected packages: gprofiler-official\n",
            "Successfully installed gprofiler-official-1.0.0\n"
          ]
        }
      ]
    },
    {
      "cell_type": "markdown",
      "source": [
        "## Use entrez-gene IDs to query gprofiler for GO functional enrichment"
      ],
      "metadata": {
        "id": "qSqydaCm1V18"
      }
    },
    {
      "cell_type": "code",
      "source": [
        "gp = GProfiler(user_agent='py4cytoscape', return_dataframe=True)\n",
        "gp.profile(organism='scerevisiae', query=entrez_gene_query)"
      ],
      "metadata": {
        "colab": {
          "base_uri": "https://localhost:8080/",
          "height": 1000
        },
        "id": "URjS9i-k1YCh",
        "outputId": "1c397b8e-a8a2-44ad-e9d3-7d10bc40822b"
      },
      "execution_count": 16,
      "outputs": [
        {
          "output_type": "execute_result",
          "data": {
            "text/plain": [
              "   source      native                                               name  \\\n",
              "0   GO:CC  GO:0008023            transcription elongation factor complex   \n",
              "1   GO:CC  GO:0005956                         protein kinase CK2 complex   \n",
              "2   GO:BP  GO:1901409  positive regulation of phosphorylation of RNA ...   \n",
              "3   GO:BP  GO:0031060                  regulation of histone methylation   \n",
              "4   GO:BP  GO:1901407  regulation of phosphorylation of RNA polymeras...   \n",
              "5   GO:CC  GO:0034456                                      UTP-C complex   \n",
              "6   GO:BP  GO:0051569            regulation of histone H3-K4 methylation   \n",
              "7   GO:BP  GO:0031062         positive regulation of histone methylation   \n",
              "8   GO:CC  GO:0032545                                       CURI complex   \n",
              "9   GO:BP  GO:0070816  phosphorylation of RNA polymerase II C-termina...   \n",
              "10  GO:BP  GO:0031056                 regulation of histone modification   \n",
              "11  GO:MF  GO:0005488                                            binding   \n",
              "12  GO:BP  GO:0033182               regulation of histone ubiquitination   \n",
              "13  GO:BP  GO:0071894  histone H2B conserved C-terminal lysine ubiqui...   \n",
              "14  GO:BP  GO:0006356    regulation of transcription by RNA polymerase I   \n",
              "15  GO:BP  GO:0016574                             histone ubiquitination   \n",
              "16  GO:BP  GO:0033523                         histone H2B ubiquitination   \n",
              "17  GO:MF  GO:0005515                                    protein binding   \n",
              "18  GO:BP  GO:0006360                  transcription by RNA polymerase I   \n",
              "19  GO:BP  GO:2001163  regulation of phosphorylation of RNA polymeras...   \n",
              "20  GO:BP  GO:2001165  positive regulation of phosphorylation of RNA ...   \n",
              "21  GO:MF  GO:0099122        RNA polymerase II C-terminal domain binding   \n",
              "22  GO:MF  GO:1990269  RNA polymerase II C-terminal domain phosphoser...   \n",
              "23  GO:CC  GO:0048500                        signal recognition particle   \n",
              "24  GO:CC  GO:0005786  signal recognition particle, endoplasmic retic...   \n",
              "25  GO:BP  GO:0032259                                        methylation   \n",
              "26  GO:BP  GO:2001173  regulation of histone H2B conserved C-terminal...   \n",
              "27  GO:BP  GO:0071619  phosphorylation of RNA polymerase II C-termina...   \n",
              "28  GO:BP  GO:0034968                         histone lysine methylation   \n",
              "29  GO:CC  GO:0016593                                 Cdc73/Paf1 complex   \n",
              "30  GO:BP  GO:0043414                          macromolecule methylation   \n",
              "31  GO:BP  GO:2001166           regulation of histone H2B ubiquitination   \n",
              "32  GO:CC  GO:0019908  nuclear cyclin-dependent protein kinase holoen...   \n",
              "33  GO:CC  GO:0035101                                       FACT complex   \n",
              "34  GO:BP  GO:0016571                                histone methylation   \n",
              "35  GO:MF  GO:0050815                      phosphoserine residue binding   \n",
              "36  GO:MF  GO:0045309          protein phosphorylated amino acid binding   \n",
              "37  GO:BP  GO:0006616  SRP-dependent cotranslational protein targetin...   \n",
              "38  GO:BP  GO:0006283   transcription-coupled nucleotide-excision repair   \n",
              "39  GO:BP  GO:0031058        positive regulation of histone modification   \n",
              "40  GO:BP  GO:0090262  regulation of transcription-coupled nucleotide...   \n",
              "41  GO:MF  GO:0001089  obsolete transcription factor activity, TFIIF-...   \n",
              "\n",
              "     p_value  significant                                        description  \\\n",
              "0   0.000003         True  \"Any protein complex that interacts with RNA p...   \n",
              "1   0.000005         True  \"A protein complex that possesses protein seri...   \n",
              "2   0.000012         True  \"Any process that activates or increases the f...   \n",
              "3   0.000012         True  \"Any process that modulates the frequency, rat...   \n",
              "4   0.000051         True  \"Any process that modulates the frequency, rat...   \n",
              "5   0.000071         True  \"A protein complex that forms a subcomplex of ...   \n",
              "6   0.000086         True  \"Any process that modulates the frequency, rat...   \n",
              "7   0.000086         True  \"Any process that activates or increases the f...   \n",
              "8   0.000165         True  \"A protein complex that is involved in the tra...   \n",
              "9   0.000374         True  \"The process of introducing a phosphate group ...   \n",
              "10  0.000481         True  \"Any process that modulates the frequency, rat...   \n",
              "11  0.000497         True  \"The selective, non-covalent, often stoichiome...   \n",
              "12  0.000590         True  \"Any process that modulates the frequency, rat...   \n",
              "13  0.000590         True  \"A histone ubiquitination process in which a u...   \n",
              "14  0.000938         True  \"Any process that modulates the frequency, rat...   \n",
              "15  0.001164         True  \"The modification of histones by addition of u...   \n",
              "16  0.003435         True  \"The modification of histone H2B by addition o...   \n",
              "17  0.003780         True          \"Binding to a protein.\" [GOC:go_curators]   \n",
              "18  0.004091         True  \"The synthesis of RNA from a DNA template by R...   \n",
              "19  0.005550         True  \"Any process that modulates the frequency, rat...   \n",
              "20  0.005550         True  \"Any process that activates or increases the f...   \n",
              "21  0.006131         True  \"Binding to the C-terminal domain (CTD) of the...   \n",
              "22  0.006131         True  \"Binding to phosphorylated serine residues in ...   \n",
              "23  0.007642         True  \"A complex of protein and RNA which facilitate...   \n",
              "24  0.007642         True  \"A ribonucleoprotein particle of 325 kDa compo...   \n",
              "25  0.011206         True  \"The process in which a methyl group is covale...   \n",
              "26  0.013746         True  \"Any process that modulates the frequency, rat...   \n",
              "27  0.013746         True  \"The process of introducing a phosphate group ...   \n",
              "28  0.016546         True  \"The modification of a histone by addition of ...   \n",
              "29  0.021005         True  \"A multiprotein complex that associates with R...   \n",
              "30  0.023100         True  \"The covalent attachment of a methyl residue t...   \n",
              "31  0.027237         True  \"Any process that modulates the frequency, rat...   \n",
              "32  0.031217         True  \"Cyclin-dependent protein kinase (CDK) complex...   \n",
              "33  0.031458         True  \"A histone chaperone complex that facilitates ...   \n",
              "34  0.032562         True  \"The modification of histones by addition of m...   \n",
              "35  0.033388         True  \"Binding to a phosphorylated serine residue wi...   \n",
              "36  0.033388         True  \"Binding to a phosphorylated amino acid residu...   \n",
              "37  0.036350         True  \"The process during cotranslational membrane t...   \n",
              "38  0.046280         True  \"The nucleotide-excision repair process that c...   \n",
              "39  0.046280         True  \"Any process that activates or increases the f...   \n",
              "40  0.047222         True  \"Any process that modulates the frequency, rat...   \n",
              "41  0.049872         True  \"OBSOLETE. Binding to a basal RNA polymerase I...   \n",
              "\n",
              "    term_size  query_size  intersection_size  effective_domain_size  \\\n",
              "0          25          84                  7                   6567   \n",
              "1           4          84                  4                   6567   \n",
              "2           8          84                  5                   6540   \n",
              "3           8          84                  5                   6540   \n",
              "4          10          84                  5                   6540   \n",
              "5           6          84                  4                   6567   \n",
              "6           5          84                  4                   6540   \n",
              "7           5          84                  4                   6540   \n",
              "8           7          84                  4                   6567   \n",
              "9          25          84                  6                   6540   \n",
              "10         26          84                  6                   6540   \n",
              "11       3785          84                 69                   6549   \n",
              "12          7          84                  4                   6540   \n",
              "13          7          84                  4                   6540   \n",
              "14         45          84                  7                   6540   \n",
              "15         17          84                  5                   6540   \n",
              "16         10          84                  4                   6540   \n",
              "17       2608          84                 53                   6549   \n",
              "18         78          84                  8                   6540   \n",
              "19          4          84                  3                   6540   \n",
              "20          4          84                  3                   6540   \n",
              "21          5          84                  3                   6549   \n",
              "22          5          84                  3                   6549   \n",
              "23          6          84                  3                   6567   \n",
              "24          6          84                  3                   6567   \n",
              "25        180          84                 11                   6540   \n",
              "26          5          84                  3                   6540   \n",
              "27          5          84                  3                   6540   \n",
              "28         28          84                  5                   6540   \n",
              "29          8          84                  3                   6567   \n",
              "30        160          84                 10                   6540   \n",
              "31          6          84                  3                   6540   \n",
              "32          9          84                  3                   6567   \n",
              "33          2          84                  2                   6567   \n",
              "34         32          84                  5                   6540   \n",
              "35          8          84                  3                   6549   \n",
              "36          8          84                  3                   6549   \n",
              "37         17          84                  4                   6540   \n",
              "38         18          84                  4                   6540   \n",
              "39         18          84                  4                   6540   \n",
              "40          7          84                  3                   6540   \n",
              "41          2          84                  2                   6549   \n",
              "\n",
              "    precision    recall    query                               parents  \n",
              "0    0.083333  0.280000  query_1              [GO:0005654, GO:0140513]  \n",
              "1    0.047619  1.000000  query_1                          [GO:0140535]  \n",
              "2    0.059524  0.625000  query_1  [GO:0001934, GO:0070816, GO:1901407]  \n",
              "3    0.059524  0.625000  query_1              [GO:0016571, GO:0031056]  \n",
              "4    0.059524  0.500000  query_1  [GO:0001932, GO:0006357, GO:0070816]  \n",
              "5    0.047619  0.666667  query_1  [GO:0005730, GO:0030686, GO:0140513]  \n",
              "6    0.047619  0.800000  query_1              [GO:0031060, GO:0051568]  \n",
              "7    0.047619  0.800000  query_1  [GO:0016571, GO:0031058, GO:0031060]  \n",
              "8    0.047619  0.571429  query_1                          [GO:0140513]  \n",
              "9    0.071429  0.240000  query_1              [GO:0006357, GO:0006468]  \n",
              "10   0.071429  0.230769  query_1              [GO:0016570, GO:0031399]  \n",
              "11   0.821429  0.018230  query_1                          [GO:0003674]  \n",
              "12   0.047619  0.571429  query_1  [GO:0016574, GO:0031056, GO:0031396]  \n",
              "13   0.047619  0.571429  query_1                          [GO:0033523]  \n",
              "14   0.083333  0.155556  query_1              [GO:0006355, GO:0006360]  \n",
              "15   0.059524  0.294118  query_1              [GO:0016567, GO:0016570]  \n",
              "16   0.047619  0.400000  query_1                          [GO:0016574]  \n",
              "17   0.630952  0.020322  query_1                          [GO:0005488]  \n",
              "18   0.095238  0.102564  query_1                          [GO:0006351]  \n",
              "19   0.035714  0.750000  query_1              [GO:0071619, GO:1901407]  \n",
              "20   0.035714  0.750000  query_1  [GO:0071619, GO:1901409, GO:2001163]  \n",
              "21   0.035714  0.600000  query_1                          [GO:0000993]  \n",
              "22   0.035714  0.600000  query_1              [GO:0050815, GO:0099122]  \n",
              "23   0.035714  0.500000  query_1              [GO:0005737, GO:1990904]  \n",
              "24   0.035714  0.500000  query_1                          [GO:0048500]  \n",
              "25   0.130952  0.061111  query_1                          [GO:0008152]  \n",
              "26   0.035714  0.600000  query_1              [GO:0071894, GO:2001166]  \n",
              "27   0.035714  0.600000  query_1                          [GO:0070816]  \n",
              "28   0.059524  0.178571  query_1              [GO:0016571, GO:0018022]  \n",
              "29   0.035714  0.375000  query_1              [GO:0008023, GO:0016591]  \n",
              "30   0.119048  0.062500  query_1  [GO:0032259, GO:0043412, GO:0044260]  \n",
              "31   0.035714  0.500000  query_1              [GO:0033182, GO:0033523]  \n",
              "32   0.035714  0.333333  query_1              [GO:0000307, GO:0140513]  \n",
              "33   0.023810  1.000000  query_1              [GO:0000785, GO:0008023]  \n",
              "34   0.059524  0.156250  query_1              [GO:0006479, GO:0016570]  \n",
              "35   0.035714  0.375000  query_1                          [GO:0045309]  \n",
              "36   0.035714  0.375000  query_1                          [GO:0051219]  \n",
              "37   0.047619  0.235294  query_1              [GO:0006614, GO:0065002]  \n",
              "38   0.047619  0.222222  query_1                          [GO:0006289]  \n",
              "39   0.047619  0.222222  query_1  [GO:0016570, GO:0031056, GO:0031401]  \n",
              "40   0.035714  0.428571  query_1              [GO:0006283, GO:2000819]  \n",
              "41   0.023810  1.000000  query_1                                    []  "
            ],
            "text/html": [
              "\n",
              "  <div id=\"df-50b33319-17de-4611-a694-68222029a8d9\">\n",
              "    <div class=\"colab-df-container\">\n",
              "      <div>\n",
              "<style scoped>\n",
              "    .dataframe tbody tr th:only-of-type {\n",
              "        vertical-align: middle;\n",
              "    }\n",
              "\n",
              "    .dataframe tbody tr th {\n",
              "        vertical-align: top;\n",
              "    }\n",
              "\n",
              "    .dataframe thead th {\n",
              "        text-align: right;\n",
              "    }\n",
              "</style>\n",
              "<table border=\"1\" class=\"dataframe\">\n",
              "  <thead>\n",
              "    <tr style=\"text-align: right;\">\n",
              "      <th></th>\n",
              "      <th>source</th>\n",
              "      <th>native</th>\n",
              "      <th>name</th>\n",
              "      <th>p_value</th>\n",
              "      <th>significant</th>\n",
              "      <th>description</th>\n",
              "      <th>term_size</th>\n",
              "      <th>query_size</th>\n",
              "      <th>intersection_size</th>\n",
              "      <th>effective_domain_size</th>\n",
              "      <th>precision</th>\n",
              "      <th>recall</th>\n",
              "      <th>query</th>\n",
              "      <th>parents</th>\n",
              "    </tr>\n",
              "  </thead>\n",
              "  <tbody>\n",
              "    <tr>\n",
              "      <th>0</th>\n",
              "      <td>GO:CC</td>\n",
              "      <td>GO:0008023</td>\n",
              "      <td>transcription elongation factor complex</td>\n",
              "      <td>0.000003</td>\n",
              "      <td>True</td>\n",
              "      <td>\"Any protein complex that interacts with RNA p...</td>\n",
              "      <td>25</td>\n",
              "      <td>84</td>\n",
              "      <td>7</td>\n",
              "      <td>6567</td>\n",
              "      <td>0.083333</td>\n",
              "      <td>0.280000</td>\n",
              "      <td>query_1</td>\n",
              "      <td>[GO:0005654, GO:0140513]</td>\n",
              "    </tr>\n",
              "    <tr>\n",
              "      <th>1</th>\n",
              "      <td>GO:CC</td>\n",
              "      <td>GO:0005956</td>\n",
              "      <td>protein kinase CK2 complex</td>\n",
              "      <td>0.000005</td>\n",
              "      <td>True</td>\n",
              "      <td>\"A protein complex that possesses protein seri...</td>\n",
              "      <td>4</td>\n",
              "      <td>84</td>\n",
              "      <td>4</td>\n",
              "      <td>6567</td>\n",
              "      <td>0.047619</td>\n",
              "      <td>1.000000</td>\n",
              "      <td>query_1</td>\n",
              "      <td>[GO:0140535]</td>\n",
              "    </tr>\n",
              "    <tr>\n",
              "      <th>2</th>\n",
              "      <td>GO:BP</td>\n",
              "      <td>GO:1901409</td>\n",
              "      <td>positive regulation of phosphorylation of RNA ...</td>\n",
              "      <td>0.000012</td>\n",
              "      <td>True</td>\n",
              "      <td>\"Any process that activates or increases the f...</td>\n",
              "      <td>8</td>\n",
              "      <td>84</td>\n",
              "      <td>5</td>\n",
              "      <td>6540</td>\n",
              "      <td>0.059524</td>\n",
              "      <td>0.625000</td>\n",
              "      <td>query_1</td>\n",
              "      <td>[GO:0001934, GO:0070816, GO:1901407]</td>\n",
              "    </tr>\n",
              "    <tr>\n",
              "      <th>3</th>\n",
              "      <td>GO:BP</td>\n",
              "      <td>GO:0031060</td>\n",
              "      <td>regulation of histone methylation</td>\n",
              "      <td>0.000012</td>\n",
              "      <td>True</td>\n",
              "      <td>\"Any process that modulates the frequency, rat...</td>\n",
              "      <td>8</td>\n",
              "      <td>84</td>\n",
              "      <td>5</td>\n",
              "      <td>6540</td>\n",
              "      <td>0.059524</td>\n",
              "      <td>0.625000</td>\n",
              "      <td>query_1</td>\n",
              "      <td>[GO:0016571, GO:0031056]</td>\n",
              "    </tr>\n",
              "    <tr>\n",
              "      <th>4</th>\n",
              "      <td>GO:BP</td>\n",
              "      <td>GO:1901407</td>\n",
              "      <td>regulation of phosphorylation of RNA polymeras...</td>\n",
              "      <td>0.000051</td>\n",
              "      <td>True</td>\n",
              "      <td>\"Any process that modulates the frequency, rat...</td>\n",
              "      <td>10</td>\n",
              "      <td>84</td>\n",
              "      <td>5</td>\n",
              "      <td>6540</td>\n",
              "      <td>0.059524</td>\n",
              "      <td>0.500000</td>\n",
              "      <td>query_1</td>\n",
              "      <td>[GO:0001932, GO:0006357, GO:0070816]</td>\n",
              "    </tr>\n",
              "    <tr>\n",
              "      <th>5</th>\n",
              "      <td>GO:CC</td>\n",
              "      <td>GO:0034456</td>\n",
              "      <td>UTP-C complex</td>\n",
              "      <td>0.000071</td>\n",
              "      <td>True</td>\n",
              "      <td>\"A protein complex that forms a subcomplex of ...</td>\n",
              "      <td>6</td>\n",
              "      <td>84</td>\n",
              "      <td>4</td>\n",
              "      <td>6567</td>\n",
              "      <td>0.047619</td>\n",
              "      <td>0.666667</td>\n",
              "      <td>query_1</td>\n",
              "      <td>[GO:0005730, GO:0030686, GO:0140513]</td>\n",
              "    </tr>\n",
              "    <tr>\n",
              "      <th>6</th>\n",
              "      <td>GO:BP</td>\n",
              "      <td>GO:0051569</td>\n",
              "      <td>regulation of histone H3-K4 methylation</td>\n",
              "      <td>0.000086</td>\n",
              "      <td>True</td>\n",
              "      <td>\"Any process that modulates the frequency, rat...</td>\n",
              "      <td>5</td>\n",
              "      <td>84</td>\n",
              "      <td>4</td>\n",
              "      <td>6540</td>\n",
              "      <td>0.047619</td>\n",
              "      <td>0.800000</td>\n",
              "      <td>query_1</td>\n",
              "      <td>[GO:0031060, GO:0051568]</td>\n",
              "    </tr>\n",
              "    <tr>\n",
              "      <th>7</th>\n",
              "      <td>GO:BP</td>\n",
              "      <td>GO:0031062</td>\n",
              "      <td>positive regulation of histone methylation</td>\n",
              "      <td>0.000086</td>\n",
              "      <td>True</td>\n",
              "      <td>\"Any process that activates or increases the f...</td>\n",
              "      <td>5</td>\n",
              "      <td>84</td>\n",
              "      <td>4</td>\n",
              "      <td>6540</td>\n",
              "      <td>0.047619</td>\n",
              "      <td>0.800000</td>\n",
              "      <td>query_1</td>\n",
              "      <td>[GO:0016571, GO:0031058, GO:0031060]</td>\n",
              "    </tr>\n",
              "    <tr>\n",
              "      <th>8</th>\n",
              "      <td>GO:CC</td>\n",
              "      <td>GO:0032545</td>\n",
              "      <td>CURI complex</td>\n",
              "      <td>0.000165</td>\n",
              "      <td>True</td>\n",
              "      <td>\"A protein complex that is involved in the tra...</td>\n",
              "      <td>7</td>\n",
              "      <td>84</td>\n",
              "      <td>4</td>\n",
              "      <td>6567</td>\n",
              "      <td>0.047619</td>\n",
              "      <td>0.571429</td>\n",
              "      <td>query_1</td>\n",
              "      <td>[GO:0140513]</td>\n",
              "    </tr>\n",
              "    <tr>\n",
              "      <th>9</th>\n",
              "      <td>GO:BP</td>\n",
              "      <td>GO:0070816</td>\n",
              "      <td>phosphorylation of RNA polymerase II C-termina...</td>\n",
              "      <td>0.000374</td>\n",
              "      <td>True</td>\n",
              "      <td>\"The process of introducing a phosphate group ...</td>\n",
              "      <td>25</td>\n",
              "      <td>84</td>\n",
              "      <td>6</td>\n",
              "      <td>6540</td>\n",
              "      <td>0.071429</td>\n",
              "      <td>0.240000</td>\n",
              "      <td>query_1</td>\n",
              "      <td>[GO:0006357, GO:0006468]</td>\n",
              "    </tr>\n",
              "    <tr>\n",
              "      <th>10</th>\n",
              "      <td>GO:BP</td>\n",
              "      <td>GO:0031056</td>\n",
              "      <td>regulation of histone modification</td>\n",
              "      <td>0.000481</td>\n",
              "      <td>True</td>\n",
              "      <td>\"Any process that modulates the frequency, rat...</td>\n",
              "      <td>26</td>\n",
              "      <td>84</td>\n",
              "      <td>6</td>\n",
              "      <td>6540</td>\n",
              "      <td>0.071429</td>\n",
              "      <td>0.230769</td>\n",
              "      <td>query_1</td>\n",
              "      <td>[GO:0016570, GO:0031399]</td>\n",
              "    </tr>\n",
              "    <tr>\n",
              "      <th>11</th>\n",
              "      <td>GO:MF</td>\n",
              "      <td>GO:0005488</td>\n",
              "      <td>binding</td>\n",
              "      <td>0.000497</td>\n",
              "      <td>True</td>\n",
              "      <td>\"The selective, non-covalent, often stoichiome...</td>\n",
              "      <td>3785</td>\n",
              "      <td>84</td>\n",
              "      <td>69</td>\n",
              "      <td>6549</td>\n",
              "      <td>0.821429</td>\n",
              "      <td>0.018230</td>\n",
              "      <td>query_1</td>\n",
              "      <td>[GO:0003674]</td>\n",
              "    </tr>\n",
              "    <tr>\n",
              "      <th>12</th>\n",
              "      <td>GO:BP</td>\n",
              "      <td>GO:0033182</td>\n",
              "      <td>regulation of histone ubiquitination</td>\n",
              "      <td>0.000590</td>\n",
              "      <td>True</td>\n",
              "      <td>\"Any process that modulates the frequency, rat...</td>\n",
              "      <td>7</td>\n",
              "      <td>84</td>\n",
              "      <td>4</td>\n",
              "      <td>6540</td>\n",
              "      <td>0.047619</td>\n",
              "      <td>0.571429</td>\n",
              "      <td>query_1</td>\n",
              "      <td>[GO:0016574, GO:0031056, GO:0031396]</td>\n",
              "    </tr>\n",
              "    <tr>\n",
              "      <th>13</th>\n",
              "      <td>GO:BP</td>\n",
              "      <td>GO:0071894</td>\n",
              "      <td>histone H2B conserved C-terminal lysine ubiqui...</td>\n",
              "      <td>0.000590</td>\n",
              "      <td>True</td>\n",
              "      <td>\"A histone ubiquitination process in which a u...</td>\n",
              "      <td>7</td>\n",
              "      <td>84</td>\n",
              "      <td>4</td>\n",
              "      <td>6540</td>\n",
              "      <td>0.047619</td>\n",
              "      <td>0.571429</td>\n",
              "      <td>query_1</td>\n",
              "      <td>[GO:0033523]</td>\n",
              "    </tr>\n",
              "    <tr>\n",
              "      <th>14</th>\n",
              "      <td>GO:BP</td>\n",
              "      <td>GO:0006356</td>\n",
              "      <td>regulation of transcription by RNA polymerase I</td>\n",
              "      <td>0.000938</td>\n",
              "      <td>True</td>\n",
              "      <td>\"Any process that modulates the frequency, rat...</td>\n",
              "      <td>45</td>\n",
              "      <td>84</td>\n",
              "      <td>7</td>\n",
              "      <td>6540</td>\n",
              "      <td>0.083333</td>\n",
              "      <td>0.155556</td>\n",
              "      <td>query_1</td>\n",
              "      <td>[GO:0006355, GO:0006360]</td>\n",
              "    </tr>\n",
              "    <tr>\n",
              "      <th>15</th>\n",
              "      <td>GO:BP</td>\n",
              "      <td>GO:0016574</td>\n",
              "      <td>histone ubiquitination</td>\n",
              "      <td>0.001164</td>\n",
              "      <td>True</td>\n",
              "      <td>\"The modification of histones by addition of u...</td>\n",
              "      <td>17</td>\n",
              "      <td>84</td>\n",
              "      <td>5</td>\n",
              "      <td>6540</td>\n",
              "      <td>0.059524</td>\n",
              "      <td>0.294118</td>\n",
              "      <td>query_1</td>\n",
              "      <td>[GO:0016567, GO:0016570]</td>\n",
              "    </tr>\n",
              "    <tr>\n",
              "      <th>16</th>\n",
              "      <td>GO:BP</td>\n",
              "      <td>GO:0033523</td>\n",
              "      <td>histone H2B ubiquitination</td>\n",
              "      <td>0.003435</td>\n",
              "      <td>True</td>\n",
              "      <td>\"The modification of histone H2B by addition o...</td>\n",
              "      <td>10</td>\n",
              "      <td>84</td>\n",
              "      <td>4</td>\n",
              "      <td>6540</td>\n",
              "      <td>0.047619</td>\n",
              "      <td>0.400000</td>\n",
              "      <td>query_1</td>\n",
              "      <td>[GO:0016574]</td>\n",
              "    </tr>\n",
              "    <tr>\n",
              "      <th>17</th>\n",
              "      <td>GO:MF</td>\n",
              "      <td>GO:0005515</td>\n",
              "      <td>protein binding</td>\n",
              "      <td>0.003780</td>\n",
              "      <td>True</td>\n",
              "      <td>\"Binding to a protein.\" [GOC:go_curators]</td>\n",
              "      <td>2608</td>\n",
              "      <td>84</td>\n",
              "      <td>53</td>\n",
              "      <td>6549</td>\n",
              "      <td>0.630952</td>\n",
              "      <td>0.020322</td>\n",
              "      <td>query_1</td>\n",
              "      <td>[GO:0005488]</td>\n",
              "    </tr>\n",
              "    <tr>\n",
              "      <th>18</th>\n",
              "      <td>GO:BP</td>\n",
              "      <td>GO:0006360</td>\n",
              "      <td>transcription by RNA polymerase I</td>\n",
              "      <td>0.004091</td>\n",
              "      <td>True</td>\n",
              "      <td>\"The synthesis of RNA from a DNA template by R...</td>\n",
              "      <td>78</td>\n",
              "      <td>84</td>\n",
              "      <td>8</td>\n",
              "      <td>6540</td>\n",
              "      <td>0.095238</td>\n",
              "      <td>0.102564</td>\n",
              "      <td>query_1</td>\n",
              "      <td>[GO:0006351]</td>\n",
              "    </tr>\n",
              "    <tr>\n",
              "      <th>19</th>\n",
              "      <td>GO:BP</td>\n",
              "      <td>GO:2001163</td>\n",
              "      <td>regulation of phosphorylation of RNA polymeras...</td>\n",
              "      <td>0.005550</td>\n",
              "      <td>True</td>\n",
              "      <td>\"Any process that modulates the frequency, rat...</td>\n",
              "      <td>4</td>\n",
              "      <td>84</td>\n",
              "      <td>3</td>\n",
              "      <td>6540</td>\n",
              "      <td>0.035714</td>\n",
              "      <td>0.750000</td>\n",
              "      <td>query_1</td>\n",
              "      <td>[GO:0071619, GO:1901407]</td>\n",
              "    </tr>\n",
              "    <tr>\n",
              "      <th>20</th>\n",
              "      <td>GO:BP</td>\n",
              "      <td>GO:2001165</td>\n",
              "      <td>positive regulation of phosphorylation of RNA ...</td>\n",
              "      <td>0.005550</td>\n",
              "      <td>True</td>\n",
              "      <td>\"Any process that activates or increases the f...</td>\n",
              "      <td>4</td>\n",
              "      <td>84</td>\n",
              "      <td>3</td>\n",
              "      <td>6540</td>\n",
              "      <td>0.035714</td>\n",
              "      <td>0.750000</td>\n",
              "      <td>query_1</td>\n",
              "      <td>[GO:0071619, GO:1901409, GO:2001163]</td>\n",
              "    </tr>\n",
              "    <tr>\n",
              "      <th>21</th>\n",
              "      <td>GO:MF</td>\n",
              "      <td>GO:0099122</td>\n",
              "      <td>RNA polymerase II C-terminal domain binding</td>\n",
              "      <td>0.006131</td>\n",
              "      <td>True</td>\n",
              "      <td>\"Binding to the C-terminal domain (CTD) of the...</td>\n",
              "      <td>5</td>\n",
              "      <td>84</td>\n",
              "      <td>3</td>\n",
              "      <td>6549</td>\n",
              "      <td>0.035714</td>\n",
              "      <td>0.600000</td>\n",
              "      <td>query_1</td>\n",
              "      <td>[GO:0000993]</td>\n",
              "    </tr>\n",
              "    <tr>\n",
              "      <th>22</th>\n",
              "      <td>GO:MF</td>\n",
              "      <td>GO:1990269</td>\n",
              "      <td>RNA polymerase II C-terminal domain phosphoser...</td>\n",
              "      <td>0.006131</td>\n",
              "      <td>True</td>\n",
              "      <td>\"Binding to phosphorylated serine residues in ...</td>\n",
              "      <td>5</td>\n",
              "      <td>84</td>\n",
              "      <td>3</td>\n",
              "      <td>6549</td>\n",
              "      <td>0.035714</td>\n",
              "      <td>0.600000</td>\n",
              "      <td>query_1</td>\n",
              "      <td>[GO:0050815, GO:0099122]</td>\n",
              "    </tr>\n",
              "    <tr>\n",
              "      <th>23</th>\n",
              "      <td>GO:CC</td>\n",
              "      <td>GO:0048500</td>\n",
              "      <td>signal recognition particle</td>\n",
              "      <td>0.007642</td>\n",
              "      <td>True</td>\n",
              "      <td>\"A complex of protein and RNA which facilitate...</td>\n",
              "      <td>6</td>\n",
              "      <td>84</td>\n",
              "      <td>3</td>\n",
              "      <td>6567</td>\n",
              "      <td>0.035714</td>\n",
              "      <td>0.500000</td>\n",
              "      <td>query_1</td>\n",
              "      <td>[GO:0005737, GO:1990904]</td>\n",
              "    </tr>\n",
              "    <tr>\n",
              "      <th>24</th>\n",
              "      <td>GO:CC</td>\n",
              "      <td>GO:0005786</td>\n",
              "      <td>signal recognition particle, endoplasmic retic...</td>\n",
              "      <td>0.007642</td>\n",
              "      <td>True</td>\n",
              "      <td>\"A ribonucleoprotein particle of 325 kDa compo...</td>\n",
              "      <td>6</td>\n",
              "      <td>84</td>\n",
              "      <td>3</td>\n",
              "      <td>6567</td>\n",
              "      <td>0.035714</td>\n",
              "      <td>0.500000</td>\n",
              "      <td>query_1</td>\n",
              "      <td>[GO:0048500]</td>\n",
              "    </tr>\n",
              "    <tr>\n",
              "      <th>25</th>\n",
              "      <td>GO:BP</td>\n",
              "      <td>GO:0032259</td>\n",
              "      <td>methylation</td>\n",
              "      <td>0.011206</td>\n",
              "      <td>True</td>\n",
              "      <td>\"The process in which a methyl group is covale...</td>\n",
              "      <td>180</td>\n",
              "      <td>84</td>\n",
              "      <td>11</td>\n",
              "      <td>6540</td>\n",
              "      <td>0.130952</td>\n",
              "      <td>0.061111</td>\n",
              "      <td>query_1</td>\n",
              "      <td>[GO:0008152]</td>\n",
              "    </tr>\n",
              "    <tr>\n",
              "      <th>26</th>\n",
              "      <td>GO:BP</td>\n",
              "      <td>GO:2001173</td>\n",
              "      <td>regulation of histone H2B conserved C-terminal...</td>\n",
              "      <td>0.013746</td>\n",
              "      <td>True</td>\n",
              "      <td>\"Any process that modulates the frequency, rat...</td>\n",
              "      <td>5</td>\n",
              "      <td>84</td>\n",
              "      <td>3</td>\n",
              "      <td>6540</td>\n",
              "      <td>0.035714</td>\n",
              "      <td>0.600000</td>\n",
              "      <td>query_1</td>\n",
              "      <td>[GO:0071894, GO:2001166]</td>\n",
              "    </tr>\n",
              "    <tr>\n",
              "      <th>27</th>\n",
              "      <td>GO:BP</td>\n",
              "      <td>GO:0071619</td>\n",
              "      <td>phosphorylation of RNA polymerase II C-termina...</td>\n",
              "      <td>0.013746</td>\n",
              "      <td>True</td>\n",
              "      <td>\"The process of introducing a phosphate group ...</td>\n",
              "      <td>5</td>\n",
              "      <td>84</td>\n",
              "      <td>3</td>\n",
              "      <td>6540</td>\n",
              "      <td>0.035714</td>\n",
              "      <td>0.600000</td>\n",
              "      <td>query_1</td>\n",
              "      <td>[GO:0070816]</td>\n",
              "    </tr>\n",
              "    <tr>\n",
              "      <th>28</th>\n",
              "      <td>GO:BP</td>\n",
              "      <td>GO:0034968</td>\n",
              "      <td>histone lysine methylation</td>\n",
              "      <td>0.016546</td>\n",
              "      <td>True</td>\n",
              "      <td>\"The modification of a histone by addition of ...</td>\n",
              "      <td>28</td>\n",
              "      <td>84</td>\n",
              "      <td>5</td>\n",
              "      <td>6540</td>\n",
              "      <td>0.059524</td>\n",
              "      <td>0.178571</td>\n",
              "      <td>query_1</td>\n",
              "      <td>[GO:0016571, GO:0018022]</td>\n",
              "    </tr>\n",
              "    <tr>\n",
              "      <th>29</th>\n",
              "      <td>GO:CC</td>\n",
              "      <td>GO:0016593</td>\n",
              "      <td>Cdc73/Paf1 complex</td>\n",
              "      <td>0.021005</td>\n",
              "      <td>True</td>\n",
              "      <td>\"A multiprotein complex that associates with R...</td>\n",
              "      <td>8</td>\n",
              "      <td>84</td>\n",
              "      <td>3</td>\n",
              "      <td>6567</td>\n",
              "      <td>0.035714</td>\n",
              "      <td>0.375000</td>\n",
              "      <td>query_1</td>\n",
              "      <td>[GO:0008023, GO:0016591]</td>\n",
              "    </tr>\n",
              "    <tr>\n",
              "      <th>30</th>\n",
              "      <td>GO:BP</td>\n",
              "      <td>GO:0043414</td>\n",
              "      <td>macromolecule methylation</td>\n",
              "      <td>0.023100</td>\n",
              "      <td>True</td>\n",
              "      <td>\"The covalent attachment of a methyl residue t...</td>\n",
              "      <td>160</td>\n",
              "      <td>84</td>\n",
              "      <td>10</td>\n",
              "      <td>6540</td>\n",
              "      <td>0.119048</td>\n",
              "      <td>0.062500</td>\n",
              "      <td>query_1</td>\n",
              "      <td>[GO:0032259, GO:0043412, GO:0044260]</td>\n",
              "    </tr>\n",
              "    <tr>\n",
              "      <th>31</th>\n",
              "      <td>GO:BP</td>\n",
              "      <td>GO:2001166</td>\n",
              "      <td>regulation of histone H2B ubiquitination</td>\n",
              "      <td>0.027237</td>\n",
              "      <td>True</td>\n",
              "      <td>\"Any process that modulates the frequency, rat...</td>\n",
              "      <td>6</td>\n",
              "      <td>84</td>\n",
              "      <td>3</td>\n",
              "      <td>6540</td>\n",
              "      <td>0.035714</td>\n",
              "      <td>0.500000</td>\n",
              "      <td>query_1</td>\n",
              "      <td>[GO:0033182, GO:0033523]</td>\n",
              "    </tr>\n",
              "    <tr>\n",
              "      <th>32</th>\n",
              "      <td>GO:CC</td>\n",
              "      <td>GO:0019908</td>\n",
              "      <td>nuclear cyclin-dependent protein kinase holoen...</td>\n",
              "      <td>0.031217</td>\n",
              "      <td>True</td>\n",
              "      <td>\"Cyclin-dependent protein kinase (CDK) complex...</td>\n",
              "      <td>9</td>\n",
              "      <td>84</td>\n",
              "      <td>3</td>\n",
              "      <td>6567</td>\n",
              "      <td>0.035714</td>\n",
              "      <td>0.333333</td>\n",
              "      <td>query_1</td>\n",
              "      <td>[GO:0000307, GO:0140513]</td>\n",
              "    </tr>\n",
              "    <tr>\n",
              "      <th>33</th>\n",
              "      <td>GO:CC</td>\n",
              "      <td>GO:0035101</td>\n",
              "      <td>FACT complex</td>\n",
              "      <td>0.031458</td>\n",
              "      <td>True</td>\n",
              "      <td>\"A histone chaperone complex that facilitates ...</td>\n",
              "      <td>2</td>\n",
              "      <td>84</td>\n",
              "      <td>2</td>\n",
              "      <td>6567</td>\n",
              "      <td>0.023810</td>\n",
              "      <td>1.000000</td>\n",
              "      <td>query_1</td>\n",
              "      <td>[GO:0000785, GO:0008023]</td>\n",
              "    </tr>\n",
              "    <tr>\n",
              "      <th>34</th>\n",
              "      <td>GO:BP</td>\n",
              "      <td>GO:0016571</td>\n",
              "      <td>histone methylation</td>\n",
              "      <td>0.032562</td>\n",
              "      <td>True</td>\n",
              "      <td>\"The modification of histones by addition of m...</td>\n",
              "      <td>32</td>\n",
              "      <td>84</td>\n",
              "      <td>5</td>\n",
              "      <td>6540</td>\n",
              "      <td>0.059524</td>\n",
              "      <td>0.156250</td>\n",
              "      <td>query_1</td>\n",
              "      <td>[GO:0006479, GO:0016570]</td>\n",
              "    </tr>\n",
              "    <tr>\n",
              "      <th>35</th>\n",
              "      <td>GO:MF</td>\n",
              "      <td>GO:0050815</td>\n",
              "      <td>phosphoserine residue binding</td>\n",
              "      <td>0.033388</td>\n",
              "      <td>True</td>\n",
              "      <td>\"Binding to a phosphorylated serine residue wi...</td>\n",
              "      <td>8</td>\n",
              "      <td>84</td>\n",
              "      <td>3</td>\n",
              "      <td>6549</td>\n",
              "      <td>0.035714</td>\n",
              "      <td>0.375000</td>\n",
              "      <td>query_1</td>\n",
              "      <td>[GO:0045309]</td>\n",
              "    </tr>\n",
              "    <tr>\n",
              "      <th>36</th>\n",
              "      <td>GO:MF</td>\n",
              "      <td>GO:0045309</td>\n",
              "      <td>protein phosphorylated amino acid binding</td>\n",
              "      <td>0.033388</td>\n",
              "      <td>True</td>\n",
              "      <td>\"Binding to a phosphorylated amino acid residu...</td>\n",
              "      <td>8</td>\n",
              "      <td>84</td>\n",
              "      <td>3</td>\n",
              "      <td>6549</td>\n",
              "      <td>0.035714</td>\n",
              "      <td>0.375000</td>\n",
              "      <td>query_1</td>\n",
              "      <td>[GO:0051219]</td>\n",
              "    </tr>\n",
              "    <tr>\n",
              "      <th>37</th>\n",
              "      <td>GO:BP</td>\n",
              "      <td>GO:0006616</td>\n",
              "      <td>SRP-dependent cotranslational protein targetin...</td>\n",
              "      <td>0.036350</td>\n",
              "      <td>True</td>\n",
              "      <td>\"The process during cotranslational membrane t...</td>\n",
              "      <td>17</td>\n",
              "      <td>84</td>\n",
              "      <td>4</td>\n",
              "      <td>6540</td>\n",
              "      <td>0.047619</td>\n",
              "      <td>0.235294</td>\n",
              "      <td>query_1</td>\n",
              "      <td>[GO:0006614, GO:0065002]</td>\n",
              "    </tr>\n",
              "    <tr>\n",
              "      <th>38</th>\n",
              "      <td>GO:BP</td>\n",
              "      <td>GO:0006283</td>\n",
              "      <td>transcription-coupled nucleotide-excision repair</td>\n",
              "      <td>0.046280</td>\n",
              "      <td>True</td>\n",
              "      <td>\"The nucleotide-excision repair process that c...</td>\n",
              "      <td>18</td>\n",
              "      <td>84</td>\n",
              "      <td>4</td>\n",
              "      <td>6540</td>\n",
              "      <td>0.047619</td>\n",
              "      <td>0.222222</td>\n",
              "      <td>query_1</td>\n",
              "      <td>[GO:0006289]</td>\n",
              "    </tr>\n",
              "    <tr>\n",
              "      <th>39</th>\n",
              "      <td>GO:BP</td>\n",
              "      <td>GO:0031058</td>\n",
              "      <td>positive regulation of histone modification</td>\n",
              "      <td>0.046280</td>\n",
              "      <td>True</td>\n",
              "      <td>\"Any process that activates or increases the f...</td>\n",
              "      <td>18</td>\n",
              "      <td>84</td>\n",
              "      <td>4</td>\n",
              "      <td>6540</td>\n",
              "      <td>0.047619</td>\n",
              "      <td>0.222222</td>\n",
              "      <td>query_1</td>\n",
              "      <td>[GO:0016570, GO:0031056, GO:0031401]</td>\n",
              "    </tr>\n",
              "    <tr>\n",
              "      <th>40</th>\n",
              "      <td>GO:BP</td>\n",
              "      <td>GO:0090262</td>\n",
              "      <td>regulation of transcription-coupled nucleotide...</td>\n",
              "      <td>0.047222</td>\n",
              "      <td>True</td>\n",
              "      <td>\"Any process that modulates the frequency, rat...</td>\n",
              "      <td>7</td>\n",
              "      <td>84</td>\n",
              "      <td>3</td>\n",
              "      <td>6540</td>\n",
              "      <td>0.035714</td>\n",
              "      <td>0.428571</td>\n",
              "      <td>query_1</td>\n",
              "      <td>[GO:0006283, GO:2000819]</td>\n",
              "    </tr>\n",
              "    <tr>\n",
              "      <th>41</th>\n",
              "      <td>GO:MF</td>\n",
              "      <td>GO:0001089</td>\n",
              "      <td>obsolete transcription factor activity, TFIIF-...</td>\n",
              "      <td>0.049872</td>\n",
              "      <td>True</td>\n",
              "      <td>\"OBSOLETE. Binding to a basal RNA polymerase I...</td>\n",
              "      <td>2</td>\n",
              "      <td>84</td>\n",
              "      <td>2</td>\n",
              "      <td>6549</td>\n",
              "      <td>0.023810</td>\n",
              "      <td>1.000000</td>\n",
              "      <td>query_1</td>\n",
              "      <td>[]</td>\n",
              "    </tr>\n",
              "  </tbody>\n",
              "</table>\n",
              "</div>\n",
              "      <button class=\"colab-df-convert\" onclick=\"convertToInteractive('df-50b33319-17de-4611-a694-68222029a8d9')\"\n",
              "              title=\"Convert this dataframe to an interactive table.\"\n",
              "              style=\"display:none;\">\n",
              "        \n",
              "  <svg xmlns=\"http://www.w3.org/2000/svg\" height=\"24px\"viewBox=\"0 0 24 24\"\n",
              "       width=\"24px\">\n",
              "    <path d=\"M0 0h24v24H0V0z\" fill=\"none\"/>\n",
              "    <path d=\"M18.56 5.44l.94 2.06.94-2.06 2.06-.94-2.06-.94-.94-2.06-.94 2.06-2.06.94zm-11 1L8.5 8.5l.94-2.06 2.06-.94-2.06-.94L8.5 2.5l-.94 2.06-2.06.94zm10 10l.94 2.06.94-2.06 2.06-.94-2.06-.94-.94-2.06-.94 2.06-2.06.94z\"/><path d=\"M17.41 7.96l-1.37-1.37c-.4-.4-.92-.59-1.43-.59-.52 0-1.04.2-1.43.59L10.3 9.45l-7.72 7.72c-.78.78-.78 2.05 0 2.83L4 21.41c.39.39.9.59 1.41.59.51 0 1.02-.2 1.41-.59l7.78-7.78 2.81-2.81c.8-.78.8-2.07 0-2.86zM5.41 20L4 18.59l7.72-7.72 1.47 1.35L5.41 20z\"/>\n",
              "  </svg>\n",
              "      </button>\n",
              "      \n",
              "  <style>\n",
              "    .colab-df-container {\n",
              "      display:flex;\n",
              "      flex-wrap:wrap;\n",
              "      gap: 12px;\n",
              "    }\n",
              "\n",
              "    .colab-df-convert {\n",
              "      background-color: #E8F0FE;\n",
              "      border: none;\n",
              "      border-radius: 50%;\n",
              "      cursor: pointer;\n",
              "      display: none;\n",
              "      fill: #1967D2;\n",
              "      height: 32px;\n",
              "      padding: 0 0 0 0;\n",
              "      width: 32px;\n",
              "    }\n",
              "\n",
              "    .colab-df-convert:hover {\n",
              "      background-color: #E2EBFA;\n",
              "      box-shadow: 0px 1px 2px rgba(60, 64, 67, 0.3), 0px 1px 3px 1px rgba(60, 64, 67, 0.15);\n",
              "      fill: #174EA6;\n",
              "    }\n",
              "\n",
              "    [theme=dark] .colab-df-convert {\n",
              "      background-color: #3B4455;\n",
              "      fill: #D2E3FC;\n",
              "    }\n",
              "\n",
              "    [theme=dark] .colab-df-convert:hover {\n",
              "      background-color: #434B5C;\n",
              "      box-shadow: 0px 1px 3px 1px rgba(0, 0, 0, 0.15);\n",
              "      filter: drop-shadow(0px 1px 2px rgba(0, 0, 0, 0.3));\n",
              "      fill: #FFFFFF;\n",
              "    }\n",
              "  </style>\n",
              "\n",
              "      <script>\n",
              "        const buttonEl =\n",
              "          document.querySelector('#df-50b33319-17de-4611-a694-68222029a8d9 button.colab-df-convert');\n",
              "        buttonEl.style.display =\n",
              "          google.colab.kernel.accessAllowed ? 'block' : 'none';\n",
              "\n",
              "        async function convertToInteractive(key) {\n",
              "          const element = document.querySelector('#df-50b33319-17de-4611-a694-68222029a8d9');\n",
              "          const dataTable =\n",
              "            await google.colab.kernel.invokeFunction('convertToInteractive',\n",
              "                                                     [key], {});\n",
              "          if (!dataTable) return;\n",
              "\n",
              "          const docLinkHtml = 'Like what you see? Visit the ' +\n",
              "            '<a target=\"_blank\" href=https://colab.research.google.com/notebooks/data_table.ipynb>data table notebook</a>'\n",
              "            + ' to learn more about interactive tables.';\n",
              "          element.innerHTML = '';\n",
              "          dataTable['output_type'] = 'display_data';\n",
              "          await google.colab.output.renderOutput(dataTable, element);\n",
              "          const docLink = document.createElement('div');\n",
              "          docLink.innerHTML = docLinkHtml;\n",
              "          element.appendChild(docLink);\n",
              "        }\n",
              "      </script>\n",
              "    </div>\n",
              "  </div>\n",
              "  "
            ]
          },
          "metadata": {},
          "execution_count": 16
        }
      ]
    }
  ]
}