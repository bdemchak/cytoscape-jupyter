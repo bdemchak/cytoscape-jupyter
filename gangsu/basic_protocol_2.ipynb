{
  "nbformat": 4,
  "nbformat_minor": 0,
  "metadata": {
    "colab": {
      "name": "basic protocol 2.ipynb",
      "provenance": [],
      "collapsed_sections": [],
      "include_colab_link": true
    },
    "kernelspec": {
      "name": "python3",
      "display_name": "Python 3"
    }
  },
  "cells": [
    {
      "cell_type": "markdown",
      "metadata": {
        "id": "view-in-github",
        "colab_type": "text"
      },
      "source": [
        "<a href=\"https://colab.research.google.com/github/bdemchak/cytoscape-jupyter/blob/main/gangsu/basic_protocol_2.ipynb\" target=\"_parent\"><img src=\"https://colab.research.google.com/assets/colab-badge.svg\" alt=\"Open In Colab\"/></a>"
      ]
    },
    {
      "cell_type": "markdown",
      "metadata": {
        "id": "khjUrLor-5w_"
      },
      "source": [
        "This is a reproduction of the [Biological Network Exploration with Cytoscape 3](https://pubmed.ncbi.nlm.nih.gov/25199793/) Basic Protocol 2, which imports data from the Goh/Barabasi human disease network and displays it for exploration.\n",
        "\n",
        "Note that this workflow executes in a Jupyter Notebook that is running on the same workstation as Cytoscape. See [here](https://github.com/bdemchak/cytoscape-jupyter/tree/main/gangsu) for a version of this workflow that executes on a cloud server (e.g., Google Colab).\n"
      ]
    },
    {
      "cell_type": "markdown",
      "metadata": {
        "id": "EynlCq2w336-"
      },
      "source": [
        "---\n",
        "#Setup data files, py4cytoscape and Cytoscape connection\n",
        "---\n",
        "**NOTE: To run this notebook, you must manually start Cytoscape first -- don't proceed until you have started Cytoscape.**\n",
        "\n",
        "\n",
        "This workflow requires five files that are located in cloud storage:\n",
        "\n",
        "* disease.net.txt (network file)\n",
        "* gene.net.txt (network file)\n",
        "* supplementary_tablesS2.txt (annotation file)\n",
        "* supplementary_tablesS3.txt (annotation file)\n",
        "* supplementary_tablesS4.txt (network file)\n",
        "\n",
        "All files reside in a Github folder, and they are downloaded by this workflow as needed. \n",
        "\n",
        "They were originally available from Barabasi Lab, but have since disappeared.\n"
      ]
    },
    {
      "cell_type": "markdown",
      "metadata": {
        "id": "wJ9RYWAF4wF6"
      },
      "source": [
        "## Setup: Fetch latest py4cytoscape\n",
        "\n",
        "\n"
      ]
    },
    {
      "cell_type": "markdown",
      "metadata": {
        "id": "9RVNEFryzJR3"
      },
      "source": [
        "**Note that you can fetch from the latest Github unreleased version by setting _PY4CYTOSCAPE to 'git+https://github.com/cytoscape/py4cytoscape' immediately before the exec() call. To fetch a particular branch, add '@' to the end (e.g., 'git+https://github.com/cytoscape/py4cytoscape@0.0.11').**\n",
        "\n",
        "To load the default (PyPI) py4cytoscape version, do not set _PY4CYTOSCAPE at all."
      ]
    },
    {
      "cell_type": "code",
      "metadata": {
        "id": "pW3Jhe2PMD9z",
        "colab": {
          "base_uri": "https://localhost:8080/",
          "height": 679
        },
        "outputId": "ea30661c-13db-4cbe-8078-e0eb2465238d"
      },
      "source": [
        "_PY4CYTOSCAPE = 'git+https://github.com/cytoscape/py4cytoscape@1.3.0' # optional\n",
        "import requests\n",
        "\n",
        "exec(requests.get(\"https://raw.githubusercontent.com/cytoscape/jupyter-bridge/master/client/p4c_init.py\").text)\n",
        "\n",
        "IPython.display.Javascript(_PY4CYTOSCAPE_BROWSER_CLIENT_JS) # Start browser client"
      ],
      "execution_count": 1,
      "outputs": [
        {
          "output_type": "stream",
          "name": "stdout",
          "text": [
            "Collecting git+https://github.com/cytoscape/py4cytoscape@1.3.0\n",
            "  Cloning https://github.com/cytoscape/py4cytoscape (to revision 1.3.0) to /tmp/pip-req-build-o1bgyvby\n"
          ]
        },
        {
          "output_type": "stream",
          "name": "stderr",
          "text": [
            "  Running command git clone -q https://github.com/cytoscape/py4cytoscape /tmp/pip-req-build-o1bgyvby\n",
            "  Running command git checkout -b 1.3.0 --track origin/1.3.0\n",
            "  Switched to a new branch '1.3.0'\n",
            "  Branch '1.3.0' set up to track remote branch '1.3.0' from 'origin'.\n"
          ]
        },
        {
          "output_type": "stream",
          "name": "stdout",
          "text": [
            "Requirement already satisfied: pandas in /usr/local/lib/python3.7/dist-packages (from py4cytoscape==1.3.0) (1.3.5)\n",
            "Requirement already satisfied: networkx in /usr/local/lib/python3.7/dist-packages (from py4cytoscape==1.3.0) (2.6.3)\n",
            "Requirement already satisfied: requests in /usr/local/lib/python3.7/dist-packages (from py4cytoscape==1.3.0) (2.23.0)\n",
            "Collecting python-igraph\n",
            "  Downloading python_igraph-0.9.10-py3-none-any.whl (9.1 kB)\n",
            "Collecting colorbrewer\n",
            "  Downloading colorbrewer-0.2.0-py3-none-any.whl (9.4 kB)\n",
            "Requirement already satisfied: chardet in /usr/local/lib/python3.7/dist-packages (from py4cytoscape==1.3.0) (3.0.4)\n",
            "Requirement already satisfied: decorator in /usr/local/lib/python3.7/dist-packages (from py4cytoscape==1.3.0) (4.4.2)\n",
            "Requirement already satisfied: six in /usr/local/lib/python3.7/dist-packages (from colorbrewer->py4cytoscape==1.3.0) (1.15.0)\n",
            "Requirement already satisfied: numpy>=1.17.3 in /usr/local/lib/python3.7/dist-packages (from pandas->py4cytoscape==1.3.0) (1.21.6)\n",
            "Requirement already satisfied: python-dateutil>=2.7.3 in /usr/local/lib/python3.7/dist-packages (from pandas->py4cytoscape==1.3.0) (2.8.2)\n",
            "Requirement already satisfied: pytz>=2017.3 in /usr/local/lib/python3.7/dist-packages (from pandas->py4cytoscape==1.3.0) (2022.1)\n",
            "Collecting igraph==0.9.10\n",
            "  Downloading igraph-0.9.10-cp37-cp37m-manylinux_2_17_x86_64.manylinux2014_x86_64.whl (3.1 MB)\n",
            "Collecting texttable>=1.6.2\n",
            "  Downloading texttable-1.6.4-py2.py3-none-any.whl (10 kB)\n",
            "Requirement already satisfied: urllib3!=1.25.0,!=1.25.1,<1.26,>=1.21.1 in /usr/local/lib/python3.7/dist-packages (from requests->py4cytoscape==1.3.0) (1.24.3)\n",
            "Requirement already satisfied: certifi>=2017.4.17 in /usr/local/lib/python3.7/dist-packages (from requests->py4cytoscape==1.3.0) (2021.10.8)\n",
            "Requirement already satisfied: idna<3,>=2.5 in /usr/local/lib/python3.7/dist-packages (from requests->py4cytoscape==1.3.0) (2.10)\n",
            "Building wheels for collected packages: py4cytoscape\n",
            "  Building wheel for py4cytoscape (setup.py): started\n",
            "  Building wheel for py4cytoscape (setup.py): finished with status 'done'\n",
            "  Created wheel for py4cytoscape: filename=py4cytoscape-1.3.0-py3-none-any.whl size=169805 sha256=98a013aeab9d2cf81b78b02ab5dbf01fe8d7e65f8eb56d79045642b8e2fa2484\n",
            "  Stored in directory: /tmp/pip-ephem-wheel-cache-5txwiiup/wheels/46/a1/4b/161152c75bbf2ef7e62723ee18546980487a0d323d325e03a8\n",
            "Successfully built py4cytoscape\n",
            "Installing collected packages: texttable, igraph, python-igraph, colorbrewer, py4cytoscape\n",
            "Successfully installed colorbrewer-0.2.0 igraph-0.9.10 py4cytoscape-1.3.0 python-igraph-0.9.10 texttable-1.6.4\n",
            "NumExpr defaulting to 2 threads.\n",
            "Loading Javascript client ... b5f02089-6fcc-4197-b6f2-a96851c28329 on https://jupyter-bridge.cytoscape.org\n",
            "ADVICE: WHEN RUNNING UNDER COLAB, DO NOT RE-RUN THIS CELL WITHOUT MANUALLY EXECUTING Runtime | Factory Reset Runtime FROM THE COLAB MENU FIRST.\n"
          ]
        },
        {
          "output_type": "execute_result",
          "data": {
            "text/plain": [
              "<IPython.core.display.Javascript object>"
            ],
            "application/javascript": [
              "var Channel = \"b5f02089-6fcc-4197-b6f2-a96851c28329\"; \n",
              "\n",
              "var JupyterBridge = \"https://jupyter-bridge.cytoscape.org\"; \n",
              "\n",
              "  /*\n",
              "    These functions serve as a connector between a remote Jupyter server and Cytoscape.\n",
              "    They run in the user's browser, which also shows the Jupyter Notebook.\n",
              "\n",
              "    A remote Jupyter Notebook call to the py4cytoscape package is forwarded to the Jupyter Bridge,\n",
              "    which is a standalone server. The functions in this connector execute in the Jupyter Notebook\n",
              "    browser, which executes on the same PC as Cytoscape. So, that's 4 components: (A) remote\n",
              "    Jupyter Notebook, (B) separate Jupyter Bridge server, (C) this browser-based component, and\n",
              "    (D) Cytoscape. (A) is on a remote server, (B) is on a different remote server, and (C) and (D)\n",
              "    are on the user's PC.\n",
              "\n",
              "    (A) calls its py4cytoscape module, which forwards the request (in a JSON wrapper) to (B).\n",
              "    (C) picks up the request from (B), unpacks the request and forwards it to (D). (C) awaits a\n",
              "    reply from (D), and when it gets it, it forwards the reply (in a JSON wrapper) to (B).\n",
              "    (A)'s py4cytoscape module picks up the reply on (B) when it becomes available, unpacks it,\n",
              "    and returns it to (A).\n",
              "\n",
              "    A Jupyter Notebook can talk to only one Cytoscape (i.e., the one on the machine running the\n",
              "    Jupyter Notebook browser), and Cytoscape should be called by only one Jupyter Notebook. The\n",
              "    Jupyter Bridge differentiates between Notebook-Cytoscape conversations via a channel UUID.\n",
              "    The UUID is prepended to this browser component by py4Cytoscape, and the component is\n",
              "    started by the Jupyter Notebook. (I wish py4Cytoscape could start the component, too, but I\n",
              "    haven't figured out how to do that yet, so startup code *is* required in the Jupyter\n",
              "    Notebook.)\n",
              "\n",
              "    Note that for the case of a Jupyter server running on the same machine as Cytoscape, this\n",
              "    bridge isn't necessary because the Jupyter server's HTTP calls can easily connect to\n",
              "    Cytoscape over a localhost socket. So, the combination of Jupyter Bridge and this browser\n",
              "    component solves the problem of a Jupyter server (e.g., Google's Colab) that can't\n",
              "    connect to Cytoscape that sits behind a firewall.\n",
              "\n",
              "    The request represents an HTTP call that py4cytoscape would normally make via HTTP directly\n",
              "    to Cytoscape via localhost when both py4cytoscape and Cytoscape are running on the same machine.\n",
              " */\n",
              "\n",
              "const VERSION = '0.0.2'\n",
              "\n",
              "var showDebug; // Flag indicating whether to show Jupyter-bridge progress\n",
              "if (typeof showDebug === 'undefined') {\n",
              "    showDebug = false\n",
              "}\n",
              "if (showDebug) {\n",
              "    alert(\"Starting Jupyter-bridge browser component\")\n",
              "}\n",
              "\n",
              "//const JupyterBridge = 'http://127.0.0.1:5000' // for testing against local Jupyter-bridge\n",
              "var JupyterBridge; // URL of Jupyter-bridge server could be defined by assignment pre-pended to this file\n",
              "if (typeof JupyterBridge === 'undefined') {\n",
              "    JupyterBridge = 'https://jupyter-bridge.cytoscape.org' // for production\n",
              "}\n",
              "var Channel; // Unique constant that could be defined by assignment pre-pended to this file\n",
              "if (typeof Channel === 'undefined') { // ... but if not assigned, use a debugging value\n",
              "    Channel = 1\n",
              "}\n",
              "\n",
              "\n",
              "var httpR = new XMLHttpRequest(); // for sending reply to Jupyter-bridge\n",
              "var httpRE = new XMLHttpRequest(); // for sending backup error reply to Jupyter-bridge\n",
              "var httpC = new XMLHttpRequest(); // for sending command to Cytoscape\n",
              "var httpJ = new XMLHttpRequest(); // for fetching request from Jupyter-bridge\n",
              "\n",
              "const HTTP_OK = 200\n",
              "const HTTP_SYS_ERR = 500\n",
              "const HTTP_TIMEOUT = 408\n",
              "const HTTP_TOO_MANY = 429\n",
              "\n",
              "\n",
              " /* This function is useful if we want to rewrite the incoming URL to resolve just to our local one.\n",
              "    Doing this stops the Jupyter component from abusing this client to call out to endpoints other\n",
              "    than local Cytoscape. On the other hand, it makes it hard to detect when the Jupyter component\n",
              "    has specified a genuinely bad URL and really should get an error result. For now, we'll execute\n",
              "    the Jupyter-supplied URL and return the result, whatever it may be.\n",
              "\n",
              "const LocalCytoscape = 'http://127.0.0.1:1234'\n",
              "\n",
              "function parseURL(url) {\n",
              "    var reURLInformation = new RegExp([\n",
              "        '^(https?:)//', // protocol\n",
              "        '(([^:/?#]*)(?::([0-9]+))?)', // host (hostname and port)\n",
              "        '(/{0,1}[^?#]*)', // pathname\n",
              "        '(\\\\?[^#]*|)', // search\n",
              "        '(#.*|)$' // hash\n",
              "    ].join(''));\n",
              "    var match = url.match(reURLInformation);\n",
              "    return match && {\n",
              "        url: url,\n",
              "        protocol: match[1],\n",
              "        host: match[2],\n",
              "        hostname: match[3],\n",
              "        port: match[4],\n",
              "        pathname: match[5],\n",
              "        search: match[6],\n",
              "        hash: match[7]\n",
              "    }\n",
              "}\n",
              "*/\n",
              "\n",
              "function replyCytoscape(replyStatus, replyStatusText, replyText) {\n",
              "\n",
              "    // Clean up after Jupyter bridge accepts reply\n",
              "    httpR.onreadystatechange = function() {\n",
              "        if (httpR.readyState === 4) {\n",
              "            if (showDebug) {\n",
              "                console.log(' status from queue_reply: ' + httpR.status + ', reply: ' + httpR.responseText)\n",
              "            }\n",
              "        }\n",
              "    }\n",
              "\n",
              "    httpR.onerror = function() {\n",
              "        // Clean up after Jupyter bridge accepts backup reply\n",
              "        httpRE.onreadystatechange = function() {\n",
              "            if (httpRE.readyState === 4) {\n",
              "                if (showDebug) {\n",
              "                    console.log(' status from backup queue_reply: ' + httpRE.status + ', reply: ' + httpRE.responseText)\n",
              "                }\n",
              "            }\n",
              "        }\n",
              "\n",
              "        if (showDebug) {\n",
              "            console.log(' error from queue_reply -- could be Jupyter-Bridge server reject')\n",
              "        }\n",
              "        var errReply = {'status': HTTP_SYS_ERR, 'reason': 'Jupyter-Bridge rejected reply', 'text': 'Possibly reply is too long for Jupyter-Bridge server'}\n",
              "        httpRE.open('POST', jupyterBridgeURL, true)\n",
              "        httpRE.setRequestHeader('Content-Type', 'text/plain')\n",
              "        httpRE.send(JSON.stringify(errReply))\n",
              "    }\n",
              "\n",
              "    var reply = {'status': replyStatus, 'reason': replyStatusText, 'text': replyText}\n",
              "\n",
              "    // Send reply to Jupyter bridge\n",
              "    var jupyterBridgeURL = JupyterBridge + '/queue_reply?channel=' + Channel\n",
              "    if (showDebug) {\n",
              "        console.log('Starting queue to Jupyter bridge: ' + jupyterBridgeURL)\n",
              "    }\n",
              "    httpR.open('POST', jupyterBridgeURL, true)\n",
              "    httpR.setRequestHeader('Content-Type', 'text/plain')\n",
              "    httpR.send(JSON.stringify(reply))\n",
              "}\n",
              "\n",
              "function callCytoscape(callSpec) {\n",
              "\n",
              "    // Captures Cytoscape reply and sends it on\n",
              "    httpC.onreadystatechange = function() {\n",
              "        if (httpC.readyState === 4) {\n",
              "            if (showDebug) {\n",
              "                console.log(' status from CyREST: ' + httpC.status + ', statusText: ' + httpC.statusText + ', reply: ' + httpC.responseText)\n",
              "            }\n",
              "            // Note that httpC.status is 0 if the URL can't be reached *OR* there is a CORS violation.\n",
              "            // I wish I could tell the difference because for a CORS violation, I'd return a 404,\n",
              "            // which would roughly match what Python's native request package would return.\n",
              "            // The practical consequence is that the ultimate caller (e.g., py4cytoscape)\n",
              "            // returns different exceptions, depending on wither this module is doing the\n",
              "            // HTTP operation or the native Python requests package is. This is minor, but\n",
              "            // messes up tests that verify the exception type.\n",
              "            replyCytoscape(httpC.status, httpC.statusText, httpC.responseText)\n",
              "            waitOnJupyterBridge()\n",
              "        }\n",
              "    }\n",
              "\n",
              "//  Build up request to Cytoscape, making sure host is local.\n",
              "//    Too heavy handed: localURL = LocalCytoscape + parseURL(callSpec.url).pathname\n",
              "    var localURL = callSpec.url // Try using what was passed in ... is there a security risk??\n",
              "\n",
              "    if (showDebug) {\n",
              "        console.log('Command to CyREST: ' + callSpec.command + ' (' + localURL + ')')\n",
              "        if (callSpec.params) {\n",
              "            console.log(' params: ' + JSON.stringify(callSpec.params))\n",
              "        }\n",
              "        if (callSpec.headers) {\n",
              "            console.log(' header: ' + JSON.stringify(callSpec.headers))\n",
              "        }\n",
              "        if (callSpec.data) {\n",
              "            console.log('   data: ' + JSON.stringify(callSpec.data))\n",
              "        }\n",
              "    }\n",
              "\n",
              "    if (callSpec.command === 'webbrowser') {\n",
              "        if (window.open(callSpec.url)) {\n",
              "            replyCytoscape(HTTP_OK, 'OK', '')\n",
              "        } else {\n",
              "            replyCytoscape(HTTP_SYS_ERR, 'BAD BROWSER OPEN', '')\n",
              "        }\n",
              "        waitOnJupyterBridge()\n",
              "    } else if (callSpec.command === 'version') {\n",
              "        replyCytoscape(HTTP_OK, 'OK',\n",
              "            JSON.stringify({\"jupyterBridgeVersion\": VERSION}))\n",
              "        waitOnJupyterBridge()\n",
              "    } else {\n",
              "        var joiner = '?'\n",
              "        for (let param in callSpec.params) {\n",
              "            localURL = localURL + joiner + param + '=' + encodeURIComponent(callSpec.params[param])\n",
              "            joiner = '&'\n",
              "        }\n",
              "\n",
              "        httpC.open(callSpec.command, localURL, true)\n",
              "        for (let header in callSpec.headers) {\n",
              "            httpC.setRequestHeader(header, callSpec.headers[header])\n",
              "        }\n",
              "\n",
              "        // Send request to Cytoscape ... reply goes to onreadystatechange handler\n",
              "        httpC.send(JSON.stringify(callSpec.data))\n",
              "    }\n",
              "}\n",
              "\n",
              "function waitOnJupyterBridge() {\n",
              "\n",
              "    // Captures request from Jupyter bridge\n",
              "    httpJ.onreadystatechange = function() {\n",
              "        if (httpJ.readyState === 4) {\n",
              "            if (showDebug) {\n",
              "                console.log(' status from dequeue_request: ' + httpJ.status + ', reply: ' + httpJ.responseText)\n",
              "            }\n",
              "            try {\n",
              "                if (httpJ.status == HTTP_TOO_MANY) {\n",
              "                    // Nothing more to do ... the browser has created too many listeners,\n",
              "                    // and it's time to stop listening because the server saw a listener\n",
              "                    // listening on this channel before we got there.\n",
              "                    console.log('  shutting down because of redundant reader on channel: ' + Channel)\n",
              "                } else {\n",
              "                    if (httpJ.status === HTTP_TIMEOUT) {\n",
              "                        waitOnJupyterBridge()\n",
              "                    } else {\n",
              "                        callCytoscape(JSON.parse(httpJ.responseText))\n",
              "                    }\n",
              "                }\n",
              "            } catch(err) {\n",
              "                if (showDebug) {\n",
              "                    console.log(' exception calling Cytoscape: ' + err)\n",
              "                }\n",
              "                // Bad responseText means something bad happened that we don't understand.\n",
              "                // Go wait on another request, as there's nothing to call Cytoscape with.\n",
              "                waitOnJupyterBridge()\n",
              "            }\n",
              "        }\n",
              "    }\n",
              "\n",
              "    // Wait for request from Jupyter bridge\n",
              "    var jupyterBridgeURL = JupyterBridge + '/dequeue_request?channel=' + Channel\n",
              "    if (showDebug) {\n",
              "        console.log('Starting dequeue on Jupyter bridge: ' + jupyterBridgeURL)\n",
              "    }\n",
              "    httpJ.open('GET', jupyterBridgeURL, true)\n",
              "    httpJ.send()\n",
              "}\n",
              "\n",
              "// This kicks off a loop that ends by calling waitOnJupyterBridge again. This first call\n",
              "// ejects any dead readers before we start a read\n",
              "waitOnJupyterBridge() // Wait for message from Jupyter bridge, execute it, and return reply\n",
              "\n",
              "if (showDebug) {\n",
              "    alert(\"Jupyter-bridge browser component is started on \" + JupyterBridge + ', channel ' + Channel)\n",
              "}\n"
            ]
          },
          "metadata": {},
          "execution_count": 1
        }
      ]
    },
    {
      "cell_type": "markdown",
      "metadata": {
        "id": "sTJwg_HN3WPH"
      },
      "source": [
        "## Setup: Sanity test to verify Cytoscape connection\n",
        "By now, the connection to Cytoscape should be up and available. To verify this, try a simple operation that doesn't alter the state of Cytoscape."
      ]
    },
    {
      "cell_type": "code",
      "metadata": {
        "id": "sP5J_ey7C_t6",
        "colab": {
          "base_uri": "https://localhost:8080/"
        },
        "outputId": "db582f2b-e53f-4e4f-b238-27231821e534"
      },
      "source": [
        "p4c.cytoscape_version_info()\n"
      ],
      "execution_count": 2,
      "outputs": [
        {
          "output_type": "execute_result",
          "data": {
            "text/plain": [
              "{'apiVersion': 'v1',\n",
              " 'automationAPIVersion': '1.4.0',\n",
              " 'cytoscapeVersion': '3.9.1',\n",
              " 'jupyterBridgeVersion': '0.0.2',\n",
              " 'py4cytoscapeVersion': '1.3.0'}"
            ]
          },
          "metadata": {},
          "execution_count": 2
        }
      ]
    },
    {
      "cell_type": "markdown",
      "metadata": {
        "id": "VvaiYm7HwcsN"
      },
      "source": [
        "## Setup: Create directories for source data files and output files\n",
        "Create the 'output' directory, which will be used to store files uploaded from Cytoscape.\n",
        "\n",
        "This is a good place to prepare any other system resources that might be needed by downstream Notebook cells."
      ]
    },
    {
      "cell_type": "code",
      "metadata": {
        "id": "sTP9Tf7hb9g0",
        "colab": {
          "base_uri": "https://localhost:8080/"
        },
        "outputId": "1fe096ec-14f2-4c29-c1ee-fb41f12015d8"
      },
      "source": [
        "!rm -r Barabasi\n",
        "!mkdir Barabasi\n",
        "\n",
        "!rm -r output/\n",
        "!mkdir output\n",
        "!ls -l \n",
        "OUTPUT_DIR = 'output/'\n"
      ],
      "execution_count": 3,
      "outputs": [
        {
          "output_type": "stream",
          "name": "stdout",
          "text": [
            "rm: cannot remove 'Barabasi': No such file or directory\n",
            "rm: cannot remove 'output/': No such file or directory\n",
            "total 16\n",
            "drwxr-xr-x 2 root root 4096 May 18 19:53 Barabasi\n",
            "drwxr-xr-x 2 root root 4096 May 18 19:53 logs\n",
            "drwxr-xr-x 2 root root 4096 May 18 19:53 output\n",
            "drwxr-xr-x 1 root root 4096 May 17 13:39 sample_data\n"
          ]
        }
      ]
    },
    {
      "cell_type": "markdown",
      "metadata": {
        "id": "MgvPeSXc3iUa"
      },
      "source": [
        "## Setup: Import and position network files into Cytoscape's current sandbox\n",
        "\n"
      ]
    },
    {
      "cell_type": "markdown",
      "metadata": {
        "id": "Lh0bpmiX2tXl"
      },
      "source": [
        "The network and annotation files are in a Github folder, and this cell downloads them into the default Sandbox from where Cytoscape will access them.\n",
        "\n",
        "The files could just as well have been on any cloud resource, including Google Drive, Dropbox, Microsoft OneDrive or a private web site. Note that if a file would have been too large for GitHub,Dropbox would have been a handy alternative.\n",
        "\n",
        "An alternative would be to load the files into this Notebook's file system (or create them there) and then download those files to the Sandbox. Loading them into the Notebook file system would require the use of Notebook \"!\" commands (e.g., !wget)."
      ]
    },
    {
      "cell_type": "markdown",
      "metadata": {
        "id": "RlKSyX07FVL-"
      },
      "source": [
        "**Sandboxing is explained in https://py4cytoscape.readthedocs.io/en/latest/concepts.html#sandboxing**"
      ]
    },
    {
      "cell_type": "code",
      "metadata": {
        "id": "xWrKAv3Z-xD5",
        "colab": {
          "base_uri": "https://localhost:8080/"
        },
        "outputId": "98b4bd22-ebac-432b-fc69-0293fe1cbecd"
      },
      "source": [
        "barabasi = {}\n",
        "barabasi['disease_net_txt'] = p4c.sandbox_url_to('https://github.com/bdemchak/cytoscape-jupyter/blob/main/gangsu/Barabasi/disease.net.txt', 'disease.net.txt')\n",
        "barabasi['gene_net_txt'] = p4c.sandbox_url_to('https://github.com/bdemchak/cytoscape-jupyter/blob/main/gangsu/Barabasi/gene.net.txt', 'gene.net.txt')\n",
        "barabasi['supp_tablesS2_txt'] = p4c.sandbox_url_to('https://github.com/bdemchak/cytoscape-jupyter/blob/main/gangsu/Barabasi/supplementary_tableS2.txt', 'supplementary_tableS2.txt')\n",
        "barabasi['supp_tablesS3_txt'] = p4c.sandbox_url_to('https://github.com/bdemchak/cytoscape-jupyter/blob/main/gangsu/Barabasi/supplementary_tableS3.txt', 'supplementary_tableS3.txt')\n",
        "barabasi['supp_tablesS4_txt'] = p4c.sandbox_url_to('https://github.com/bdemchak/cytoscape-jupyter/blob/main/gangsu/Barabasi/supplementary_tableS4.txt', 'supplementary_tableS4.txt')\n",
        "for file, desc in barabasi.items():\n",
        "  print(f\"File: {file}, Bytes: {desc['fileByteCount']}, Path: {desc['filePath']}\")\n"
      ],
      "execution_count": 4,
      "outputs": [
        {
          "output_type": "stream",
          "name": "stdout",
          "text": [
            "File: disease_net_txt, Bytes: 35861, Path: C:\\Users\\CyDeveloper\\CytoscapeConfiguration\\filetransfer\\default_sandbox\\disease.net.txt\n",
            "File: gene_net_txt, Bytes: 197835, Path: C:\\Users\\CyDeveloper\\CytoscapeConfiguration\\filetransfer\\default_sandbox\\gene.net.txt\n",
            "File: supp_tablesS2_txt, Bytes: 97916, Path: C:\\Users\\CyDeveloper\\CytoscapeConfiguration\\filetransfer\\default_sandbox\\supplementary_tableS2.txt\n",
            "File: supp_tablesS3_txt, Bytes: 127626, Path: C:\\Users\\CyDeveloper\\CytoscapeConfiguration\\filetransfer\\default_sandbox\\supplementary_tableS3.txt\n",
            "File: supp_tablesS4_txt, Bytes: 557710, Path: C:\\Users\\CyDeveloper\\CytoscapeConfiguration\\filetransfer\\default_sandbox\\supplementary_tableS4.txt\n"
          ]
        }
      ]
    },
    {
      "cell_type": "markdown",
      "metadata": {
        "id": "h9cZXTLrKsUd"
      },
      "source": [
        "---\n",
        "# Explore the protein-protein interaction network"
      ]
    },
    {
      "cell_type": "markdown",
      "metadata": {
        "id": "HxnxPpnYRQmH"
      },
      "source": [
        "First, load the protein-protein network into Cytoscape."
      ]
    },
    {
      "cell_type": "markdown",
      "metadata": {
        "id": "iCbKkC2FVTLF"
      },
      "source": [
        "This could take a few minutes because of the automatic force-directed layout.\n"
      ]
    },
    {
      "cell_type": "code",
      "metadata": {
        "id": "MQiO5W_uK1K6",
        "colab": {
          "base_uri": "https://localhost:8080/"
        },
        "outputId": "0fa9366e-f0b7-4dbe-ed0d-534d6bc05eb1"
      },
      "source": [
        "p4c.close_session(False)\n",
        "p4c.import_network_from_tabular_file('supplementary_tableS4.txt', first_row_as_column_names=True, start_load_row=2, column_type_list='x,s,x,t,i')\n"
      ],
      "execution_count": 5,
      "outputs": [
        {
          "output_type": "execute_result",
          "data": {
            "text/plain": [
              "{'networks': [25977533], 'views': [26074724]}"
            ]
          },
          "metadata": {},
          "execution_count": 5
        }
      ]
    },
    {
      "cell_type": "markdown",
      "metadata": {
        "id": "uq9LTzzpIpRA"
      },
      "source": [
        "---\n",
        "## Layout and overlay information on the network"
      ]
    },
    {
      "cell_type": "markdown",
      "metadata": {
        "id": "bauOpYwxVtHl"
      },
      "source": [
        "1.   Create a different colors for the edges representing different types of interactions.\n",
        "2.   Make the nodes themselves transparent so edges are easier to see.\n",
        "3.   For fun, create an image of the resulting network and display it in this notebook.\n",
        "\n",
        "*Tip:* The `notebook_export_show_image()` function exports the current network image to a .PNG file in Cytoscape's sandbox folder (`CytoscapeConfiguration/filetransfer/default_sandbox/image.png`), then uploads it (as `image.png`) to the Notebook file system, and then displays it as Notebook output. You can change the file's name and format by specifying different parameters for this function.\n"
      ]
    },
    {
      "cell_type": "code",
      "metadata": {
        "id": "8KqK58RuA1HK",
        "colab": {
          "base_uri": "https://localhost:8080/",
          "height": 100
        },
        "outputId": "d74c6d87-1887-4ea0-d4c1-e37c44df19e4"
      },
      "source": [
        "RED = '#ff0000'\n",
        "GREEN = '#00ff00'\n",
        "TEAL = '#00ffff'\n",
        "PURPLE = '#ff00ff'\n",
        "YELLOW = '#ffff00', \n",
        "BLUE = '#0000ff'\n",
        "GREY = '#808080'\n",
        "\n",
        "map = p4c.map_visual_property('EDGE_STROKE_UNSELECTED_PAINT', 'interaction', 'discrete', \n",
        "                              ['L', 'R', 'RL', 'RS', 'RSL', 'S', 'SL'], \n",
        "                              [RED, GREEN, TEAL, PURPLE, YELLOW, BLUE, GREY])\n",
        "p4c.update_style_mapping('default', map)\n",
        "\n",
        "p4c.set_node_fill_opacity_default(100, 'default')\n",
        "p4c.toggle_graphics_details()\n",
        "\n",
        "p4c.notebook_export_show_image()\n"
      ],
      "execution_count": 6,
      "outputs": [
        {
          "output_type": "execute_result",
          "data": {
            "text/plain": [
              "<IPython.core.display.Image object>"
            ],
            "image/png": "[encoded data removed]"
          },
          "metadata": {},
          "execution_count": 6
        }
      ]
    },
    {
      "cell_type": "markdown",
      "metadata": {
        "id": "R8Jemd38QqKE"
      },
      "source": [
        "---\n",
        "## Discover local gene clusters using MCODE"
      ]
    },
    {
      "cell_type": "markdown",
      "metadata": {
        "id": "QUZrMfLPQvuC"
      },
      "source": [
        "Call MCODE to cluster genes using default settings, and then extract the second cluster into a network of its own.\n",
        "\n",
        "For fun, export the network image and show it in this notebook."
      ]
    },
    {
      "cell_type": "code",
      "metadata": {
        "id": "3LcTZRcp_AHb",
        "colab": {
          "base_uri": "https://localhost:8080/",
          "height": 117
        },
        "outputId": "fae2ce76-2ba3-4f01-b476-0dd187562f0a"
      },
      "source": [
        "p4c.install_app('MCODE')\n",
        "p4c.commands_post('mcode cluster network=\"\"')\n",
        "p4c.commands.commands_post('mcode view id=1 rank=2')\n",
        "\n",
        "p4c.notebook_export_show_image()"
      ],
      "execution_count": 7,
      "outputs": [
        {
          "output_type": "stream",
          "name": "stdout",
          "text": [
            "{}\n"
          ]
        },
        {
          "output_type": "execute_result",
          "data": {
            "text/plain": [
              "<IPython.core.display.Image object>"
            ],
            "image/png": "[encoded data removed]"
          },
          "metadata": {},
          "execution_count": 7
        }
      ]
    },
    {
      "cell_type": "markdown",
      "metadata": {
        "id": "hPmyQ2S0Sw8l"
      },
      "source": [
        "---\n",
        "# Explore the human disease network"
      ]
    },
    {
      "cell_type": "markdown",
      "metadata": {
        "id": "x5dwV97tXgwY"
      },
      "source": [
        "First, load the disease network into Cytoscape, then remove duplicate edges.\n",
        "\n",
        "Note that the network file is *not* a CSV file -- the separator between values in the file is \" \". So, the `import_network_from_tabular_file()` function contains a `delimiter=` parameter to match.\n",
        "\n",
        "Cytoscape interprets edges in the network file as directional, and many nodes in the disease file are connected by two edges -- one in and one out.\n",
        "\n",
        "For this demonstration, the directional distinction is meaningless, so we remove in-bound edges that duplicate out-bound edges."
      ]
    },
    {
      "cell_type": "code",
      "metadata": {
        "id": "f-eZRmIPS5uT",
        "colab": {
          "base_uri": "https://localhost:8080/"
        },
        "outputId": "f618a3a7-cb36-491c-d596-f29f2aaa0b14"
      },
      "source": [
        "p4c.close_session(False)\n",
        "res = p4c.import_network_from_tabular_file('disease.net.txt', first_row_as_column_names=True, start_load_row=1, column_type_list='s,t,ea', delimiters=' ')\n",
        "print(res)\n",
        "\n",
        "res = p4c.delete_duplicate_edges(ignore_direction=True)\n",
        "if 'edges' in res:\n",
        "  print(f'Edges removed: {len(res[\"edges\"])}')\n",
        "else:\n",
        "  print('No edges removed')"
      ],
      "execution_count": 8,
      "outputs": [
        {
          "output_type": "stream",
          "name": "stdout",
          "text": [
            "{'networks': [26220141], 'views': [26231945]}\n",
            "Edges removed: 1527\n"
          ]
        }
      ]
    },
    {
      "cell_type": "markdown",
      "metadata": {
        "id": "z39LjBHVdNeh"
      },
      "source": [
        "## Annotate network with S2 table values"
      ]
    },
    {
      "cell_type": "markdown",
      "metadata": {
        "id": "51837W_PdarD"
      },
      "source": [
        "Use Pandas to preprocess the S2 table values, and then load them into Cytoscape as node annotations.\n",
        "\n",
        "* Use Pandas to parse the data because we need to rename the 'name' column to 'Disease Name' to avoid conflicts with the network's existing 'name' column.\n",
        "\n",
        "* Once that is done, we can import the annotations into the node table, keyed on the 'Disease ID' column. Note that Pandas would naturally import Disease ID as an int, but we coerce it to str to be compatible with the network's 'name' column.\n",
        "\n",
        "* Load the Pandas table as annotations to Cytoscape's network.\n",
        "\n",
        "This is an example of how the workflow can pre-process data that is eventually loaded into Cytoscape.\n",
        "\n",
        "**Note:** the S2 table file was loaded into the Cytoscape sandbox (on the Cytoscape workstation) earlier in this workflow. Pandas loads files from the Notebook file system, which is different because this workflow is running on a remote server. The `sandbox_get_from()` function copies this file from the sandbox to the Notebook file system so Pandas can read it."
      ]
    },
    {
      "cell_type": "code",
      "metadata": {
        "id": "Utv1tbaqiHUE",
        "colab": {
          "base_uri": "https://localhost:8080/",
          "height": 854
        },
        "outputId": "d6ed0d9f-65a6-453a-86ce-a92e1dbb7a55"
      },
      "source": [
        "p4c.sandbox_get_from('supplementary_tableS2.txt', 'Barabasi/supplementary_tableS2.txt')\n",
        "\n",
        "import pandas as df\n",
        "disease_table = df.read_csv('Barabasi/supplementary_tableS2.txt', sep='\\t', header=1, dtype={'Disease ID':str})\n",
        "disease_table.rename({'Name': 'Disease Name'}, axis=1, inplace=True)\n",
        "print(disease_table)\n",
        "\n",
        "p4c.load_table_data(disease_table, data_key_column='Disease ID')"
      ],
      "execution_count": 9,
      "outputs": [
        {
          "output_type": "stream",
          "name": "stdout",
          "text": [
            "     Disease ID                                       Disease Name  \\\n",
            "0             1                             17,20-lyase_deficiency   \n",
            "1             3  2-methyl-3-hydroxybutyryl-CoA_dehydrogenase_de...   \n",
            "2             4                          2-methylbutyrylglycinuria   \n",
            "3             5  3-beta-hydroxysteroid_dehydrogenase,_type_II,_...   \n",
            "4             6         3-hydroxyacyl-CoA_dehydrogenase_deficiency   \n",
            "...         ...                                                ...   \n",
            "1279       8350                            Combined_SAP_deficiency   \n",
            "1280       9037                                   Multiple_myeloma   \n",
            "1281       9038                                 Multiple_sclerosis   \n",
            "1282       9039                      Multiple_sulfatase_deficiency   \n",
            "1283       9308                           Renal_tubular_dysgenesis   \n",
            "\n",
            "     Disorder class  Size (s)  Degree (k)  Class-degree (k)  \\\n",
            "0         Endocrine         1           0                 0   \n",
            "1         Metabolic         1           0                 0   \n",
            "2         Metabolic         1           0                 0   \n",
            "3         Metabolic         1           0                 0   \n",
            "4         Metabolic         1           0                 0   \n",
            "...             ...       ...         ...               ...   \n",
            "1279      Metabolic         1           2                 2   \n",
            "1280         Cancer         2           1                 0   \n",
            "1281   Neurological         2           3                 2   \n",
            "1282      Metabolic         1           0                 0   \n",
            "1283          Renal         4           8                 4   \n",
            "\n",
            "     Genes implicated (Entrez ID) [comma-deliminated]  \n",
            "0                                      CYP17A1 (1586)  \n",
            "1                                        HADH2 (3028)  \n",
            "2                                         ACADSB (36)  \n",
            "3                                       HSD3B2 (3284)  \n",
            "4                                       HADHSC (3033)  \n",
            "...                                               ...  \n",
            "1279                                      PSAP (5660)  \n",
            "1280                         IRF4 (3662), LIG4 (3981)  \n",
            "1281                       CIITA (4261), PTPRC (5788)  \n",
            "1282                                   SUMF1 (285362)  \n",
            "1283   ACE (1636), AGTR1 (185), AGT (183), REN (5972)  \n",
            "\n",
            "[1284 rows x 7 columns]\n"
          ]
        },
        {
          "output_type": "stream",
          "name": "stderr",
          "text": [
            "/usr/local/lib/python3.7/dist-packages/py4cytoscape/tables.py:474: SettingWithCopyWarning: \n",
            "A value is trying to be set on a copy of a slice from a DataFrame.\n",
            "Try using .loc[row_indexer,col_indexer] = value instead\n",
            "\n",
            "See the caveats in the documentation: https://pandas.pydata.org/pandas-docs/stable/user_guide/indexing.html#returning-a-view-versus-a-copy\n",
            "  data_subset[col] = col_val\n"
          ]
        },
        {
          "output_type": "execute_result",
          "data": {
            "text/plain": [
              "'Success: Data loaded in defaultnode table'"
            ],
            "application/vnd.google.colaboratory.intrinsic+json": {
              "type": "string"
            }
          },
          "metadata": {},
          "execution_count": 9
        }
      ]
    },
    {
      "cell_type": "markdown",
      "metadata": {
        "id": "y-Wc1V5oi6CW"
      },
      "source": [
        "## Search for and select all nodes that have any attribute having to do with Neuro"
      ]
    },
    {
      "cell_type": "markdown",
      "metadata": {
        "id": "8OF1BwzBQdWf"
      },
      "source": [
        "Create a filter that identifies the term `Neuro` in each description column, then create a composite filter that selects all nodes that match either filter.\n",
        "\n",
        "**Note:** A Cytoscape user might perform this step by using Cytoscape's search bar, which can be used to find all `Neuro` values in *all* columns. Creating the composite filter approximates this by limiting the search to only two columns: `Disease Name` and `Disorder class`."
      ]
    },
    {
      "cell_type": "code",
      "metadata": {
        "id": "dalK8ZJh4OKo",
        "colab": {
          "base_uri": "https://localhost:8080/"
        },
        "outputId": "1bf221a6-42c7-4cea-fdcb-2de80102b39e"
      },
      "source": [
        "p4c.create_column_filter('Find Neuro in Name', 'Disease Name', 'Neuro', 'CONTAINS', apply=False)\n",
        "p4c.create_column_filter('Find Neuro in class', 'Disorder class', 'Neuro', 'CONTAINS', apply=False)\n",
        "res = p4c.create_composite_filter('Find Neuro', ['Find Neuro in Name', 'Find Neuro in class'], type='ANY')\n",
        "print(f'Nodes selected: {len(res[\"nodes\"])}')"
      ],
      "execution_count": 10,
      "outputs": [
        {
          "output_type": "stream",
          "name": "stdout",
          "text": [
            "No nodes selected.\n",
            "No edges selected.\n",
            "No nodes selected.\n",
            "No edges selected.\n",
            "No edges selected.\n",
            "Nodes selected: 86\n"
          ]
        }
      ]
    },
    {
      "cell_type": "markdown",
      "metadata": {
        "id": "-u1KKTHsjDiM"
      },
      "source": [
        "## Randomly assign colors to each disease"
      ]
    },
    {
      "cell_type": "markdown",
      "metadata": {
        "id": "Ndk16YRwQykj"
      },
      "source": [
        "Use the Map Generator feature to identify unique values in the `Disorder class` column, then assign random node colors according to each value. As a result, different disorders have different colors."
      ]
    },
    {
      "cell_type": "code",
      "metadata": {
        "id": "pCxStsySaSxx",
        "colab": {
          "base_uri": "https://localhost:8080/",
          "height": 35
        },
        "outputId": "784fa49d-aa3d-4414-850c-6d085f4e697a"
      },
      "source": [
        "p4c.set_node_color_mapping(**p4c.gen_node_color_map('Disorder class', p4c.palette_color_random(), mapping_type='d', style_name='default'))"
      ],
      "execution_count": 11,
      "outputs": [
        {
          "output_type": "execute_result",
          "data": {
            "text/plain": [
              "''"
            ],
            "application/vnd.google.colaboratory.intrinsic+json": {
              "type": "string"
            }
          },
          "metadata": {},
          "execution_count": 11
        }
      ]
    },
    {
      "cell_type": "markdown",
      "metadata": {
        "id": "vI5ko-frjJdT"
      },
      "source": [
        "## Create edge widths according to the number of neighbors"
      ]
    },
    {
      "cell_type": "markdown",
      "metadata": {
        "id": "DYAInLNIQ9e_"
      },
      "source": [
        "Use Map Generator feature to set the width of edges according to the edge Weight attribute. For Weight=1, use a width of 1, and for each higher Weight value, increase the width by 3. As a result, the edge width shows important node connections.\n",
        "\n",
        "**Note:** To see edge weights in Cytoscape, you may have to zoom the graph display.\n"
      ]
    },
    {
      "cell_type": "code",
      "metadata": {
        "id": "2ZQSO57pepLL",
        "colab": {
          "base_uri": "https://localhost:8080/",
          "height": 35
        },
        "outputId": "6312a472-9941-466f-8a24-5dc853d73dfd"
      },
      "source": [
        "p4c.set_edge_line_width_mapping(**p4c.gen_edge_width_map('Weight', \n",
        "                                                         p4c.scheme_d_number_series(start_value=1, step=3), \n",
        "                                                         mapping_type='d', style_name='default'))"
      ],
      "execution_count": 12,
      "outputs": [
        {
          "output_type": "execute_result",
          "data": {
            "text/plain": [
              "''"
            ],
            "application/vnd.google.colaboratory.intrinsic+json": {
              "type": "string"
            }
          },
          "metadata": {},
          "execution_count": 12
        }
      ]
    },
    {
      "cell_type": "markdown",
      "metadata": {
        "id": "I53QR6ETSfRJ"
      },
      "source": [
        "## Change node label to be disease name instead of disease number"
      ]
    },
    {
      "cell_type": "code",
      "metadata": {
        "id": "oa8aKe3sR2Ke",
        "colab": {
          "base_uri": "https://localhost:8080/",
          "height": 35
        },
        "outputId": "363a0d0b-e06f-4c56-f001-8b6bac486cdd"
      },
      "source": [
        "node_label_map = p4c.map_visual_property('NODE_LABEL', 'Disease Name', 'passthrough')\n",
        "p4c.update_style_mapping('default', node_label_map)\n"
      ],
      "execution_count": 13,
      "outputs": [
        {
          "output_type": "execute_result",
          "data": {
            "text/plain": [
              "''"
            ],
            "application/vnd.google.colaboratory.intrinsic+json": {
              "type": "string"
            }
          },
          "metadata": {},
          "execution_count": 13
        }
      ]
    },
    {
      "cell_type": "markdown",
      "metadata": {
        "id": "DbanRU9pV6Jc"
      },
      "source": [
        "## Set node width and height to be proportional to `Degree (k)` column value"
      ]
    },
    {
      "cell_type": "code",
      "metadata": {
        "id": "gbngBcpoTdKg",
        "colab": {
          "base_uri": "https://localhost:8080/",
          "height": 35
        },
        "outputId": "52e2338e-d46b-4fd6-ab68-3e6d160b47f4"
      },
      "source": [
        "node_height_map = p4c.map_visual_property('NODE_HEIGHT', 'Degree (k)', 'continuous', [1, 50], [30, 300])\n",
        "p4c.update_style_mapping('default', node_height_map)\n",
        "node_width_map = p4c.map_visual_property('NODE_WIDTH', 'Degree (k)', 'continuous', [1, 50], [30, 300])\n",
        "p4c.update_style_mapping('default', node_width_map)"
      ],
      "execution_count": 14,
      "outputs": [
        {
          "output_type": "execute_result",
          "data": {
            "text/plain": [
              "''"
            ],
            "application/vnd.google.colaboratory.intrinsic+json": {
              "type": "string"
            }
          },
          "metadata": {},
          "execution_count": 14
        }
      ]
    },
    {
      "cell_type": "markdown",
      "metadata": {
        "id": "byRN_KASRZOi"
      },
      "source": [
        "---\n",
        "# Show the resulting network for fun"
      ]
    },
    {
      "cell_type": "markdown",
      "metadata": {
        "id": "gC8Igz3Bj7s3"
      },
      "source": [
        "So far, we have reproduced the visual style used in the [Goh poster](https://www.ncbi.nlm.nih.gov/pmc/articles/PMC1885563/bin/pnas_0701361104_9.pdf) for the [2007 Barabasi paper](https://pubmed.ncbi.nlm.nih.gov/17502601/) on human disease. \n",
        "\n",
        "For fun, we'll clean up the network by removing disconnected sub-networks and showing the result in this notebook."
      ]
    },
    {
      "cell_type": "markdown",
      "metadata": {
        "id": "Zc8-mgBbeQCo"
      },
      "source": [
        "## Toss all disconnected sub-networks"
      ]
    },
    {
      "cell_type": "markdown",
      "metadata": {
        "id": "45ZVTID0eYMD"
      },
      "source": [
        "We start by identifying a node in the main network ... I chose node 812, which is Insomnia. To select the network containing 812, we use the `Largest Subnetwork` app, which has a function that selects the network containing 812, leaving the unconnected nodes unselected.\n",
        "\n",
        "Next, we delete the disconnected nodes and re-size the network to fill the drawing space.\n",
        "\n",
        "**Note:** This cell demonstrates how to use a Cytoscape app to perform useful utility functions. The `Largest Subnetwork` app is callable because it supports Cytoscape Automation."
      ]
    },
    {
      "cell_type": "code",
      "metadata": {
        "id": "ue8A4fmvYlqJ",
        "colab": {
          "base_uri": "https://localhost:8080/",
          "height": 135
        },
        "outputId": "de47dfd9-54bf-4026-d362-ba3ef7b0cec5"
      },
      "source": [
        "p4c.install_app('Largest Subnetwork')\n",
        "res = p4c.commands_post('network select subnetwork createSubnetwork=false includesNode=812')\n",
        "print(f'Count of nodes selected: {len(res[\"nodes\"])}')\n",
        "\n",
        "p4c.invert_node_selection()\n",
        "p4c.delete_selected_nodes()\n",
        "p4c.fit_content()\n",
        "\n",
        "p4c.notebook_export_show_image()"
      ],
      "execution_count": 15,
      "outputs": [
        {
          "output_type": "stream",
          "name": "stdout",
          "text": [
            "{}\n",
            "Count of nodes selected: 516\n"
          ]
        },
        {
          "output_type": "execute_result",
          "data": {
            "text/plain": [
              "<IPython.core.display.Image object>"
            ],
            "image/png": "[encoded data removed]"
          },
          "metadata": {},
          "execution_count": 15
        }
      ]
    },
    {
      "cell_type": "markdown",
      "metadata": {
        "id": "1CB87wCXoPuj"
      },
      "source": [
        "## Upload the network in vector format"
      ]
    },
    {
      "cell_type": "markdown",
      "metadata": {
        "id": "JUzJs1_Mogzh"
      },
      "source": [
        "While a network in PNG format is easy to display on a web page, it's hard to see detail by zooming in, particularly this network. Upload the network in PDF format so it can be better zoomed in a PDF viewer. (The PNG format is a raster format, which means it doesn't scale when zoomed. PDF is a vector format, which does scale when zoomed.)\n",
        "\n",
        "Use your browser to download Disease.pdf from your Colab workspace, then open it using your workstation's PDF viewer. Zooming will show node labels to be crisp and readable.\n",
        "\n",
        "*Tip:* The `export_image()` function exports the current network image to a .PDF file in Cytoscape's sandbox folder (`CytoscapeConfiguration/filetransfer/default_sandbox/Disease.pdf`).The `sandbox_get_from()` function then uploads it (as `Disease.pdf`) to the Notebook file system. You can choose to view the PDF file on the Cytoscape workstation by loading the sandbox version.\n",
        "\n",
        "*Tip:* You can also change the resolution, height, width and zoom by setting parameters in the `export_image()` function."
      ]
    },
    {
      "cell_type": "code",
      "metadata": {
        "id": "cZ9Gr2Pjnapm",
        "colab": {
          "base_uri": "https://localhost:8080/"
        },
        "outputId": "38933d26-12b7-4823-b26e-126334fcb71f"
      },
      "source": [
        "OUT_FILE = 'Disease.pdf'\n",
        "p4c.export_image(OUT_FILE, type='PDF', overwrite_file=True)\n",
        "p4c.sandbox_get_from(OUT_FILE, f'{OUTPUT_DIR}{OUT_FILE}')\n"
      ],
      "execution_count": 16,
      "outputs": [
        {
          "output_type": "execute_result",
          "data": {
            "text/plain": [
              "{'fileByteCount': 70009,\n",
              " 'filePath': 'C:\\\\Users\\\\CyDeveloper\\\\CytoscapeConfiguration\\\\filetransfer\\\\default_sandbox\\\\Disease.pdf',\n",
              " 'modifiedTime': '2022-05-18 15:56:06.0336'}"
            ]
          },
          "metadata": {},
          "execution_count": 16
        }
      ]
    }
  ]
}