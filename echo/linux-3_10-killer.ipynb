{
  "nbformat": 4,
  "nbformat_minor": 0,
  "metadata": {
    "colab": {
      "name": "linux-3_10-killer.ipynb",
      "provenance": [],
      "collapsed_sections": [],
      "include_colab_link": true
    },
    "kernelspec": {
      "name": "python3",
      "display_name": "Python 3"
    }
  },
  "cells": [
    {
      "cell_type": "markdown",
      "metadata": {
        "id": "view-in-github",
        "colab_type": "text"
      },
      "source": [
        "<a href=\"https://colab.research.google.com/github/bdemchak/cytoscape-jupyter/blob/main/echo/linux-3_10-killer.ipynb\" target=\"_parent\"><img src=\"https://colab.research.google.com/assets/colab-badge.svg\" alt=\"Open In Colab\"/></a>"
      ]
    },
    {
      "cell_type": "markdown",
      "metadata": {
        "id": "khjUrLor-5w_"
      },
      "source": [
        "This test is designed to kill Cytoscape v3.10.0-SNAPSHOT on Linux Ubuntu 22.04.1 LTS. It does not kill Cytoscape on a Windows system, and v3.9.1 doesn't die on either Windows or Ubuntu.\n",
        "\n",
        "The **Network Load test** sends a series of network import and table import messages. This stresses Cytoscape and shows the client's ability to wait a long time for a reply.\n",
        "\n"
      ]
    },
    {
      "cell_type": "markdown",
      "metadata": {
        "id": "EynlCq2w336-"
      },
      "source": [
        "---\n",
        "# Setup data files, py4cytoscape and Cytoscape connection\n",
        "**NOTE: To run this notebook, you must manually start Cytoscape first -- don't proceed until you have started Cytoscape.**"
      ]
    },
    {
      "cell_type": "markdown",
      "metadata": {
        "id": "wJ9RYWAF4wF6"
      },
      "source": [
        "## Setup: Fetch latest py4cytoscape\n",
        "\n",
        "\n"
      ]
    },
    {
      "cell_type": "markdown",
      "metadata": {
        "id": "9RVNEFryzJR3"
      },
      "source": [
        "**Note that you can fetch from the latest Github unreleased version by setting _PY4CYTOSCAPE to 'git+https://github.com/cytoscape/py4cytoscape' immediately before the exec() call. To fetch a particular branch, add '@' to the end (e.g., 'git+https://github.com/cytoscape/py4cytoscape@0.0.12').**\n",
        "\n",
        "To load the default (PyPI) py4cytoscape version, do not set _PY4CYTOSCAPE at all."
      ]
    },
    {
      "cell_type": "code",
      "metadata": {
        "id": "pW3Jhe2PMD9z"
      },
      "source": [
        "_PY4CYTOSCAPE = 'git+https://github.com/cytoscape/py4cytoscape@1.6.0' # optional\n",
        "import requests\n",
        "\n",
        "exec(requests.get(\"https://raw.githubusercontent.com/cytoscape/jupyter-bridge/master/client/p4c_init.py\").text)\n",
        "\n",
        "IPython.display.Javascript(_PY4CYTOSCAPE_BROWSER_CLIENT_JS) # Start browser client"
      ],
      "execution_count": null,
      "outputs": []
    },
    {
      "cell_type": "markdown",
      "metadata": {
        "id": "sTJwg_HN3WPH"
      },
      "source": [
        "## Setup: Sanity test to verify Cytoscape connection"
      ]
    },
    {
      "cell_type": "markdown",
      "metadata": {
        "id": "vwHsK9OTIhv1"
      },
      "source": [
        "By now, the connection to Cytoscape should be up and available. To verify this, try a simple operation that doesn't alter the state of Cytoscape."
      ]
    },
    {
      "cell_type": "code",
      "metadata": {
        "id": "sP5J_ey7C_t6"
      },
      "source": [
        "p4c.cytoscape_version_info()\n"
      ],
      "execution_count": null,
      "outputs": []
    },
    {
      "cell_type": "markdown",
      "metadata": {
        "id": "VvaiYm7HwcsN"
      },
      "source": [
        "## Setup: Initialize a basic static message\n",
        "The basic message is a random digit sequence that is unlikely to be used by any other Colab Notebook instance."
      ]
    },
    {
      "cell_type": "code",
      "metadata": {
        "id": "sTP9Tf7hb9g0"
      },
      "source": [
        "import uuid as uu\n",
        "my_uuid = str(p4c.get_browser_client_channel())\n",
        "\n",
        "print(f'Fixed message: {my_uuid}')\n"
      ],
      "execution_count": null,
      "outputs": []
    },
    {
      "cell_type": "markdown",
      "source": [
        "## Setup: Prepare Network Load and Column Tests\n",
        "\n",
        "Load a .mitab network file and .soft attribute file into the Cytoscape sandbox so Cytoscape can read them directly.\n",
        "\n",
        "Also, define the load_network() function, which is where the trouble actually happens during the test."
      ],
      "metadata": {
        "id": "aY0cs_oEi_fx"
      }
    },
    {
      "cell_type": "code",
      "source": [
        "res_mitab = p4c.sandbox_url_to(\"https://www.dropbox.com/s/8wc8o897tsxewt1/BIOGRID-ORGANISM-Saccharomyces_cerevisiea-3.2.105.mitab?dl=0\", \"BIOGRID-ORGANISM-Saccharomyces_cerevisiea-3.2.105.mitab\")\n",
        "res_soft = p4c.sandbox_url_to(\"https://www.dropbox.com/s/r15azh0xb53smu1/GDS112_full.soft?dl=0\", \"GDS112_full.soft\")\n",
        "\n",
        "def load_network():\n",
        "  print(' closing session')\n",
        "  p4c.close_session(False)\n",
        "  try:\n",
        "    print(' importing file')\n",
        "    p4c.import_network_from_file(\"BIOGRID-ORGANISM-Saccharomyces_cerevisiea-3.2.105.mitab\")\n",
        "  except:\n",
        "    pass\n",
        "  print(' importing table')\n",
        "  p4c.load_table_data_from_file(\"GDS112_full.soft\", start_load_row=83, data_key_column_index=10, delimiters=\"\\t\")"
      ],
      "metadata": {
        "id": "Ugpu1c5T9YPy"
      },
      "execution_count": null,
      "outputs": []
    },
    {
      "cell_type": "markdown",
      "source": [
        "## Network Load Test\n",
        "Load a network and then load the node table data. Both are substantial files that were already staged on the Cytoscape sandbox in a previous step.\n",
        "\n",
        "This is where death occurs. Most often, Cytoscape just disappears. Sometimes it grabs all memory and then ignores all input. Other times, it can kill the browswer, too.\n",
        "\n",
        "Given this, I suspect the problem is with the JVM."
      ],
      "metadata": {
        "id": "M9WCP3w8jLtR"
      }
    },
    {
      "cell_type": "code",
      "source": [
        "%%time\n",
        "\n",
        "for i in range(0, 10):\n",
        "  load_network()\n",
        "  print(f'Load network {i}: {my_uuid} successful')"
      ],
      "metadata": {
        "id": "2ijVQA3LAAo5"
      },
      "execution_count": null,
      "outputs": []
    }
  ]
}