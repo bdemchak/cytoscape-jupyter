{
  "nbformat": 4,
  "nbformat_minor": 0,
  "metadata": {
    "colab": {
      "name": "basic protocol 1.ipynb",
      "provenance": [],
      "collapsed_sections": [],
      "include_colab_link": true
    },
    "kernelspec": {
      "name": "python3",
      "display_name": "Python 3"
    }
  },
  "cells": [
    {
      "cell_type": "markdown",
      "metadata": {
        "id": "view-in-github",
        "colab_type": "text"
      },
      "source": [
        "<a href=\"https://colab.research.google.com/github/bdemchak/cytoscape-jupyter/blob/main/echo/echo_test.ipynb\" target=\"_parent\"><img src=\"https://colab.research.google.com/assets/colab-badge.svg\" alt=\"Open In Colab\"/></a>"
      ]
    },
    {
      "cell_type": "markdown",
      "metadata": {
        "id": "khjUrLor-5w_"
      },
      "source": [
        "This test is designed to hammer Cytoscape by sending a long sequence of short operations. On its own, it's an effective test of Jupyter-Bridge -- it verifies that a Colab Notebook can keep a reliable channel to a private Cytoscape.\n",
        "\n",
        "But when this test is executed in multiple Colabs (each connected to its own Cytoscape in its own VM), it verifies that Jupyter-Bridge can process a high volume of requests while keeping good track of requests and replies.\n"
      ]
    },
    {
      "cell_type": "markdown",
      "metadata": {
        "id": "EynlCq2w336-"
      },
      "source": [
        "---\n",
        "# Setup data files, py4cytoscape and Cytoscape connection\n",
        "**NOTE: To run this notebook, you must manually start Cytoscape first -- don't proceed until you have started Cytoscape.**"
      ]
    },
    {
      "cell_type": "markdown",
      "metadata": {
        "id": "wJ9RYWAF4wF6"
      },
      "source": [
        "## Setup: Fetch latest py4cytoscape\n",
        "\n",
        "\n"
      ]
    },
    {
      "cell_type": "markdown",
      "metadata": {
        "id": "9RVNEFryzJR3"
      },
      "source": [
        "**Note that you can fetch from the latest Github unreleased version by setting _PY4CYTOSCAPE to 'git+https://github.com/cytoscape/py4cytoscape' immediately before the exec() call. To fetch a particular branch, add '@' to the end (e.g., 'git+https://github.com/cytoscape/py4cytoscape@0.0.12').**\n",
        "\n",
        "To load the default (PyPI) py4cytoscape version, do not set _PY4CYTOSCAPE at all."
      ]
    },
    {
      "cell_type": "code",
      "metadata": {
        "id": "pW3Jhe2PMD9z",
        "outputId": "51aad763-821d-440f-f610-3e52517369cf",
        "colab": {
          "base_uri": "https://localhost:8080/",
          "height": 1000
        }
      },
      "source": [
        "_PY4CYTOSCAPE = 'git+https://github.com/cytoscape/py4cytoscape@1.6.0' # optional\n",
        "import requests\n",
        "\n",
        "exec(requests.get(\"https://raw.githubusercontent.com/cytoscape/jupyter-bridge/master/client/p4c_init.py\").text)\n",
        "\n",
        "IPython.display.Javascript(_PY4CYTOSCAPE_BROWSER_CLIENT_JS) # Start browser client"
      ],
      "execution_count": null,
      "outputs": [
        {
          "output_type": "stream",
          "name": "stdout",
          "text": [
            "Looking in indexes: https://pypi.org/simple, https://us-python.pkg.dev/colab-wheels/public/simple/\n",
            "Collecting py4cytoscape\n",
            "  Downloading py4cytoscape-1.4.0-py3-none-any.whl (170 kB)\n",
            "Requirement already satisfied: pandas in /usr/local/lib/python3.7/dist-packages (from py4cytoscape) (1.3.5)\n",
            "Collecting colorbrewer\n",
            "  Downloading colorbrewer-0.2.0-py3-none-any.whl (9.4 kB)\n",
            "Requirement already satisfied: decorator in /usr/local/lib/python3.7/dist-packages (from py4cytoscape) (4.4.2)\n",
            "Requirement already satisfied: chardet in /usr/local/lib/python3.7/dist-packages (from py4cytoscape) (3.0.4)\n",
            "Collecting python-igraph\n",
            "  Downloading python-igraph-0.9.11.tar.gz (9.5 kB)\n",
            "Collecting enum\n",
            "  Downloading enum-0.4.7.tar.gz (20 kB)\n"
          ]
        },
        {
          "output_type": "stream",
          "name": "stderr",
          "text": [
            "WARNING: Discarding https://files.pythonhosted.org/packages/02/a0/32e1d5a21b703f600183e205aafc6773577e16429af5ad3c3f9b956b07ca/enum-0.4.7.tar.gz#sha256=8c7cf3587eda51008bcc1eed99ea2c331ccd265c231dbaa95ec5258d3dc03100 (from https://pypi.org/simple/enum/). Command errored out with exit status 1: python setup.py egg_info Check the logs for full command output.\n"
          ]
        },
        {
          "output_type": "stream",
          "name": "stdout",
          "text": [
            "  Downloading enum-0.4.6.tar.gz (20 kB)\n"
          ]
        },
        {
          "output_type": "stream",
          "name": "stderr",
          "text": [
            "WARNING: Discarding https://files.pythonhosted.org/packages/0c/4e/1ea357e7783c756bb579333c1e4a026fb331371ee771f616ffedc781e531/enum-0.4.6.tar.gz#sha256=54e78526b166982b36884613f35a76d9a6711c49810d3ec1a05b10c9b31f938e (from https://pypi.org/simple/enum/). Command errored out with exit status 1: python setup.py egg_info Check the logs for full command output.\n"
          ]
        },
        {
          "output_type": "stream",
          "name": "stdout",
          "text": [
            "  Downloading enum-0.4.5.tar.gz (20 kB)\n"
          ]
        },
        {
          "output_type": "stream",
          "name": "stderr",
          "text": [
            "WARNING: Discarding https://files.pythonhosted.org/packages/8b/e8/9ab0fa69b64b96d6af51c9a148047afdadad80e76a4aa364adc800537a12/enum-0.4.5.tar.gz#sha256=3f6fa69eda5ff2b6242414ea6a6770f2a01cab3417cdceaeac1e51af8dfbab80 (from https://pypi.org/simple/enum/). Command errored out with exit status 1: python setup.py egg_info Check the logs for full command output.\n"
          ]
        },
        {
          "output_type": "stream",
          "name": "stdout",
          "text": [
            "  Downloading enum-0.4.4.tar.gz (18 kB)\n"
          ]
        },
        {
          "output_type": "stream",
          "name": "stderr",
          "text": [
            "WARNING: Discarding https://files.pythonhosted.org/packages/80/8e/5e00e5378d5ad8ef08a5092be5b44887fb12f463d663c6d0901e38b0ef88/enum-0.4.4.tar.gz#sha256=9bdfacf543baf2350df7613eb37f598a802f346985ca0dc1548be6494140fdff (from https://pypi.org/simple/enum/). Command errored out with exit status 1: python setup.py egg_info Check the logs for full command output.\n"
          ]
        },
        {
          "output_type": "stream",
          "name": "stdout",
          "text": [
            "  Downloading enum-0.4.3.tar.gz (20 kB)\n"
          ]
        },
        {
          "output_type": "stream",
          "name": "stderr",
          "text": [
            "WARNING: Discarding https://files.pythonhosted.org/packages/b1/d2/683c57f678721b90971fcf464241acd50067ea1e5f1eae2efac0c0bc9aab/enum-0.4.3.tar.gz#sha256=04349209897f2efd009ba8a66586c510b5195f69397284f2b2d99cb95a9e411b (from https://pypi.org/simple/enum/). Command errored out with exit status 1: python setup.py egg_info Check the logs for full command output.\n"
          ]
        },
        {
          "output_type": "stream",
          "name": "stdout",
          "text": [
            "  Downloading enum-0.4.2.tar.gz (20 kB)\n"
          ]
        },
        {
          "output_type": "stream",
          "name": "stderr",
          "text": [
            "WARNING: Discarding https://files.pythonhosted.org/packages/fd/4c/bcd8d97668916d1514c6b9c7a4abda12254da43e278838b635feeefed6bb/enum-0.4.2.tar.gz#sha256=2e0ee95a88774b9a74f92875149c6e57573fe9da412b27750df3ca81987f4f12 (from https://pypi.org/simple/enum/). Command errored out with exit status 1: python setup.py egg_info Check the logs for full command output.\n"
          ]
        },
        {
          "output_type": "stream",
          "name": "stdout",
          "text": [
            "  Downloading enum-0.4.1.tar.gz (19 kB)\n"
          ]
        },
        {
          "output_type": "stream",
          "name": "stderr",
          "text": [
            "WARNING: Discarding https://files.pythonhosted.org/packages/6e/f4/7bf1dcb67fba9356da534820fb7e1a5d5a0b0ba7751dc13cbf0719ccb690/enum-0.4.1.tar.gz#sha256=679d9eead5cb3c5e59163375c58eadc85b33ad3cf90caae7ac596d039338ba3b (from https://pypi.org/simple/enum/). Command errored out with exit status 1: python setup.py egg_info Check the logs for full command output.\n"
          ]
        },
        {
          "output_type": "stream",
          "name": "stdout",
          "text": [
            "  Downloading enum-0.4.tar.gz (19 kB)\n"
          ]
        },
        {
          "output_type": "stream",
          "name": "stderr",
          "text": [
            "WARNING: Discarding https://files.pythonhosted.org/packages/3a/92/de9217b21961433d49cce0e2ef076e4ca29636a57313847670cb4a3fb779/enum-0.4.tar.gz#sha256=0c4bff0403b9cd95ec88399e1ef439bc49c123d9650124aaa02e250a9b7d12c4 (from https://pypi.org/simple/enum/). Command errored out with exit status 1: python setup.py egg_info Check the logs for full command output.\n"
          ]
        },
        {
          "output_type": "stream",
          "name": "stdout",
          "text": [
            "  Downloading enum-0.3.1.tar.gz (19 kB)\n"
          ]
        },
        {
          "output_type": "stream",
          "name": "stderr",
          "text": [
            "WARNING: Discarding https://files.pythonhosted.org/packages/08/40/cc51c52ade9e5f191342ab0e825d768dc7ea81bbf90ffbcf3571335133e4/enum-0.3.1.tar.gz#sha256=df02acb036cf12320ae3d8ead195f0ce64449ee5fcab85c314a8634cac573969 (from https://pypi.org/simple/enum/). Command errored out with exit status 1: python setup.py egg_info Check the logs for full command output.\n"
          ]
        },
        {
          "output_type": "stream",
          "name": "stdout",
          "text": [
            "  Downloading enum-0.3.tar.gz (5.3 kB)\n"
          ]
        },
        {
          "output_type": "stream",
          "name": "stderr",
          "text": [
            "WARNING: Discarding https://files.pythonhosted.org/packages/53/10/9798036cb407d1365a2bac6e5f3b516c14b9cedcad766aa7c4042212dbce/enum-0.3.tar.gz#sha256=5030e1725e8bec16450cd657aa508e430f2cd4dabb1ca57191ee0578d0f62e96 (from https://pypi.org/simple/enum/). Command errored out with exit status 1: python setup.py egg_info Check the logs for full command output.\n"
          ]
        },
        {
          "output_type": "stream",
          "name": "stdout",
          "text": [
            "  Downloading enum-0.2.tar.gz (4.9 kB)\n"
          ]
        },
        {
          "output_type": "stream",
          "name": "stderr",
          "text": [
            "WARNING: Discarding https://files.pythonhosted.org/packages/38/44/8fa67f83724931ca76906b3db62df82cd1afcf9a873a85619da4ac2c96f7/enum-0.2.tar.gz#sha256=cbb768b8af610491af1e2bcd261298dc32c70aa8ab7ab7506cd21b0f187fb882 (from https://pypi.org/simple/enum/). Command errored out with exit status 1: python setup.py egg_info Check the logs for full command output.\n"
          ]
        },
        {
          "output_type": "stream",
          "name": "stdout",
          "text": [
            "  Downloading enum-0.1.1.tar.gz (4.9 kB)\n"
          ]
        },
        {
          "output_type": "stream",
          "name": "stderr",
          "text": [
            "WARNING: Discarding https://files.pythonhosted.org/packages/5c/e2/630fc2ce1ce462260aaf5c6e3da496c00c2585bf57bf3852f753a9821ee7/enum-0.1.1.tar.gz#sha256=e6469b807ba4ba68d1823cc85faa5703cea0ffb18220ff5df7e4f4395b3a6a29 (from https://pypi.org/simple/enum/). Command errored out with exit status 1: python setup.py egg_info Check the logs for full command output.\n"
          ]
        },
        {
          "output_type": "stream",
          "name": "stdout",
          "text": [
            "  Downloading enum-0.1.tar.gz (3.9 kB)\n"
          ]
        },
        {
          "output_type": "stream",
          "name": "stderr",
          "text": [
            "WARNING: Discarding https://files.pythonhosted.org/packages/bb/65/0e9de2344b8285d62fe5853b159110cd349bc16333c5dfc0bc3c1dc047d5/enum-0.1.tar.gz#sha256=08089f638c278e8bd29bc68d87708da719bffd4bb176aa78b08b31dd029bf751 (from https://pypi.org/simple/enum/). Command errored out with exit status 1: python setup.py egg_info Check the logs for full command output.\n"
          ]
        },
        {
          "output_type": "stream",
          "name": "stdout",
          "text": [
            "Collecting py4cytoscape\n",
            "  Downloading py4cytoscape-1.3.0-py3-none-any.whl (168 kB)\n",
            "Requirement already satisfied: requests in /usr/local/lib/python3.7/dist-packages (from py4cytoscape) (2.23.0)\n",
            "Requirement already satisfied: networkx in /usr/local/lib/python3.7/dist-packages (from py4cytoscape) (2.6.3)\n",
            "Requirement already satisfied: six in /usr/local/lib/python3.7/dist-packages (from colorbrewer->py4cytoscape) (1.15.0)\n",
            "Requirement already satisfied: python-dateutil>=2.7.3 in /usr/local/lib/python3.7/dist-packages (from pandas->py4cytoscape) (2.8.2)\n",
            "Requirement already satisfied: pytz>=2017.3 in /usr/local/lib/python3.7/dist-packages (from pandas->py4cytoscape) (2022.1)\n",
            "Requirement already satisfied: numpy>=1.17.3 in /usr/local/lib/python3.7/dist-packages (from pandas->py4cytoscape) (1.21.6)\n",
            "Collecting igraph==0.9.11\n",
            "  Downloading igraph-0.9.11-cp37-cp37m-manylinux_2_17_x86_64.manylinux2014_x86_64.whl (3.1 MB)\n",
            "Collecting texttable>=1.6.2\n",
            "  Downloading texttable-1.6.4-py2.py3-none-any.whl (10 kB)\n",
            "Requirement already satisfied: urllib3!=1.25.0,!=1.25.1,<1.26,>=1.21.1 in /usr/local/lib/python3.7/dist-packages (from requests->py4cytoscape) (1.24.3)\n",
            "Requirement already satisfied: certifi>=2017.4.17 in /usr/local/lib/python3.7/dist-packages (from requests->py4cytoscape) (2022.6.15)\n",
            "Requirement already satisfied: idna<3,>=2.5 in /usr/local/lib/python3.7/dist-packages (from requests->py4cytoscape) (2.10)\n",
            "Building wheels for collected packages: python-igraph\n",
            "  Building wheel for python-igraph (setup.py): started\n",
            "  Building wheel for python-igraph (setup.py): finished with status 'done'\n",
            "  Created wheel for python-igraph: filename=python_igraph-0.9.11-py3-none-any.whl size=9074 sha256=616063ea1ebde861b4ac2fdb240f7a58473ac85449152fe6b3140a8fe80929ef\n",
            "  Stored in directory: /root/.cache/pip/wheels/7d/e4/0c/0c83f70bd0b99ce8aea47a21f8e52502169e7dd17808d12f30\n",
            "Successfully built python-igraph\n",
            "Installing collected packages: texttable, igraph, python-igraph, colorbrewer, py4cytoscape\n",
            "Successfully installed colorbrewer-0.2.0 igraph-0.9.11 py4cytoscape-1.3.0 python-igraph-0.9.11 texttable-1.6.4\n",
            "NumExpr defaulting to 2 threads.\n",
            "Loading Javascript client ... 6873edeb-7ad8-478f-a92d-da30e10c344d on https://jupyter-bridge.cytoscape.org\n",
            "ADVICE: WHEN RUNNING UNDER COLAB, DO NOT RE-RUN THIS CELL WITHOUT MANUALLY EXECUTING Runtime | Factory Reset Runtime FROM THE COLAB MENU FIRST.\n"
          ]
        },
        {
          "output_type": "execute_result",
          "data": {
            "text/plain": [
              "<IPython.core.display.Javascript object>"
            ],
            "application/javascript": [
              "var Channel = \"6873edeb-7ad8-478f-a92d-da30e10c344d\"; \n",
              "\n",
              "var JupyterBridge = \"https://jupyter-bridge.cytoscape.org\"; \n",
              "\n",
              "  /*\n",
              "    These functions serve as a connector between a remote Jupyter server and Cytoscape.\n",
              "    They run in the user's browser, which also shows the Jupyter Notebook.\n",
              "\n",
              "    A remote Jupyter Notebook call to the py4cytoscape package is forwarded to the Jupyter Bridge,\n",
              "    which is a standalone server. The functions in this connector execute in the Jupyter Notebook\n",
              "    browser, which executes on the same PC as Cytoscape. So, that's 4 components: (A) remote\n",
              "    Jupyter Notebook, (B) separate Jupyter Bridge server, (C) this browser-based component, and\n",
              "    (D) Cytoscape. (A) is on a remote server, (B) is on a different remote server, and (C) and (D)\n",
              "    are on the user's PC.\n",
              "\n",
              "    (A) calls its py4cytoscape module, which forwards the request (in a JSON wrapper) to (B).\n",
              "    (C) picks up the request from (B), unpacks the request and forwards it to (D). (C) awaits a\n",
              "    reply from (D), and when it gets it, it forwards the reply (in a JSON wrapper) to (B).\n",
              "    (A)'s py4cytoscape module picks up the reply on (B) when it becomes available, unpacks it,\n",
              "    and returns it to (A).\n",
              "\n",
              "    A Jupyter Notebook can talk to only one Cytoscape (i.e., the one on the machine running the\n",
              "    Jupyter Notebook browser), and Cytoscape should be called by only one Jupyter Notebook. The\n",
              "    Jupyter Bridge differentiates between Notebook-Cytoscape conversations via a channel UUID.\n",
              "    The UUID is prepended to this browser component by py4Cytoscape, and the component is\n",
              "    started by the Jupyter Notebook. (I wish py4Cytoscape could start the component, too, but I\n",
              "    haven't figured out how to do that yet, so startup code *is* required in the Jupyter\n",
              "    Notebook.)\n",
              "\n",
              "    Note that for the case of a Jupyter server running on the same machine as Cytoscape, this\n",
              "    bridge isn't necessary because the Jupyter server's HTTP calls can easily connect to\n",
              "    Cytoscape over a localhost socket. So, the combination of Jupyter Bridge and this browser\n",
              "    component solves the problem of a Jupyter server (e.g., Google's Colab) that can't\n",
              "    connect to Cytoscape that sits behind a firewall.\n",
              "\n",
              "    The request represents an HTTP call that py4cytoscape would normally make via HTTP directly\n",
              "    to Cytoscape via localhost when both py4cytoscape and Cytoscape are running on the same machine.\n",
              " */\n",
              "\n",
              "const VERSION = '0.0.2'\n",
              "\n",
              "var showDebug; // Flag indicating whether to show Jupyter-bridge progress\n",
              "if (typeof showDebug === 'undefined') {\n",
              "    showDebug = false\n",
              "}\n",
              "if (showDebug) {\n",
              "    alert(\"Starting Jupyter-bridge browser component\")\n",
              "}\n",
              "\n",
              "//const JupyterBridge = 'http://127.0.0.1:5000' // for testing against local Jupyter-bridge\n",
              "var JupyterBridge; // URL of Jupyter-bridge server could be defined by assignment pre-pended to this file\n",
              "if (typeof JupyterBridge === 'undefined') {\n",
              "    JupyterBridge = 'https://jupyter-bridge.cytoscape.org' // for production\n",
              "}\n",
              "var Channel; // Unique constant that could be defined by assignment pre-pended to this file\n",
              "if (typeof Channel === 'undefined') { // ... but if not assigned, use a debugging value\n",
              "    Channel = 1\n",
              "}\n",
              "\n",
              "\n",
              "var httpR = new XMLHttpRequest(); // for sending reply to Jupyter-bridge\n",
              "var httpRE = new XMLHttpRequest(); // for sending backup error reply to Jupyter-bridge\n",
              "var httpC = new XMLHttpRequest(); // for sending command to Cytoscape\n",
              "var httpJ = new XMLHttpRequest(); // for fetching request from Jupyter-bridge\n",
              "\n",
              "const HTTP_OK = 200\n",
              "const HTTP_SYS_ERR = 500\n",
              "const HTTP_TIMEOUT = 408\n",
              "const HTTP_TOO_MANY = 429\n",
              "\n",
              "\n",
              " /* This function is useful if we want to rewrite the incoming URL to resolve just to our local one.\n",
              "    Doing this stops the Jupyter component from abusing this client to call out to endpoints other\n",
              "    than local Cytoscape. On the other hand, it makes it hard to detect when the Jupyter component\n",
              "    has specified a genuinely bad URL and really should get an error result. For now, we'll execute\n",
              "    the Jupyter-supplied URL and return the result, whatever it may be.\n",
              "\n",
              "const LocalCytoscape = 'http://127.0.0.1:1234'\n",
              "\n",
              "function parseURL(url) {\n",
              "    var reURLInformation = new RegExp([\n",
              "        '^(https?:)//', // protocol\n",
              "        '(([^:/?#]*)(?::([0-9]+))?)', // host (hostname and port)\n",
              "        '(/{0,1}[^?#]*)', // pathname\n",
              "        '(\\\\?[^#]*|)', // search\n",
              "        '(#.*|)$' // hash\n",
              "    ].join(''));\n",
              "    var match = url.match(reURLInformation);\n",
              "    return match && {\n",
              "        url: url,\n",
              "        protocol: match[1],\n",
              "        host: match[2],\n",
              "        hostname: match[3],\n",
              "        port: match[4],\n",
              "        pathname: match[5],\n",
              "        search: match[6],\n",
              "        hash: match[7]\n",
              "    }\n",
              "}\n",
              "*/\n",
              "\n",
              "function replyCytoscape(replyStatus, replyStatusText, replyText) {\n",
              "\n",
              "    // Clean up after Jupyter bridge accepts reply\n",
              "    httpR.onreadystatechange = function() {\n",
              "        if (httpR.readyState === 4) {\n",
              "            if (showDebug) {\n",
              "                console.log(' status from queue_reply: ' + httpR.status + ', reply: ' + httpR.responseText)\n",
              "            }\n",
              "        }\n",
              "    }\n",
              "\n",
              "    httpR.onerror = function() {\n",
              "        // Clean up after Jupyter bridge accepts backup reply\n",
              "        httpRE.onreadystatechange = function() {\n",
              "            if (httpRE.readyState === 4) {\n",
              "                if (showDebug) {\n",
              "                    console.log(' status from backup queue_reply: ' + httpRE.status + ', reply: ' + httpRE.responseText)\n",
              "                }\n",
              "            }\n",
              "        }\n",
              "\n",
              "        if (showDebug) {\n",
              "            console.log(' error from queue_reply -- could be Jupyter-Bridge server reject')\n",
              "        }\n",
              "        var errReply = {'status': HTTP_SYS_ERR, 'reason': 'Jupyter-Bridge rejected reply', 'text': 'Possibly reply is too long for Jupyter-Bridge server'}\n",
              "        httpRE.open('POST', jupyterBridgeURL, true)\n",
              "        httpRE.setRequestHeader('Content-Type', 'text/plain')\n",
              "        httpRE.send(JSON.stringify(errReply))\n",
              "    }\n",
              "\n",
              "    var reply = {'status': replyStatus, 'reason': replyStatusText, 'text': replyText}\n",
              "\n",
              "    // Send reply to Jupyter bridge\n",
              "    var jupyterBridgeURL = JupyterBridge + '/queue_reply?channel=' + Channel\n",
              "    if (showDebug) {\n",
              "        console.log('Starting queue to Jupyter bridge: ' + jupyterBridgeURL)\n",
              "    }\n",
              "    httpR.open('POST', jupyterBridgeURL, true)\n",
              "    httpR.setRequestHeader('Content-Type', 'text/plain')\n",
              "    httpR.send(JSON.stringify(reply))\n",
              "}\n",
              "\n",
              "function callCytoscape(callSpec) {\n",
              "\n",
              "    // Captures Cytoscape reply and sends it on\n",
              "    httpC.onreadystatechange = function() {\n",
              "        if (httpC.readyState === 4) {\n",
              "            if (showDebug) {\n",
              "                console.log(' status from CyREST: ' + httpC.status + ', statusText: ' + httpC.statusText + ', reply: ' + httpC.responseText)\n",
              "            }\n",
              "            // Note that httpC.status is 0 if the URL can't be reached *OR* there is a CORS violation.\n",
              "            // I wish I could tell the difference because for a CORS violation, I'd return a 404,\n",
              "            // which would roughly match what Python's native request package would return.\n",
              "            // The practical consequence is that the ultimate caller (e.g., py4cytoscape)\n",
              "            // returns different exceptions, depending on wither this module is doing the\n",
              "            // HTTP operation or the native Python requests package is. This is minor, but\n",
              "            // messes up tests that verify the exception type.\n",
              "            replyCytoscape(httpC.status, httpC.statusText, httpC.responseText)\n",
              "            waitOnJupyterBridge()\n",
              "        }\n",
              "    }\n",
              "\n",
              "//  Build up request to Cytoscape, making sure host is local.\n",
              "//    Too heavy handed: localURL = LocalCytoscape + parseURL(callSpec.url).pathname\n",
              "    var localURL = callSpec.url // Try using what was passed in ... is there a security risk??\n",
              "\n",
              "    if (showDebug) {\n",
              "        console.log('Command to CyREST: ' + callSpec.command + ' (' + localURL + ')')\n",
              "        if (callSpec.params) {\n",
              "            console.log(' params: ' + JSON.stringify(callSpec.params))\n",
              "        }\n",
              "        if (callSpec.headers) {\n",
              "            console.log(' header: ' + JSON.stringify(callSpec.headers))\n",
              "        }\n",
              "        if (callSpec.data) {\n",
              "            console.log('   data: ' + JSON.stringify(callSpec.data))\n",
              "        }\n",
              "    }\n",
              "\n",
              "    if (callSpec.command === 'webbrowser') {\n",
              "        if (window.open(callSpec.url)) {\n",
              "            replyCytoscape(HTTP_OK, 'OK', '')\n",
              "        } else {\n",
              "            replyCytoscape(HTTP_SYS_ERR, 'BAD BROWSER OPEN', '')\n",
              "        }\n",
              "        waitOnJupyterBridge()\n",
              "    } else if (callSpec.command === 'version') {\n",
              "        replyCytoscape(HTTP_OK, 'OK',\n",
              "            JSON.stringify({\"jupyterBridgeVersion\": VERSION}))\n",
              "        waitOnJupyterBridge()\n",
              "    } else {\n",
              "        var joiner = '?'\n",
              "        for (let param in callSpec.params) {\n",
              "            localURL = localURL + joiner + param + '=' + encodeURIComponent(callSpec.params[param])\n",
              "            joiner = '&'\n",
              "        }\n",
              "\n",
              "        httpC.open(callSpec.command, localURL, true)\n",
              "        for (let header in callSpec.headers) {\n",
              "            httpC.setRequestHeader(header, callSpec.headers[header])\n",
              "        }\n",
              "\n",
              "        // Send request to Cytoscape ... reply goes to onreadystatechange handler\n",
              "        httpC.send(JSON.stringify(callSpec.data))\n",
              "    }\n",
              "}\n",
              "\n",
              "function waitOnJupyterBridge() {\n",
              "\n",
              "    // Captures request from Jupyter bridge\n",
              "    httpJ.onreadystatechange = function() {\n",
              "        if (httpJ.readyState === 4) {\n",
              "            if (showDebug) {\n",
              "                console.log(' status from dequeue_request: ' + httpJ.status + ', reply: ' + httpJ.responseText)\n",
              "            }\n",
              "            try {\n",
              "                if (httpJ.status == HTTP_TOO_MANY) {\n",
              "                    // Nothing more to do ... the browser has created too many listeners,\n",
              "                    // and it's time to stop listening because the server saw a listener\n",
              "                    // listening on this channel before we got there.\n",
              "                    console.log('  shutting down because of redundant reader on channel: ' + Channel)\n",
              "                } else {\n",
              "                    if (httpJ.status === HTTP_TIMEOUT) {\n",
              "                        waitOnJupyterBridge()\n",
              "                    } else {\n",
              "                        callCytoscape(JSON.parse(httpJ.responseText))\n",
              "                    }\n",
              "                }\n",
              "            } catch(err) {\n",
              "                if (showDebug) {\n",
              "                    console.log(' exception calling Cytoscape: ' + err)\n",
              "                }\n",
              "                // Bad responseText means something bad happened that we don't understand.\n",
              "                // Go wait on another request, as there's nothing to call Cytoscape with.\n",
              "                waitOnJupyterBridge()\n",
              "            }\n",
              "        }\n",
              "    }\n",
              "\n",
              "    // Wait for request from Jupyter bridge\n",
              "    var jupyterBridgeURL = JupyterBridge + '/dequeue_request?channel=' + Channel\n",
              "    if (showDebug) {\n",
              "        console.log('Starting dequeue on Jupyter bridge: ' + jupyterBridgeURL)\n",
              "    }\n",
              "    httpJ.open('GET', jupyterBridgeURL, true)\n",
              "    httpJ.send()\n",
              "}\n",
              "\n",
              "// This kicks off a loop that ends by calling waitOnJupyterBridge again. This first call\n",
              "// ejects any dead readers before we start a read\n",
              "waitOnJupyterBridge() // Wait for message from Jupyter bridge, execute it, and return reply\n",
              "\n",
              "if (showDebug) {\n",
              "    alert(\"Jupyter-bridge browser component is started on \" + JupyterBridge + ', channel ' + Channel)\n",
              "}\n"
            ]
          },
          "metadata": {},
          "execution_count": 1
        }
      ]
    },
    {
      "cell_type": "markdown",
      "metadata": {
        "id": "sTJwg_HN3WPH"
      },
      "source": [
        "## Setup: Sanity test to verify Cytoscape connection"
      ]
    },
    {
      "cell_type": "markdown",
      "metadata": {
        "id": "vwHsK9OTIhv1"
      },
      "source": [
        "By now, the connection to Cytoscape should be up and available. To verify this, try a simple operation that doesn't alter the state of Cytoscape."
      ]
    },
    {
      "cell_type": "code",
      "metadata": {
        "id": "sP5J_ey7C_t6",
        "outputId": "390f8cd3-7731-45a3-fbba-3ae090ea681f",
        "colab": {
          "base_uri": "https://localhost:8080/"
        }
      },
      "source": [
        "p4c.cytoscape_version_info()\n"
      ],
      "execution_count": null,
      "outputs": [
        {
          "output_type": "execute_result",
          "data": {
            "text/plain": [
              "{'apiVersion': 'v1',\n",
              " 'automationAPIVersion': '1.5.0',\n",
              " 'cytoscapeVersion': '3.9.1',\n",
              " 'jupyterBridgeVersion': '0.0.2',\n",
              " 'py4cytoscapeVersion': '1.3.0'}"
            ]
          },
          "metadata": {},
          "execution_count": 2
        }
      ]
    },
    {
      "cell_type": "markdown",
      "metadata": {
        "id": "VvaiYm7HwcsN"
      },
      "source": [
        "## Setup: Initialize a basic static message\n",
        "The basic message is a random digit sequence that is unlikely to be used by any other Colab Notebook instance."
      ]
    },
    {
      "cell_type": "code",
      "metadata": {
        "id": "sTP9Tf7hb9g0",
        "outputId": "661ee89d-619b-4e85-ccac-f220e2eb4114",
        "colab": {
          "base_uri": "https://localhost:8080/"
        }
      },
      "source": [
        "import uuid as uu\n",
        "my_uuid = str(uu.uuid4())\n",
        "\n",
        "print(f'Fixed message: {my_uuid}')\n"
      ],
      "execution_count": null,
      "outputs": [
        {
          "output_type": "stream",
          "name": "stdout",
          "text": [
            "rm: cannot remove 'output/': No such file or directory\n",
            "total 8\n",
            "drwxr-xr-x 2 root root 4096 Jun 28 22:23 logs\n",
            "drwxr-xr-x 1 root root 4096 Jun 15 13:42 sample_data\n"
          ]
        }
      ]
    },
    {
      "cell_type": "markdown",
      "metadata": {
        "id": "Bwq52ljZHCqR"
      },
      "source": [
        "## Test\n",
        "Call Cytoscape's echo command with a unique message and get back the unique message.\n",
        "\n",
        "The message consists of a random uuid (previously generated) combined with a monotonically increasing value.\n",
        "\n",
        "Thus messages sent from this Colab instance are guaranteed to be unique in the universe, and each message sent from this Colab instance is guaranteed to be different from any previous messages.\n"
      ]
    },
    {
      "cell_type": "code",
      "metadata": {
        "id": "fCbMNMsO9rU8",
        "outputId": "40595bbf-f397-4278-b12c-e8ddcbc6765b",
        "colab": {
          "base_uri": "https://localhost:8080/"
        }
      },
      "source": [
        "import py4cytoscape as p4c\n",
        "\n",
        "for i in range(0, 10):\n",
        "  message = f'{i}: {my_uuid}'\n",
        "  ret = p4c.command_echo(message)\n",
        "  if message == ret:\n",
        "    print(f'Successful: {i}')\n",
        "  else:\n",
        "    print(f'Failure: got {ret}, expected {message}')\n"
      ],
      "execution_count": null,
      "outputs": [
        {
          "output_type": "stream",
          "name": "stdout",
          "text": [
            "Network file BIOGRID-ORGANISM-Saccharomyces_cerevisiae-3.2.105.mitab has 166981992 bytes\n"
          ]
        }
      ]
    }
  ]
}