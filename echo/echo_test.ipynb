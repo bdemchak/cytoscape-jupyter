{
  "nbformat": 4,
  "nbformat_minor": 0,
  "metadata": {
    "colab": {
      "name": "basic protocol 1.ipynb",
      "provenance": [],
      "collapsed_sections": [],
      "include_colab_link": true
    },
    "kernelspec": {
      "name": "python3",
      "display_name": "Python 3"
    }
  },
  "cells": [
    {
      "cell_type": "markdown",
      "metadata": {
        "id": "view-in-github",
        "colab_type": "text"
      },
      "source": [
        "<a href=\"https://colab.research.google.com/github/bdemchak/cytoscape-jupyter/blob/main/echo/echo_test.ipynb\" target=\"_parent\"><img src=\"https://colab.research.google.com/assets/colab-badge.svg\" alt=\"Open In Colab\"/></a>"
      ]
    },
    {
      "cell_type": "markdown",
      "metadata": {
        "id": "khjUrLor-5w_"
      },
      "source": [
        "This test is designed to hammer Cytoscape by sending a long sequence of short operations. On its own, it's an effective test of Jupyter-Bridge -- it verifies that a Colab Notebook can keep a reliable channel to a private Cytoscape.\n",
        "\n",
        "But when this test is executed in multiple Colabs (each connected to its own Cytoscape in its own VM), it verifies that Jupyter-Bridge can process a high volume of requests while keeping good track of requests and replies.\n"
      ]
    },
    {
      "cell_type": "markdown",
      "metadata": {
        "id": "EynlCq2w336-"
      },
      "source": [
        "---\n",
        "# Setup data files, py4cytoscape and Cytoscape connection\n",
        "**NOTE: To run this notebook, you must manually start Cytoscape first -- don't proceed until you have started Cytoscape.**"
      ]
    },
    {
      "cell_type": "markdown",
      "metadata": {
        "id": "wJ9RYWAF4wF6"
      },
      "source": [
        "## Setup: Fetch latest py4cytoscape\n",
        "\n",
        "\n"
      ]
    },
    {
      "cell_type": "markdown",
      "metadata": {
        "id": "9RVNEFryzJR3"
      },
      "source": [
        "**Note that you can fetch from the latest Github unreleased version by setting _PY4CYTOSCAPE to 'git+https://github.com/cytoscape/py4cytoscape' immediately before the exec() call. To fetch a particular branch, add '@' to the end (e.g., 'git+https://github.com/cytoscape/py4cytoscape@0.0.12').**\n",
        "\n",
        "To load the default (PyPI) py4cytoscape version, do not set _PY4CYTOSCAPE at all."
      ]
    },
    {
      "cell_type": "code",
      "metadata": {
        "id": "pW3Jhe2PMD9z"
      },
      "source": [
        "_PY4CYTOSCAPE = 'git+https://github.com/cytoscape/py4cytoscape@1.6.0' # optional\n",
        "import requests\n",
        "\n",
        "exec(requests.get(\"https://raw.githubusercontent.com/cytoscape/jupyter-bridge/master/client/p4c_init.py\").text)\n",
        "\n",
        "IPython.display.Javascript(_PY4CYTOSCAPE_BROWSER_CLIENT_JS) # Start browser client"
      ],
      "execution_count": null,
      "outputs": []
    },
    {
      "cell_type": "markdown",
      "metadata": {
        "id": "sTJwg_HN3WPH"
      },
      "source": [
        "## Setup: Sanity test to verify Cytoscape connection"
      ]
    },
    {
      "cell_type": "markdown",
      "metadata": {
        "id": "vwHsK9OTIhv1"
      },
      "source": [
        "By now, the connection to Cytoscape should be up and available. To verify this, try a simple operation that doesn't alter the state of Cytoscape."
      ]
    },
    {
      "cell_type": "code",
      "metadata": {
        "id": "sP5J_ey7C_t6"
      },
      "source": [
        "p4c.cytoscape_version_info()\n"
      ],
      "execution_count": null,
      "outputs": []
    },
    {
      "cell_type": "markdown",
      "metadata": {
        "id": "VvaiYm7HwcsN"
      },
      "source": [
        "## Setup: Initialize a basic static message\n",
        "The basic message is a random digit sequence that is unlikely to be used by any other Colab Notebook instance."
      ]
    },
    {
      "cell_type": "code",
      "metadata": {
        "id": "sTP9Tf7hb9g0"
      },
      "source": [
        "import uuid as uu\n",
        "my_uuid = str(uu.uuid4())\n",
        "\n",
        "print(f'Fixed message: {my_uuid}')\n"
      ],
      "execution_count": null,
      "outputs": []
    },
    {
      "cell_type": "markdown",
      "metadata": {
        "id": "Bwq52ljZHCqR"
      },
      "source": [
        "## Test\n",
        "Call Cytoscape's echo command with a unique message and get back the unique message.\n",
        "\n",
        "The message consists of a random uuid (previously generated) combined with a monotonically increasing value.\n",
        "\n",
        "Thus messages sent from this Colab instance are guaranteed to be unique in the universe, and each message sent from this Colab instance is guaranteed to be different from any previous messages.\n"
      ]
    },
    {
      "cell_type": "code",
      "metadata": {
        "id": "fCbMNMsO9rU8"
      },
      "source": [
        "import py4cytoscape as p4c\n",
        "\n",
        "for i in range(0, 1000):\n",
        "  message = f'{i}: {my_uuid}'\n",
        "  ret = p4c.command_echo(message)\n",
        "  if message == ret[0]:\n",
        "    print(f'Successful: {i}')\n",
        "  else:\n",
        "    print(f'Failure: got {ret}, expected {message}')\n"
      ],
      "execution_count": null,
      "outputs": []
    }
  ]
}